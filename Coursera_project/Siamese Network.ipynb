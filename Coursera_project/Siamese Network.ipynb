{
 "cells": [
  {
   "cell_type": "code",
   "execution_count": 1,
   "metadata": {
    "collapsed": true
   },
   "outputs": [
    {
     "name": "stdout",
     "output_type": "stream",
     "text": [
      "Collecting segmentation-models-pytorch\r\n",
      "  Downloading segmentation_models_pytorch-0.3.2-py3-none-any.whl (106 kB)\r\n",
      "\u001B[2K     \u001B[90m━━━━━━━━━━━━━━━━━━━━━━━━━━━━━━━━━━━━━━━\u001B[0m \u001B[32m106.7/106.7 kB\u001B[0m \u001B[31m2.9 MB/s\u001B[0m eta \u001B[36m0:00:00\u001B[0m\r\n",
      "\u001B[?25hRequirement already satisfied: pillow in /Users/ceyhun/opt/anaconda3/envs/Dataspell_1_env/lib/python3.8/site-packages (from segmentation-models-pytorch) (9.3.0)\r\n",
      "Requirement already satisfied: tqdm in /Users/ceyhun/opt/anaconda3/envs/Dataspell_1_env/lib/python3.8/site-packages (from segmentation-models-pytorch) (4.64.1)\r\n",
      "Collecting timm==0.6.12\r\n",
      "  Downloading timm-0.6.12-py3-none-any.whl (549 kB)\r\n",
      "\u001B[2K     \u001B[90m━━━━━━━━━━━━━━━━━━━━━━━━━━━━━━━━━━━━━━\u001B[0m \u001B[32m549.1/549.1 kB\u001B[0m \u001B[31m10.2 MB/s\u001B[0m eta \u001B[36m0:00:00\u001B[0m00:01\u001B[0m\r\n",
      "\u001B[?25hRequirement already satisfied: torchvision>=0.5.0 in /Users/ceyhun/opt/anaconda3/envs/Dataspell_1_env/lib/python3.8/site-packages (from segmentation-models-pytorch) (0.14.1)\r\n",
      "Collecting pretrainedmodels==0.7.4\r\n",
      "  Downloading pretrainedmodels-0.7.4.tar.gz (58 kB)\r\n",
      "\u001B[2K     \u001B[90m━━━━━━━━━━━━━━━━━━━━━━━━━━━━━━━━━━━━━━━━\u001B[0m \u001B[32m58.8/58.8 kB\u001B[0m \u001B[31m2.2 MB/s\u001B[0m eta \u001B[36m0:00:00\u001B[0m\r\n",
      "\u001B[?25h  Preparing metadata (setup.py) ... \u001B[?25ldone\r\n",
      "\u001B[?25hCollecting efficientnet-pytorch==0.7.1\r\n",
      "  Downloading efficientnet_pytorch-0.7.1.tar.gz (21 kB)\r\n",
      "  Preparing metadata (setup.py) ... \u001B[?25ldone\r\n",
      "\u001B[?25hRequirement already satisfied: torch in /Users/ceyhun/opt/anaconda3/envs/Dataspell_1_env/lib/python3.8/site-packages (from efficientnet-pytorch==0.7.1->segmentation-models-pytorch) (1.13.1)\r\n",
      "Collecting munch\r\n",
      "  Using cached munch-2.5.0-py2.py3-none-any.whl (10 kB)\r\n",
      "Requirement already satisfied: pyyaml in /Users/ceyhun/opt/anaconda3/envs/Dataspell_1_env/lib/python3.8/site-packages (from timm==0.6.12->segmentation-models-pytorch) (6.0)\r\n",
      "Requirement already satisfied: huggingface-hub in /Users/ceyhun/opt/anaconda3/envs/Dataspell_1_env/lib/python3.8/site-packages (from timm==0.6.12->segmentation-models-pytorch) (0.12.1)\r\n",
      "Requirement already satisfied: typing_extensions in /Users/ceyhun/opt/anaconda3/envs/Dataspell_1_env/lib/python3.8/site-packages (from torchvision>=0.5.0->segmentation-models-pytorch) (4.4.0)\r\n",
      "Requirement already satisfied: numpy in /Users/ceyhun/opt/anaconda3/envs/Dataspell_1_env/lib/python3.8/site-packages (from torchvision>=0.5.0->segmentation-models-pytorch) (1.23.5)\r\n",
      "Requirement already satisfied: requests in /Users/ceyhun/opt/anaconda3/envs/Dataspell_1_env/lib/python3.8/site-packages (from torchvision>=0.5.0->segmentation-models-pytorch) (2.28.1)\r\n",
      "Requirement already satisfied: filelock in /Users/ceyhun/opt/anaconda3/envs/Dataspell_1_env/lib/python3.8/site-packages (from huggingface-hub->timm==0.6.12->segmentation-models-pytorch) (3.9.0)\r\n",
      "Requirement already satisfied: packaging>=20.9 in /Users/ceyhun/opt/anaconda3/envs/Dataspell_1_env/lib/python3.8/site-packages (from huggingface-hub->timm==0.6.12->segmentation-models-pytorch) (22.0)\r\n",
      "Requirement already satisfied: six in /Users/ceyhun/opt/anaconda3/envs/Dataspell_1_env/lib/python3.8/site-packages (from munch->pretrainedmodels==0.7.4->segmentation-models-pytorch) (1.16.0)\r\n",
      "Requirement already satisfied: charset-normalizer<3,>=2 in /Users/ceyhun/opt/anaconda3/envs/Dataspell_1_env/lib/python3.8/site-packages (from requests->torchvision>=0.5.0->segmentation-models-pytorch) (2.0.4)\r\n",
      "Requirement already satisfied: idna<4,>=2.5 in /Users/ceyhun/opt/anaconda3/envs/Dataspell_1_env/lib/python3.8/site-packages (from requests->torchvision>=0.5.0->segmentation-models-pytorch) (3.4)\r\n",
      "Requirement already satisfied: certifi>=2017.4.17 in /Users/ceyhun/opt/anaconda3/envs/Dataspell_1_env/lib/python3.8/site-packages (from requests->torchvision>=0.5.0->segmentation-models-pytorch) (2022.12.7)\r\n",
      "Requirement already satisfied: urllib3<1.27,>=1.21.1 in /Users/ceyhun/opt/anaconda3/envs/Dataspell_1_env/lib/python3.8/site-packages (from requests->torchvision>=0.5.0->segmentation-models-pytorch) (1.26.14)\r\n",
      "Building wheels for collected packages: efficientnet-pytorch, pretrainedmodels\r\n",
      "  Building wheel for efficientnet-pytorch (setup.py) ... \u001B[?25ldone\r\n",
      "\u001B[?25h  Created wheel for efficientnet-pytorch: filename=efficientnet_pytorch-0.7.1-py3-none-any.whl size=16429 sha256=b25db7f234d5f3067521874851cd7105b7a213fab8619492d6b3216877e25703\r\n",
      "  Stored in directory: /Users/ceyhun/Library/Caches/pip/wheels/85/0e/f1/ca6ec970b67cde79add7f1b56069a3f107fb6baefc2c9781a7\r\n",
      "  Building wheel for pretrainedmodels (setup.py) ... \u001B[?25ldone\r\n",
      "\u001B[?25h  Created wheel for pretrainedmodels: filename=pretrainedmodels-0.7.4-py3-none-any.whl size=60945 sha256=af9a012aa2491345bd7fec3a1d34a0dd6b208b42c831c579466b5e807d267610\r\n",
      "  Stored in directory: /Users/ceyhun/Library/Caches/pip/wheels/de/6b/49/8c1f15e56a37b04cbcc6dc8cbe903a719fd21bfb74e94905a4\r\n",
      "Successfully built efficientnet-pytorch pretrainedmodels\r\n",
      "Installing collected packages: munch, efficientnet-pytorch, timm, pretrainedmodels, segmentation-models-pytorch\r\n",
      "Successfully installed efficientnet-pytorch-0.7.1 munch-2.5.0 pretrainedmodels-0.7.4 segmentation-models-pytorch-0.3.2 timm-0.6.12\r\n",
      "Collecting git+https://github.com/albumentations-team/albumentations\r\n",
      "  Cloning https://github.com/albumentations-team/albumentations to /private/var/folders/jy/vbsn5_l135d_8jnm29j_bmnr0000gn/T/pip-req-build-9jy1tfp3\r\n",
      "  Running command git clone --filter=blob:none --quiet https://github.com/albumentations-team/albumentations /private/var/folders/jy/vbsn5_l135d_8jnm29j_bmnr0000gn/T/pip-req-build-9jy1tfp3\r\n",
      "  Resolved https://github.com/albumentations-team/albumentations to commit cb372736a0b7da362e5c2e23f3cce4304ddac402\r\n",
      "  Preparing metadata (setup.py) ... \u001B[?25ldone\r\n",
      "\u001B[?25hRequirement already satisfied: numpy>=1.11.1 in /Users/ceyhun/opt/anaconda3/envs/Dataspell_1_env/lib/python3.8/site-packages (from albumentations==1.3.0) (1.23.5)\r\n",
      "Requirement already satisfied: scipy>=1.1.0 in /Users/ceyhun/opt/anaconda3/envs/Dataspell_1_env/lib/python3.8/site-packages (from albumentations==1.3.0) (1.10.0)\r\n",
      "Collecting scikit-image>=0.16.1\r\n",
      "  Downloading scikit_image-0.20.0-cp38-cp38-macosx_10_9_x86_64.whl (13.0 MB)\r\n",
      "\u001B[2K     \u001B[90m━━━━━━━━━━━━━━━━━━━━━━━━━━━━━━━━━━━━━━━━\u001B[0m \u001B[32m13.0/13.0 MB\u001B[0m \u001B[31m22.7 MB/s\u001B[0m eta \u001B[36m0:00:00\u001B[0m00:01\u001B[0m00:01\u001B[0m\r\n",
      "\u001B[?25hRequirement already satisfied: PyYAML in /Users/ceyhun/opt/anaconda3/envs/Dataspell_1_env/lib/python3.8/site-packages (from albumentations==1.3.0) (6.0)\r\n",
      "Collecting qudida>=0.0.4\r\n",
      "  Downloading qudida-0.0.4-py3-none-any.whl (3.5 kB)\r\n",
      "Requirement already satisfied: opencv-python>=4.1.1 in /Users/ceyhun/opt/anaconda3/envs/Dataspell_1_env/lib/python3.8/site-packages (from albumentations==1.3.0) (4.7.0.72)\r\n",
      "Requirement already satisfied: scikit-learn>=0.19.1 in /Users/ceyhun/opt/anaconda3/envs/Dataspell_1_env/lib/python3.8/site-packages (from qudida>=0.0.4->albumentations==1.3.0) (1.2.1)\r\n",
      "Requirement already satisfied: typing-extensions in /Users/ceyhun/opt/anaconda3/envs/Dataspell_1_env/lib/python3.8/site-packages (from qudida>=0.0.4->albumentations==1.3.0) (4.4.0)\r\n",
      "Collecting opencv-python-headless>=4.0.1\r\n",
      "  Downloading opencv_python_headless-4.7.0.72-cp37-abi3-macosx_10_16_x86_64.whl (53.9 MB)\r\n",
      "\u001B[2K     \u001B[90m━━━━━━━━━━━━━━━━━━━━━━━━━━━━━━━━━━━━━━━━\u001B[0m \u001B[32m53.9/53.9 MB\u001B[0m \u001B[31m14.1 MB/s\u001B[0m eta \u001B[36m0:00:00\u001B[0m00:01\u001B[0m00:01\u001B[0m\r\n",
      "\u001B[?25hRequirement already satisfied: packaging>=20.0 in /Users/ceyhun/opt/anaconda3/envs/Dataspell_1_env/lib/python3.8/site-packages (from scikit-image>=0.16.1->albumentations==1.3.0) (22.0)\r\n",
      "Collecting tifffile>=2019.7.26\r\n",
      "  Downloading tifffile-2023.2.28-py3-none-any.whl (216 kB)\r\n",
      "\u001B[2K     \u001B[90m━━━━━━━━━━━━━━━━━━━━━━━━━━━━━━━━━━━━━━━\u001B[0m \u001B[32m216.4/216.4 kB\u001B[0m \u001B[31m7.0 MB/s\u001B[0m eta \u001B[36m0:00:00\u001B[0m\r\n",
      "\u001B[?25hCollecting scipy>=1.1.0\r\n",
      "  Downloading scipy-1.9.1-cp38-cp38-macosx_12_0_universal2.macosx_10_9_x86_64.whl (58.1 MB)\r\n",
      "\u001B[2K     \u001B[90m━━━━━━━━━━━━━━━━━━━━━━━━━━━━━━━━━━━━━━━━\u001B[0m \u001B[32m58.1/58.1 MB\u001B[0m \u001B[31m15.6 MB/s\u001B[0m eta \u001B[36m0:00:00\u001B[0m00:01\u001B[0m00:01\u001B[0m\r\n",
      "\u001B[?25hCollecting PyWavelets>=1.1.1\r\n",
      "  Downloading PyWavelets-1.4.1-cp38-cp38-macosx_10_13_x86_64.whl (4.3 MB)\r\n",
      "\u001B[2K     \u001B[90m━━━━━━━━━━━━━━━━━━━━━━━━━━━━━━━━━━━━━━━━\u001B[0m \u001B[32m4.3/4.3 MB\u001B[0m \u001B[31m19.3 MB/s\u001B[0m eta \u001B[36m0:00:00\u001B[0m00:01\u001B[0m00:01\u001B[0m\r\n",
      "\u001B[?25hRequirement already satisfied: networkx>=2.8 in /Users/ceyhun/opt/anaconda3/envs/Dataspell_1_env/lib/python3.8/site-packages (from scikit-image>=0.16.1->albumentations==1.3.0) (3.0)\r\n",
      "Collecting lazy_loader>=0.1\r\n",
      "  Downloading lazy_loader-0.1-py3-none-any.whl (8.6 kB)\r\n",
      "Requirement already satisfied: pillow>=9.0.1 in /Users/ceyhun/opt/anaconda3/envs/Dataspell_1_env/lib/python3.8/site-packages (from scikit-image>=0.16.1->albumentations==1.3.0) (9.3.0)\r\n",
      "Collecting imageio>=2.4.1\r\n",
      "  Downloading imageio-2.26.0-py3-none-any.whl (3.4 MB)\r\n",
      "\u001B[2K     \u001B[90m━━━━━━━━━━━━━━━━━━━━━━━━━━━━━━━━━━━━━━━━\u001B[0m \u001B[32m3.4/3.4 MB\u001B[0m \u001B[31m18.0 MB/s\u001B[0m eta \u001B[36m0:00:00\u001B[0m00:01\u001B[0m00:01\u001B[0m\r\n",
      "\u001B[?25hRequirement already satisfied: threadpoolctl>=2.0.0 in /Users/ceyhun/opt/anaconda3/envs/Dataspell_1_env/lib/python3.8/site-packages (from scikit-learn>=0.19.1->qudida>=0.0.4->albumentations==1.3.0) (2.2.0)\r\n",
      "Requirement already satisfied: joblib>=1.1.1 in /Users/ceyhun/opt/anaconda3/envs/Dataspell_1_env/lib/python3.8/site-packages (from scikit-learn>=0.19.1->qudida>=0.0.4->albumentations==1.3.0) (1.1.1)\r\n",
      "Building wheels for collected packages: albumentations\r\n",
      "  Building wheel for albumentations (setup.py) ... \u001B[?25ldone\r\n",
      "\u001B[?25h  Created wheel for albumentations: filename=albumentations-1.3.0-py3-none-any.whl size=125620 sha256=29afa4c1987086f7ad19543b7e29c0b87f3442d6e10fd702c418fba6daae1120\r\n",
      "  Stored in directory: /private/var/folders/jy/vbsn5_l135d_8jnm29j_bmnr0000gn/T/pip-ephem-wheel-cache-dabebrb1/wheels/f3/4a/7f/67b055656bec4d4aaa8963cfc93678f6f2906b2d72054a1268\r\n",
      "Successfully built albumentations\r\n",
      "Installing collected packages: tifffile, scipy, PyWavelets, opencv-python-headless, lazy_loader, imageio, scikit-image, qudida, albumentations\r\n",
      "  Attempting uninstall: scipy\r\n",
      "    Found existing installation: scipy 1.10.0\r\n",
      "    Uninstalling scipy-1.10.0:\r\n",
      "      Successfully uninstalled scipy-1.10.0\r\n",
      "Successfully installed PyWavelets-1.4.1 albumentations-1.3.0 imageio-2.26.0 lazy_loader-0.1 opencv-python-headless-4.7.0.72 qudida-0.0.4 scikit-image-0.20.0 scipy-1.9.1 tifffile-2023.2.28\r\n",
      "Collecting opencv-contrib-python\r\n",
      "  Downloading opencv_contrib_python-4.7.0.72-cp37-abi3-macosx_10_16_x86_64.whl (63.1 MB)\r\n",
      "\u001B[2K     \u001B[90m━━━━━━━━━━━━━━━━━━━━━━━━━━━━━━━━━━━━━━━━\u001B[0m \u001B[32m63.1/63.1 MB\u001B[0m \u001B[31m18.3 MB/s\u001B[0m eta \u001B[36m0:00:00\u001B[0m00:01\u001B[0m00:01\u001B[0m\r\n",
      "\u001B[?25hRequirement already satisfied: numpy>=1.17.3 in /Users/ceyhun/opt/anaconda3/envs/Dataspell_1_env/lib/python3.8/site-packages (from opencv-contrib-python) (1.23.5)\r\n",
      "Installing collected packages: opencv-contrib-python\r\n",
      "Successfully installed opencv-contrib-python-4.7.0.72\r\n"
     ]
    }
   ],
   "source": [
    "!pip install segmentation-models-pytorch\n",
    "!pip install -U git+https://github.com/albumentations-team/albumentations\n",
    "!pip install --upgrade opencv-contrib-python"
   ]
  },
  {
   "cell_type": "code",
   "execution_count": 2,
   "outputs": [
    {
     "name": "stdout",
     "output_type": "stream",
     "text": [
      "Cloning into 'Person-Re-Id-Dataset'...\r\n",
      "remote: Enumerating objects: 12942, done.\u001B[K\r\n",
      "remote: Counting objects: 100% (12942/12942), done.\u001B[K\r\n",
      "remote: Compressing objects: 100% (12942/12942), done.\u001B[K\r\n",
      "remote: Total 12942 (delta 0), reused 12942 (delta 0), pack-reused 0\u001B[K\r\n",
      "Receiving objects: 100% (12942/12942), 27.68 MiB | 11.02 MiB/s, done.\r\n",
      "Updating files: 100% (12939/12939), done.\r\n"
     ]
    }
   ],
   "source": [
    "!git clone https://github.com/parth1620/Person-Re-Id-Dataset"
   ],
   "metadata": {
    "collapsed": false
   }
  },
  {
   "cell_type": "code",
   "execution_count": 4,
   "outputs": [],
   "source": [
    "import sys\n",
    "sys.path.append('/content/Person-Re-Id-Dataset')\n",
    "import pandas as pd\n",
    "import numpy as np\n",
    "import matplotlib.pyplot as plt\n",
    "import torch\n",
    "import timm\n",
    "\n",
    "import torch.nn.functional as F\n",
    "from torch import nn\n",
    "from torch.utils.data import Dataset, DataLoader\n",
    "\n",
    "from skimage import io\n",
    "from sklearn.model_selection import train_test_split\n",
    "\n",
    "from tqdm import tqdm#%%\n"
   ],
   "metadata": {
    "collapsed": false
   }
  },
  {
   "cell_type": "code",
   "execution_count": 1,
   "outputs": [],
   "source": [
    "DATA_DIR = 'Person-Re-Id-Dataset/train/'\n",
    "CSV_FILE = 'Person-Re-Id-Dataset/train.csv'\n",
    "\n",
    "BATCH_SIZE = 32\n",
    "LR = 0.001\n",
    "EPOCHS =5\n",
    "\n",
    "device = 'cuda'"
   ],
   "metadata": {
    "collapsed": false
   }
  },
  {
   "cell_type": "code",
   "execution_count": 6,
   "outputs": [
    {
     "data": {
      "text/plain": "                    Anchor                 Negative                 Positive\n0  1420_c5s3_052165_01.jpg  1334_c6s3_061492_05.jpg  1420_c3s3_051678_01.jpg\n1  1420_c3s3_061978_03.jpg  0234_c3s3_079494_02.jpg  1420_c6s3_085567_02.jpg\n2  1420_c5s3_062565_05.jpg  0475_c2s1_122816_08.jpg  1420_c3s3_051653_01.jpg\n3  1420_c6s3_085592_04.jpg  0662_c2s2_036662_05.jpg  1420_c1s6_013446_04.jpg\n4  0663_c5s3_085987_03.jpg  1463_c2s3_098102_02.jpg  0663_c3s3_085544_06.jpg",
      "text/html": "<div>\n<style scoped>\n    .dataframe tbody tr th:only-of-type {\n        vertical-align: middle;\n    }\n\n    .dataframe tbody tr th {\n        vertical-align: top;\n    }\n\n    .dataframe thead th {\n        text-align: right;\n    }\n</style>\n<table border=\"1\" class=\"dataframe\">\n  <thead>\n    <tr style=\"text-align: right;\">\n      <th></th>\n      <th>Anchor</th>\n      <th>Negative</th>\n      <th>Positive</th>\n    </tr>\n  </thead>\n  <tbody>\n    <tr>\n      <th>0</th>\n      <td>1420_c5s3_052165_01.jpg</td>\n      <td>1334_c6s3_061492_05.jpg</td>\n      <td>1420_c3s3_051678_01.jpg</td>\n    </tr>\n    <tr>\n      <th>1</th>\n      <td>1420_c3s3_061978_03.jpg</td>\n      <td>0234_c3s3_079494_02.jpg</td>\n      <td>1420_c6s3_085567_02.jpg</td>\n    </tr>\n    <tr>\n      <th>2</th>\n      <td>1420_c5s3_062565_05.jpg</td>\n      <td>0475_c2s1_122816_08.jpg</td>\n      <td>1420_c3s3_051653_01.jpg</td>\n    </tr>\n    <tr>\n      <th>3</th>\n      <td>1420_c6s3_085592_04.jpg</td>\n      <td>0662_c2s2_036662_05.jpg</td>\n      <td>1420_c1s6_013446_04.jpg</td>\n    </tr>\n    <tr>\n      <th>4</th>\n      <td>0663_c5s3_085987_03.jpg</td>\n      <td>1463_c2s3_098102_02.jpg</td>\n      <td>0663_c3s3_085544_06.jpg</td>\n    </tr>\n  </tbody>\n</table>\n</div>"
     },
     "execution_count": 6,
     "metadata": {},
     "output_type": "execute_result"
    }
   ],
   "source": [
    "df = pd.read_csv(CSV_FILE)\n",
    "df.head()"
   ],
   "metadata": {
    "collapsed": false
   }
  },
  {
   "cell_type": "code",
   "execution_count": 7,
   "outputs": [],
   "source": [
    "row = df.iloc[114]\n",
    "A_img = io.imread(DATA_DIR + row.Anchor)\n",
    "N_img = io.imread(DATA_DIR + row.Negative)\n",
    "P_img = io.imread(DATA_DIR + row.Positive)"
   ],
   "metadata": {
    "collapsed": false
   }
  },
  {
   "cell_type": "code",
   "execution_count": 8,
   "outputs": [
    {
     "data": {
      "text/plain": "<matplotlib.image.AxesImage at 0x7fa4f3f685e0>"
     },
     "execution_count": 8,
     "metadata": {},
     "output_type": "execute_result"
    },
    {
     "data": {
      "text/plain": "<Figure size 1000x500 with 3 Axes>",
      "image/png": "[encoded data removed]"
     },
     "metadata": {},
     "output_type": "display_data"
    }
   ],
   "source": [
    "f, (ax1, ax2, ax3) = plt.subplots(1,3, figsize = (10,5))\n",
    "ax1.set_title('Anchor')\n",
    "ax1.imshow(A_img)\n",
    "\n",
    "ax2.set_title('Positive')\n",
    "ax2.imshow(P_img)\n",
    "\n",
    "ax3.set_title('Negative')\n",
    "ax3.imshow(N_img)"
   ],
   "metadata": {
    "collapsed": false
   }
  },
  {
   "cell_type": "code",
   "execution_count": 9,
   "outputs": [],
   "source": [
    "train_df, valid_df = train_test_split(df, test_size = 0.2, random_state = 42)"
   ],
   "metadata": {
    "collapsed": false
   }
  },
  {
   "cell_type": "code",
   "execution_count": 10,
   "outputs": [
    {
     "data": {
      "text/plain": "torch.Size([3, 128, 64])"
     },
     "execution_count": 10,
     "metadata": {},
     "output_type": "execute_result"
    }
   ],
   "source": [
    "B_img = torch.from_numpy(P_img).permute(2,0,1)\n",
    "B_img.shape"
   ],
   "metadata": {
    "collapsed": false
   }
  },
  {
   "cell_type": "code",
   "execution_count": 11,
   "outputs": [],
   "source": [
    "class APN_Dataset(Dataset):\n",
    "\n",
    "    def __init__(self, df) :\n",
    "        self.df = df\n",
    "\n",
    "    def __len__(self) :\n",
    "        return len(self.df)\n",
    "\n",
    "    def __getitem__(self, idx):\n",
    "        row = self.df.iloc[idx]\n",
    "\n",
    "        A_img = io.imread(DATA_DIR + row.Anchor)\n",
    "        N_img = io.imread(DATA_DIR + row.Negative)\n",
    "        P_img = io.imread(DATA_DIR + row.Positive)\n",
    "\n",
    "        A_img = torch.from_numpy(A_img).permute(2,0,1) / 255.0\n",
    "        P_img = torch.from_numpy(P_img).permute(2,0,1) / 255.0\n",
    "        N_img = torch.from_numpy(N_img).permute(2,0,1) / 255.0\n",
    "\n",
    "\n",
    "        return A_img, P_img, N_img"
   ],
   "metadata": {
    "collapsed": false
   }
  },
  {
   "cell_type": "code",
   "execution_count": 12,
   "outputs": [
    {
     "name": "stdout",
     "output_type": "stream",
     "text": [
      "size of trainset: 3200\n",
      "size of validset: 800\n"
     ]
    }
   ],
   "source": [
    "trainset = APN_Dataset(train_df)\n",
    "validset = APN_Dataset(valid_df)\n",
    "\n",
    "print(f\"size of trainset: {len(trainset)}\")\n",
    "print(f\"size of validset: {len(validset)}\")"
   ],
   "metadata": {
    "collapsed": false
   }
  },
  {
   "cell_type": "code",
   "execution_count": 13,
   "outputs": [
    {
     "data": {
      "text/plain": "<matplotlib.image.AxesImage at 0x7fa4f3298190>"
     },
     "execution_count": 13,
     "metadata": {},
     "output_type": "execute_result"
    },
    {
     "data": {
      "text/plain": "<Figure size 1000x500 with 3 Axes>",
      "image/png": "[encoded data removed]"
     },
     "metadata": {},
     "output_type": "display_data"
    }
   ],
   "source": [
    "idx = 40\n",
    "A,P,N = trainset[idx]\n",
    "\n",
    "f, (ax1, ax2, ax3) = plt.subplots(1,3,figsize= (10,5))\n",
    "\n",
    "ax1.set_title('Anchor')\n",
    "ax1.imshow(A.numpy().transpose((1,2,0)), cmap = 'gray')\n",
    "\n",
    "ax2.set_title('Positive')\n",
    "ax2.imshow(P.numpy().transpose((1,2,0)), cmap = 'gray')\n",
    "\n",
    "ax3.set_title('Negative')\n",
    "ax3.imshow(N.numpy().transpose((1,2,0)), cmap = 'gray')"
   ],
   "metadata": {
    "collapsed": false
   }
  },
  {
   "cell_type": "code",
   "execution_count": 14,
   "outputs": [],
   "source": [
    "trainloader = DataLoader(trainset, batch_size = BATCH_SIZE, shuffle = True)\n",
    "validloader = DataLoader(validset, batch_size = BATCH_SIZE, shuffle = True)"
   ],
   "metadata": {
    "collapsed": false
   }
  },
  {
   "cell_type": "code",
   "execution_count": 15,
   "outputs": [
    {
     "name": "stdout",
     "output_type": "stream",
     "text": [
      "No. of batches in trainloader : 100\n",
      "No. of batches in validloader : 25\n"
     ]
    }
   ],
   "source": [
    "print(f\"No. of batches in trainloader : {len(trainloader)}\")\n",
    "print(f\"No. of batches in validloader : {len(validloader)}\")"
   ],
   "metadata": {
    "collapsed": false
   }
  },
  {
   "cell_type": "code",
   "execution_count": 16,
   "outputs": [
    {
     "name": "stdout",
     "output_type": "stream",
     "text": [
      "One image batch shape : torch.Size([32, 3, 128, 64])\n"
     ]
    }
   ],
   "source": [
    "A,P,N = next(iter(trainloader))\n",
    "\n",
    "print(f\"One image batch shape : {P.shape}\")"
   ],
   "metadata": {
    "collapsed": false
   }
  },
  {
   "cell_type": "code",
   "execution_count": 17,
   "outputs": [],
   "source": [
    "class APN_Model(nn.Module):\n",
    "    def __init__(self, emb_size = 512) :\n",
    "        super(APN_Model, self).__init__()\n",
    "\n",
    "        self.efficientnet = timm.create_model('efficientnet_b0', pretrained = True)\n",
    "        self.efficientnet.classifier = nn.Linear(in_features = self.efficientnet.classifier.in_features, out_features = emb_size)\n",
    "\n",
    "\n",
    "    def forward(self, images) :\n",
    "        embeddings = self.efficientnet(images)\n",
    "        return embeddings"
   ],
   "metadata": {
    "collapsed": false
   }
  },
  {
   "cell_type": "code",
   "execution_count": null,
   "outputs": [
    {
     "name": "stderr",
     "output_type": "stream",
     "text": [
      "Downloading: \"https://github.com/rwightman/pytorch-image-models/releases/download/v0.1-weights/efficientnet_b0_ra-3dd342df.pth\" to /Users/ceyhun/.cache/torch/hub/checkpoints/efficientnet_b0_ra-3dd342df.pth\n"
     ]
    }
   ],
   "source": [
    "model = APN_Model()\n",
    "model.to(device)"
   ],
   "metadata": {
    "collapsed": false,
    "pycharm": {
     "is_executing": true
    }
   }
  },
  {
   "cell_type": "code",
   "execution_count": 2,
   "outputs": [],
   "source": [
    "def train_fn(model, dataloader, optimizer, criterion):\n",
    "    model.train()\n",
    "    total_loss = 0.0\n",
    "\n",
    "    for A,P,N in tqdm(dataloader):\n",
    "        A,P,N = A.to(device),P.to(device),N.to(device)\n",
    "        A_embs = model(A)\n",
    "        P_embs = model(P)\n",
    "        N_embs = model(N)\n",
    "\n",
    "        loss = criterion(A_embs, P_embs, N_embs)\n",
    "\n",
    "        optimizer.zero_grad()\n",
    "\n",
    "        loss.backward()\n",
    "\n",
    "        optimizer.step()\n",
    "\n",
    "        total_loss +=loss.item()\n",
    "\n",
    "    return total_loss / len(dataloader)"
   ],
   "metadata": {
    "collapsed": false
   }
  },
  {
   "cell_type": "code",
   "execution_count": 3,
   "outputs": [],
   "source": [
    "def eval_fn(model, dataloader, criterion):\n",
    "    model.eval()\n",
    "    total_loss = 0.0\n",
    "\n",
    "    with torch.no_grad() :\n",
    "\n",
    "        for A,P,N in tqdm(dataloader):\n",
    "            A,P,N = A.to(device),P.to(device),N.to(device)\n",
    "            A_embs = model(A)\n",
    "            P_embs = model(P)\n",
    "            N_embs = model(N)\n",
    "\n",
    "            loss = criterion(A_embs, P_embs, N_embs)\n",
    "\n",
    "            total_loss +=loss.item()\n",
    "\n",
    "        return total_loss / len(dataloader)"
   ],
   "metadata": {
    "collapsed": false
   }
  },
  {
   "cell_type": "code",
   "execution_count": 4,
   "outputs": [
    {
     "ename": "NameError",
     "evalue": "name 'nn' is not defined",
     "output_type": "error",
     "traceback": [
      "\u001B[0;31m---------------------------------------------------------------------------\u001B[0m",
      "\u001B[0;31mNameError\u001B[0m                                 Traceback (most recent call last)",
      "Cell \u001B[0;32mIn[4], line 1\u001B[0m\n\u001B[0;32m----> 1\u001B[0m criterion \u001B[38;5;241m=\u001B[39m \u001B[43mnn\u001B[49m\u001B[38;5;241m.\u001B[39mTripletMarginLoss()\n\u001B[1;32m      2\u001B[0m optimizer \u001B[38;5;241m=\u001B[39m torch\u001B[38;5;241m.\u001B[39moptim\u001B[38;5;241m.\u001B[39mAdam(model\u001B[38;5;241m.\u001B[39mparameters(), lr \u001B[38;5;241m=\u001B[39m LR)\n",
      "\u001B[0;31mNameError\u001B[0m: name 'nn' is not defined"
     ]
    }
   ],
   "source": [
    "criterion = nn.TripletMarginLoss()\n",
    "optimizer = torch.optim.Adam(model.parameters(), lr = LR)"
   ],
   "metadata": {
    "collapsed": false
   }
  },
  {
   "cell_type": "code",
   "execution_count": null,
   "outputs": [],
   "source": [
    "best_valid_loss = np.Inf\n",
    "\n",
    "for i in range(EPOCHS) :\n",
    "    train_loss = train_fn(model, trainloader, optimizer, criterion)\n",
    "    valid_loss = eval_fn(model, validloader, criterion)\n",
    "\n",
    "    if valid_loss < best_valid_loss :\n",
    "        torch.save(model.state_dict(), 'best_model.pt')\n",
    "        best_valid_loss = valid_loss\n",
    "        print('SAVED WEIGHTS SUCCESS')\n",
    "\n",
    "    print(f\"EPOCHS : {i+1} train_loss : {train_loss}\")"
   ],
   "metadata": {
    "collapsed": false
   }
  },
  {
   "cell_type": "code",
   "execution_count": 5,
   "outputs": [],
   "source": [
    "def get_encoding_csv(model, anc_img_names):\n",
    "    anc_img_names_arr = np.array(anc_img_names)\n",
    "    encodings = []\n",
    "\n",
    "    model.eval()\n",
    "\n",
    "    with torch.no_grad() :\n",
    "        for i in tqdm(anc_img_names_arr):\n",
    "            A = io.imread(DATA_DIR + i)\n",
    "            A = torch.from_numpy(A).permute(2,0,1) / 255.0\n",
    "            A = A.to(device)\n",
    "            A_enc = model(A.unsqueeze(0))\n",
    "            encodings.append(A_enc.squeeze().cpu().detach().numpy())\n",
    "\n",
    "        encodings = np.array(encodings)\n",
    "        encodings = pd.DataFrame(encodings)\n",
    "        df_enc = pd.concat([anc_img_names, encodings], axis = 1)\n",
    "\n",
    "    return df_enc"
   ],
   "metadata": {
    "collapsed": false
   }
  },
  {
   "cell_type": "code",
   "execution_count": 6,
   "outputs": [
    {
     "ename": "NameError",
     "evalue": "name 'model' is not defined",
     "output_type": "error",
     "traceback": [
      "\u001B[0;31m---------------------------------------------------------------------------\u001B[0m",
      "\u001B[0;31mNameError\u001B[0m                                 Traceback (most recent call last)",
      "Cell \u001B[0;32mIn[6], line 1\u001B[0m\n\u001B[0;32m----> 1\u001B[0m \u001B[43mmodel\u001B[49m\u001B[38;5;241m.\u001B[39mload_state_dict(torch\u001B[38;5;241m.\u001B[39mload(\u001B[38;5;124m'\u001B[39m\u001B[38;5;124mbest_model.pt\u001B[39m\u001B[38;5;124m'\u001B[39m))\n",
      "\u001B[0;31mNameError\u001B[0m: name 'model' is not defined"
     ]
    }
   ],
   "source": [
    "model.load_state_dict(torch.load('best_model.pt'))"
   ],
   "metadata": {
    "collapsed": false
   }
  },
  {
   "cell_type": "code",
   "execution_count": 7,
   "outputs": [
    {
     "ename": "NameError",
     "evalue": "name 'model' is not defined",
     "output_type": "error",
     "traceback": [
      "\u001B[0;31m---------------------------------------------------------------------------\u001B[0m",
      "\u001B[0;31mNameError\u001B[0m                                 Traceback (most recent call last)",
      "Cell \u001B[0;32mIn[7], line 1\u001B[0m\n\u001B[0;32m----> 1\u001B[0m df_enc \u001B[38;5;241m=\u001B[39m get_encoding_csv(\u001B[43mmodel\u001B[49m, df[\u001B[38;5;124m'\u001B[39m\u001B[38;5;124mAnchor\u001B[39m\u001B[38;5;124m'\u001B[39m])\n",
      "\u001B[0;31mNameError\u001B[0m: name 'model' is not defined"
     ]
    }
   ],
   "source": [
    "df_enc = get_encoding_csv(model, df['Anchor'])"
   ],
   "metadata": {
    "collapsed": false
   }
  },
  {
   "cell_type": "code",
   "execution_count": null,
   "outputs": [],
   "source": [
    "df_enc.to_csv('database.csv', index = False)\n",
    "df_enc.head()"
   ],
   "metadata": {
    "collapsed": false
   }
  },
  {
   "cell_type": "code",
   "execution_count": null,
   "outputs": [],
   "source": [
    "def euclidian_dist(img_enc, anc_enc_arr):\n",
    "    dist = np.sqrt(np.dot(img_enc-anc_enc_arr, (img_enc - anc_enc_arr).T))\n",
    "    return dist#%%\n",
    "!pip install segmentation-models-pytorch\n",
    "!pip install -U git+https://github.com/albumentations-team/albumentations\n",
    "!pip install --upgrade opencv-contrib-python"
   ],
   "metadata": {
    "collapsed": false
   }
  },
  {
   "cell_type": "code",
   "execution_count": null,
   "outputs": [],
   "source": [
    "!git clone https://github.com/parth1620/Person-Re-Id-Dataset"
   ],
   "metadata": {
    "collapsed": false
   }
  },
  {
   "cell_type": "code",
   "execution_count": null,
   "outputs": [],
   "source": [
    "import sys\n",
    "sys.path.append('/content/Person-Re-Id-Dataset')\n",
    "import pandas as pd\n",
    "import numpy as np\n",
    "import matplotlib.pyplot as plt\n",
    "import torch\n",
    "import timm\n",
    "\n",
    "import torch.nn.functional as F\n",
    "from torch import nn\n",
    "from torch.utils.data import Dataset, DataLoader\n",
    "\n",
    "from skimage import io\n",
    "from sklearn.model_selection import train_test_split\n",
    "\n",
    "from tqdm import tqdm#%%\n",
    "!pip install segmentation-models-pytorch\n",
    "!pip install -U git+https://github.com/albumentations-team/albumentations\n",
    "!pip install --upgrade opencv-contrib-python"
   ],
   "metadata": {
    "collapsed": false
   }
  },
  {
   "cell_type": "code",
   "execution_count": null,
   "outputs": [],
   "source": [
    "!git clone https://github.com/parth1620/Person-Re-Id-Dataset"
   ],
   "metadata": {
    "collapsed": false
   }
  },
  {
   "cell_type": "code",
   "execution_count": null,
   "outputs": [],
   "source": [
    "import sys\n",
    "sys.path.append('/content/Person-Re-Id-Dataset')\n",
    "import pandas as pd\n",
    "import numpy as np\n",
    "import matplotlib.pyplot as plt\n",
    "import torch\n",
    "import timm\n",
    "\n",
    "import torch.nn.functional as F\n",
    "from torch import nn\n",
    "from torch.utils.data import Dataset, DataLoader\n",
    "\n",
    "from skimage import io\n",
    "from sklearn.model_selection import train_test_split\n",
    "\n",
    "from tqdm import tqdm"
   ],
   "metadata": {
    "collapsed": false
   }
  },
  {
   "cell_type": "code",
   "execution_count": null,
   "outputs": [],
   "source": [
    "DATA_DIR = 'Person-Re-Id-Dataset/train/'\n",
    "CSV_FILE = 'Person-Re-Id-Dataset/train.csv'\n",
    "\n",
    "BATCH_SIZE = 32\n",
    "LR = 0.001\n",
    "EPOCHS =15\n",
    "\n",
    "device = 'cuda'"
   ],
   "metadata": {
    "collapsed": false
   }
  },
  {
   "cell_type": "code",
   "execution_count": null,
   "outputs": [],
   "source": [
    "df = pd.read_csv(CSV_FILE)\n",
    "df.head()"
   ],
   "metadata": {
    "collapsed": false
   }
  },
  {
   "cell_type": "code",
   "execution_count": null,
   "outputs": [],
   "source": [
    "row = df.iloc[114]\n",
    "A_img = io.imread(DATA_DIR + row.Anchor)\n",
    "N_img = io.imread(DATA_DIR + row.Negative)\n",
    "P_img = io.imread(DATA_DIR + row.Positive)"
   ],
   "metadata": {
    "collapsed": false
   }
  },
  {
   "cell_type": "code",
   "execution_count": null,
   "outputs": [],
   "source": [
    "f, (ax1, ax2, ax3) = plt.subplots(1,3, figsize = (10,5))\n",
    "ax1.set_title('Anchor')\n",
    "ax1.imshow(A_img)\n",
    "\n",
    "ax2.set_title('Positive')\n",
    "ax2.imshow(P_img)\n",
    "\n",
    "ax3.set_title('Negative')\n",
    "ax3.imshow(N_img)"
   ],
   "metadata": {
    "collapsed": false
   }
  },
  {
   "cell_type": "code",
   "execution_count": null,
   "outputs": [],
   "source": [
    "train_df, valid_df = train_test_split(df, test_size = 0.2, random_state = 42)"
   ],
   "metadata": {
    "collapsed": false
   }
  },
  {
   "cell_type": "code",
   "execution_count": null,
   "outputs": [],
   "source": [
    "B_img = torch.from_numpy(P_img).permute(2,0,1)\n",
    "B_img.shape"
   ],
   "metadata": {
    "collapsed": false
   }
  },
  {
   "cell_type": "code",
   "execution_count": null,
   "outputs": [],
   "source": [
    "class APN_Dataset(Dataset):\n",
    "\n",
    "    def __init__(self, df) :\n",
    "        self.df = df\n",
    "\n",
    "    def __len__(self) :\n",
    "        return len(self.df)\n",
    "\n",
    "    def __getitem__(self, idx):\n",
    "        row = self.df.iloc[idx]\n",
    "\n",
    "        A_img = io.imread(DATA_DIR + row.Anchor)\n",
    "        N_img = io.imread(DATA_DIR + row.Negative)\n",
    "        P_img = io.imread(DATA_DIR + row.Positive)\n",
    "\n",
    "        A_img = torch.from_numpy(A_img).permute(2,0,1) / 255.0\n",
    "        P_img = torch.from_numpy(P_img).permute(2,0,1) / 255.0\n",
    "        N_img = torch.from_numpy(N_img).permute(2,0,1) / 255.0\n",
    "\n",
    "\n",
    "        return A_img, P_img, N_img"
   ],
   "metadata": {
    "collapsed": false
   }
  },
  {
   "cell_type": "code",
   "execution_count": null,
   "outputs": [],
   "source": [
    "trainset = APN_Dataset(train_df)\n",
    "validset = APN_Dataset(valid_df)\n",
    "\n",
    "print(f\"size of trainset: {len(trainset)}\")\n",
    "print(f\"size of validset: {len(validset)}\")"
   ],
   "metadata": {
    "collapsed": false
   }
  },
  {
   "cell_type": "code",
   "execution_count": null,
   "outputs": [],
   "source": [
    "idx = 40\n",
    "A,P,N = trainset[idx]\n",
    "\n",
    "f, (ax1, ax2, ax3) = plt.subplots(1,3,figsize= (10,5))\n",
    "\n",
    "ax1.set_title('Anchor')\n",
    "ax1.imshow(A.numpy().transpose((1,2,0)), cmap = 'gray')\n",
    "\n",
    "ax2.set_title('Positive')\n",
    "ax2.imshow(P.numpy().transpose((1,2,0)), cmap = 'gray')\n",
    "\n",
    "ax3.set_title('Negative')\n",
    "ax3.imshow(N.numpy().transpose((1,2,0)), cmap = 'gray')"
   ],
   "metadata": {
    "collapsed": false
   }
  },
  {
   "cell_type": "code",
   "execution_count": null,
   "outputs": [],
   "source": [
    "trainloader = DataLoader(trainset, batch_size = BATCH_SIZE, shuffle = True)\n",
    "validloader = DataLoader(validset, batch_size = BATCH_SIZE, shuffle = True)"
   ],
   "metadata": {
    "collapsed": false
   }
  },
  {
   "cell_type": "code",
   "execution_count": null,
   "outputs": [],
   "source": [
    "print(f\"No. of batches in trainloader : {len(trainloader)}\")\n",
    "print(f\"No. of batches in validloader : {len(validloader)}\")"
   ],
   "metadata": {
    "collapsed": false
   }
  },
  {
   "cell_type": "code",
   "execution_count": null,
   "outputs": [],
   "source": [
    "A,P,N = next(iter(trainloader))\n",
    "\n",
    "print(f\"One image batch shape : {P.shape}\")"
   ],
   "metadata": {
    "collapsed": false
   }
  },
  {
   "cell_type": "code",
   "execution_count": null,
   "outputs": [],
   "source": [
    "class APN_Model(nn.Module):\n",
    "    def __init__(self, emb_size = 512) :\n",
    "        super(APN_Model, self).__init__()\n",
    "\n",
    "        self.efficientnet = timm.create_model('efficientnet_b0', pretrained = True)\n",
    "        self.efficientnet.classifier = nn.Linear(in_features = self.efficientnet.classifier.in_features, out_features = emb_size)\n",
    "\n",
    "\n",
    "    def forward(self, images) :\n",
    "        embeddings = self.efficientnet(images)\n",
    "        return embeddings"
   ],
   "metadata": {
    "collapsed": false
   }
  },
  {
   "cell_type": "code",
   "execution_count": null,
   "outputs": [],
   "source": [
    "model = APN_Model()\n",
    "model.to(device)"
   ],
   "metadata": {
    "collapsed": false
   }
  },
  {
   "cell_type": "code",
   "execution_count": null,
   "outputs": [],
   "source": [
    "def train_fn(model, dataloader, optimizer, criterion):\n",
    "    model.train()\n",
    "    total_loss = 0.0\n",
    "\n",
    "    for A,P,N in tqdm(dataloader):\n",
    "        A,P,N = A.to(device),P.to(device),N.to(device)\n",
    "        A_embs = model(A)\n",
    "        P_embs = model(P)\n",
    "        N_embs = model(N)\n",
    "\n",
    "        loss = criterion(A_embs, P_embs, N_embs)\n",
    "\n",
    "        optimizer.zero_grad()\n",
    "\n",
    "        loss.backward()\n",
    "\n",
    "        optimizer.step()\n",
    "\n",
    "        total_loss +=loss.item()\n",
    "\n",
    "    return total_loss / len(dataloader)"
   ],
   "metadata": {
    "collapsed": false
   }
  },
  {
   "cell_type": "code",
   "execution_count": null,
   "outputs": [],
   "source": [
    "def eval_fn(model, dataloader, criterion):\n",
    "    model.eval()\n",
    "    total_loss = 0.0\n",
    "\n",
    "    with torch.no_grad() :\n",
    "\n",
    "        for A,P,N in tqdm(dataloader):\n",
    "            A,P,N = A.to(device),P.to(device),N.to(device)\n",
    "            A_embs = model(A)\n",
    "            P_embs = model(P)\n",
    "            N_embs = model(N)\n",
    "\n",
    "            loss = criterion(A_embs, P_embs, N_embs)\n",
    "\n",
    "            total_loss +=loss.item()\n",
    "\n",
    "        return total_loss / len(dataloader)"
   ],
   "metadata": {
    "collapsed": false
   }
  },
  {
   "cell_type": "code",
   "execution_count": null,
   "outputs": [],
   "source": [
    "criterion = nn.TripletMarginLoss()\n",
    "optimizer = torch.optim.Adam(model.parameters(), lr = LR)"
   ],
   "metadata": {
    "collapsed": false
   }
  },
  {
   "cell_type": "code",
   "execution_count": null,
   "outputs": [],
   "source": [
    "best_valid_loss = np.Inf\n",
    "\n",
    "for i in range(EPOCHS) :\n",
    "    train_loss = train_fn(model, trainloader, optimizer, criterion)\n",
    "    valid_loss = eval_fn(model, validloader, criterion)\n",
    "\n",
    "    if valid_loss < best_valid_loss :\n",
    "        torch.save(model.state_dict(), 'best_model.pt')\n",
    "        best_valid_loss = valid_loss\n",
    "        print('SAVED WEIGHTS SUCCESS')\n",
    "\n",
    "    print(f\"EPOCHS : {i+1} train_loss : {train_loss}\")"
   ],
   "metadata": {
    "collapsed": false
   }
  },
  {
   "cell_type": "code",
   "execution_count": null,
   "outputs": [],
   "source": [
    "def get_encoding_csv(model, anc_img_names):\n",
    "    anc_img_names_arr = np.array(anc_img_names)\n",
    "    encodings = []\n",
    "\n",
    "    model.eval()\n",
    "\n",
    "    with torch.no_grad() :\n",
    "        for i in tqdm(anc_img_names_arr):\n",
    "            A = io.imread(DATA_DIR + i)\n",
    "            A = torch.from_numpy(A).permute(2,0,1) / 255.0\n",
    "            A = A.to(device)\n",
    "            A_enc = model(A.unsqueeze(0))\n",
    "            encodings.append(A_enc.squeeze().cpu().detach().numpy())\n",
    "\n",
    "        encodings = np.array(encodings)\n",
    "        encodings = pd.DataFrame(encodings)\n",
    "        df_enc = pd.concat([anc_img_names, encodings], axis = 1)\n",
    "\n",
    "    return df_enc"
   ],
   "metadata": {
    "collapsed": false
   }
  },
  {
   "cell_type": "code",
   "execution_count": null,
   "outputs": [],
   "source": [
    "model.load_state_dict(torch.load('best_model.pt'))"
   ],
   "metadata": {
    "collapsed": false
   }
  },
  {
   "cell_type": "code",
   "execution_count": null,
   "outputs": [],
   "source": [
    "df_enc = get_encoding_csv(model, df['Anchor'])"
   ],
   "metadata": {
    "collapsed": false
   }
  },
  {
   "cell_type": "code",
   "execution_count": null,
   "outputs": [],
   "source": [
    "df_enc.to_csv('database.csv', index = False)\n",
    "df_enc.head()"
   ],
   "metadata": {
    "collapsed": false
   }
  },
  {
   "cell_type": "code",
   "execution_count": null,
   "outputs": [],
   "source": [
    "def euclidian_dist(img_enc, anc_enc_arr):\n",
    "    dist = np.sqrt(np.dot(img_enc-anc_enc_arr, (img_enc - anc_enc_arr).T))\n",
    "    return dist"
   ],
   "metadata": {
    "collapsed": false
   }
  },
  {
   "cell_type": "code",
   "execution_count": null,
   "outputs": [],
   "source": [
    "idx = 23\n",
    "img_name = df_enc['Anchor'].iloc[idx]\n",
    "img_path = DATA_DIR + img_name\n",
    "\n",
    "img = io.imread(img_path)\n",
    "img = torch.from_numpy(img).permute(2,0,1) / 255.\n",
    "\n",
    "model.eval()\n",
    "\n",
    "with torch.no_grad():\n",
    "    img = img.to(device)\n",
    "    img_enc = model(img.unsqueeze(0))\n",
    "    img_enc = img_enc.detach().cpu().numpy()"
   ],
   "metadata": {
    "collapsed": false
   }
  },
  {
   "cell_type": "code",
   "execution_count": null,
   "outputs": [],
   "source": [
    "anc_enc_arr = df_enc.iloc[:, 1:]\n",
    "anc_img_names = df_enc['Anchor']#%%\n",
    "!pip install segmentation-models-pytorch\n",
    "!pip install -U git+https://github.com/albumentations-team/albumentations\n",
    "!pip install --upgrade opencv-contrib-python"
   ],
   "metadata": {
    "collapsed": false
   }
  },
  {
   "cell_type": "code",
   "execution_count": null,
   "outputs": [],
   "source": [
    "!git clone https://github.com/parth1620/Person-Re-Id-Dataset"
   ],
   "metadata": {
    "collapsed": false
   }
  },
  {
   "cell_type": "code",
   "execution_count": null,
   "outputs": [],
   "source": [
    "import sys\n",
    "sys.path.append('/content/Person-Re-Id-Dataset')\n",
    "import pandas as pd\n",
    "import numpy as np\n",
    "import matplotlib.pyplot as plt\n",
    "import torch\n",
    "import timm\n",
    "\n",
    "import torch.nn.functional as F\n",
    "from torch import nn\n",
    "from torch.utils.data import Dataset, DataLoader\n",
    "\n",
    "from skimage import io\n",
    "from sklearn.model_selection import train_test_split\n",
    "\n",
    "from tqdm import tqdm#%%\n",
    "!pip install segmentation-models-pytorch\n",
    "!pip install -U git+https://github.com/albumentations-team/albumentations\n",
    "!pip install --upgrade opencv-contrib-python"
   ],
   "metadata": {
    "collapsed": false
   }
  },
  {
   "cell_type": "code",
   "execution_count": null,
   "outputs": [],
   "source": [
    "!git clone https://github.com/parth1620/Person-Re-Id-Dataset"
   ],
   "metadata": {
    "collapsed": false
   }
  },
  {
   "cell_type": "code",
   "execution_count": null,
   "outputs": [],
   "source": [
    "import sys\n",
    "sys.path.append('/content/Person-Re-Id-Dataset')\n",
    "import pandas as pd\n",
    "import numpy as np\n",
    "import matplotlib.pyplot as plt\n",
    "import torch\n",
    "import timm\n",
    "\n",
    "import torch.nn.functional as F\n",
    "from torch import nn\n",
    "from torch.utils.data import Dataset, DataLoader\n",
    "\n",
    "from skimage import io\n",
    "from sklearn.model_selection import train_test_split\n",
    "\n",
    "from tqdm import tqdm"
   ],
   "metadata": {
    "collapsed": false
   }
  },
  {
   "cell_type": "code",
   "execution_count": null,
   "outputs": [],
   "source": [
    "DATA_DIR = 'Person-Re-Id-Dataset/train/'\n",
    "CSV_FILE = 'Person-Re-Id-Dataset/train.csv'\n",
    "\n",
    "BATCH_SIZE = 32\n",
    "LR = 0.001\n",
    "EPOCHS =15\n",
    "\n",
    "device = 'cuda'"
   ],
   "metadata": {
    "collapsed": false
   }
  },
  {
   "cell_type": "code",
   "execution_count": null,
   "outputs": [],
   "source": [
    "df = pd.read_csv(CSV_FILE)\n",
    "df.head()"
   ],
   "metadata": {
    "collapsed": false
   }
  },
  {
   "cell_type": "code",
   "execution_count": null,
   "outputs": [],
   "source": [
    "row = df.iloc[114]\n",
    "A_img = io.imread(DATA_DIR + row.Anchor)\n",
    "N_img = io.imread(DATA_DIR + row.Negative)\n",
    "P_img = io.imread(DATA_DIR + row.Positive)"
   ],
   "metadata": {
    "collapsed": false
   }
  },
  {
   "cell_type": "code",
   "execution_count": null,
   "outputs": [],
   "source": [
    "f, (ax1, ax2, ax3) = plt.subplots(1,3, figsize = (10,5))\n",
    "ax1.set_title('Anchor')\n",
    "ax1.imshow(A_img)\n",
    "\n",
    "ax2.set_title('Positive')\n",
    "ax2.imshow(P_img)\n",
    "\n",
    "ax3.set_title('Negative')\n",
    "ax3.imshow(N_img)"
   ],
   "metadata": {
    "collapsed": false
   }
  },
  {
   "cell_type": "code",
   "execution_count": null,
   "outputs": [],
   "source": [
    "train_df, valid_df = train_test_split(df, test_size = 0.2, random_state = 42)"
   ],
   "metadata": {
    "collapsed": false
   }
  },
  {
   "cell_type": "code",
   "execution_count": null,
   "outputs": [],
   "source": [
    "B_img = torch.from_numpy(P_img).permute(2,0,1)\n",
    "B_img.shape"
   ],
   "metadata": {
    "collapsed": false
   }
  },
  {
   "cell_type": "code",
   "execution_count": null,
   "outputs": [],
   "source": [
    "class APN_Dataset(Dataset):\n",
    "\n",
    "    def __init__(self, df) :\n",
    "        self.df = df\n",
    "\n",
    "    def __len__(self) :\n",
    "        return len(self.df)\n",
    "\n",
    "    def __getitem__(self, idx):\n",
    "        row = self.df.iloc[idx]\n",
    "\n",
    "        A_img = io.imread(DATA_DIR + row.Anchor)\n",
    "        N_img = io.imread(DATA_DIR + row.Negative)\n",
    "        P_img = io.imread(DATA_DIR + row.Positive)\n",
    "\n",
    "        A_img = torch.from_numpy(A_img).permute(2,0,1) / 255.0\n",
    "        P_img = torch.from_numpy(P_img).permute(2,0,1) / 255.0\n",
    "        N_img = torch.from_numpy(N_img).permute(2,0,1) / 255.0\n",
    "\n",
    "\n",
    "        return A_img, P_img, N_img"
   ],
   "metadata": {
    "collapsed": false
   }
  },
  {
   "cell_type": "code",
   "execution_count": null,
   "outputs": [],
   "source": [
    "trainset = APN_Dataset(train_df)\n",
    "validset = APN_Dataset(valid_df)\n",
    "\n",
    "print(f\"size of trainset: {len(trainset)}\")\n",
    "print(f\"size of validset: {len(validset)}\")"
   ],
   "metadata": {
    "collapsed": false
   }
  },
  {
   "cell_type": "code",
   "execution_count": null,
   "outputs": [],
   "source": [
    "idx = 40\n",
    "A,P,N = trainset[idx]\n",
    "\n",
    "f, (ax1, ax2, ax3) = plt.subplots(1,3,figsize= (10,5))\n",
    "\n",
    "ax1.set_title('Anchor')\n",
    "ax1.imshow(A.numpy().transpose((1,2,0)), cmap = 'gray')\n",
    "\n",
    "ax2.set_title('Positive')\n",
    "ax2.imshow(P.numpy().transpose((1,2,0)), cmap = 'gray')\n",
    "\n",
    "ax3.set_title('Negative')\n",
    "ax3.imshow(N.numpy().transpose((1,2,0)), cmap = 'gray')"
   ],
   "metadata": {
    "collapsed": false
   }
  },
  {
   "cell_type": "code",
   "execution_count": null,
   "outputs": [],
   "source": [
    "trainloader = DataLoader(trainset, batch_size = BATCH_SIZE, shuffle = True)\n",
    "validloader = DataLoader(validset, batch_size = BATCH_SIZE, shuffle = True)"
   ],
   "metadata": {
    "collapsed": false
   }
  },
  {
   "cell_type": "code",
   "execution_count": null,
   "outputs": [],
   "source": [
    "print(f\"No. of batches in trainloader : {len(trainloader)}\")\n",
    "print(f\"No. of batches in validloader : {len(validloader)}\")"
   ],
   "metadata": {
    "collapsed": false
   }
  },
  {
   "cell_type": "code",
   "execution_count": null,
   "outputs": [],
   "source": [
    "A,P,N = next(iter(trainloader))\n",
    "\n",
    "print(f\"One image batch shape : {P.shape}\")"
   ],
   "metadata": {
    "collapsed": false
   }
  },
  {
   "cell_type": "code",
   "execution_count": null,
   "outputs": [],
   "source": [
    "class APN_Model(nn.Module):\n",
    "    def __init__(self, emb_size = 512) :\n",
    "        super(APN_Model, self).__init__()\n",
    "\n",
    "        self.efficientnet = timm.create_model('efficientnet_b0', pretrained = True)\n",
    "        self.efficientnet.classifier = nn.Linear(in_features = self.efficientnet.classifier.in_features, out_features = emb_size)\n",
    "\n",
    "\n",
    "    def forward(self, images) :\n",
    "        embeddings = self.efficientnet(images)\n",
    "        return embeddings"
   ],
   "metadata": {
    "collapsed": false
   }
  },
  {
   "cell_type": "code",
   "execution_count": null,
   "outputs": [],
   "source": [
    "model = APN_Model()\n",
    "model.to(device)"
   ],
   "metadata": {
    "collapsed": false
   }
  },
  {
   "cell_type": "code",
   "execution_count": null,
   "outputs": [],
   "source": [
    "def train_fn(model, dataloader, optimizer, criterion):\n",
    "    model.train()\n",
    "    total_loss = 0.0\n",
    "\n",
    "    for A,P,N in tqdm(dataloader):\n",
    "        A,P,N = A.to(device),P.to(device),N.to(device)\n",
    "        A_embs = model(A)\n",
    "        P_embs = model(P)\n",
    "        N_embs = model(N)\n",
    "\n",
    "        loss = criterion(A_embs, P_embs, N_embs)\n",
    "\n",
    "        optimizer.zero_grad()\n",
    "\n",
    "        loss.backward()\n",
    "\n",
    "        optimizer.step()\n",
    "\n",
    "        total_loss +=loss.item()\n",
    "\n",
    "    return total_loss / len(dataloader)"
   ],
   "metadata": {
    "collapsed": false
   }
  },
  {
   "cell_type": "code",
   "execution_count": null,
   "outputs": [],
   "source": [
    "def eval_fn(model, dataloader, criterion):\n",
    "    model.eval()\n",
    "    total_loss = 0.0\n",
    "\n",
    "    with torch.no_grad() :\n",
    "\n",
    "        for A,P,N in tqdm(dataloader):\n",
    "            A,P,N = A.to(device),P.to(device),N.to(device)\n",
    "            A_embs = model(A)\n",
    "            P_embs = model(P)\n",
    "            N_embs = model(N)\n",
    "\n",
    "            loss = criterion(A_embs, P_embs, N_embs)\n",
    "\n",
    "            total_loss +=loss.item()\n",
    "\n",
    "        return total_loss / len(dataloader)"
   ],
   "metadata": {
    "collapsed": false
   }
  },
  {
   "cell_type": "code",
   "execution_count": null,
   "outputs": [],
   "source": [
    "criterion = nn.TripletMarginLoss()\n",
    "optimizer = torch.optim.Adam(model.parameters(), lr = LR)"
   ],
   "metadata": {
    "collapsed": false
   }
  },
  {
   "cell_type": "code",
   "execution_count": null,
   "outputs": [],
   "source": [
    "best_valid_loss = np.Inf\n",
    "\n",
    "for i in range(EPOCHS) :\n",
    "    train_loss = train_fn(model, trainloader, optimizer, criterion)\n",
    "    valid_loss = eval_fn(model, validloader, criterion)\n",
    "\n",
    "    if valid_loss < best_valid_loss :\n",
    "        torch.save(model.state_dict(), 'best_model.pt')\n",
    "        best_valid_loss = valid_loss\n",
    "        print('SAVED WEIGHTS SUCCESS')\n",
    "\n",
    "    print(f\"EPOCHS : {i+1} train_loss : {train_loss}\")"
   ],
   "metadata": {
    "collapsed": false
   }
  },
  {
   "cell_type": "code",
   "execution_count": null,
   "outputs": [],
   "source": [
    "def get_encoding_csv(model, anc_img_names):\n",
    "    anc_img_names_arr = np.array(anc_img_names)\n",
    "    encodings = []\n",
    "\n",
    "    model.eval()\n",
    "\n",
    "    with torch.no_grad() :\n",
    "        for i in tqdm(anc_img_names_arr):\n",
    "            A = io.imread(DATA_DIR + i)\n",
    "            A = torch.from_numpy(A).permute(2,0,1) / 255.0\n",
    "            A = A.to(device)\n",
    "            A_enc = model(A.unsqueeze(0))\n",
    "            encodings.append(A_enc.squeeze().cpu().detach().numpy())\n",
    "\n",
    "        encodings = np.array(encodings)\n",
    "        encodings = pd.DataFrame(encodings)\n",
    "        df_enc = pd.concat([anc_img_names, encodings], axis = 1)\n",
    "\n",
    "    return df_enc"
   ],
   "metadata": {
    "collapsed": false
   }
  },
  {
   "cell_type": "code",
   "execution_count": null,
   "outputs": [],
   "source": [
    "model.load_state_dict(torch.load('best_model.pt'))"
   ],
   "metadata": {
    "collapsed": false
   }
  },
  {
   "cell_type": "code",
   "execution_count": null,
   "outputs": [],
   "source": [
    "df_enc = get_encoding_csv(model, df['Anchor'])"
   ],
   "metadata": {
    "collapsed": false
   }
  },
  {
   "cell_type": "code",
   "execution_count": null,
   "outputs": [],
   "source": [
    "df_enc.to_csv('database.csv', index = False)\n",
    "df_enc.head()"
   ],
   "metadata": {
    "collapsed": false
   }
  },
  {
   "cell_type": "code",
   "execution_count": null,
   "outputs": [],
   "source": [
    "def euclidian_dist(img_enc, anc_enc_arr):\n",
    "    dist = np.sqrt(np.dot(img_enc-anc_enc_arr, (img_enc - anc_enc_arr).T))\n",
    "    return dist#%%\n",
    "!pip install segmentation-models-pytorch\n",
    "!pip install -U git+https://github.com/albumentations-team/albumentations\n",
    "!pip install --upgrade opencv-contrib-python"
   ],
   "metadata": {
    "collapsed": false
   }
  },
  {
   "cell_type": "code",
   "execution_count": null,
   "outputs": [],
   "source": [
    "!git clone https://github.com/parth1620/Person-Re-Id-Dataset"
   ],
   "metadata": {
    "collapsed": false
   }
  },
  {
   "cell_type": "code",
   "execution_count": null,
   "outputs": [],
   "source": [
    "import sys\n",
    "sys.path.append('/content/Person-Re-Id-Dataset')\n",
    "import pandas as pd\n",
    "import numpy as np\n",
    "import matplotlib.pyplot as plt\n",
    "import torch\n",
    "import timm\n",
    "\n",
    "import torch.nn.functional as F\n",
    "from torch import nn\n",
    "from torch.utils.data import Dataset, DataLoader\n",
    "\n",
    "from skimage import io\n",
    "from sklearn.model_selection import train_test_split\n",
    "\n",
    "from tqdm import tqdm#%%\n",
    "!pip install segmentation-models-pytorch\n",
    "!pip install -U git+https://github.com/albumentations-team/albumentations\n",
    "!pip install --upgrade opencv-contrib-python"
   ],
   "metadata": {
    "collapsed": false
   }
  },
  {
   "cell_type": "code",
   "execution_count": null,
   "outputs": [],
   "source": [
    "!git clone https://github.com/parth1620/Person-Re-Id-Dataset"
   ],
   "metadata": {
    "collapsed": false
   }
  },
  {
   "cell_type": "code",
   "execution_count": null,
   "outputs": [],
   "source": [
    "import sys\n",
    "sys.path.append('/content/Person-Re-Id-Dataset')\n",
    "import pandas as pd\n",
    "import numpy as np\n",
    "import matplotlib.pyplot as plt\n",
    "import torch\n",
    "import timm\n",
    "\n",
    "import torch.nn.functional as F\n",
    "from torch import nn\n",
    "from torch.utils.data import Dataset, DataLoader\n",
    "\n",
    "from skimage import io\n",
    "from sklearn.model_selection import train_test_split\n",
    "\n",
    "from tqdm import tqdm"
   ],
   "metadata": {
    "collapsed": false
   }
  },
  {
   "cell_type": "code",
   "execution_count": null,
   "outputs": [],
   "source": [
    "DATA_DIR = 'Person-Re-Id-Dataset/train/'\n",
    "CSV_FILE = 'Person-Re-Id-Dataset/train.csv'\n",
    "\n",
    "BATCH_SIZE = 32\n",
    "LR = 0.001\n",
    "EPOCHS =15\n",
    "\n",
    "device = 'cuda'"
   ],
   "metadata": {
    "collapsed": false
   }
  },
  {
   "cell_type": "code",
   "execution_count": null,
   "outputs": [],
   "source": [
    "df = pd.read_csv(CSV_FILE)\n",
    "df.head()"
   ],
   "metadata": {
    "collapsed": false
   }
  },
  {
   "cell_type": "code",
   "execution_count": null,
   "outputs": [],
   "source": [
    "row = df.iloc[114]\n",
    "A_img = io.imread(DATA_DIR + row.Anchor)\n",
    "N_img = io.imread(DATA_DIR + row.Negative)\n",
    "P_img = io.imread(DATA_DIR + row.Positive)"
   ],
   "metadata": {
    "collapsed": false
   }
  },
  {
   "cell_type": "code",
   "execution_count": null,
   "outputs": [],
   "source": [
    "f, (ax1, ax2, ax3) = plt.subplots(1,3, figsize = (10,5))\n",
    "ax1.set_title('Anchor')\n",
    "ax1.imshow(A_img)\n",
    "\n",
    "ax2.set_title('Positive')\n",
    "ax2.imshow(P_img)\n",
    "\n",
    "ax3.set_title('Negative')\n",
    "ax3.imshow(N_img)"
   ],
   "metadata": {
    "collapsed": false
   }
  },
  {
   "cell_type": "code",
   "execution_count": null,
   "outputs": [],
   "source": [
    "train_df, valid_df = train_test_split(df, test_size = 0.2, random_state = 42)"
   ],
   "metadata": {
    "collapsed": false
   }
  },
  {
   "cell_type": "code",
   "execution_count": null,
   "outputs": [],
   "source": [
    "B_img = torch.from_numpy(P_img).permute(2,0,1)\n",
    "B_img.shape"
   ],
   "metadata": {
    "collapsed": false
   }
  },
  {
   "cell_type": "code",
   "execution_count": null,
   "outputs": [],
   "source": [
    "class APN_Dataset(Dataset):\n",
    "\n",
    "    def __init__(self, df) :\n",
    "        self.df = df\n",
    "\n",
    "    def __len__(self) :\n",
    "        return len(self.df)\n",
    "\n",
    "    def __getitem__(self, idx):\n",
    "        row = self.df.iloc[idx]\n",
    "\n",
    "        A_img = io.imread(DATA_DIR + row.Anchor)\n",
    "        N_img = io.imread(DATA_DIR + row.Negative)\n",
    "        P_img = io.imread(DATA_DIR + row.Positive)\n",
    "\n",
    "        A_img = torch.from_numpy(A_img).permute(2,0,1) / 255.0\n",
    "        P_img = torch.from_numpy(P_img).permute(2,0,1) / 255.0\n",
    "        N_img = torch.from_numpy(N_img).permute(2,0,1) / 255.0\n",
    "\n",
    "\n",
    "        return A_img, P_img, N_img"
   ],
   "metadata": {
    "collapsed": false
   }
  },
  {
   "cell_type": "code",
   "execution_count": null,
   "outputs": [],
   "source": [
    "trainset = APN_Dataset(train_df)\n",
    "validset = APN_Dataset(valid_df)\n",
    "\n",
    "print(f\"size of trainset: {len(trainset)}\")\n",
    "print(f\"size of validset: {len(validset)}\")"
   ],
   "metadata": {
    "collapsed": false
   }
  },
  {
   "cell_type": "code",
   "execution_count": null,
   "outputs": [],
   "source": [
    "idx = 40\n",
    "A,P,N = trainset[idx]\n",
    "\n",
    "f, (ax1, ax2, ax3) = plt.subplots(1,3,figsize= (10,5))\n",
    "\n",
    "ax1.set_title('Anchor')\n",
    "ax1.imshow(A.numpy().transpose((1,2,0)), cmap = 'gray')\n",
    "\n",
    "ax2.set_title('Positive')\n",
    "ax2.imshow(P.numpy().transpose((1,2,0)), cmap = 'gray')\n",
    "\n",
    "ax3.set_title('Negative')\n",
    "ax3.imshow(N.numpy().transpose((1,2,0)), cmap = 'gray')"
   ],
   "metadata": {
    "collapsed": false
   }
  },
  {
   "cell_type": "code",
   "execution_count": null,
   "outputs": [],
   "source": [
    "trainloader = DataLoader(trainset, batch_size = BATCH_SIZE, shuffle = True)\n",
    "validloader = DataLoader(validset, batch_size = BATCH_SIZE, shuffle = True)"
   ],
   "metadata": {
    "collapsed": false
   }
  },
  {
   "cell_type": "code",
   "execution_count": null,
   "outputs": [],
   "source": [
    "print(f\"No. of batches in trainloader : {len(trainloader)}\")\n",
    "print(f\"No. of batches in validloader : {len(validloader)}\")"
   ],
   "metadata": {
    "collapsed": false
   }
  },
  {
   "cell_type": "code",
   "execution_count": null,
   "outputs": [],
   "source": [
    "A,P,N = next(iter(trainloader))\n",
    "\n",
    "print(f\"One image batch shape : {P.shape}\")"
   ],
   "metadata": {
    "collapsed": false
   }
  },
  {
   "cell_type": "code",
   "execution_count": null,
   "outputs": [],
   "source": [
    "class APN_Model(nn.Module):\n",
    "    def __init__(self, emb_size = 512) :\n",
    "        super(APN_Model, self).__init__()\n",
    "\n",
    "        self.efficientnet = timm.create_model('efficientnet_b0', pretrained = True)\n",
    "        self.efficientnet.classifier = nn.Linear(in_features = self.efficientnet.classifier.in_features, out_features = emb_size)\n",
    "\n",
    "\n",
    "    def forward(self, images) :\n",
    "        embeddings = self.efficientnet(images)\n",
    "        return embeddings"
   ],
   "metadata": {
    "collapsed": false
   }
  },
  {
   "cell_type": "code",
   "execution_count": null,
   "outputs": [],
   "source": [
    "model = APN_Model()\n",
    "model.to(device)"
   ],
   "metadata": {
    "collapsed": false
   }
  },
  {
   "cell_type": "code",
   "execution_count": null,
   "outputs": [],
   "source": [
    "def train_fn(model, dataloader, optimizer, criterion):\n",
    "    model.train()\n",
    "    total_loss = 0.0\n",
    "\n",
    "    for A,P,N in tqdm(dataloader):\n",
    "        A,P,N = A.to(device),P.to(device),N.to(device)\n",
    "        A_embs = model(A)\n",
    "        P_embs = model(P)\n",
    "        N_embs = model(N)\n",
    "\n",
    "        loss = criterion(A_embs, P_embs, N_embs)\n",
    "\n",
    "        optimizer.zero_grad()\n",
    "\n",
    "        loss.backward()\n",
    "\n",
    "        optimizer.step()\n",
    "\n",
    "        total_loss +=loss.item()\n",
    "\n",
    "    return total_loss / len(dataloader)"
   ],
   "metadata": {
    "collapsed": false
   }
  },
  {
   "cell_type": "code",
   "execution_count": null,
   "outputs": [],
   "source": [
    "def eval_fn(model, dataloader, criterion):\n",
    "    model.eval()\n",
    "    total_loss = 0.0\n",
    "\n",
    "    with torch.no_grad() :\n",
    "\n",
    "        for A,P,N in tqdm(dataloader):\n",
    "            A,P,N = A.to(device),P.to(device),N.to(device)\n",
    "            A_embs = model(A)\n",
    "            P_embs = model(P)\n",
    "            N_embs = model(N)\n",
    "\n",
    "            loss = criterion(A_embs, P_embs, N_embs)\n",
    "\n",
    "            total_loss +=loss.item()\n",
    "\n",
    "        return total_loss / len(dataloader)"
   ],
   "metadata": {
    "collapsed": false
   }
  },
  {
   "cell_type": "code",
   "execution_count": null,
   "outputs": [],
   "source": [
    "criterion = nn.TripletMarginLoss()\n",
    "optimizer = torch.optim.Adam(model.parameters(), lr = LR)"
   ],
   "metadata": {
    "collapsed": false
   }
  },
  {
   "cell_type": "code",
   "execution_count": null,
   "outputs": [],
   "source": [
    "best_valid_loss = np.Inf\n",
    "\n",
    "for i in range(EPOCHS) :\n",
    "    train_loss = train_fn(model, trainloader, optimizer, criterion)\n",
    "    valid_loss = eval_fn(model, validloader, criterion)\n",
    "\n",
    "    if valid_loss < best_valid_loss :\n",
    "        torch.save(model.state_dict(), 'best_model.pt')\n",
    "        best_valid_loss = valid_loss\n",
    "        print('SAVED WEIGHTS SUCCESS')\n",
    "\n",
    "    print(f\"EPOCHS : {i+1} train_loss : {train_loss}\")"
   ],
   "metadata": {
    "collapsed": false
   }
  },
  {
   "cell_type": "code",
   "execution_count": null,
   "outputs": [],
   "source": [
    "def get_encoding_csv(model, anc_img_names):\n",
    "    anc_img_names_arr = np.array(anc_img_names)\n",
    "    encodings = []\n",
    "\n",
    "    model.eval()\n",
    "\n",
    "    with torch.no_grad() :\n",
    "        for i in tqdm(anc_img_names_arr):\n",
    "            A = io.imread(DATA_DIR + i)\n",
    "            A = torch.from_numpy(A).permute(2,0,1) / 255.0\n",
    "            A = A.to(device)\n",
    "            A_enc = model(A.unsqueeze(0))\n",
    "            encodings.append(A_enc.squeeze().cpu().detach().numpy())\n",
    "\n",
    "        encodings = np.array(encodings)\n",
    "        encodings = pd.DataFrame(encodings)\n",
    "        df_enc = pd.concat([anc_img_names, encodings], axis = 1)\n",
    "\n",
    "    return df_enc"
   ],
   "metadata": {
    "collapsed": false
   }
  },
  {
   "cell_type": "code",
   "execution_count": null,
   "outputs": [],
   "source": [
    "model.load_state_dict(torch.load('best_model.pt'))"
   ],
   "metadata": {
    "collapsed": false
   }
  },
  {
   "cell_type": "code",
   "execution_count": null,
   "outputs": [],
   "source": [
    "df_enc = get_encoding_csv(model, df['Anchor'])"
   ],
   "metadata": {
    "collapsed": false
   }
  },
  {
   "cell_type": "code",
   "execution_count": null,
   "outputs": [],
   "source": [
    "df_enc.to_csv('database.csv', index = False)\n",
    "df_enc.head()"
   ],
   "metadata": {
    "collapsed": false
   }
  },
  {
   "cell_type": "code",
   "execution_count": null,
   "outputs": [],
   "source": [
    "def euclidian_dist(img_enc, anc_enc_arr):\n",
    "    dist = np.sqrt(np.dot(img_enc-anc_enc_arr, (img_enc - anc_enc_arr).T))\n",
    "    return dist"
   ],
   "metadata": {
    "collapsed": false
   }
  },
  {
   "cell_type": "code",
   "execution_count": null,
   "outputs": [],
   "source": [
    "idx = 23\n",
    "img_name = df_enc['Anchor'].iloc[idx]\n",
    "img_path = DATA_DIR + img_name\n",
    "\n",
    "img = io.imread(img_path)\n",
    "img = torch.from_numpy(img).permute(2,0,1) / 255.\n",
    "\n",
    "model.eval()\n",
    "\n",
    "with torch.no_grad():\n",
    "    img = img.to(device)\n",
    "    img_enc = model(img.unsqueeze(0))\n",
    "    img_enc = img_enc.detach().cpu().numpy()"
   ],
   "metadata": {
    "collapsed": false
   }
  },
  {
   "cell_type": "code",
   "execution_count": null,
   "outputs": [],
   "source": [
    "anc_enc_arr = df_enc.iloc[:, 1:]\n",
    "anc_img_names = df_enc['Anchor']"
   ],
   "metadata": {
    "collapsed": false
   }
  },
  {
   "cell_type": "code",
   "execution_count": null,
   "outputs": [],
   "source": [
    "distance = []\n",
    "for i in range(anc_enc_arr.shape[0]):\n",
    "    dist = euclidian_dist(img_enc, anc_enc_arr.iloc[i : i + 1, :])\n",
    "    distance = np.append(distance, dist)"
   ],
   "metadata": {
    "collapsed": false
   }
  },
  {
   "cell_type": "code",
   "execution_count": null,
   "outputs": [],
   "source": [
    "closest_idx = np.argsort(distance)"
   ],
   "metadata": {
    "collapsed": false
   }
  },
  {
   "cell_type": "code",
   "execution_count": null,
   "outputs": [],
   "source": [
    "closest_idx = np.argsort(distance)"
   ],
   "metadata": {
    "collapsed": false
   }
  },
  {
   "cell_type": "code",
   "execution_count": null,
   "outputs": [],
   "source": [],
   "metadata": {
    "collapsed": false
   }
  }
 ],
 "metadata": {
  "kernelspec": {
   "display_name": "Python 3",
   "language": "python",
   "name": "python3"
  },
  "language_info": {
   "codemirror_mode": {
    "name": "ipython",
    "version": 2
   },
   "file_extension": ".py",
   "mimetype": "text/x-python",
   "name": "python",
   "nbconvert_exporter": "python",
   "pygments_lexer": "ipython2",
   "version": "2.7.6"
  }
 },
 "nbformat": 4,
 "nbformat_minor": 0
}
