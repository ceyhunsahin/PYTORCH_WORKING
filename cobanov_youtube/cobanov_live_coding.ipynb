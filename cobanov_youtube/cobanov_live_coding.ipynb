{
 "cells": [
  {
   "cell_type": "code",
   "execution_count": 1,
   "metadata": {
    "collapsed": true
   },
   "outputs": [
    {
     "data": {
      "text/plain": "torch.Size([1, 1000])"
     },
     "execution_count": 1,
     "metadata": {},
     "output_type": "execute_result"
    }
   ],
   "source": [
    "import os\n",
    "\n",
    "import timm\n",
    "import torch\n",
    "\n",
    "model = timm.create_model('resnet34')\n",
    "x     = torch.randn(1, 3, 224, 224)\n",
    "model(x).shape"
   ]
  },
  {
   "cell_type": "code",
   "execution_count": 2,
   "outputs": [],
   "source": [
    "import timm\n",
    "import torch\n",
    "import repl\n",
    "from PIL import Image"
   ],
   "metadata": {
    "collapsed": false
   }
  },
  {
   "cell_type": "code",
   "execution_count": 3,
   "outputs": [],
   "source": [
    "model = timm.create_model('resnet34', pretrained=True)"
   ],
   "metadata": {
    "collapsed": false
   }
  },
  {
   "cell_type": "code",
   "execution_count": 4,
   "outputs": [],
   "source": [
    "#img = Image.open('./root/images/0.jpg').convert('RGB')\n",
    "#img"
   ],
   "metadata": {
    "collapsed": false
   }
  },
  {
   "cell_type": "code",
   "execution_count": 5,
   "outputs": [],
   "source": [
    "#img.size"
   ],
   "metadata": {
    "collapsed": false
   }
  },
  {
   "cell_type": "code",
   "execution_count": 13,
   "outputs": [],
   "source": [
    "from torchvision import datasets, transforms\n",
    "\n",
    "transform = transforms.Compose([transforms.Resize((224,224)),transforms.ToTensor(),\n",
    "\n",
    "                                transforms.Normalize(mean=[0.485, 0.456, 0.406], std=[0.229, 0.224, 0.225]),\n",
    "                                ])\n",
    "\n",
    "# define an image dataset\n",
    "\n",
    "image_dataset = datasets.ImageFolder(root='./root', transform=transform)"
   ],
   "metadata": {
    "collapsed": false
   }
  },
  {
   "cell_type": "code",
   "execution_count": 14,
   "outputs": [
    {
     "data": {
      "text/plain": "(tensor([[[2.2489, 2.2489, 2.2489,  ..., 2.2489, 2.2489, 2.2489],\n          [2.2489, 2.2489, 2.2489,  ..., 2.2489, 2.2489, 2.2489],\n          [2.2489, 2.2489, 2.2489,  ..., 2.2489, 2.2489, 2.2489],\n          ...,\n          [2.2489, 2.2489, 2.2489,  ..., 2.2489, 2.2489, 2.2489],\n          [2.2489, 2.2489, 2.2489,  ..., 2.2489, 2.2489, 2.2489],\n          [2.2489, 2.2489, 2.2489,  ..., 2.2489, 2.2489, 2.2489]],\n \n         [[2.4286, 2.4286, 2.4286,  ..., 2.4286, 2.4286, 2.4286],\n          [2.4286, 2.4286, 2.4286,  ..., 2.4286, 2.4286, 2.4286],\n          [2.4286, 2.4286, 2.4286,  ..., 2.4286, 2.4286, 2.4286],\n          ...,\n          [2.4286, 2.4286, 2.4286,  ..., 2.4286, 2.4286, 2.4286],\n          [2.4286, 2.4286, 2.4286,  ..., 2.4286, 2.4286, 2.4286],\n          [2.4286, 2.4286, 2.4286,  ..., 2.4286, 2.4286, 2.4286]],\n \n         [[2.6400, 2.6400, 2.6400,  ..., 2.6400, 2.6400, 2.6400],\n          [2.6400, 2.6400, 2.6400,  ..., 2.6400, 2.6400, 2.6400],\n          [2.6400, 2.6400, 2.6400,  ..., 2.6400, 2.6400, 2.6400],\n          ...,\n          [2.6400, 2.6400, 2.6400,  ..., 2.6400, 2.6400, 2.6400],\n          [2.6400, 2.6400, 2.6400,  ..., 2.6400, 2.6400, 2.6400],\n          [2.6400, 2.6400, 2.6400,  ..., 2.6400, 2.6400, 2.6400]]]),\n 0)"
     },
     "execution_count": 14,
     "metadata": {},
     "output_type": "execute_result"
    }
   ],
   "source": [
    "image_dataset[0]"
   ],
   "metadata": {
    "collapsed": false
   }
  },
  {
   "cell_type": "code",
   "execution_count": 15,
   "outputs": [],
   "source": [
    "# define the dataloader to load that single image\n",
    "from torch.utils import data\n",
    "dataloader = data.DataLoader(dataset=image_dataset, shuffle=False, batch_size=8)"
   ],
   "metadata": {
    "collapsed": false
   }
  },
  {
   "cell_type": "code",
   "execution_count": 16,
   "outputs": [
    {
     "data": {
      "text/plain": "[tensor([[[[ 2.2489,  2.2489,  2.2489,  ...,  2.2489,  2.2489,  2.2489],\n           [ 2.2489,  2.2489,  2.2489,  ...,  2.2489,  2.2489,  2.2489],\n           [ 2.2489,  2.2489,  2.2489,  ...,  2.2489,  2.2489,  2.2489],\n           ...,\n           [ 2.2489,  2.2489,  2.2489,  ...,  2.2489,  2.2489,  2.2489],\n           [ 2.2489,  2.2489,  2.2489,  ...,  2.2489,  2.2489,  2.2489],\n           [ 2.2489,  2.2489,  2.2489,  ...,  2.2489,  2.2489,  2.2489]],\n \n          [[ 2.4286,  2.4286,  2.4286,  ...,  2.4286,  2.4286,  2.4286],\n           [ 2.4286,  2.4286,  2.4286,  ...,  2.4286,  2.4286,  2.4286],\n           [ 2.4286,  2.4286,  2.4286,  ...,  2.4286,  2.4286,  2.4286],\n           ...,\n           [ 2.4286,  2.4286,  2.4286,  ...,  2.4286,  2.4286,  2.4286],\n           [ 2.4286,  2.4286,  2.4286,  ...,  2.4286,  2.4286,  2.4286],\n           [ 2.4286,  2.4286,  2.4286,  ...,  2.4286,  2.4286,  2.4286]],\n \n          [[ 2.6400,  2.6400,  2.6400,  ...,  2.6400,  2.6400,  2.6400],\n           [ 2.6400,  2.6400,  2.6400,  ...,  2.6400,  2.6400,  2.6400],\n           [ 2.6400,  2.6400,  2.6400,  ...,  2.6400,  2.6400,  2.6400],\n           ...,\n           [ 2.6400,  2.6400,  2.6400,  ...,  2.6400,  2.6400,  2.6400],\n           [ 2.6400,  2.6400,  2.6400,  ...,  2.6400,  2.6400,  2.6400],\n           [ 2.6400,  2.6400,  2.6400,  ...,  2.6400,  2.6400,  2.6400]]],\n \n \n         [[[-0.9877, -0.9877, -0.9877,  ...,  0.5707,  0.5364,  0.4508],\n           [-0.9877, -0.9877, -0.9877,  ...,  0.5878,  0.5364,  0.4679],\n           [-0.9705, -0.9705, -0.9705,  ...,  0.5878,  0.5536,  0.4851],\n           ...,\n           [-1.2103, -0.7993, -0.2856,  ...,  0.1939, -0.0629, -0.5938],\n           [-1.4500, -1.2103, -0.7993,  ..., -0.2342, -0.5424, -0.9877],\n           [-1.4500, -1.4158, -1.2274,  ..., -0.5938, -0.8849, -1.2274]],\n \n          [[-0.7402, -0.7402, -0.7402,  ..., -0.0574, -0.0924, -0.1800],\n           [-0.7402, -0.7402, -0.7402,  ..., -0.0224, -0.0924, -0.1625],\n           [-0.7227, -0.7227, -0.7227,  ..., -0.0049, -0.0574, -0.1275],\n           ...,\n           [-1.0203, -0.6702, -0.2500,  ..., -0.1800, -0.3200, -0.7927],\n           [-1.1253, -0.9678, -0.6877,  ..., -0.4601, -0.6352, -1.0203],\n           [-1.0728, -1.0903, -1.0203,  ..., -0.7227, -0.8978, -1.1604]],\n \n          [[-0.9330, -0.9330, -0.9330,  ..., -0.6541, -0.7238, -0.8110],\n           [-0.9330, -0.9330, -0.9330,  ..., -0.6367, -0.7064, -0.7936],\n           [-0.9156, -0.9156, -0.9156,  ..., -0.6193, -0.6890, -0.7761],\n           ...,\n           [-1.3687, -1.0201, -0.6541,  ..., -0.9678, -0.8807, -1.1421],\n           [-1.4384, -1.2990, -1.0376,  ..., -1.0201, -0.9156, -1.0550],\n           [-1.3339, -1.3861, -1.3861,  ..., -1.1247, -0.9853, -1.0027]]],\n \n \n         [[[ 1.5125,  1.8037,  1.4954,  ..., -0.9363, -1.9638, -1.9980],\n           [ 0.5193,  0.7762,  1.7865,  ...,  0.3138, -1.5528, -2.0837],\n           [ 0.2453, -0.0629,  1.3070,  ...,  0.9132, -0.4568, -1.9809],\n           ...,\n           [ 0.8276,  0.4679,  0.2796,  ...,  0.7419, -0.0116,  0.4851],\n           [ 0.2624,  0.6734,  0.6734,  ...,  0.0569,  0.0912,  0.3138],\n           [-0.2513,  0.6906,  0.6906,  ...,  0.0569,  0.3994,  0.1768]],\n \n          [[ 1.5182,  1.7983,  1.5532,  ..., -0.4076, -1.7731, -2.0007],\n           [ 0.5728,  0.8179,  1.8683,  ...,  0.8704, -1.3179, -2.0182],\n           [ 0.3452,  0.0651,  1.4482,  ...,  1.4657, -0.0924, -1.8081],\n           ...,\n           [ 1.4832,  1.0280,  0.7129,  ...,  1.3606,  0.5903,  1.0980],\n           [ 1.0280,  1.2731,  1.0980,  ...,  0.6779,  0.7129,  0.9230],\n           [ 0.5553,  1.3081,  1.0980,  ...,  0.6779,  1.0280,  0.8004]],\n \n          [[ 1.7163,  2.0474,  1.3677,  ..., -1.4733, -1.2816, -0.9156],\n           [ 0.5136,  0.7402,  1.5942,  ..., -0.3927, -1.3164, -1.3164],\n           [ 0.1825, -0.3404,  1.0191,  ...,  0.2696, -0.5147, -1.6302],\n           ...,\n           [-0.2532, -0.6018, -0.9504,  ..., -0.2707, -1.0027, -0.4275],\n           [-0.8807, -0.3230, -0.4624,  ..., -1.0201, -0.9504, -0.6890],\n           [-1.4733, -0.2532, -0.3927,  ..., -1.0550, -0.6715, -0.8807]]],\n \n \n         ...,\n \n \n         [[[ 2.2489,  2.2489,  2.2489,  ...,  2.2489,  2.2489,  2.2489],\n           [ 2.2489,  2.2489,  2.2489,  ...,  2.2489,  2.2489,  2.2489],\n           [ 2.2489,  2.2489,  2.2489,  ...,  2.2489,  2.2489,  2.2489],\n           ...,\n           [ 2.2489,  2.2489,  2.2489,  ...,  2.2489,  2.2489,  2.2489],\n           [ 2.2489,  2.2489,  2.2489,  ...,  2.2489,  2.2489,  2.2489],\n           [ 2.2489,  2.2489,  2.2489,  ...,  2.2489,  2.2489,  2.2489]],\n \n          [[ 2.4286,  2.4286,  2.4286,  ...,  2.4286,  2.4286,  2.4286],\n           [ 2.4286,  2.4286,  2.4286,  ...,  2.4286,  2.4286,  2.4286],\n           [ 2.4286,  2.4286,  2.4286,  ...,  2.4286,  2.4286,  2.4286],\n           ...,\n           [ 2.4286,  2.4286,  2.4286,  ...,  2.4286,  2.4286,  2.4286],\n           [ 2.4286,  2.4286,  2.4286,  ...,  2.4286,  2.4286,  2.4286],\n           [ 2.4286,  2.4286,  2.4286,  ...,  2.4286,  2.4286,  2.4286]],\n \n          [[ 2.6400,  2.6400,  2.6400,  ...,  2.6400,  2.6400,  2.6400],\n           [ 2.6400,  2.6400,  2.6400,  ...,  2.6400,  2.6400,  2.6400],\n           [ 2.6400,  2.6400,  2.6400,  ...,  2.6400,  2.6400,  2.6400],\n           ...,\n           [ 2.6400,  2.6400,  2.6400,  ...,  2.6400,  2.6400,  2.6400],\n           [ 2.6400,  2.6400,  2.6400,  ...,  2.6400,  2.6400,  2.6400],\n           [ 2.6400,  2.6400,  2.6400,  ...,  2.6400,  2.6400,  2.6400]]],\n \n \n         [[[ 1.4269,  1.4269,  1.4269,  ...,  1.1358,  1.1358,  1.1358],\n           [ 1.4269,  1.4269,  1.4269,  ...,  1.1358,  1.1358,  1.1358],\n           [ 1.4269,  1.4269,  1.4269,  ...,  1.1187,  1.1187,  1.1187],\n           ...,\n           [ 1.1529,  1.1529,  1.1529,  ..., -0.1143, -0.1314, -0.1486],\n           [ 1.1529,  1.1529,  1.1529,  ..., -0.0629, -0.0801, -0.0972],\n           [ 1.1529,  1.1529,  1.1529,  ..., -0.0458,  0.0056, -0.0116]],\n \n          [[ 2.0959,  2.0959,  2.0959,  ...,  1.8158,  1.8158,  1.8158],\n           [ 2.0959,  2.0959,  2.0959,  ...,  1.8158,  1.8158,  1.8158],\n           [ 2.0959,  2.0959,  2.0959,  ...,  1.7983,  1.7983,  1.7983],\n           ...,\n           [ 1.8508,  1.8333,  1.8333,  ...,  0.6779,  0.6604,  0.6604],\n           [ 1.8683,  1.8508,  1.8508,  ...,  0.6779,  0.6779,  0.6954],\n           [ 1.8683,  1.8508,  1.8508,  ...,  0.6779,  0.7479,  0.7654]],\n \n          [[ 2.4483,  2.4483,  2.4483,  ...,  2.2217,  2.2217,  2.2217],\n           [ 2.4483,  2.4483,  2.4483,  ...,  2.2217,  2.2217,  2.2217],\n           [ 2.4483,  2.4483,  2.4483,  ...,  2.2043,  2.2043,  2.2043],\n           ...,\n           [ 2.0997,  2.1694,  2.2391,  ..., -1.1421, -1.1596, -1.1596],\n           [ 2.0474,  2.1171,  2.2217,  ..., -1.1770, -1.1770, -1.1770],\n           [ 1.9951,  2.0648,  2.1868,  ..., -1.2293, -1.1770, -1.1770]]],\n \n \n         [[[-1.5014, -1.5014, -1.5014,  ..., -0.8849, -0.8849, -0.9020],\n           [-1.5014, -1.5014, -1.5014,  ...,  0.4508, -0.0801, -0.1828],\n           [-1.5014, -1.5014, -1.5014,  ...,  1.6838,  1.3755,  0.8276],\n           ...,\n           [-0.4739, -0.2856, -0.3883,  ..., -0.2513, -0.1999,  0.0398],\n           [-0.1999,  0.0227,  0.0398,  ..., -0.1486, -0.0287,  0.1768],\n           [-0.1486, -0.0801,  0.0741,  ..., -0.0801,  0.0912,  0.2453]],\n \n          [[-2.0007, -2.0007, -2.0007,  ..., -0.9328, -0.9503, -0.9328],\n           [-2.0007, -2.0007, -2.0007,  ..., -1.0203, -1.1429, -1.1779],\n           [-2.0007, -2.0007, -2.0007,  ..., -1.0728, -0.9678, -1.2304],\n           ...,\n           [-0.9153, -0.7402, -0.8978,  ..., -0.6702, -0.5826, -0.3375],\n           [-0.6352, -0.4776, -0.5301,  ..., -0.5651, -0.4251, -0.1975],\n           [-0.6001, -0.6176, -0.5476,  ..., -0.4951, -0.3025, -0.1450]],\n \n          [[-1.7522, -1.7522, -1.7522,  ..., -1.1770, -1.0550, -0.9504],\n           [-1.7522, -1.7522, -1.7522,  ..., -1.0898, -1.2293, -1.2119],\n           [-1.7522, -1.7522, -1.7522,  ..., -1.1770, -1.1073, -1.3687],\n           ...,\n           [-1.4559, -1.2641, -1.4036,  ..., -0.4973, -0.4275, -0.1835],\n           [-1.3861, -1.2119, -1.2641,  ..., -0.4101, -0.2707, -0.0267],\n           [-1.4559, -1.4559, -1.3861,  ..., -0.3230, -0.1312,  0.0431]]]]),\n tensor([0, 0, 0, 0, 0, 0, 0, 0])]"
     },
     "execution_count": 16,
     "metadata": {},
     "output_type": "execute_result"
    }
   ],
   "source": [
    "next(iter(dataloader))\n"
   ],
   "metadata": {
    "collapsed": false
   }
  },
  {
   "cell_type": "code",
   "execution_count": 25,
   "outputs": [
    {
     "name": "stderr",
     "output_type": "stream",
     "text": [
      "100%|██████████| 256/256 [01:08<00:00,  3.71it/s]\n"
     ]
    }
   ],
   "source": [
    "feature_embeddings = []\n",
    "from tqdm import tqdm\n",
    "with torch.no_grad():\n",
    "    for image, label in tqdm(dataloader):\n",
    "        embedding = model(image)\n",
    "        feature_embeddings.extend(embedding)"
   ],
   "metadata": {
    "collapsed": false
   }
  },
  {
   "cell_type": "code",
   "execution_count": 26,
   "outputs": [
    {
     "data": {
      "text/plain": "2046"
     },
     "execution_count": 26,
     "metadata": {},
     "output_type": "execute_result"
    }
   ],
   "source": [
    "len(feature_embeddings)"
   ],
   "metadata": {
    "collapsed": false
   }
  },
  {
   "cell_type": "code",
   "execution_count": 27,
   "outputs": [],
   "source": [
    " numpy_embeddings = [tensor_array.numpy() for tensor_array in feature_embeddings]"
   ],
   "metadata": {
    "collapsed": false
   }
  },
  {
   "cell_type": "code",
   "execution_count": 28,
   "outputs": [
    {
     "data": {
      "text/plain": "(1000,)"
     },
     "execution_count": 28,
     "metadata": {},
     "output_type": "execute_result"
    }
   ],
   "source": [
    "numpy_embeddings[0].shape"
   ],
   "metadata": {
    "collapsed": false
   }
  },
  {
   "cell_type": "code",
   "execution_count": 29,
   "outputs": [],
   "source": [
    "import numpy as np\n",
    "np_emb = np.vstack(numpy_embeddings)"
   ],
   "metadata": {
    "collapsed": false
   }
  },
  {
   "cell_type": "code",
   "execution_count": 30,
   "outputs": [
    {
     "data": {
      "text/plain": "[('./root/images/0.jpg', 0),\n ('./root/images/1002.jpg', 0),\n ('./root/images/1005.jpg', 0),\n ('./root/images/1008.jpg', 0),\n ('./root/images/1011.jpg', 0),\n ('./root/images/1014.jpg', 0),\n ('./root/images/1017.jpg', 0),\n ('./root/images/102.jpg', 0),\n ('./root/images/1020.jpg', 0),\n ('./root/images/1023.jpg', 0),\n ('./root/images/1026.jpg', 0),\n ('./root/images/1029.jpg', 0),\n ('./root/images/1032.jpg', 0),\n ('./root/images/1035.jpg', 0),\n ('./root/images/1038.jpg', 0),\n ('./root/images/1041.jpg', 0),\n ('./root/images/1044.jpg', 0),\n ('./root/images/1047.jpg', 0),\n ('./root/images/105.jpg', 0),\n ('./root/images/1050.jpg', 0),\n ('./root/images/1053.jpg', 0),\n ('./root/images/1056.jpg', 0),\n ('./root/images/1059.jpg', 0),\n ('./root/images/1062.jpg', 0),\n ('./root/images/1065.jpg', 0),\n ('./root/images/1068.jpg', 0),\n ('./root/images/1071.jpg', 0),\n ('./root/images/1074.jpg', 0),\n ('./root/images/1077.jpg', 0),\n ('./root/images/108.jpg', 0),\n ('./root/images/1080.jpg', 0),\n ('./root/images/1083.jpg', 0),\n ('./root/images/1086.jpg', 0),\n ('./root/images/1089.jpg', 0),\n ('./root/images/1092.jpg', 0),\n ('./root/images/1095.jpg', 0),\n ('./root/images/1098.jpg', 0),\n ('./root/images/1101.jpg', 0),\n ('./root/images/1104.jpg', 0),\n ('./root/images/1107.jpg', 0),\n ('./root/images/111.jpg', 0),\n ('./root/images/1110.jpg', 0),\n ('./root/images/1113.jpg', 0),\n ('./root/images/1116.jpg', 0),\n ('./root/images/1119.jpg', 0),\n ('./root/images/1122.jpg', 0),\n ('./root/images/1125.jpg', 0),\n ('./root/images/1128.jpg', 0),\n ('./root/images/1131.jpg', 0),\n ('./root/images/1134.jpg', 0),\n ('./root/images/1137.jpg', 0),\n ('./root/images/114.jpg', 0),\n ('./root/images/1140.jpg', 0),\n ('./root/images/1143.jpg', 0),\n ('./root/images/1146.jpg', 0),\n ('./root/images/1149.jpg', 0),\n ('./root/images/1152.jpg', 0),\n ('./root/images/1155.jpg', 0),\n ('./root/images/1158.jpg', 0),\n ('./root/images/1161.jpg', 0),\n ('./root/images/1164.jpg', 0),\n ('./root/images/1167.jpg', 0),\n ('./root/images/117.jpg', 0),\n ('./root/images/1170.jpg', 0),\n ('./root/images/1173.jpg', 0),\n ('./root/images/1176.jpg', 0),\n ('./root/images/1179.jpg', 0),\n ('./root/images/1182.jpg', 0),\n ('./root/images/1185.jpg', 0),\n ('./root/images/1188.jpg', 0),\n ('./root/images/1191.jpg', 0),\n ('./root/images/1194.jpg', 0),\n ('./root/images/1197.jpg', 0),\n ('./root/images/12.jpg', 0),\n ('./root/images/120.jpg', 0),\n ('./root/images/1200.jpg', 0),\n ('./root/images/1203.jpg', 0),\n ('./root/images/1206.jpg', 0),\n ('./root/images/1209.jpg', 0),\n ('./root/images/1212.jpg', 0),\n ('./root/images/1215.jpg', 0),\n ('./root/images/1218.jpg', 0),\n ('./root/images/1221.jpg', 0),\n ('./root/images/1224.jpg', 0),\n ('./root/images/1227.jpg', 0),\n ('./root/images/123.jpg', 0),\n ('./root/images/1230.jpg', 0),\n ('./root/images/1233.jpg', 0),\n ('./root/images/1236.jpg', 0),\n ('./root/images/1239.jpg', 0),\n ('./root/images/1242.jpg', 0),\n ('./root/images/1245.jpg', 0),\n ('./root/images/1248.jpg', 0),\n ('./root/images/1251.jpg', 0),\n ('./root/images/1254.jpg', 0),\n ('./root/images/1257.jpg', 0),\n ('./root/images/126.jpg', 0),\n ('./root/images/1260.jpg', 0),\n ('./root/images/1263.jpg', 0),\n ('./root/images/1266.jpg', 0),\n ('./root/images/1269.jpg', 0),\n ('./root/images/1272.jpg', 0),\n ('./root/images/1275.jpg', 0),\n ('./root/images/1278.jpg', 0),\n ('./root/images/1281.jpg', 0),\n ('./root/images/1284.jpg', 0),\n ('./root/images/1287.jpg', 0),\n ('./root/images/129.jpg', 0),\n ('./root/images/1290.jpg', 0),\n ('./root/images/1293.jpg', 0),\n ('./root/images/1296.jpg', 0),\n ('./root/images/1299.jpg', 0),\n ('./root/images/1302.jpg', 0),\n ('./root/images/1305.jpg', 0),\n ('./root/images/1308.jpg', 0),\n ('./root/images/1311.jpg', 0),\n ('./root/images/1314.jpg', 0),\n ('./root/images/1317.jpg', 0),\n ('./root/images/132.jpg', 0),\n ('./root/images/1320.jpg', 0),\n ('./root/images/1323.jpg', 0),\n ('./root/images/1326.jpg', 0),\n ('./root/images/1329.jpg', 0),\n ('./root/images/1332.jpg', 0),\n ('./root/images/1335.jpg', 0),\n ('./root/images/1338.jpg', 0),\n ('./root/images/1341.jpg', 0),\n ('./root/images/1344.jpg', 0),\n ('./root/images/1347.jpg', 0),\n ('./root/images/135.jpg', 0),\n ('./root/images/1350.jpg', 0),\n ('./root/images/1353.jpg', 0),\n ('./root/images/1356.jpg', 0),\n ('./root/images/1359.jpg', 0),\n ('./root/images/1362.jpg', 0),\n ('./root/images/1365.jpg', 0),\n ('./root/images/1368.jpg', 0),\n ('./root/images/1371.jpg', 0),\n ('./root/images/1374.jpg', 0),\n ('./root/images/1377.jpg', 0),\n ('./root/images/138.jpg', 0),\n ('./root/images/1380.jpg', 0),\n ('./root/images/1383.jpg', 0),\n ('./root/images/1386.jpg', 0),\n ('./root/images/1389.jpg', 0),\n ('./root/images/1392.jpg', 0),\n ('./root/images/1395.jpg', 0),\n ('./root/images/1398.jpg', 0),\n ('./root/images/1401.jpg', 0),\n ('./root/images/1404.jpg', 0),\n ('./root/images/1407.jpg', 0),\n ('./root/images/141.jpg', 0),\n ('./root/images/1410.jpg', 0),\n ('./root/images/1413.jpg', 0),\n ('./root/images/1416.jpg', 0),\n ('./root/images/1419.jpg', 0),\n ('./root/images/1422.jpg', 0),\n ('./root/images/1425.jpg', 0),\n ('./root/images/1428.jpg', 0),\n ('./root/images/1431.jpg', 0),\n ('./root/images/1434.jpg', 0),\n ('./root/images/1437.jpg', 0),\n ('./root/images/144.jpg', 0),\n ('./root/images/1440.jpg', 0),\n ('./root/images/1443.jpg', 0),\n ('./root/images/1446.jpg', 0),\n ('./root/images/1449.jpg', 0),\n ('./root/images/1452.jpg', 0),\n ('./root/images/1455.jpg', 0),\n ('./root/images/1458.jpg', 0),\n ('./root/images/1461.jpg', 0),\n ('./root/images/1464.jpg', 0),\n ('./root/images/1467.jpg', 0),\n ('./root/images/147.jpg', 0),\n ('./root/images/1470.jpg', 0),\n ('./root/images/1473.jpg', 0),\n ('./root/images/1476.jpg', 0),\n ('./root/images/1479.jpg', 0),\n ('./root/images/1482.jpg', 0),\n ('./root/images/1485.jpg', 0),\n ('./root/images/1488.jpg', 0),\n ('./root/images/1491.jpg', 0),\n ('./root/images/1494.jpg', 0),\n ('./root/images/1497.jpg', 0),\n ('./root/images/15.jpg', 0),\n ('./root/images/150.jpg', 0),\n ('./root/images/1500.jpg', 0),\n ('./root/images/1503.jpg', 0),\n ('./root/images/1506.jpg', 0),\n ('./root/images/1509.jpg', 0),\n ('./root/images/1512.jpg', 0),\n ('./root/images/1515.jpg', 0),\n ('./root/images/1518.jpg', 0),\n ('./root/images/1521.jpg', 0),\n ('./root/images/1524.jpg', 0),\n ('./root/images/1527.jpg', 0),\n ('./root/images/153.jpg', 0),\n ('./root/images/1530.jpg', 0),\n ('./root/images/1533.jpg', 0),\n ('./root/images/1536.jpg', 0),\n ('./root/images/1539.jpg', 0),\n ('./root/images/1542.jpg', 0),\n ('./root/images/1545.jpg', 0),\n ('./root/images/1548.jpg', 0),\n ('./root/images/1551.jpg', 0),\n ('./root/images/1554.jpg', 0),\n ('./root/images/1557.jpg', 0),\n ('./root/images/156.jpg', 0),\n ('./root/images/1560.jpg', 0),\n ('./root/images/1563.jpg', 0),\n ('./root/images/1566.jpg', 0),\n ('./root/images/1569.jpg', 0),\n ('./root/images/1572.jpg', 0),\n ('./root/images/1575.jpg', 0),\n ('./root/images/1578.jpg', 0),\n ('./root/images/1581.jpg', 0),\n ('./root/images/1584.jpg', 0),\n ('./root/images/1587.jpg', 0),\n ('./root/images/159.jpg', 0),\n ('./root/images/1590.jpg', 0),\n ('./root/images/1593.jpg', 0),\n ('./root/images/1596.jpg', 0),\n ('./root/images/1599.jpg', 0),\n ('./root/images/1602.jpg', 0),\n ('./root/images/1605.jpg', 0),\n ('./root/images/1608.jpg', 0),\n ('./root/images/1611.jpg', 0),\n ('./root/images/1614.jpg', 0),\n ('./root/images/1617.jpg', 0),\n ('./root/images/162.jpg', 0),\n ('./root/images/1620.jpg', 0),\n ('./root/images/1623.jpg', 0),\n ('./root/images/1626.jpg', 0),\n ('./root/images/1629.jpg', 0),\n ('./root/images/1632.jpg', 0),\n ('./root/images/1635.jpg', 0),\n ('./root/images/1638.jpg', 0),\n ('./root/images/1641.jpg', 0),\n ('./root/images/1644.jpg', 0),\n ('./root/images/1647.jpg', 0),\n ('./root/images/165.jpg', 0),\n ('./root/images/1650.jpg', 0),\n ('./root/images/1653.jpg', 0),\n ('./root/images/1656.jpg', 0),\n ('./root/images/1659.jpg', 0),\n ('./root/images/1662.jpg', 0),\n ('./root/images/1665.jpg', 0),\n ('./root/images/1668.jpg', 0),\n ('./root/images/1671.jpg', 0),\n ('./root/images/1674.jpg', 0),\n ('./root/images/1677.jpg', 0),\n ('./root/images/168.jpg', 0),\n ('./root/images/1680.jpg', 0),\n ('./root/images/1683.jpg', 0),\n ('./root/images/1686.jpg', 0),\n ('./root/images/1689.jpg', 0),\n ('./root/images/1692.jpg', 0),\n ('./root/images/1695.jpg', 0),\n ('./root/images/1698.jpg', 0),\n ('./root/images/1701.jpg', 0),\n ('./root/images/1704.jpg', 0),\n ('./root/images/1707.jpg', 0),\n ('./root/images/171.jpg', 0),\n ('./root/images/1710.jpg', 0),\n ('./root/images/1713.jpg', 0),\n ('./root/images/1716.jpg', 0),\n ('./root/images/1719.jpg', 0),\n ('./root/images/1722.jpg', 0),\n ('./root/images/1725.jpg', 0),\n ('./root/images/1728.jpg', 0),\n ('./root/images/1731.jpg', 0),\n ('./root/images/1734.jpg', 0),\n ('./root/images/1737.jpg', 0),\n ('./root/images/174.jpg', 0),\n ('./root/images/1740.jpg', 0),\n ('./root/images/1743.jpg', 0),\n ('./root/images/1746.jpg', 0),\n ('./root/images/1749.jpg', 0),\n ('./root/images/1752.jpg', 0),\n ('./root/images/1755.jpg', 0),\n ('./root/images/1758.jpg', 0),\n ('./root/images/1761.jpg', 0),\n ('./root/images/1764.jpg', 0),\n ('./root/images/1767.jpg', 0),\n ('./root/images/177.jpg', 0),\n ('./root/images/1770.jpg', 0),\n ('./root/images/1773.jpg', 0),\n ('./root/images/1776.jpg', 0),\n ('./root/images/1779.jpg', 0),\n ('./root/images/1782.jpg', 0),\n ('./root/images/1785.jpg', 0),\n ('./root/images/1788.jpg', 0),\n ('./root/images/1791.jpg', 0),\n ('./root/images/1794.jpg', 0),\n ('./root/images/1797.jpg', 0),\n ('./root/images/18.jpg', 0),\n ('./root/images/180.jpg', 0),\n ('./root/images/1800.jpg', 0),\n ('./root/images/1803.jpg', 0),\n ('./root/images/1806.jpg', 0),\n ('./root/images/1809.jpg', 0),\n ('./root/images/1812.jpg', 0),\n ('./root/images/1815.jpg', 0),\n ('./root/images/1818.jpg', 0),\n ('./root/images/1821.jpg', 0),\n ('./root/images/1824.jpg', 0),\n ('./root/images/1827.jpg', 0),\n ('./root/images/183.jpg', 0),\n ('./root/images/1830.jpg', 0),\n ('./root/images/1833.jpg', 0),\n ('./root/images/1836.jpg', 0),\n ('./root/images/1839.jpg', 0),\n ('./root/images/1842.jpg', 0),\n ('./root/images/1845.jpg', 0),\n ('./root/images/1848.jpg', 0),\n ('./root/images/1851.jpg', 0),\n ('./root/images/1854.jpg', 0),\n ('./root/images/1857.jpg', 0),\n ('./root/images/186.jpg', 0),\n ('./root/images/1860.jpg', 0),\n ('./root/images/1863.jpg', 0),\n ('./root/images/1866.jpg', 0),\n ('./root/images/1869.jpg', 0),\n ('./root/images/1872.jpg', 0),\n ('./root/images/1875.jpg', 0),\n ('./root/images/1878.jpg', 0),\n ('./root/images/1881.jpg', 0),\n ('./root/images/1884.jpg', 0),\n ('./root/images/1887.jpg', 0),\n ('./root/images/189.jpg', 0),\n ('./root/images/1890.jpg', 0),\n ('./root/images/1893.jpg', 0),\n ('./root/images/1896.jpg', 0),\n ('./root/images/1899.jpg', 0),\n ('./root/images/1902.jpg', 0),\n ('./root/images/1905.jpg', 0),\n ('./root/images/1908.jpg', 0),\n ('./root/images/1911.jpg', 0),\n ('./root/images/1914.jpg', 0),\n ('./root/images/1917.jpg', 0),\n ('./root/images/192.jpg', 0),\n ('./root/images/1920.jpg', 0),\n ('./root/images/1923.jpg', 0),\n ('./root/images/1926.jpg', 0),\n ('./root/images/1929.jpg', 0),\n ('./root/images/1932.jpg', 0),\n ('./root/images/1935.jpg', 0),\n ('./root/images/1938.jpg', 0),\n ('./root/images/1941.jpg', 0),\n ('./root/images/1944.jpg', 0),\n ('./root/images/1947.jpg', 0),\n ('./root/images/195.jpg', 0),\n ('./root/images/1950.jpg', 0),\n ('./root/images/1953.jpg', 0),\n ('./root/images/1956.jpg', 0),\n ('./root/images/1959.jpg', 0),\n ('./root/images/1962.jpg', 0),\n ('./root/images/1965.jpg', 0),\n ('./root/images/1968.jpg', 0),\n ('./root/images/1971.jpg', 0),\n ('./root/images/1974.jpg', 0),\n ('./root/images/1977.jpg', 0),\n ('./root/images/198.jpg', 0),\n ('./root/images/1980.jpg', 0),\n ('./root/images/1983.jpg', 0),\n ('./root/images/1986.jpg', 0),\n ('./root/images/1989.jpg', 0),\n ('./root/images/1992.jpg', 0),\n ('./root/images/1995.jpg', 0),\n ('./root/images/1998.jpg', 0),\n ('./root/images/2001.jpg', 0),\n ('./root/images/2004.jpg', 0),\n ('./root/images/2007.jpg', 0),\n ('./root/images/201.jpg', 0),\n ('./root/images/2010.jpg', 0),\n ('./root/images/2013.jpg', 0),\n ('./root/images/2016.jpg', 0),\n ('./root/images/2019.jpg', 0),\n ('./root/images/2022.jpg', 0),\n ('./root/images/2025.jpg', 0),\n ('./root/images/2028.jpg', 0),\n ('./root/images/2031.jpg', 0),\n ('./root/images/2034.jpg', 0),\n ('./root/images/2037.jpg', 0),\n ('./root/images/204.jpg', 0),\n ('./root/images/2040.jpg', 0),\n ('./root/images/2043.jpg', 0),\n ('./root/images/2046.jpg', 0),\n ('./root/images/2049.jpg', 0),\n ('./root/images/2052.jpg', 0),\n ('./root/images/2055.jpg', 0),\n ('./root/images/2058.jpg', 0),\n ('./root/images/2061.jpg', 0),\n ('./root/images/2064.jpg', 0),\n ('./root/images/2067.jpg', 0),\n ('./root/images/207.jpg', 0),\n ('./root/images/2070.jpg', 0),\n ('./root/images/2073.jpg', 0),\n ('./root/images/2076.jpg', 0),\n ('./root/images/2079.jpg', 0),\n ('./root/images/2082.jpg', 0),\n ('./root/images/2085.jpg', 0),\n ('./root/images/2088.jpg', 0),\n ('./root/images/2091.jpg', 0),\n ('./root/images/2094.jpg', 0),\n ('./root/images/2097.jpg', 0),\n ('./root/images/21.jpg', 0),\n ('./root/images/210.jpg', 0),\n ('./root/images/2100.jpg', 0),\n ('./root/images/2103.jpg', 0),\n ('./root/images/2106.jpg', 0),\n ('./root/images/2109.jpg', 0),\n ('./root/images/2112.jpg', 0),\n ('./root/images/2115.jpg', 0),\n ('./root/images/2118.jpg', 0),\n ('./root/images/2121.jpg', 0),\n ('./root/images/2124.jpg', 0),\n ('./root/images/2127.jpg', 0),\n ('./root/images/213.jpg', 0),\n ('./root/images/2130.jpg', 0),\n ('./root/images/2133.jpg', 0),\n ('./root/images/2136.jpg', 0),\n ('./root/images/2139.jpg', 0),\n ('./root/images/2142.jpg', 0),\n ('./root/images/2145.jpg', 0),\n ('./root/images/2148.jpg', 0),\n ('./root/images/2151.jpg', 0),\n ('./root/images/2154.jpg', 0),\n ('./root/images/2157.jpg', 0),\n ('./root/images/216.jpg', 0),\n ('./root/images/2160.jpg', 0),\n ('./root/images/2163.jpg', 0),\n ('./root/images/2166.jpg', 0),\n ('./root/images/2169.jpg', 0),\n ('./root/images/2172.jpg', 0),\n ('./root/images/2175.jpg', 0),\n ('./root/images/2178.jpg', 0),\n ('./root/images/2181.jpg', 0),\n ('./root/images/2184.jpg', 0),\n ('./root/images/2187.jpg', 0),\n ('./root/images/219.jpg', 0),\n ('./root/images/2190.jpg', 0),\n ('./root/images/2193.jpg', 0),\n ('./root/images/2196.jpg', 0),\n ('./root/images/2199.jpg', 0),\n ('./root/images/2202.jpg', 0),\n ('./root/images/2205.jpg', 0),\n ('./root/images/2208.jpg', 0),\n ('./root/images/2211.jpg', 0),\n ('./root/images/2214.jpg', 0),\n ('./root/images/2217.jpg', 0),\n ('./root/images/222.jpg', 0),\n ('./root/images/2220.jpg', 0),\n ('./root/images/2223.jpg', 0),\n ('./root/images/2226.jpg', 0),\n ('./root/images/2229.jpg', 0),\n ('./root/images/2232.jpg', 0),\n ('./root/images/2235.jpg', 0),\n ('./root/images/2238.jpg', 0),\n ('./root/images/2241.jpg', 0),\n ('./root/images/2244.jpg', 0),\n ('./root/images/2247.jpg', 0),\n ('./root/images/225.jpg', 0),\n ('./root/images/2250.jpg', 0),\n ('./root/images/2253.jpg', 0),\n ('./root/images/2256.jpg', 0),\n ('./root/images/2259.jpg', 0),\n ('./root/images/2262.jpg', 0),\n ('./root/images/2265.jpg', 0),\n ('./root/images/2268.jpg', 0),\n ('./root/images/2271.jpg', 0),\n ('./root/images/2274.jpg', 0),\n ('./root/images/2277.jpg', 0),\n ('./root/images/228.jpg', 0),\n ('./root/images/2280.jpg', 0),\n ('./root/images/2283.jpg', 0),\n ('./root/images/2286.jpg', 0),\n ('./root/images/2289.jpg', 0),\n ('./root/images/2292.jpg', 0),\n ('./root/images/2295.jpg', 0),\n ('./root/images/2298.jpg', 0),\n ('./root/images/2301.jpg', 0),\n ('./root/images/2304.jpg', 0),\n ('./root/images/2307.jpg', 0),\n ('./root/images/231.jpg', 0),\n ('./root/images/2310.jpg', 0),\n ('./root/images/2313.jpg', 0),\n ('./root/images/2316.jpg', 0),\n ('./root/images/2319.jpg', 0),\n ('./root/images/2322.jpg', 0),\n ('./root/images/2325.jpg', 0),\n ('./root/images/2328.jpg', 0),\n ('./root/images/2331.jpg', 0),\n ('./root/images/2334.jpg', 0),\n ('./root/images/2337.jpg', 0),\n ('./root/images/234.jpg', 0),\n ('./root/images/2340.jpg', 0),\n ('./root/images/2343.jpg', 0),\n ('./root/images/2346.jpg', 0),\n ('./root/images/2349.jpg', 0),\n ('./root/images/2352.jpg', 0),\n ('./root/images/2355.jpg', 0),\n ('./root/images/2358.jpg', 0),\n ('./root/images/2361.jpg', 0),\n ('./root/images/2364.jpg', 0),\n ('./root/images/2367.jpg', 0),\n ('./root/images/237.jpg', 0),\n ('./root/images/2370.jpg', 0),\n ('./root/images/2373.jpg', 0),\n ('./root/images/2376.jpg', 0),\n ('./root/images/2379.jpg', 0),\n ('./root/images/2382.jpg', 0),\n ('./root/images/2385.jpg', 0),\n ('./root/images/2388.jpg', 0),\n ('./root/images/2391.jpg', 0),\n ('./root/images/2394.jpg', 0),\n ('./root/images/2397.jpg', 0),\n ('./root/images/24.jpg', 0),\n ('./root/images/240.jpg', 0),\n ('./root/images/2400.jpg', 0),\n ('./root/images/2403.jpg', 0),\n ('./root/images/2406.jpg', 0),\n ('./root/images/2409.jpg', 0),\n ('./root/images/2412.jpg', 0),\n ('./root/images/2415.jpg', 0),\n ('./root/images/2418.jpg', 0),\n ('./root/images/2421.jpg', 0),\n ('./root/images/2424.jpg', 0),\n ('./root/images/2427.jpg', 0),\n ('./root/images/243.jpg', 0),\n ('./root/images/2430.jpg', 0),\n ('./root/images/2433.jpg', 0),\n ('./root/images/2436.jpg', 0),\n ('./root/images/2439.jpg', 0),\n ('./root/images/2442.jpg', 0),\n ('./root/images/2445.jpg', 0),\n ('./root/images/2448.jpg', 0),\n ('./root/images/2451.jpg', 0),\n ('./root/images/2454.jpg', 0),\n ('./root/images/2457.jpg', 0),\n ('./root/images/246.jpg', 0),\n ('./root/images/2460.jpg', 0),\n ('./root/images/2463.jpg', 0),\n ('./root/images/2466.jpg', 0),\n ('./root/images/2469.jpg', 0),\n ('./root/images/2472.jpg', 0),\n ('./root/images/2475.jpg', 0),\n ('./root/images/2478.jpg', 0),\n ('./root/images/2481.jpg', 0),\n ('./root/images/2484.jpg', 0),\n ('./root/images/2487.jpg', 0),\n ('./root/images/249.jpg', 0),\n ('./root/images/2490.jpg', 0),\n ('./root/images/2493.jpg', 0),\n ('./root/images/2496.jpg', 0),\n ('./root/images/2499.jpg', 0),\n ('./root/images/2502.jpg', 0),\n ('./root/images/2505.jpg', 0),\n ('./root/images/2508.jpg', 0),\n ('./root/images/2511.jpg', 0),\n ('./root/images/2514.jpg', 0),\n ('./root/images/2517.jpg', 0),\n ('./root/images/252.jpg', 0),\n ('./root/images/2520.jpg', 0),\n ('./root/images/2523.jpg', 0),\n ('./root/images/2526.jpg', 0),\n ('./root/images/2529.jpg', 0),\n ('./root/images/2532.jpg', 0),\n ('./root/images/2535.jpg', 0),\n ('./root/images/2538.jpg', 0),\n ('./root/images/2541.jpg', 0),\n ('./root/images/2544.jpg', 0),\n ('./root/images/2547.jpg', 0),\n ('./root/images/255.jpg', 0),\n ('./root/images/2550.jpg', 0),\n ('./root/images/2553.jpg', 0),\n ('./root/images/2556.jpg', 0),\n ('./root/images/2559.jpg', 0),\n ('./root/images/2562.jpg', 0),\n ('./root/images/2565.jpg', 0),\n ('./root/images/2568.jpg', 0),\n ('./root/images/2571.jpg', 0),\n ('./root/images/2574.jpg', 0),\n ('./root/images/2577.jpg', 0),\n ('./root/images/258.jpg', 0),\n ('./root/images/2580.jpg', 0),\n ('./root/images/2583.jpg', 0),\n ('./root/images/2586.jpg', 0),\n ('./root/images/2589.jpg', 0),\n ('./root/images/2592.jpg', 0),\n ('./root/images/2595.jpg', 0),\n ('./root/images/2598.jpg', 0),\n ('./root/images/2601.jpg', 0),\n ('./root/images/2604.jpg', 0),\n ('./root/images/2607.jpg', 0),\n ('./root/images/261.jpg', 0),\n ('./root/images/2610.jpg', 0),\n ('./root/images/2613.jpg', 0),\n ('./root/images/2616.jpg', 0),\n ('./root/images/2619.jpg', 0),\n ('./root/images/2622.jpg', 0),\n ('./root/images/2625.jpg', 0),\n ('./root/images/2628.jpg', 0),\n ('./root/images/2631.jpg', 0),\n ('./root/images/2634.jpg', 0),\n ('./root/images/2637.jpg', 0),\n ('./root/images/264.jpg', 0),\n ('./root/images/2640.jpg', 0),\n ('./root/images/2643.jpg', 0),\n ('./root/images/2646.jpg', 0),\n ('./root/images/2649.jpg', 0),\n ('./root/images/2652.jpg', 0),\n ('./root/images/2655.jpg', 0),\n ('./root/images/2658.jpg', 0),\n ('./root/images/2661.jpg', 0),\n ('./root/images/2664.jpg', 0),\n ('./root/images/2667.jpg', 0),\n ('./root/images/267.jpg', 0),\n ('./root/images/2670.jpg', 0),\n ('./root/images/2673.jpg', 0),\n ('./root/images/2676.jpg', 0),\n ('./root/images/2679.jpg', 0),\n ('./root/images/2682.jpg', 0),\n ('./root/images/2685.jpg', 0),\n ('./root/images/2688.jpg', 0),\n ('./root/images/2691.jpg', 0),\n ('./root/images/2694.jpg', 0),\n ('./root/images/2697.jpg', 0),\n ('./root/images/27.jpg', 0),\n ('./root/images/270.jpg', 0),\n ('./root/images/2700.jpg', 0),\n ('./root/images/2703.jpg', 0),\n ('./root/images/2706.jpg', 0),\n ('./root/images/2709.jpg', 0),\n ('./root/images/2712.jpg', 0),\n ('./root/images/2715.jpg', 0),\n ('./root/images/2718.jpg', 0),\n ('./root/images/2721.jpg', 0),\n ('./root/images/2724.jpg', 0),\n ('./root/images/2727.jpg', 0),\n ('./root/images/273.jpg', 0),\n ('./root/images/2730.jpg', 0),\n ('./root/images/2733.jpg', 0),\n ('./root/images/2736.jpg', 0),\n ('./root/images/2739.jpg', 0),\n ('./root/images/2742.jpg', 0),\n ('./root/images/2745.jpg', 0),\n ('./root/images/2748.jpg', 0),\n ('./root/images/2751.jpg', 0),\n ('./root/images/2754.jpg', 0),\n ('./root/images/2757.jpg', 0),\n ('./root/images/276.jpg', 0),\n ('./root/images/2760.jpg', 0),\n ('./root/images/2763.jpg', 0),\n ('./root/images/2766.jpg', 0),\n ('./root/images/2769.jpg', 0),\n ('./root/images/2772.jpg', 0),\n ('./root/images/2775.jpg', 0),\n ('./root/images/2778.jpg', 0),\n ('./root/images/2781.jpg', 0),\n ('./root/images/2784.jpg', 0),\n ('./root/images/2787.jpg', 0),\n ('./root/images/279.jpg', 0),\n ('./root/images/2790.jpg', 0),\n ('./root/images/2793.jpg', 0),\n ('./root/images/2796.jpg', 0),\n ('./root/images/2799.jpg', 0),\n ('./root/images/2802.jpg', 0),\n ('./root/images/2805.jpg', 0),\n ('./root/images/2808.jpg', 0),\n ('./root/images/2811.jpg', 0),\n ('./root/images/2814.jpg', 0),\n ('./root/images/2817.jpg', 0),\n ('./root/images/282.jpg', 0),\n ('./root/images/2820.jpg', 0),\n ('./root/images/2823.jpg', 0),\n ('./root/images/2826.jpg', 0),\n ('./root/images/2829.jpg', 0),\n ('./root/images/2832.jpg', 0),\n ('./root/images/2835.jpg', 0),\n ('./root/images/2838.jpg', 0),\n ('./root/images/2841.jpg', 0),\n ('./root/images/2844.jpg', 0),\n ('./root/images/2847.jpg', 0),\n ('./root/images/285.jpg', 0),\n ('./root/images/2850.jpg', 0),\n ('./root/images/2853.jpg', 0),\n ('./root/images/2856.jpg', 0),\n ('./root/images/2859.jpg', 0),\n ('./root/images/2862.jpg', 0),\n ('./root/images/2865.jpg', 0),\n ('./root/images/2868.jpg', 0),\n ('./root/images/2871.jpg', 0),\n ('./root/images/2874.jpg', 0),\n ('./root/images/2877.jpg', 0),\n ('./root/images/288.jpg', 0),\n ('./root/images/2880.jpg', 0),\n ('./root/images/2883.jpg', 0),\n ('./root/images/2886.jpg', 0),\n ('./root/images/2889.jpg', 0),\n ('./root/images/2892.jpg', 0),\n ('./root/images/2895.jpg', 0),\n ('./root/images/2898.jpg', 0),\n ('./root/images/2901.jpg', 0),\n ('./root/images/2904.jpg', 0),\n ('./root/images/2907.jpg', 0),\n ('./root/images/291.jpg', 0),\n ('./root/images/2910.jpg', 0),\n ('./root/images/2913.jpg', 0),\n ('./root/images/2916.jpg', 0),\n ('./root/images/2919.jpg', 0),\n ('./root/images/2922.jpg', 0),\n ('./root/images/2925.jpg', 0),\n ('./root/images/2928.jpg', 0),\n ('./root/images/2931.jpg', 0),\n ('./root/images/2934.jpg', 0),\n ('./root/images/2937.jpg', 0),\n ('./root/images/294.jpg', 0),\n ('./root/images/2940.jpg', 0),\n ('./root/images/2943.jpg', 0),\n ('./root/images/2946.jpg', 0),\n ('./root/images/2949.jpg', 0),\n ('./root/images/2952.jpg', 0),\n ('./root/images/2955.jpg', 0),\n ('./root/images/2958.jpg', 0),\n ('./root/images/2961.jpg', 0),\n ('./root/images/2964.jpg', 0),\n ('./root/images/2967.jpg', 0),\n ('./root/images/297.jpg', 0),\n ('./root/images/2970.jpg', 0),\n ('./root/images/2973.jpg', 0),\n ('./root/images/2976.jpg', 0),\n ('./root/images/2979.jpg', 0),\n ('./root/images/2982.jpg', 0),\n ('./root/images/2985.jpg', 0),\n ('./root/images/2988.jpg', 0),\n ('./root/images/2991.jpg', 0),\n ('./root/images/2994.jpg', 0),\n ('./root/images/2997.jpg', 0),\n ('./root/images/3.jpg', 0),\n ('./root/images/30.jpg', 0),\n ('./root/images/300.jpg', 0),\n ('./root/images/3000.jpg', 0),\n ('./root/images/3003.jpg', 0),\n ('./root/images/3006.jpg', 0),\n ('./root/images/3009.jpg', 0),\n ('./root/images/3012.jpg', 0),\n ('./root/images/3015.jpg', 0),\n ('./root/images/3018.jpg', 0),\n ('./root/images/3021.jpg', 0),\n ('./root/images/3024.jpg', 0),\n ('./root/images/3027.jpg', 0),\n ('./root/images/303.jpg', 0),\n ('./root/images/3030.jpg', 0),\n ('./root/images/3033.jpg', 0),\n ('./root/images/3036.jpg', 0),\n ('./root/images/3039.jpg', 0),\n ('./root/images/3042.jpg', 0),\n ('./root/images/3045.jpg', 0),\n ('./root/images/3048.jpg', 0),\n ('./root/images/3051.jpg', 0),\n ('./root/images/3054.jpg', 0),\n ('./root/images/3057.jpg', 0),\n ('./root/images/306.jpg', 0),\n ('./root/images/3060.jpg', 0),\n ('./root/images/3063.jpg', 0),\n ('./root/images/3066.jpg', 0),\n ('./root/images/3069.jpg', 0),\n ('./root/images/3072.jpg', 0),\n ('./root/images/3075.jpg', 0),\n ('./root/images/3078.jpg', 0),\n ('./root/images/3081.jpg', 0),\n ('./root/images/3084.jpg', 0),\n ('./root/images/3087.jpg', 0),\n ('./root/images/309.jpg', 0),\n ('./root/images/3090.jpg', 0),\n ('./root/images/3093.jpg', 0),\n ('./root/images/3096.jpg', 0),\n ('./root/images/3099.jpg', 0),\n ('./root/images/3102.jpg', 0),\n ('./root/images/3105.jpg', 0),\n ('./root/images/3108.jpg', 0),\n ('./root/images/3111.jpg', 0),\n ('./root/images/3114.jpg', 0),\n ('./root/images/3117.jpg', 0),\n ('./root/images/312.jpg', 0),\n ('./root/images/3120.jpg', 0),\n ('./root/images/3123.jpg', 0),\n ('./root/images/3126.jpg', 0),\n ('./root/images/3129.jpg', 0),\n ('./root/images/3132.jpg', 0),\n ('./root/images/3135.jpg', 0),\n ('./root/images/3138.jpg', 0),\n ('./root/images/3141.jpg', 0),\n ('./root/images/3144.jpg', 0),\n ('./root/images/3147.jpg', 0),\n ('./root/images/315.jpg', 0),\n ('./root/images/3150.jpg', 0),\n ('./root/images/3153.jpg', 0),\n ('./root/images/3156.jpg', 0),\n ('./root/images/3159.jpg', 0),\n ('./root/images/3162.jpg', 0),\n ('./root/images/3165.jpg', 0),\n ('./root/images/3168.jpg', 0),\n ('./root/images/3171.jpg', 0),\n ('./root/images/3174.jpg', 0),\n ('./root/images/3177.jpg', 0),\n ('./root/images/318.jpg', 0),\n ('./root/images/3180.jpg', 0),\n ('./root/images/3183.jpg', 0),\n ('./root/images/3186.jpg', 0),\n ('./root/images/3189.jpg', 0),\n ('./root/images/3192.jpg', 0),\n ('./root/images/3195.jpg', 0),\n ('./root/images/3198.jpg', 0),\n ('./root/images/3201.jpg', 0),\n ('./root/images/3204.jpg', 0),\n ('./root/images/3207.jpg', 0),\n ('./root/images/321.jpg', 0),\n ('./root/images/3210.jpg', 0),\n ('./root/images/3213.jpg', 0),\n ('./root/images/3216.jpg', 0),\n ('./root/images/3219.jpg', 0),\n ('./root/images/3222.jpg', 0),\n ('./root/images/3225.jpg', 0),\n ('./root/images/3228.jpg', 0),\n ('./root/images/3231.jpg', 0),\n ('./root/images/3234.jpg', 0),\n ('./root/images/3237.jpg', 0),\n ('./root/images/324.jpg', 0),\n ('./root/images/3240.jpg', 0),\n ('./root/images/3243.jpg', 0),\n ('./root/images/3246.jpg', 0),\n ('./root/images/3249.jpg', 0),\n ('./root/images/3252.jpg', 0),\n ('./root/images/3255.jpg', 0),\n ('./root/images/3258.jpg', 0),\n ('./root/images/3261.jpg', 0),\n ('./root/images/3264.jpg', 0),\n ('./root/images/3267.jpg', 0),\n ('./root/images/327.jpg', 0),\n ('./root/images/3270.jpg', 0),\n ('./root/images/3273.jpg', 0),\n ('./root/images/3276.jpg', 0),\n ('./root/images/3279.jpg', 0),\n ('./root/images/3282.jpg', 0),\n ('./root/images/3285.jpg', 0),\n ('./root/images/3288.jpg', 0),\n ('./root/images/3291.jpg', 0),\n ('./root/images/3294.jpg', 0),\n ('./root/images/3297.jpg', 0),\n ('./root/images/33.jpg', 0),\n ('./root/images/330.jpg', 0),\n ('./root/images/3300.jpg', 0),\n ('./root/images/3303.jpg', 0),\n ('./root/images/3306.jpg', 0),\n ('./root/images/3309.jpg', 0),\n ('./root/images/3312.jpg', 0),\n ('./root/images/3315.jpg', 0),\n ('./root/images/3318.jpg', 0),\n ('./root/images/3321.jpg', 0),\n ('./root/images/3324.jpg', 0),\n ('./root/images/3327.jpg', 0),\n ('./root/images/333.jpg', 0),\n ('./root/images/3330.jpg', 0),\n ('./root/images/3333.jpg', 0),\n ('./root/images/3336.jpg', 0),\n ('./root/images/3339.jpg', 0),\n ('./root/images/3342.jpg', 0),\n ('./root/images/3345.jpg', 0),\n ('./root/images/3348.jpg', 0),\n ('./root/images/3351.jpg', 0),\n ('./root/images/3354.jpg', 0),\n ('./root/images/3357.jpg', 0),\n ('./root/images/336.jpg', 0),\n ('./root/images/3360.jpg', 0),\n ('./root/images/3363.jpg', 0),\n ('./root/images/3366.jpg', 0),\n ('./root/images/3369.jpg', 0),\n ('./root/images/3372.jpg', 0),\n ('./root/images/3375.jpg', 0),\n ('./root/images/3378.jpg', 0),\n ('./root/images/3381.jpg', 0),\n ('./root/images/3384.jpg', 0),\n ('./root/images/3387.jpg', 0),\n ('./root/images/339.jpg', 0),\n ('./root/images/3390.jpg', 0),\n ('./root/images/3393.jpg', 0),\n ('./root/images/3396.jpg', 0),\n ('./root/images/3399.jpg', 0),\n ('./root/images/3402.jpg', 0),\n ('./root/images/3405.jpg', 0),\n ('./root/images/3408.jpg', 0),\n ('./root/images/3411.jpg', 0),\n ('./root/images/3414.jpg', 0),\n ('./root/images/3417.jpg', 0),\n ('./root/images/342.jpg', 0),\n ('./root/images/3420.jpg', 0),\n ('./root/images/3423.jpg', 0),\n ('./root/images/3426.jpg', 0),\n ('./root/images/3429.jpg', 0),\n ('./root/images/3432.jpg', 0),\n ('./root/images/3435.jpg', 0),\n ('./root/images/3438.jpg', 0),\n ('./root/images/3441.jpg', 0),\n ('./root/images/3444.jpg', 0),\n ('./root/images/3447.jpg', 0),\n ('./root/images/345.jpg', 0),\n ('./root/images/3450.jpg', 0),\n ('./root/images/3453.jpg', 0),\n ('./root/images/3456.jpg', 0),\n ('./root/images/3459.jpg', 0),\n ('./root/images/3462.jpg', 0),\n ('./root/images/3465.jpg', 0),\n ('./root/images/3468.jpg', 0),\n ('./root/images/3471.jpg', 0),\n ('./root/images/3474.jpg', 0),\n ('./root/images/3477.jpg', 0),\n ('./root/images/348.jpg', 0),\n ('./root/images/3480.jpg', 0),\n ('./root/images/3483.jpg', 0),\n ('./root/images/3486.jpg', 0),\n ('./root/images/3489.jpg', 0),\n ('./root/images/3492.jpg', 0),\n ('./root/images/3495.jpg', 0),\n ('./root/images/3498.jpg', 0),\n ('./root/images/3501.jpg', 0),\n ('./root/images/3504.jpg', 0),\n ('./root/images/3507.jpg', 0),\n ('./root/images/351.jpg', 0),\n ('./root/images/3510.jpg', 0),\n ('./root/images/3513.jpg', 0),\n ('./root/images/3516.jpg', 0),\n ('./root/images/3519.jpg', 0),\n ('./root/images/3522.jpg', 0),\n ('./root/images/3525.jpg', 0),\n ('./root/images/3528.jpg', 0),\n ('./root/images/3531.jpg', 0),\n ('./root/images/3534.jpg', 0),\n ('./root/images/3537.jpg', 0),\n ('./root/images/354.jpg', 0),\n ('./root/images/3540.jpg', 0),\n ('./root/images/3543.jpg', 0),\n ('./root/images/3546.jpg', 0),\n ('./root/images/3549.jpg', 0),\n ('./root/images/3552.jpg', 0),\n ('./root/images/3555.jpg', 0),\n ('./root/images/3558.jpg', 0),\n ('./root/images/3561.jpg', 0),\n ('./root/images/3564.jpg', 0),\n ('./root/images/3567.jpg', 0),\n ('./root/images/357.jpg', 0),\n ('./root/images/3570.jpg', 0),\n ('./root/images/3573.jpg', 0),\n ('./root/images/3576.jpg', 0),\n ('./root/images/3579.jpg', 0),\n ('./root/images/3582.jpg', 0),\n ('./root/images/3585.jpg', 0),\n ('./root/images/3588.jpg', 0),\n ('./root/images/3591.jpg', 0),\n ('./root/images/3594.jpg', 0),\n ('./root/images/3597.jpg', 0),\n ('./root/images/36.jpg', 0),\n ('./root/images/360.jpg', 0),\n ('./root/images/3600.jpg', 0),\n ('./root/images/3603.jpg', 0),\n ('./root/images/3606.jpg', 0),\n ('./root/images/3609.jpg', 0),\n ('./root/images/3612.jpg', 0),\n ('./root/images/3615.jpg', 0),\n ('./root/images/3618.jpg', 0),\n ('./root/images/3621.jpg', 0),\n ('./root/images/3624.jpg', 0),\n ('./root/images/3627.jpg', 0),\n ('./root/images/363.jpg', 0),\n ('./root/images/3630.jpg', 0),\n ('./root/images/3633.jpg', 0),\n ('./root/images/3636.jpg', 0),\n ('./root/images/3639.jpg', 0),\n ('./root/images/3642.jpg', 0),\n ('./root/images/3645.jpg', 0),\n ('./root/images/3648.jpg', 0),\n ('./root/images/3651.jpg', 0),\n ('./root/images/3654.jpg', 0),\n ('./root/images/3657.jpg', 0),\n ('./root/images/366.jpg', 0),\n ('./root/images/3660.jpg', 0),\n ('./root/images/3663.jpg', 0),\n ('./root/images/3666.jpg', 0),\n ('./root/images/3669.jpg', 0),\n ('./root/images/3672.jpg', 0),\n ('./root/images/3675.jpg', 0),\n ('./root/images/3678.jpg', 0),\n ('./root/images/3681.jpg', 0),\n ('./root/images/3684.jpg', 0),\n ('./root/images/3687.jpg', 0),\n ('./root/images/369.jpg', 0),\n ('./root/images/3690.jpg', 0),\n ('./root/images/3693.jpg', 0),\n ('./root/images/3696.jpg', 0),\n ...]"
     },
     "execution_count": 30,
     "metadata": {},
     "output_type": "execute_result"
    }
   ],
   "source": [
    "image_dataset.imgs"
   ],
   "metadata": {
    "collapsed": false
   }
  },
  {
   "cell_type": "code",
   "execution_count": 32,
   "outputs": [
    {
     "name": "stdout",
     "output_type": "stream",
     "text": [
      "0          ./root/images/0.jpg\n",
      "1       ./root/images/1002.jpg\n",
      "2       ./root/images/1005.jpg\n",
      "3       ./root/images/1008.jpg\n",
      "4       ./root/images/1011.jpg\n",
      "                 ...          \n",
      "2041      ./root/images/99.jpg\n",
      "2042     ./root/images/990.jpg\n",
      "2043     ./root/images/993.jpg\n",
      "2044     ./root/images/996.jpg\n",
      "2045     ./root/images/999.jpg\n",
      "Name: 0, Length: 2046, dtype: object\n"
     ]
    },
    {
     "data": {
      "text/plain": "           0         1         2         3         4         5         6    \\\n0     0.009128 -0.258768  0.906030  0.885546  0.353621  2.082452  0.900048   \n1     0.021291 -0.155517 -1.029944 -0.392221  0.887560 -0.801105 -0.597216   \n2     0.196560 -0.275392 -0.677433 -0.076892 -0.716913 -0.471953  0.089809   \n3    -1.734549 -0.735825  0.172877  0.121457  0.676266  0.977954  1.127839   \n4    -0.070796  0.158393 -0.392704 -1.209007 -0.624599  0.544383 -0.956578   \n...        ...       ...       ...       ...       ...       ...       ...   \n2041 -0.177438 -0.503833  0.389459 -0.496100  0.024794 -1.406680 -0.834375   \n2042  0.605545 -1.129617 -0.950401 -0.295993 -0.631733  0.919994  0.505321   \n2043  0.472806 -1.226938 -0.180570 -0.257150  0.542446 -0.252315 -0.017301   \n2044 -0.375108  1.079389 -0.513797  0.235272  0.693821 -0.664105 -0.736154   \n2045 -0.423011  0.082118  0.398396  0.650823  0.160136  1.086988  1.355408   \n\n           7         8         9    ...       990       991       992  \\\n0    -1.171227 -0.725601 -1.147103  ...  1.828374 -0.897497  0.362531   \n1     0.845133  0.449791  1.178940  ...  0.257904  1.746879 -0.075490   \n2     0.559636  0.295080  2.007642  ... -0.169654 -0.036924  0.043583   \n3    -0.786345  0.180612 -0.059792  ... -0.742721 -0.862820  0.056144   \n4    -0.202349  0.414077 -1.553467  ... -1.051657 -0.339597 -0.623271   \n...        ...       ...       ...  ...       ...       ...       ...   \n2041  0.611120  0.473136 -1.179701  ...  1.254633  0.573077  0.046071   \n2042 -0.005155 -0.081128 -0.820627  ... -0.165525 -0.708621 -0.256763   \n2043 -0.298783  0.074320 -0.625084  ... -0.076798 -0.436186 -0.335524   \n2044 -0.063929  0.021181  0.505317  ... -0.963240  0.588151 -0.583438   \n2045 -0.974790 -0.144399  1.288879  ... -1.299525 -0.596354 -0.186385   \n\n           993       994       995       996       997       998       999  \n0    -1.258898  1.646573  0.689821 -1.701383  0.491233 -0.266272  1.169618  \n1    -0.174355  0.315248  1.231026  1.788201  1.568237  1.576652 -0.514274  \n2    -0.433581 -0.151353 -0.812156  0.784154 -0.716098  0.079135 -0.900364  \n3    -0.494988 -0.408080 -0.722059 -1.084637 -1.027896  0.973945 -0.242643  \n4    -0.465468 -1.425515  0.814526 -0.113575 -0.646444 -0.379758  0.878057  \n...        ...       ...       ...       ...       ...       ...       ...  \n2041  0.228973  0.763340 -0.260069  0.488233  0.287987  0.164929 -0.659698  \n2042 -1.315068 -0.673670  1.243505 -1.199325  0.580228 -0.535140 -0.420496  \n2043  0.183758 -0.854788  0.155274  0.563584 -0.366249  0.344965  0.559003  \n2044  0.153053  0.286467  0.221786  0.368910 -0.721660  0.317417  0.907246  \n2045 -0.187787 -0.171575 -0.159339  0.157518 -0.339561  0.114189  0.519371  \n\n[2046 rows x 1000 columns]",
      "text/html": "<div>\n<style scoped>\n    .dataframe tbody tr th:only-of-type {\n        vertical-align: middle;\n    }\n\n    .dataframe tbody tr th {\n        vertical-align: top;\n    }\n\n    .dataframe thead th {\n        text-align: right;\n    }\n</style>\n<table border=\"1\" class=\"dataframe\">\n  <thead>\n    <tr style=\"text-align: right;\">\n      <th></th>\n      <th>0</th>\n      <th>1</th>\n      <th>2</th>\n      <th>3</th>\n      <th>4</th>\n      <th>5</th>\n      <th>6</th>\n      <th>7</th>\n      <th>8</th>\n      <th>9</th>\n      <th>...</th>\n      <th>990</th>\n      <th>991</th>\n      <th>992</th>\n      <th>993</th>\n      <th>994</th>\n      <th>995</th>\n      <th>996</th>\n      <th>997</th>\n      <th>998</th>\n      <th>999</th>\n    </tr>\n  </thead>\n  <tbody>\n    <tr>\n      <th>0</th>\n      <td>0.009128</td>\n      <td>-0.258768</td>\n      <td>0.906030</td>\n      <td>0.885546</td>\n      <td>0.353621</td>\n      <td>2.082452</td>\n      <td>0.900048</td>\n      <td>-1.171227</td>\n      <td>-0.725601</td>\n      <td>-1.147103</td>\n      <td>...</td>\n      <td>1.828374</td>\n      <td>-0.897497</td>\n      <td>0.362531</td>\n      <td>-1.258898</td>\n      <td>1.646573</td>\n      <td>0.689821</td>\n      <td>-1.701383</td>\n      <td>0.491233</td>\n      <td>-0.266272</td>\n      <td>1.169618</td>\n    </tr>\n    <tr>\n      <th>1</th>\n      <td>0.021291</td>\n      <td>-0.155517</td>\n      <td>-1.029944</td>\n      <td>-0.392221</td>\n      <td>0.887560</td>\n      <td>-0.801105</td>\n      <td>-0.597216</td>\n      <td>0.845133</td>\n      <td>0.449791</td>\n      <td>1.178940</td>\n      <td>...</td>\n      <td>0.257904</td>\n      <td>1.746879</td>\n      <td>-0.075490</td>\n      <td>-0.174355</td>\n      <td>0.315248</td>\n      <td>1.231026</td>\n      <td>1.788201</td>\n      <td>1.568237</td>\n      <td>1.576652</td>\n      <td>-0.514274</td>\n    </tr>\n    <tr>\n      <th>2</th>\n      <td>0.196560</td>\n      <td>-0.275392</td>\n      <td>-0.677433</td>\n      <td>-0.076892</td>\n      <td>-0.716913</td>\n      <td>-0.471953</td>\n      <td>0.089809</td>\n      <td>0.559636</td>\n      <td>0.295080</td>\n      <td>2.007642</td>\n      <td>...</td>\n      <td>-0.169654</td>\n      <td>-0.036924</td>\n      <td>0.043583</td>\n      <td>-0.433581</td>\n      <td>-0.151353</td>\n      <td>-0.812156</td>\n      <td>0.784154</td>\n      <td>-0.716098</td>\n      <td>0.079135</td>\n      <td>-0.900364</td>\n    </tr>\n    <tr>\n      <th>3</th>\n      <td>-1.734549</td>\n      <td>-0.735825</td>\n      <td>0.172877</td>\n      <td>0.121457</td>\n      <td>0.676266</td>\n      <td>0.977954</td>\n      <td>1.127839</td>\n      <td>-0.786345</td>\n      <td>0.180612</td>\n      <td>-0.059792</td>\n      <td>...</td>\n      <td>-0.742721</td>\n      <td>-0.862820</td>\n      <td>0.056144</td>\n      <td>-0.494988</td>\n      <td>-0.408080</td>\n      <td>-0.722059</td>\n      <td>-1.084637</td>\n      <td>-1.027896</td>\n      <td>0.973945</td>\n      <td>-0.242643</td>\n    </tr>\n    <tr>\n      <th>4</th>\n      <td>-0.070796</td>\n      <td>0.158393</td>\n      <td>-0.392704</td>\n      <td>-1.209007</td>\n      <td>-0.624599</td>\n      <td>0.544383</td>\n      <td>-0.956578</td>\n      <td>-0.202349</td>\n      <td>0.414077</td>\n      <td>-1.553467</td>\n      <td>...</td>\n      <td>-1.051657</td>\n      <td>-0.339597</td>\n      <td>-0.623271</td>\n      <td>-0.465468</td>\n      <td>-1.425515</td>\n      <td>0.814526</td>\n      <td>-0.113575</td>\n      <td>-0.646444</td>\n      <td>-0.379758</td>\n      <td>0.878057</td>\n    </tr>\n    <tr>\n      <th>...</th>\n      <td>...</td>\n      <td>...</td>\n      <td>...</td>\n      <td>...</td>\n      <td>...</td>\n      <td>...</td>\n      <td>...</td>\n      <td>...</td>\n      <td>...</td>\n      <td>...</td>\n      <td>...</td>\n      <td>...</td>\n      <td>...</td>\n      <td>...</td>\n      <td>...</td>\n      <td>...</td>\n      <td>...</td>\n      <td>...</td>\n      <td>...</td>\n      <td>...</td>\n      <td>...</td>\n    </tr>\n    <tr>\n      <th>2041</th>\n      <td>-0.177438</td>\n      <td>-0.503833</td>\n      <td>0.389459</td>\n      <td>-0.496100</td>\n      <td>0.024794</td>\n      <td>-1.406680</td>\n      <td>-0.834375</td>\n      <td>0.611120</td>\n      <td>0.473136</td>\n      <td>-1.179701</td>\n      <td>...</td>\n      <td>1.254633</td>\n      <td>0.573077</td>\n      <td>0.046071</td>\n      <td>0.228973</td>\n      <td>0.763340</td>\n      <td>-0.260069</td>\n      <td>0.488233</td>\n      <td>0.287987</td>\n      <td>0.164929</td>\n      <td>-0.659698</td>\n    </tr>\n    <tr>\n      <th>2042</th>\n      <td>0.605545</td>\n      <td>-1.129617</td>\n      <td>-0.950401</td>\n      <td>-0.295993</td>\n      <td>-0.631733</td>\n      <td>0.919994</td>\n      <td>0.505321</td>\n      <td>-0.005155</td>\n      <td>-0.081128</td>\n      <td>-0.820627</td>\n      <td>...</td>\n      <td>-0.165525</td>\n      <td>-0.708621</td>\n      <td>-0.256763</td>\n      <td>-1.315068</td>\n      <td>-0.673670</td>\n      <td>1.243505</td>\n      <td>-1.199325</td>\n      <td>0.580228</td>\n      <td>-0.535140</td>\n      <td>-0.420496</td>\n    </tr>\n    <tr>\n      <th>2043</th>\n      <td>0.472806</td>\n      <td>-1.226938</td>\n      <td>-0.180570</td>\n      <td>-0.257150</td>\n      <td>0.542446</td>\n      <td>-0.252315</td>\n      <td>-0.017301</td>\n      <td>-0.298783</td>\n      <td>0.074320</td>\n      <td>-0.625084</td>\n      <td>...</td>\n      <td>-0.076798</td>\n      <td>-0.436186</td>\n      <td>-0.335524</td>\n      <td>0.183758</td>\n      <td>-0.854788</td>\n      <td>0.155274</td>\n      <td>0.563584</td>\n      <td>-0.366249</td>\n      <td>0.344965</td>\n      <td>0.559003</td>\n    </tr>\n    <tr>\n      <th>2044</th>\n      <td>-0.375108</td>\n      <td>1.079389</td>\n      <td>-0.513797</td>\n      <td>0.235272</td>\n      <td>0.693821</td>\n      <td>-0.664105</td>\n      <td>-0.736154</td>\n      <td>-0.063929</td>\n      <td>0.021181</td>\n      <td>0.505317</td>\n      <td>...</td>\n      <td>-0.963240</td>\n      <td>0.588151</td>\n      <td>-0.583438</td>\n      <td>0.153053</td>\n      <td>0.286467</td>\n      <td>0.221786</td>\n      <td>0.368910</td>\n      <td>-0.721660</td>\n      <td>0.317417</td>\n      <td>0.907246</td>\n    </tr>\n    <tr>\n      <th>2045</th>\n      <td>-0.423011</td>\n      <td>0.082118</td>\n      <td>0.398396</td>\n      <td>0.650823</td>\n      <td>0.160136</td>\n      <td>1.086988</td>\n      <td>1.355408</td>\n      <td>-0.974790</td>\n      <td>-0.144399</td>\n      <td>1.288879</td>\n      <td>...</td>\n      <td>-1.299525</td>\n      <td>-0.596354</td>\n      <td>-0.186385</td>\n      <td>-0.187787</td>\n      <td>-0.171575</td>\n      <td>-0.159339</td>\n      <td>0.157518</td>\n      <td>-0.339561</td>\n      <td>0.114189</td>\n      <td>0.519371</td>\n    </tr>\n  </tbody>\n</table>\n<p>2046 rows × 1000 columns</p>\n</div>"
     },
     "execution_count": 32,
     "metadata": {},
     "output_type": "execute_result"
    }
   ],
   "source": [
    "import pandas as pd\n",
    "image_filelist = pd.DataFrame(image_dataset.imgs)[0]\n",
    "print(image_filelist)\n",
    "pd.DataFrame(np_emb)"
   ],
   "metadata": {
    "collapsed": false
   }
  },
  {
   "cell_type": "markdown",
   "source": [],
   "metadata": {
    "collapsed": false
   }
  },
  {
   "cell_type": "code",
   "execution_count": 39,
   "outputs": [],
   "source": [
    "np.savez('./embeddings.npz', embedding = np_emb, filelist= image_filelist)"
   ],
   "metadata": {
    "collapsed": false
   }
  },
  {
   "cell_type": "code",
   "execution_count": 40,
   "outputs": [],
   "source": [
    "dataset = np.load('./embeddings.npz', allow_pickle=True)"
   ],
   "metadata": {
    "collapsed": false
   }
  },
  {
   "cell_type": "code",
   "execution_count": 41,
   "outputs": [
    {
     "data": {
      "text/plain": "['embedding', 'filelist']"
     },
     "execution_count": 41,
     "metadata": {},
     "output_type": "execute_result"
    }
   ],
   "source": [
    "dataset.files"
   ],
   "metadata": {
    "collapsed": false
   }
  },
  {
   "cell_type": "code",
   "execution_count": 42,
   "outputs": [
    {
     "data": {
      "text/plain": "array([[ 0.00912803, -0.25876838,  0.90602994, ...,  0.49123323,\n        -0.26627243,  1.1696177 ],\n       [ 0.02129145, -0.15551698, -1.0299437 , ...,  1.5682373 ,\n         1.5766516 , -0.5142735 ],\n       [ 0.19656004, -0.27539194, -0.6774335 , ..., -0.7160982 ,\n         0.07913453, -0.9003638 ],\n       ...,\n       [ 0.47280562, -1.2269382 , -0.18056962, ..., -0.3662488 ,\n         0.34496453,  0.5590035 ],\n       [-0.37510815,  1.0793887 , -0.5137969 , ..., -0.72166   ,\n         0.3174172 ,  0.9072465 ],\n       [-0.42301095,  0.08211797,  0.39839602, ..., -0.33956146,\n         0.11418936,  0.5193708 ]], dtype=float32)"
     },
     "execution_count": 42,
     "metadata": {},
     "output_type": "execute_result"
    }
   ],
   "source": [
    "dataset['embedding']"
   ],
   "metadata": {
    "collapsed": false
   }
  },
  {
   "cell_type": "code",
   "execution_count": 43,
   "outputs": [],
   "source": [
    "from sklearn.decomposition import PCA\n",
    "\n",
    "pca = PCA(n_components=16)\n",
    "pca_embeddings = pca.fit_transform(dataset['embedding'])"
   ],
   "metadata": {
    "collapsed": false
   }
  },
  {
   "cell_type": "code",
   "execution_count": 44,
   "outputs": [],
   "source": [
    "from scipy.cluster.vq import kmeans2\n",
    "centroid, label = kmeans2(pca_embeddings,10, minit = 'points')"
   ],
   "metadata": {
    "collapsed": false
   }
  },
  {
   "cell_type": "code",
   "execution_count": 45,
   "outputs": [
    {
     "data": {
      "text/plain": "array([5, 7, 3, ..., 8, 1, 8], dtype=int32)"
     },
     "execution_count": 45,
     "metadata": {},
     "output_type": "execute_result"
    }
   ],
   "source": [
    "label"
   ],
   "metadata": {
    "collapsed": false
   }
  },
  {
   "cell_type": "code",
   "execution_count": 46,
   "outputs": [
    {
     "data": {
      "text/plain": "array([[-9.943538  , -3.444783  , -3.2353764 , -0.19150956, -2.6320329 ,\n         1.1864831 , -0.5782998 , -0.909841  , -0.4444153 , -0.69344157,\n        -0.03240251, -0.6656356 , -0.28803185, -0.52492714, -0.3007151 ,\n         0.40100163],\n       [-2.0967565 , -0.9850636 ,  5.6717005 , -2.462776  ,  0.89416456,\n         0.7870207 ,  1.7520456 ,  0.5525641 , -0.08558837, -0.62754494,\n        -0.3082773 ,  0.5600372 , -0.5423872 ,  0.549855  ,  0.47841507,\n        -0.10468881],\n       [10.185325  , -1.8202077 , -3.2737286 , -0.33563462, -2.77764   ,\n        -0.4267909 , -1.6254463 ,  1.6824    ,  0.7773259 , -2.5493906 ,\n         0.72134066, -0.15452147,  0.09555764,  1.4169027 , -1.4222674 ,\n        -0.3105478 ],\n       [-3.1266623 , 10.105852  ,  2.5987244 , -1.4952128 , -1.6958619 ,\n        -2.5569208 , -2.6084569 , -0.6523305 ,  1.0154732 ,  0.45949623,\n         0.436546  , -0.21274374,  1.4631659 , -0.4955795 , -0.247575  ,\n        -0.26237062],\n       [ 0.5051641 , -6.642111  ,  5.928337  ,  2.8081317 ,  2.1320612 ,\n        -2.391027  , -1.1469411 ,  0.40716872, -0.81223243,  0.93578696,\n         0.4005403 , -1.7120998 , -0.78478855, -0.51150846, -1.0758933 ,\n         0.11898088],\n       [ 4.654863  , -3.6652436 ,  1.0083069 ,  1.4624681 , -0.6764311 ,\n         0.88395184, -1.0682948 ,  0.19326776,  1.7707146 ,  1.6943963 ,\n         2.3244724 ,  1.4398667 ,  1.2038143 , -0.15895464,  1.0494795 ,\n        -0.2087106 ],\n       [ 8.8684845 , -1.7084697 , -3.1167705 , -5.5351725 , -0.63650566,\n        -1.895578  ,  1.4355959 , -1.8422467 , -0.77839285,  0.6467355 ,\n        -1.611178  , -1.1124243 , -0.7994361 , -0.9803066 ,  0.35182697,\n         0.19576769],\n       [ 2.2884257 ,  5.060525  , -0.11606081,  4.383008  ,  0.53640234,\n         1.7372873 ,  3.5347846 , -0.30621576,  0.1377653 , -1.0526968 ,\n        -0.20061909, -0.79559606, -0.37265262, -0.6661976 , -0.35311794,\n         0.24773929],\n       [-4.459233  , -0.72144854, -4.602208  ,  0.7363501 ,  3.7801275 ,\n        -1.7344606 ,  0.71117187,  1.1763501 ,  0.64277893,  0.5857868 ,\n        -0.7494308 ,  1.0890228 ,  0.5724551 ,  0.88561976,  0.13704094,\n        -0.31074327],\n       [ 3.6534386 ,  3.697385  , -1.4393257 ,  0.92865336,  1.7561985 ,\n         3.1057808 , -1.866366  , -0.06833275, -2.8958645 ,  1.1762707 ,\n        -1.1335404 ,  1.1188798 , -0.77416277,  0.6280779 ,  1.0022821 ,\n         0.13028118]], dtype=float32)"
     },
     "execution_count": 46,
     "metadata": {},
     "output_type": "execute_result"
    }
   ],
   "source": [
    "centroid"
   ],
   "metadata": {
    "collapsed": false
   }
  },
  {
   "cell_type": "code",
   "execution_count": 47,
   "outputs": [
    {
     "data": {
      "text/plain": "array([294, 280, 155, 204, 150, 207, 160, 218, 218, 160])"
     },
     "execution_count": 47,
     "metadata": {},
     "output_type": "execute_result"
    }
   ],
   "source": [
    "np.bincount(label)"
   ],
   "metadata": {
    "collapsed": false
   }
  },
  {
   "cell_type": "code",
   "execution_count": 48,
   "outputs": [],
   "source": [
    "import itertools\n",
    "\n",
    "for label_number in range(10) :\n",
    "    label_mask = label_number == label\n",
    "    cluster_images = list(itertools.compress(dataset['filelist'], label_mask))"
   ],
   "metadata": {
    "collapsed": false
   }
  },
  {
   "cell_type": "code",
   "execution_count": 50,
   "outputs": [
    {
     "data": {
      "text/plain": "160"
     },
     "execution_count": 50,
     "metadata": {},
     "output_type": "execute_result"
    }
   ],
   "source": [
    "len(cluster_images)"
   ],
   "metadata": {
    "collapsed": false
   }
  },
  {
   "cell_type": "code",
   "execution_count": 58,
   "outputs": [
    {
     "ename": "FileNotFoundError",
     "evalue": "[Errno 2] No such file or directory: './output/0/'",
     "output_type": "error",
     "traceback": [
      "\u001B[0;31m---------------------------------------------------------------------------\u001B[0m",
      "\u001B[0;31mFileNotFoundError\u001B[0m                         Traceback (most recent call last)",
      "Cell \u001B[0;32mIn[58], line 3\u001B[0m\n\u001B[1;32m      1\u001B[0m \u001B[38;5;28;01mimport\u001B[39;00m \u001B[38;5;21;01mos\u001B[39;00m\n\u001B[1;32m      2\u001B[0m \u001B[38;5;28;01mfor\u001B[39;00m i \u001B[38;5;129;01min\u001B[39;00m \u001B[38;5;28mrange\u001B[39m(\u001B[38;5;241m10\u001B[39m) :\n\u001B[0;32m----> 3\u001B[0m     \u001B[43mos\u001B[49m\u001B[38;5;241;43m.\u001B[39;49m\u001B[43mmkdir\u001B[49m\u001B[43m(\u001B[49m\u001B[38;5;124;43mf\u001B[39;49m\u001B[38;5;124;43m'\u001B[39;49m\u001B[38;5;124;43m./output/\u001B[39;49m\u001B[38;5;132;43;01m{\u001B[39;49;00m\u001B[43mi\u001B[49m\u001B[38;5;132;43;01m}\u001B[39;49;00m\u001B[38;5;124;43m/\u001B[39;49m\u001B[38;5;124;43m'\u001B[39;49m\u001B[43m)\u001B[49m\n",
      "\u001B[0;31mFileNotFoundError\u001B[0m: [Errno 2] No such file or directory: './output/0/'"
     ]
    }
   ],
   "source": [
    "import os\n",
    "for i in range(10) :\n",
    "    os.mkdir(f'./output/{i}/')"
   ],
   "metadata": {
    "collapsed": false
   }
  },
  {
   "cell_type": "code",
   "execution_count": null,
   "outputs": [],
   "source": [],
   "metadata": {
    "collapsed": false
   }
  }
 ],
 "metadata": {
  "kernelspec": {
   "display_name": "Python 3",
   "language": "python",
   "name": "python3"
  },
  "language_info": {
   "codemirror_mode": {
    "name": "ipython",
    "version": 2
   },
   "file_extension": ".py",
   "mimetype": "text/x-python",
   "name": "python",
   "nbconvert_exporter": "python",
   "pygments_lexer": "ipython2",
   "version": "2.7.6"
  }
 },
 "nbformat": 4,
 "nbformat_minor": 0
}
