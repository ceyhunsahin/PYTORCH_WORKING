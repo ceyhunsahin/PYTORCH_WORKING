{
 "cells": [
  {
   "cell_type": "code",
   "execution_count": 1,
   "metadata": {
    "collapsed": true
   },
   "outputs": [],
   "source": [
    "import numpy as np"
   ]
  },
  {
   "cell_type": "code",
   "execution_count": 6,
   "outputs": [
    {
     "name": "stdout",
     "output_type": "stream",
     "text": [
      "[2 1 3 0 1]\n",
      "[0. 0.]\n",
      "[0. 0. 1. 3. 2. 4. 5. 6. 1. 3. 0. 0.]\n",
      "Conv1d Implementation: [ 5. 14. 16. 26. 24. 34. 19. 22.]\n",
      "**************************************************\n",
      "NumPy Results: [ 5 14 16 26 24 34 19 22]\n"
     ]
    }
   ],
   "source": [
    "def conv1d(x,w,p=0,s=1):\n",
    "    w_rot = np.array(w[::-1]) # W rotate\n",
    "    print(w_rot)\n",
    "    x_padded = np.array(x)\n",
    "    if p > 0 :\n",
    "        zero_pad = np.zeros((p))\n",
    "        print(zero_pad)\n",
    "        x_padded = np.concatenate([zero_pad, x_padded, zero_pad])\n",
    "        print(x_padded)\n",
    "    res = []\n",
    "    for i in range(0, int((len(x_padded)- len(w_rot))) + 1, s): # 12-4+1 = 9, stride = 1\n",
    "        res.append(np.sum(x_padded[i:i+w_rot.shape[0]] * w_rot)) # w_rot.shape[0] = 5\n",
    "    return np.array(res)\n",
    "\n",
    "x = [1, 3, 2, 4, 5, 6, 1, 3]\n",
    "w = [1, 0, 3, 1, 2]\n",
    "print('Conv1d Implementation:',conv1d(x, w, p=2, s=1))\n",
    "\n",
    "print( '*' * 50)\n",
    "\n",
    "print('NumPy Results:', np.convolve(x, w, mode='same'))\n",
    "\n"
   ],
   "metadata": {
    "collapsed": false
   }
  },
  {
   "cell_type": "code",
   "execution_count": null,
   "outputs": [],
   "source": [],
   "metadata": {
    "collapsed": false
   }
  }
 ],
 "metadata": {
  "kernelspec": {
   "display_name": "Python 3",
   "language": "python",
   "name": "python3"
  },
  "language_info": {
   "codemirror_mode": {
    "name": "ipython",
    "version": 2
   },
   "file_extension": ".py",
   "mimetype": "text/x-python",
   "name": "python",
   "nbconvert_exporter": "python",
   "pygments_lexer": "ipython2",
   "version": "2.7.6"
  }
 },
 "nbformat": 4,
 "nbformat_minor": 0
}
