{
 "cells": [
  {
   "cell_type": "markdown",
   "id": "a474d952",
   "metadata": {},
   "source": [
    "### Creating Tensor"
   ]
  },
  {
   "cell_type": "code",
   "execution_count": 1,
   "id": "19b15e92",
   "metadata": {},
   "outputs": [
    {
     "name": "stdout",
     "output_type": "stream",
     "text": [
      "tensor([[0.9073, 0.2172, 0.6537],\n",
      "        [0.7675, 0.3216, 0.1671],\n",
      "        [0.7616, 0.7060, 0.4245],\n",
      "        [0.9277, 0.3415, 0.1208],\n",
      "        [0.5731, 0.5188, 0.6038]])\n"
     ]
    }
   ],
   "source": [
    "import torch\n",
    "x = torch.rand(5, 3)\n",
    "print(x)"
   ]
  },
  {
   "cell_type": "code",
   "execution_count": 2,
   "id": "5e10fe8e",
   "metadata": {},
   "outputs": [],
   "source": [
    "def describe(x):\n",
    "    print(\"Type: {}\".format(x.type()))\n",
    "    print(\"Shape/size: {}\".format(x.shape))\n",
    "    print(\"Values: \\n{}\".format(x))"
   ]
  },
  {
   "cell_type": "code",
   "execution_count": 3,
   "id": "3789411c",
   "metadata": {},
   "outputs": [
    {
     "name": "stdout",
     "output_type": "stream",
     "text": [
      "Type: torch.FloatTensor\n",
      "Shape/size: torch.Size([5, 3])\n",
      "Values: \n",
      "tensor([[0.9073, 0.2172, 0.6537],\n",
      "        [0.7675, 0.3216, 0.1671],\n",
      "        [0.7616, 0.7060, 0.4245],\n",
      "        [0.9277, 0.3415, 0.1208],\n",
      "        [0.5731, 0.5188, 0.6038]])\n"
     ]
    }
   ],
   "source": [
    "describe(x)"
   ]
  },
  {
   "cell_type": "markdown",
   "id": "3b5763d0",
   "metadata": {},
   "source": [
    "#### Creating a tensor in PyTorch with torch.Tensor"
   ]
  },
  {
   "cell_type": "code",
   "execution_count": 4,
   "id": "b6c3a163",
   "metadata": {},
   "outputs": [
    {
     "name": "stdout",
     "output_type": "stream",
     "text": [
      "Type: torch.FloatTensor\n",
      "Shape/size: torch.Size([2, 3])\n",
      "Values: \n",
      "tensor([[ 0.0000e+00,  3.6893e+19, -1.5908e-18],\n",
      "        [ 4.6577e-10,  1.5352e-20,  4.5775e-41]])\n"
     ]
    }
   ],
   "source": [
    "x1 = torch.Tensor(2,3); describe(x1)"
   ]
  },
  {
   "cell_type": "code",
   "execution_count": 7,
   "id": "9b978d77",
   "metadata": {},
   "outputs": [
    {
     "name": "stdout",
     "output_type": "stream",
     "text": [
      "Type: torch.FloatTensor\n",
      "Shape/size: torch.Size([2, 3])\n",
      "Values: \n",
      "tensor([[0.1295, 0.2590, 0.9648],\n",
      "        [0.3484, 0.3205, 0.5693]])\n"
     ]
    }
   ],
   "source": [
    "x2 = torch.rand(2,3); describe(x2)"
   ]
  },
  {
   "cell_type": "code",
   "execution_count": 19,
   "id": "769f7c91",
   "metadata": {},
   "outputs": [
    {
     "name": "stdout",
     "output_type": "stream",
     "text": [
      "Type: torch.FloatTensor\n",
      "Shape/size: torch.Size([2, 3])\n",
      "Values: \n",
      "tensor([[-0.0314,  1.2113, -0.6134],\n",
      "        [ 0.2802, -0.3051,  0.2266]])\n"
     ]
    }
   ],
   "source": [
    "x3 = torch.randn(2,3); describe(x3)"
   ]
  },
  {
   "cell_type": "markdown",
   "id": "ee78d2ce",
   "metadata": {},
   "source": [
    "#### *fill_* method for creating zeros and ones"
   ]
  },
  {
   "cell_type": "code",
   "execution_count": 20,
   "id": "06a81fa1",
   "metadata": {},
   "outputs": [
    {
     "data": {
      "text/plain": [
       "tensor([[0., 0., 0.],\n",
       "        [0., 0., 0.]])"
      ]
     },
     "execution_count": 20,
     "metadata": {},
     "output_type": "execute_result"
    }
   ],
   "source": [
    "x4 = torch.zeros(2,3);x4"
   ]
  },
  {
   "cell_type": "code",
   "execution_count": 21,
   "id": "dd025ce2",
   "metadata": {},
   "outputs": [
    {
     "data": {
      "text/plain": [
       "tensor([[1., 1., 1.],\n",
       "        [1., 1., 1.]])"
      ]
     },
     "execution_count": 21,
     "metadata": {},
     "output_type": "execute_result"
    }
   ],
   "source": [
    "x5 = torch.ones(2,3); x5"
   ]
  },
  {
   "cell_type": "code",
   "execution_count": 22,
   "id": "f7ff2dac",
   "metadata": {},
   "outputs": [
    {
     "name": "stdout",
     "output_type": "stream",
     "text": [
      "Type: torch.FloatTensor\n",
      "Shape/size: torch.Size([2, 3])\n",
      "Values: \n",
      "tensor([[3., 3., 3.],\n",
      "        [3., 3., 3.]])\n"
     ]
    }
   ],
   "source": [
    "x4.fill_(3); describe(x4)"
   ]
  },
  {
   "cell_type": "code",
   "execution_count": 23,
   "id": "25f23c4c",
   "metadata": {},
   "outputs": [
    {
     "name": "stdout",
     "output_type": "stream",
     "text": [
      "Type: torch.FloatTensor\n",
      "Shape/size: torch.Size([2, 3])\n",
      "Values: \n",
      "tensor([[5., 5., 5.],\n",
      "        [5., 5., 5.]])\n"
     ]
    }
   ],
   "source": [
    "x5.fill_(5); describe(x5)"
   ]
  },
  {
   "cell_type": "markdown",
   "id": "4ae730c9",
   "metadata": {},
   "source": [
    "### Creating and initializing a tensor from lists"
   ]
  },
  {
   "cell_type": "code",
   "execution_count": 33,
   "id": "92f42707",
   "metadata": {},
   "outputs": [
    {
     "name": "stdout",
     "output_type": "stream",
     "text": [
      "Type: torch.FloatTensor\n",
      "Shape/size: torch.Size([2, 3])\n",
      "Values: \n",
      "tensor([[1., 2., 3.],\n",
      "        [4., 5., 6.]])\n"
     ]
    }
   ],
   "source": [
    "x = torch.Tensor([[1,2,3],\n",
    "                [4,5,6]]) ; describe(x)"
   ]
  },
  {
   "cell_type": "markdown",
   "id": "e11e5d74",
   "metadata": {},
   "source": [
    "### Creating and initializing a tensor from NumPy"
   ]
  },
  {
   "cell_type": "code",
   "execution_count": 27,
   "id": "27d4826a",
   "metadata": {},
   "outputs": [],
   "source": [
    "import numpy as np"
   ]
  },
  {
   "cell_type": "code",
   "execution_count": 32,
   "id": "e03a7d7e",
   "metadata": {},
   "outputs": [
    {
     "name": "stdout",
     "output_type": "stream",
     "text": [
      "Type: torch.DoubleTensor\n",
      "Shape/size: torch.Size([2, 4])\n",
      "Values: \n",
      "tensor([[-0.4087,  0.2325, -1.8469, -1.5877],\n",
      "        [ 0.7351,  2.7145,  0.7560,  0.8620]], dtype=torch.float64)\n"
     ]
    }
   ],
   "source": [
    "x = np.random.randn(2,4)\n",
    "x_torch = torch.from_numpy(x); describe(x_torch) # it has an attr from_numpy"
   ]
  },
  {
   "cell_type": "markdown",
   "id": "47e6f0aa",
   "metadata": {},
   "source": [
    "### Tensor Types and Size"
   ]
  },
  {
   "cell_type": "code",
   "execution_count": 35,
   "id": "fcfbc0c0",
   "metadata": {},
   "outputs": [
    {
     "name": "stdout",
     "output_type": "stream",
     "text": [
      "Type: torch.FloatTensor\n",
      "Shape/size: torch.Size([2, 3])\n",
      "Values: \n",
      "tensor([[1., 2., 3.],\n",
      "        [4., 5., 6.]])\n"
     ]
    }
   ],
   "source": [
    "x = torch.FloatTensor([[1,2,3],[4,5,6]]); describe(x)"
   ]
  },
  {
   "cell_type": "code",
   "execution_count": 37,
   "id": "43bfa204",
   "metadata": {},
   "outputs": [
    {
     "name": "stdout",
     "output_type": "stream",
     "text": [
      "Type: torch.LongTensor\n",
      "Shape/size: torch.Size([2, 3])\n",
      "Values: \n",
      "tensor([[1, 2, 3],\n",
      "        [4, 5, 6]])\n"
     ]
    }
   ],
   "source": [
    "x = x.long(); describe(x)"
   ]
  },
  {
   "cell_type": "code",
   "execution_count": 44,
   "id": "072a89c5",
   "metadata": {},
   "outputs": [
    {
     "name": "stdout",
     "output_type": "stream",
     "text": [
      "Type: torch.LongTensor\n",
      "Shape/size: torch.Size([2, 3])\n",
      "Values: \n",
      "tensor([[1, 2, 3],\n",
      "        [4, 5, 6]])\n"
     ]
    }
   ],
   "source": [
    "x = torch.tensor([[1,2,3],[4,5,6]], dtype = torch.int64); describe(x) # torch.Tensor normally used"
   ]
  },
  {
   "cell_type": "code",
   "execution_count": 46,
   "id": "ddc2a0b7",
   "metadata": {},
   "outputs": [
    {
     "name": "stdout",
     "output_type": "stream",
     "text": [
      "Type: torch.FloatTensor\n",
      "Shape/size: torch.Size([2, 3])\n",
      "Values: \n",
      "tensor([[1., 2., 3.],\n",
      "        [4., 5., 6.]])\n"
     ]
    }
   ],
   "source": [
    "x = x.float(); describe(x)"
   ]
  },
  {
   "cell_type": "code",
   "execution_count": 47,
   "id": "e6bd27bf",
   "metadata": {},
   "outputs": [
    {
     "data": {
      "text/plain": [
       "torch.Size([2, 3])"
      ]
     },
     "execution_count": 47,
     "metadata": {},
     "output_type": "execute_result"
    }
   ],
   "source": [
    "x.size()"
   ]
  },
  {
   "cell_type": "markdown",
   "id": "e5ebcf7d",
   "metadata": {},
   "source": [
    "### Tensor Operations"
   ]
  },
  {
   "cell_type": "code",
   "execution_count": 49,
   "id": "22cb7ea8",
   "metadata": {},
   "outputs": [
    {
     "name": "stdout",
     "output_type": "stream",
     "text": [
      "Type: torch.FloatTensor\n",
      "Shape/size: torch.Size([2, 3])\n",
      "Values: \n",
      "tensor([[ 2.,  4.,  6.],\n",
      "        [ 8., 10., 12.]])\n"
     ]
    }
   ],
   "source": [
    "describe(torch.add(x,x))"
   ]
  },
  {
   "cell_type": "code",
   "execution_count": 50,
   "id": "c36e4d71",
   "metadata": {},
   "outputs": [
    {
     "name": "stdout",
     "output_type": "stream",
     "text": [
      "Type: torch.FloatTensor\n",
      "Shape/size: torch.Size([2, 3])\n",
      "Values: \n",
      "tensor([[ 2.,  4.,  6.],\n",
      "        [ 8., 10., 12.]])\n"
     ]
    }
   ],
   "source": [
    "describe(x+x)"
   ]
  },
  {
   "cell_type": "code",
   "execution_count": 55,
   "id": "dfa699b0",
   "metadata": {},
   "outputs": [
    {
     "name": "stdout",
     "output_type": "stream",
     "text": [
      "Type: torch.LongTensor\n",
      "Shape/size: torch.Size([2, 3])\n",
      "Values: \n",
      "tensor([[3, 5, 2],\n",
      "        [4, 4, 2]])\n"
     ]
    }
   ],
   "source": [
    "y = np.array([[3,5,2],[4,4,2]])\n",
    "y = torch.from_numpy(y)\n",
    "describe(y)"
   ]
  },
  {
   "cell_type": "code",
   "execution_count": 56,
   "id": "6baf18f0",
   "metadata": {},
   "outputs": [
    {
     "name": "stdout",
     "output_type": "stream",
     "text": [
      "Type: torch.FloatTensor\n",
      "Shape/size: torch.Size([2, 3])\n",
      "Values: \n",
      "tensor([[4., 7., 5.],\n",
      "        [8., 9., 8.]])\n"
     ]
    }
   ],
   "source": [
    "describe(x+y)"
   ]
  },
  {
   "cell_type": "code",
   "execution_count": 57,
   "id": "fc476c09",
   "metadata": {},
   "outputs": [
    {
     "data": {
      "text/plain": [
       "tensor([0, 1, 2, 3, 4, 5])"
      ]
     },
     "execution_count": 57,
     "metadata": {},
     "output_type": "execute_result"
    }
   ],
   "source": [
    "a = torch.arange(6);a"
   ]
  },
  {
   "cell_type": "code",
   "execution_count": 61,
   "id": "0836f8ca",
   "metadata": {},
   "outputs": [
    {
     "data": {
      "text/plain": [
       "tensor([[0, 1, 2],\n",
       "        [3, 4, 5]])"
      ]
     },
     "execution_count": 61,
     "metadata": {},
     "output_type": "execute_result"
    }
   ],
   "source": [
    "a = a.view(2,3); a"
   ]
  },
  {
   "cell_type": "code",
   "execution_count": 64,
   "id": "ea128aea",
   "metadata": {},
   "outputs": [
    {
     "name": "stdout",
     "output_type": "stream",
     "text": [
      "Type: torch.LongTensor\n",
      "Shape/size: torch.Size([3])\n",
      "Values: \n",
      "tensor([3, 5, 7])\n"
     ]
    }
   ],
   "source": [
    "describe(torch.sum(a, dim=0))"
   ]
  },
  {
   "cell_type": "code",
   "execution_count": 65,
   "id": "ce1d49a8",
   "metadata": {},
   "outputs": [
    {
     "name": "stdout",
     "output_type": "stream",
     "text": [
      "Type: torch.LongTensor\n",
      "Shape/size: torch.Size([2])\n",
      "Values: \n",
      "tensor([ 3, 12])\n"
     ]
    }
   ],
   "source": [
    "describe(torch.sum(a, dim=1))"
   ]
  },
  {
   "cell_type": "code",
   "execution_count": 73,
   "id": "1c7298c7",
   "metadata": {},
   "outputs": [
    {
     "name": "stdout",
     "output_type": "stream",
     "text": [
      "Type: torch.LongTensor\n",
      "Shape/size: torch.Size([3, 2])\n",
      "Values: \n",
      "tensor([[0, 3],\n",
      "        [1, 4],\n",
      "        [2, 5]])\n"
     ]
    }
   ],
   "source": [
    "describe(torch.transpose(a,0,1))"
   ]
  },
  {
   "cell_type": "markdown",
   "id": "473a3b4d",
   "metadata": {},
   "source": [
    "### Indexing, Slicing, and Joining"
   ]
  },
  {
   "cell_type": "code",
   "execution_count": 75,
   "id": "e242b698",
   "metadata": {},
   "outputs": [
    {
     "data": {
      "text/plain": [
       "tensor([[0, 1, 2],\n",
       "        [3, 4, 5]])"
      ]
     },
     "execution_count": 75,
     "metadata": {},
     "output_type": "execute_result"
    }
   ],
   "source": [
    "a "
   ]
  },
  {
   "cell_type": "code",
   "execution_count": 81,
   "id": "7185ba19",
   "metadata": {},
   "outputs": [
    {
     "name": "stdout",
     "output_type": "stream",
     "text": [
      "Type: torch.LongTensor\n",
      "Shape/size: torch.Size([1, 3])\n",
      "Values: \n",
      "tensor([[0, 1, 2]])\n"
     ]
    }
   ],
   "source": [
    "describe(a[:1,:3])"
   ]
  },
  {
   "cell_type": "code",
   "execution_count": 82,
   "id": "987898d1",
   "metadata": {},
   "outputs": [
    {
     "name": "stdout",
     "output_type": "stream",
     "text": [
      "Type: torch.LongTensor\n",
      "Shape/size: torch.Size([])\n",
      "Values: \n",
      "4\n"
     ]
    }
   ],
   "source": [
    "describe(a[1,1])"
   ]
  },
  {
   "cell_type": "markdown",
   "id": "d23ed8f1",
   "metadata": {},
   "source": [
    "#### for complex indexing and slicing operations"
   ]
  },
  {
   "cell_type": "code",
   "execution_count": 88,
   "id": "4f8571ae",
   "metadata": {},
   "outputs": [
    {
     "data": {
      "text/plain": [
       "tensor([0, 1])"
      ]
     },
     "execution_count": 88,
     "metadata": {},
     "output_type": "execute_result"
    }
   ],
   "source": [
    "ind = torch.LongTensor([0,1])\n",
    "ind"
   ]
  },
  {
   "cell_type": "code",
   "execution_count": 89,
   "id": "f959b97a",
   "metadata": {},
   "outputs": [
    {
     "data": {
      "text/plain": [
       "tensor([[1., 2., 3.],\n",
       "        [4., 5., 6.]])"
      ]
     },
     "execution_count": 89,
     "metadata": {},
     "output_type": "execute_result"
    }
   ],
   "source": [
    "x"
   ]
  },
  {
   "cell_type": "code",
   "execution_count": 91,
   "id": "063ad6c8",
   "metadata": {},
   "outputs": [
    {
     "data": {
      "text/plain": [
       "tensor([[1., 2.],\n",
       "        [4., 5.]])"
      ]
     },
     "execution_count": 91,
     "metadata": {},
     "output_type": "execute_result"
    }
   ],
   "source": [
    "torch.index_select(x, dim=1, index = ind)"
   ]
  },
  {
   "cell_type": "code",
   "execution_count": 95,
   "id": "b8a4efa6",
   "metadata": {},
   "outputs": [
    {
     "name": "stdout",
     "output_type": "stream",
     "text": [
      "Type: torch.FloatTensor\n",
      "Shape/size: torch.Size([2])\n",
      "Values: \n",
      "tensor([1., 5.])\n"
     ]
    }
   ],
   "source": [
    "row_indices = torch.arange(2).long()\n",
    "col_indices = torch.LongTensor([0, 1])\n",
    "describe(x[row_indices, col_indices])"
   ]
  },
  {
   "cell_type": "markdown",
   "id": "d95af30e",
   "metadata": {},
   "source": [
    "### Concatenating tensors"
   ]
  },
  {
   "cell_type": "code",
   "execution_count": 118,
   "id": "138ae12b",
   "metadata": {},
   "outputs": [],
   "source": [
    "x = torch.arange(6).view(2,3)"
   ]
  },
  {
   "cell_type": "code",
   "execution_count": 119,
   "id": "d6813c38",
   "metadata": {},
   "outputs": [
    {
     "data": {
      "text/plain": [
       "tensor([[0, 1, 2],\n",
       "        [3, 4, 5],\n",
       "        [0, 1, 2],\n",
       "        [3, 4, 5]])"
      ]
     },
     "execution_count": 119,
     "metadata": {},
     "output_type": "execute_result"
    }
   ],
   "source": [
    "torch.cat([x,x])"
   ]
  },
  {
   "cell_type": "code",
   "execution_count": 120,
   "id": "4d5ce4ce",
   "metadata": {},
   "outputs": [
    {
     "data": {
      "text/plain": [
       "tensor([[0, 1, 2, 0, 1, 2],\n",
       "        [3, 4, 5, 3, 4, 5]])"
      ]
     },
     "execution_count": 120,
     "metadata": {},
     "output_type": "execute_result"
    }
   ],
   "source": [
    "torch.cat([x,x], dim=1)"
   ]
  },
  {
   "cell_type": "code",
   "execution_count": 121,
   "id": "c0e35237",
   "metadata": {},
   "outputs": [
    {
     "data": {
      "text/plain": [
       "tensor([[[0, 1, 2],\n",
       "         [3, 4, 5]],\n",
       "\n",
       "        [[0, 1, 2],\n",
       "         [3, 4, 5]]])"
      ]
     },
     "execution_count": 121,
     "metadata": {},
     "output_type": "execute_result"
    }
   ],
   "source": [
    "torch.stack([x,x])"
   ]
  },
  {
   "cell_type": "markdown",
   "id": "6516c75b",
   "metadata": {},
   "source": [
    "### Linear algebra on tensors: multiplication"
   ]
  },
  {
   "cell_type": "code",
   "execution_count": 111,
   "id": "648f2cdc",
   "metadata": {},
   "outputs": [
    {
     "name": "stdout",
     "output_type": "stream",
     "text": [
      "Type: torch.LongTensor\n",
      "Shape/size: torch.Size([2, 3])\n",
      "Values: \n",
      "tensor([[0, 1, 2],\n",
      "        [3, 4, 5]])\n"
     ]
    }
   ],
   "source": [
    "x1 = torch.arange(6).view(2,3);describe(x1)"
   ]
  },
  {
   "cell_type": "code",
   "execution_count": 112,
   "id": "ad8b92c2",
   "metadata": {},
   "outputs": [
    {
     "data": {
      "text/plain": [
       "tensor([[1., 1., 1.],\n",
       "        [1., 1., 1.]])"
      ]
     },
     "execution_count": 112,
     "metadata": {},
     "output_type": "execute_result"
    }
   ],
   "source": [
    "x2 = torch.ones(2,3)\n",
    "x2"
   ]
  },
  {
   "cell_type": "code",
   "execution_count": 113,
   "id": "3ace3a8e",
   "metadata": {},
   "outputs": [],
   "source": [
    "x2[:,1] +=1"
   ]
  },
  {
   "cell_type": "code",
   "execution_count": 116,
   "id": "626bcffa",
   "metadata": {},
   "outputs": [
    {
     "name": "stdout",
     "output_type": "stream",
     "text": [
      "Type: torch.LongTensor\n",
      "Shape/size: torch.Size([3, 2])\n",
      "Values: \n",
      "tensor([[1, 2],\n",
      "        [1, 1],\n",
      "        [2, 1]])\n"
     ]
    }
   ],
   "source": [
    "x2 = x2.view(3,2).long()\n",
    "describe(x2)"
   ]
  },
  {
   "cell_type": "code",
   "execution_count": 117,
   "id": "2cec233f",
   "metadata": {},
   "outputs": [
    {
     "name": "stdout",
     "output_type": "stream",
     "text": [
      "Type: torch.LongTensor\n",
      "Shape/size: torch.Size([2, 2])\n",
      "Values: \n",
      "tensor([[ 5,  3],\n",
      "        [17, 15]])\n"
     ]
    }
   ],
   "source": [
    "describe(torch.mm(x1,x2))"
   ]
  },
  {
   "cell_type": "markdown",
   "id": "ee04a679",
   "metadata": {},
   "source": [
    "## Tensors and Computational Graphs"
   ]
  },
  {
   "cell_type": "code",
   "execution_count": 131,
   "id": "7832abc2",
   "metadata": {},
   "outputs": [
    {
     "name": "stdout",
     "output_type": "stream",
     "text": [
      "Type: torch.FloatTensor\n",
      "Shape/size: torch.Size([2, 2])\n",
      "Values: \n",
      "tensor([[1., 1.],\n",
      "        [1., 1.]], requires_grad=True)\n",
      "True\n"
     ]
    }
   ],
   "source": [
    "x = torch.ones(2, 2, requires_grad=True) \n",
    "describe(x)\n",
    "print(x.grad is None)"
   ]
  },
  {
   "cell_type": "code",
   "execution_count": 132,
   "id": "9baf23f6",
   "metadata": {},
   "outputs": [
    {
     "name": "stdout",
     "output_type": "stream",
     "text": [
      "Type: torch.FloatTensor\n",
      "Shape/size: torch.Size([2, 2])\n",
      "Values: \n",
      "tensor([[21., 21.],\n",
      "        [21., 21.]], grad_fn=<AddBackward0>)\n",
      "True\n"
     ]
    }
   ],
   "source": [
    "y = (x**2 + 2) * (x + 5) + 3 \n",
    "describe(y)\n",
    "print(x.grad is None)"
   ]
  },
  {
   "cell_type": "code",
   "execution_count": 133,
   "id": "4579c6ab",
   "metadata": {},
   "outputs": [
    {
     "name": "stdout",
     "output_type": "stream",
     "text": [
      "Type: torch.FloatTensor\n",
      "Shape/size: torch.Size([])\n",
      "Values: \n",
      "21.0\n",
      "False\n"
     ]
    }
   ],
   "source": [
    "z = y.mean()\n",
    "describe(z)\n",
    "z.backward()\n",
    "print(x.grad is None)"
   ]
  },
  {
   "cell_type": "markdown",
   "id": "35c35a9e",
   "metadata": {},
   "source": [
    "When you create a tensor with requires_grad=True, you are requiring PyTorch to manage bookkeeping information that computes gradients. First, PyTorch will keep track of the values of the forward pass. Then, at the end of the computations, a single scalar is used to compute a backward pass. The backward pass is initiated by using the backward() method on a tensor resulting from the evaluation of a loss function."
   ]
  },
  {
   "cell_type": "markdown",
   "id": "245c5e47",
   "metadata": {},
   "source": [
    "## Exercises"
   ]
  },
  {
   "cell_type": "markdown",
   "id": "8a299de4",
   "metadata": {},
   "source": [
    "1. Create a 2D tensor and then add a dimension of size 1 inserted at dimension 0.\n",
    "2. Remove the extra dimension you just added to the previous tensor.\n",
    "3. Create a random tensor of shape 5x3 in the interval [3, 7)\n",
    "4. Create a tensor with values from a normal distribution (mean=0, std=1).\n",
    "5. Retrieve the indexes of all the nonzero elements in the tensor torch.Tensor([1, 1, 1, 0, 1]).\n",
    "6. Create a random tensor of size (3,1) and then horizontally stack four copies together.\n",
    "7. Return the batch matrix-matrix product of two three-dimensional matrices (a=torch.rand(3,4,5), b=torch.rand(3,5,4)).\n",
    "8. Return the batch matrix-matrix product of a 3D matrix and a 2D matrix (a=torch.rand(3,4,5), b=torch.rand(5,4))."
   ]
  },
  {
   "cell_type": "code",
   "execution_count": 6,
   "id": "42de0e6e",
   "metadata": {},
   "outputs": [],
   "source": [
    "x = torch.rand(3,3)\n",
    "z = torch.rand(1,3)\n",
    "#z = torch.transpose(z,0,1)"
   ]
  },
  {
   "cell_type": "code",
   "execution_count": 7,
   "id": "1cfcd9a4",
   "metadata": {},
   "outputs": [
    {
     "data": {
      "text/plain": [
       "tensor([[0.7812, 0.0664, 0.7753],\n",
       "        [0.4147, 0.5662, 0.1438],\n",
       "        [0.5656, 0.3713, 0.3489]])"
      ]
     },
     "execution_count": 7,
     "metadata": {},
     "output_type": "execute_result"
    }
   ],
   "source": [
    "x"
   ]
  },
  {
   "cell_type": "code",
   "execution_count": 8,
   "id": "d64b4126",
   "metadata": {},
   "outputs": [
    {
     "data": {
      "text/plain": [
       "tensor([[0.2200, 0.7601, 0.3440]])"
      ]
     },
     "execution_count": 8,
     "metadata": {},
     "output_type": "execute_result"
    }
   ],
   "source": [
    "z"
   ]
  },
  {
   "cell_type": "code",
   "execution_count": 9,
   "id": "33d0170f",
   "metadata": {},
   "outputs": [
    {
     "data": {
      "text/plain": [
       "tensor([[0.7812, 0.0664, 0.7753],\n",
       "        [0.4147, 0.5662, 0.1438],\n",
       "        [0.5656, 0.3713, 0.3489],\n",
       "        [0.2200, 0.7601, 0.3440]])"
      ]
     },
     "execution_count": 9,
     "metadata": {},
     "output_type": "execute_result"
    }
   ],
   "source": [
    "y = torch.cat([x, z], dim=0)\n",
    "y"
   ]
  },
  {
   "cell_type": "code",
   "execution_count": 10,
   "id": "1baa86ac",
   "metadata": {},
   "outputs": [
    {
     "data": {
      "text/plain": [
       "tensor([[[0.7812, 0.0664, 0.7753],\n",
       "         [0.4147, 0.5662, 0.1438],\n",
       "         [0.5656, 0.3713, 0.3489]]])"
      ]
     },
     "execution_count": 10,
     "metadata": {},
     "output_type": "execute_result"
    }
   ],
   "source": [
    "x = x.unsqueeze(0)\n",
    "x"
   ]
  },
  {
   "cell_type": "code",
   "execution_count": 11,
   "id": "81e6f720",
   "metadata": {},
   "outputs": [
    {
     "data": {
      "text/plain": [
       "tensor([[[[0.7812, 0.0664, 0.7753],\n",
       "          [0.4147, 0.5662, 0.1438],\n",
       "          [0.5656, 0.3713, 0.3489]]]])"
      ]
     },
     "execution_count": 11,
     "metadata": {},
     "output_type": "execute_result"
    }
   ],
   "source": [
    "x.unsqueeze(0)"
   ]
  },
  {
   "cell_type": "code",
   "execution_count": 12,
   "id": "dba4b28c",
   "metadata": {},
   "outputs": [
    {
     "data": {
      "text/plain": [
       "tensor([[0.7812, 0.0664, 0.7753],\n",
       "        [0.4147, 0.5662, 0.1438],\n",
       "        [0.5656, 0.3713, 0.3489]])"
      ]
     },
     "execution_count": 12,
     "metadata": {},
     "output_type": "execute_result"
    }
   ],
   "source": [
    "x. squeeze(0)"
   ]
  },
  {
   "cell_type": "code",
   "execution_count": null,
   "id": "97e17182",
   "metadata": {},
   "outputs": [],
   "source": []
  },
  {
   "cell_type": "code",
   "execution_count": 13,
   "id": "5b910328",
   "metadata": {},
   "outputs": [
    {
     "data": {
      "text/plain": [
       "tensor([[0.3950, 0.3965, 0.0512],\n",
       "        [0.6172, 0.7761, 0.8624],\n",
       "        [0.1965, 0.4654, 0.3137],\n",
       "        [0.1361, 0.4792, 0.8933],\n",
       "        [0.6577, 0.2467, 0.0065]])"
      ]
     },
     "execution_count": 13,
     "metadata": {},
     "output_type": "execute_result"
    }
   ],
   "source": [
    "a = torch.rand(5,3);a"
   ]
  },
  {
   "cell_type": "code",
   "execution_count": 14,
   "id": "8e709c86",
   "metadata": {},
   "outputs": [
    {
     "data": {
      "text/plain": [
       "tensor([[4.5799, 4.5860, 3.2049],\n",
       "        [5.4687, 6.1043, 6.4495],\n",
       "        [3.7860, 4.8615, 4.2547],\n",
       "        [3.5446, 4.9168, 6.5731],\n",
       "        [5.6308, 3.9869, 3.0261]])"
      ]
     },
     "execution_count": 14,
     "metadata": {},
     "output_type": "execute_result"
    }
   ],
   "source": [
    "3 + a * (7-3)"
   ]
  },
  {
   "cell_type": "code",
   "execution_count": null,
   "id": "13b76b11",
   "metadata": {},
   "outputs": [],
   "source": []
  },
  {
   "cell_type": "code",
   "execution_count": 15,
   "id": "81e9f3a4",
   "metadata": {},
   "outputs": [
    {
     "data": {
      "text/plain": [
       "tensor([[-0.7215,  0.9529, -1.8620],\n",
       "        [ 0.3017, -0.4950, -1.3103],\n",
       "        [ 0.9000,  0.6916, -0.2852],\n",
       "        [-0.8655,  0.1408, -1.6303],\n",
       "        [ 0.6472, -0.1564, -1.0483]])"
      ]
     },
     "execution_count": 15,
     "metadata": {},
     "output_type": "execute_result"
    }
   ],
   "source": [
    "a= a.normal_();\n",
    "a"
   ]
  },
  {
   "cell_type": "code",
   "execution_count": 16,
   "id": "ed37c32c",
   "metadata": {},
   "outputs": [
    {
     "data": {
      "text/plain": [
       "tensor([-0.7215,  0.9529, -1.8620,  0.3017, -0.4950, -1.3103,  0.9000,  0.6916,\n",
       "        -0.2852, -0.8655,  0.1408, -1.6303,  0.6472, -0.1564, -1.0483])"
      ]
     },
     "execution_count": 16,
     "metadata": {},
     "output_type": "execute_result"
    }
   ],
   "source": [
    "a.view(15)"
   ]
  },
  {
   "cell_type": "code",
   "execution_count": 17,
   "id": "a116b32e",
   "metadata": {},
   "outputs": [],
   "source": [
    "import matplotlib.pyplot as plt"
   ]
  },
  {
   "cell_type": "code",
   "execution_count": 18,
   "id": "d89ab134",
   "metadata": {},
   "outputs": [
    {
     "data": {
      "text/plain": [
       "[<matplotlib.lines.Line2D at 0x7f9a2b7f39a0>]"
      ]
     },
     "execution_count": 18,
     "metadata": {},
     "output_type": "execute_result"
    },
    {
     "data": {
      "image/png": "[encoded data removed]",
      "text/plain": [
       "<Figure size 432x288 with 1 Axes>"
      ]
     },
     "metadata": {
      "needs_background": "light"
     },
     "output_type": "display_data"
    }
   ],
   "source": [
    "plt.plot(a.view(15))"
   ]
  },
  {
   "cell_type": "code",
   "execution_count": null,
   "id": "fd598c08",
   "metadata": {},
   "outputs": [],
   "source": []
  },
  {
   "cell_type": "code",
   "execution_count": 94,
   "id": "7cca8e50",
   "metadata": {},
   "outputs": [
    {
     "data": {
      "text/plain": [
       "tensor([[0],\n",
       "        [1],\n",
       "        [3],\n",
       "        [5]])"
      ]
     },
     "execution_count": 94,
     "metadata": {},
     "output_type": "execute_result"
    }
   ],
   "source": [
    "a = torch.tensor([1,2,0,4,0,9,0])\n",
    "torch.nonzero(a)"
   ]
  },
  {
   "cell_type": "code",
   "execution_count": 95,
   "id": "c5334b7f",
   "metadata": {},
   "outputs": [
    {
     "data": {
      "text/plain": [
       "tensor([[0.2582],\n",
       "        [0.1165],\n",
       "        [0.6824]])"
      ]
     },
     "execution_count": 95,
     "metadata": {},
     "output_type": "execute_result"
    }
   ],
   "source": [
    "a = torch.rand(3,1)\n",
    "a"
   ]
  },
  {
   "cell_type": "code",
   "execution_count": 96,
   "id": "cda37eec",
   "metadata": {},
   "outputs": [
    {
     "data": {
      "text/plain": [
       "3"
      ]
     },
     "execution_count": 96,
     "metadata": {},
     "output_type": "execute_result"
    }
   ],
   "source": [
    "a.size(0)"
   ]
  },
  {
   "cell_type": "code",
   "execution_count": 97,
   "id": "7777fbf7",
   "metadata": {},
   "outputs": [
    {
     "data": {
      "text/plain": [
       "tensor([[[0.2582],\n",
       "         [0.1165],\n",
       "         [0.6824]],\n",
       "\n",
       "        [[0.2582],\n",
       "         [0.1165],\n",
       "         [0.6824]],\n",
       "\n",
       "        [[0.2582],\n",
       "         [0.1165],\n",
       "         [0.6824]]])"
      ]
     },
     "execution_count": 97,
     "metadata": {},
     "output_type": "execute_result"
    }
   ],
   "source": [
    "a2 = a.expand(a.size(0),*a.size()) # 3,(3,1) ====> 3,3,1\n",
    "a2"
   ]
  },
  {
   "cell_type": "code",
   "execution_count": 98,
   "id": "c7ada915",
   "metadata": {},
   "outputs": [
    {
     "data": {
      "text/plain": [
       "torch.Size([3, 3, 1])"
      ]
     },
     "execution_count": 98,
     "metadata": {},
     "output_type": "execute_result"
    }
   ],
   "source": [
    "a2.shape"
   ]
  },
  {
   "cell_type": "code",
   "execution_count": 99,
   "id": "87ff1dc8",
   "metadata": {},
   "outputs": [
    {
     "data": {
      "text/plain": [
       "tensor([[0.2582, 0.2582, 0.2582, 0.2582],\n",
       "        [0.1165, 0.1165, 0.1165, 0.1165],\n",
       "        [0.6824, 0.6824, 0.6824, 0.6824]])"
      ]
     },
     "execution_count": 99,
     "metadata": {},
     "output_type": "execute_result"
    }
   ],
   "source": [
    "a.expand(3,4)"
   ]
  },
  {
   "cell_type": "code",
   "execution_count": 100,
   "id": "373ad135",
   "metadata": {},
   "outputs": [
    {
     "data": {
      "text/plain": [
       "(tensor([[[9.2015e-01, 5.2333e-02, 9.9765e-01, 9.7331e-01, 9.7817e-01],\n",
       "          [1.9999e-01, 1.5881e-02, 6.9692e-01, 4.5571e-01, 5.7700e-01],\n",
       "          [9.3297e-01, 1.4142e-01, 1.5359e-01, 1.8018e-01, 4.1202e-01],\n",
       "          [8.7597e-01, 1.5051e-01, 6.6469e-01, 9.3817e-03, 1.6225e-01]],\n",
       " \n",
       "         [[9.9780e-01, 5.1576e-01, 4.9272e-01, 2.9145e-01, 8.1391e-01],\n",
       "          [3.7269e-01, 1.0348e-01, 1.4339e-01, 5.9081e-01, 9.6426e-01],\n",
       "          [4.1782e-01, 2.2752e-01, 2.3414e-01, 6.3329e-01, 4.2591e-01],\n",
       "          [3.1668e-04, 1.3467e-01, 6.0228e-01, 6.6182e-01, 5.7292e-01]],\n",
       " \n",
       "         [[4.6990e-01, 9.3593e-01, 3.7415e-01, 4.5143e-01, 9.0960e-01],\n",
       "          [1.4304e-01, 3.9507e-01, 2.3487e-01, 9.6792e-01, 4.3997e-01],\n",
       "          [3.4297e-01, 5.2630e-01, 4.0710e-02, 2.6921e-02, 7.3075e-01],\n",
       "          [1.6492e-01, 7.5319e-01, 1.4218e-01, 1.2157e-01, 1.2023e-01]]]),\n",
       " tensor([[[0.8081, 0.0764, 0.4387, 0.8764],\n",
       "          [0.9023, 0.6929, 0.4779, 0.0276],\n",
       "          [0.5892, 0.9771, 0.9267, 0.7713],\n",
       "          [0.7079, 0.0484, 0.9238, 0.5829],\n",
       "          [0.2503, 0.7845, 0.7382, 0.6701],\n",
       "          [0.2460, 0.5562, 0.0389, 0.8268]],\n",
       " \n",
       "         [[0.8332, 0.9947, 0.8866, 0.0307],\n",
       "          [0.5425, 0.9030, 0.1917, 0.5351],\n",
       "          [0.8430, 0.5258, 0.2348, 0.3521],\n",
       "          [0.1195, 0.4653, 0.5070, 0.4720],\n",
       "          [0.1504, 0.0442, 0.8149, 0.3806],\n",
       "          [0.3777, 0.9806, 0.7794, 0.5337]],\n",
       " \n",
       "         [[0.2158, 0.0949, 0.9913, 0.4510],\n",
       "          [0.8915, 0.8026, 0.2725, 0.9215],\n",
       "          [0.6066, 0.2708, 0.0160, 0.5736],\n",
       "          [0.2197, 0.4551, 0.9155, 0.2146],\n",
       "          [0.9122, 0.3317, 0.3050, 0.6873],\n",
       "          [0.2238, 0.0113, 0.8686, 0.9232]]]))"
      ]
     },
     "execution_count": 100,
     "metadata": {},
     "output_type": "execute_result"
    }
   ],
   "source": [
    "a=torch.rand(3,4,5)\n",
    "b=torch.rand(3,6,4)\n",
    "a,b"
   ]
  },
  {
   "cell_type": "code",
   "execution_count": 101,
   "id": "ea667866",
   "metadata": {},
   "outputs": [
    {
     "ename": "RuntimeError",
     "evalue": "Expected size for first two dimensions of batch2 tensor to be: [3, 5] but got: [3, 6].",
     "output_type": "error",
     "traceback": [
      "\u001b[0;31m---------------------------------------------------------------------------\u001b[0m",
      "\u001b[0;31mRuntimeError\u001b[0m                              Traceback (most recent call last)",
      "Input \u001b[0;32mIn [101]\u001b[0m, in \u001b[0;36m<cell line: 1>\u001b[0;34m()\u001b[0m\n\u001b[0;32m----> 1\u001b[0m \u001b[43mtorch\u001b[49m\u001b[38;5;241;43m.\u001b[39;49m\u001b[43mbmm\u001b[49m\u001b[43m(\u001b[49m\u001b[43ma\u001b[49m\u001b[43m,\u001b[49m\u001b[43mb\u001b[49m\u001b[43m)\u001b[49m\n",
      "\u001b[0;31mRuntimeError\u001b[0m: Expected size for first two dimensions of batch2 tensor to be: [3, 5] but got: [3, 6]."
     ]
    }
   ],
   "source": [
    "torch.bmm(a,b)"
   ]
  },
  {
   "cell_type": "code",
   "execution_count": 26,
   "id": "39db4d3c",
   "metadata": {},
   "outputs": [],
   "source": [
    "a=torch.rand(3,4,5)\n",
    "b=torch.rand(5,4)"
   ]
  },
  {
   "cell_type": "code",
   "execution_count": 27,
   "id": "29849675",
   "metadata": {},
   "outputs": [
    {
     "data": {
      "text/plain": [
       "tensor([[[0.3509, 0.0476, 0.3696, 0.0568, 0.3822],\n",
       "         [0.1346, 0.8874, 0.5508, 0.6692, 0.2132],\n",
       "         [0.4442, 0.9687, 0.3536, 0.7204, 0.5200],\n",
       "         [0.3400, 0.8991, 0.6670, 0.4127, 0.7461]],\n",
       "\n",
       "        [[0.6890, 0.2874, 0.7455, 0.0798, 0.5007],\n",
       "         [0.0754, 0.6011, 0.0673, 0.3506, 0.4697],\n",
       "         [0.1598, 0.8688, 0.6442, 0.9163, 0.3345],\n",
       "         [0.6530, 0.4071, 0.4531, 0.0781, 0.1571]],\n",
       "\n",
       "        [[0.0320, 0.9756, 0.9984, 0.1852, 0.9239],\n",
       "         [0.8315, 0.8442, 0.8859, 0.6426, 0.7318],\n",
       "         [0.0701, 0.2810, 0.9339, 0.4964, 0.2435],\n",
       "         [0.8180, 0.0173, 0.4739, 0.3253, 0.3742]]])"
      ]
     },
     "execution_count": 27,
     "metadata": {},
     "output_type": "execute_result"
    }
   ],
   "source": [
    "a"
   ]
  },
  {
   "cell_type": "code",
   "execution_count": 28,
   "id": "ddff245e",
   "metadata": {},
   "outputs": [
    {
     "data": {
      "text/plain": [
       "tensor([[0.7242, 0.4591, 0.1970, 0.9654],\n",
       "        [0.2198, 0.9492, 0.9078, 0.8326],\n",
       "        [0.4533, 0.2155, 0.4005, 0.7659],\n",
       "        [0.1004, 0.0910, 0.2400, 0.6493],\n",
       "        [0.5611, 0.4883, 0.8635, 0.1903]])"
      ]
     },
     "execution_count": 28,
     "metadata": {},
     "output_type": "execute_result"
    }
   ],
   "source": [
    "b"
   ]
  },
  {
   "cell_type": "code",
   "execution_count": 29,
   "id": "96dea40d",
   "metadata": {},
   "outputs": [
    {
     "data": {
      "text/plain": [
       "tensor([[[0.7242, 0.4591, 0.1970, 0.9654],\n",
       "         [0.2198, 0.9492, 0.9078, 0.8326],\n",
       "         [0.4533, 0.2155, 0.4005, 0.7659],\n",
       "         [0.1004, 0.0910, 0.2400, 0.6493],\n",
       "         [0.5611, 0.4883, 0.8635, 0.1903]]])"
      ]
     },
     "execution_count": 29,
     "metadata": {},
     "output_type": "execute_result"
    }
   ],
   "source": [
    "b.unsqueeze(0)"
   ]
  },
  {
   "cell_type": "code",
   "execution_count": 34,
   "id": "425c8c61",
   "metadata": {},
   "outputs": [
    {
     "data": {
      "text/plain": [
       "torch.Size([5, 4])"
      ]
     },
     "execution_count": 34,
     "metadata": {},
     "output_type": "execute_result"
    }
   ],
   "source": [
    "b.shape"
   ]
  },
  {
   "cell_type": "code",
   "execution_count": 41,
   "id": "fc66cfc3",
   "metadata": {},
   "outputs": [
    {
     "data": {
      "text/plain": [
       "tensor([[[0.7242, 0.4591, 0.1970, 0.9654],\n",
       "         [0.2198, 0.9492, 0.9078, 0.8326],\n",
       "         [0.4533, 0.2155, 0.4005, 0.7659],\n",
       "         [0.1004, 0.0910, 0.2400, 0.6493],\n",
       "         [0.5611, 0.4883, 0.8635, 0.1903]],\n",
       "\n",
       "        [[0.7242, 0.4591, 0.1970, 0.9654],\n",
       "         [0.2198, 0.9492, 0.9078, 0.8326],\n",
       "         [0.4533, 0.2155, 0.4005, 0.7659],\n",
       "         [0.1004, 0.0910, 0.2400, 0.6493],\n",
       "         [0.5611, 0.4883, 0.8635, 0.1903]],\n",
       "\n",
       "        [[0.7242, 0.4591, 0.1970, 0.9654],\n",
       "         [0.2198, 0.9492, 0.9078, 0.8326],\n",
       "         [0.4533, 0.2155, 0.4005, 0.7659],\n",
       "         [0.1004, 0.0910, 0.2400, 0.6493],\n",
       "         [0.5611, 0.4883, 0.8635, 0.1903]]])"
      ]
     },
     "execution_count": 41,
     "metadata": {},
     "output_type": "execute_result"
    }
   ],
   "source": [
    "b.unsqueeze(0).expand(a.size(0), *b.size())"
   ]
  },
  {
   "cell_type": "code",
   "execution_count": 35,
   "id": "edc2cb19",
   "metadata": {},
   "outputs": [
    {
     "data": {
      "text/plain": [
       "torch.Size([5, 4])"
      ]
     },
     "execution_count": 35,
     "metadata": {},
     "output_type": "execute_result"
    }
   ],
   "source": [
    "b.shape"
   ]
  },
  {
   "cell_type": "code",
   "execution_count": 31,
   "id": "a50aa86f",
   "metadata": {},
   "outputs": [
    {
     "data": {
      "text/plain": [
       "3"
      ]
     },
     "execution_count": 31,
     "metadata": {},
     "output_type": "execute_result"
    }
   ],
   "source": [
    "a.size(0)"
   ]
  },
  {
   "cell_type": "code",
   "execution_count": 32,
   "id": "2e6b9b49",
   "metadata": {},
   "outputs": [
    {
     "data": {
      "text/plain": [
       "tensor([[[0.6522, 0.4777, 0.6040, 0.7710],\n",
       "         [0.7290, 1.1879, 1.3973, 1.7657],\n",
       "         [1.0590, 1.5191, 1.7304, 2.0729],\n",
       "         [1.2062, 1.5552, 1.8935, 1.9976]],\n",
       "\n",
       "        [[1.1890, 1.0016, 1.1467, 1.6225],\n",
       "         [0.5159, 0.8809, 1.0771, 0.9418],\n",
       "         [0.8784, 1.2837, 1.5869, 2.0296],\n",
       "         [0.8638, 0.8677, 0.8340, 1.3970]],\n",
       "\n",
       "        [[1.2272, 1.6240, 2.1340, 1.9040],\n",
       "         [1.6645, 1.7899, 2.0711, 2.7407],\n",
       "         [0.7223, 0.6643, 0.9723, 1.3855],\n",
       "         [1.0536, 0.7065, 0.7678, 1.4495]]])"
      ]
     },
     "execution_count": 32,
     "metadata": {},
     "output_type": "execute_result"
    }
   ],
   "source": [
    "torch.bmm(a, b.unsqueeze(0).expand(a.size(0), *b.size()))"
   ]
  },
  {
   "cell_type": "code",
   "execution_count": null,
   "id": "1687bd9c",
   "metadata": {},
   "outputs": [],
   "source": []
  },
  {
   "cell_type": "code",
   "execution_count": 82,
   "id": "f4168e8a",
   "metadata": {},
   "outputs": [],
   "source": [
    "a = torch.rand(4,3,2)\n",
    "b = torch.randn(5,4)"
   ]
  },
  {
   "cell_type": "code",
   "execution_count": 83,
   "id": "cd97e2b2",
   "metadata": {},
   "outputs": [
    {
     "data": {
      "text/plain": [
       "torch.Size([4, 3, 2])"
      ]
     },
     "execution_count": 83,
     "metadata": {},
     "output_type": "execute_result"
    }
   ],
   "source": [
    "a.shape"
   ]
  },
  {
   "cell_type": "code",
   "execution_count": 84,
   "id": "8a82d411",
   "metadata": {},
   "outputs": [
    {
     "data": {
      "text/plain": [
       "torch.Size([5, 4])"
      ]
     },
     "execution_count": 84,
     "metadata": {},
     "output_type": "execute_result"
    }
   ],
   "source": [
    "b.shape"
   ]
  },
  {
   "cell_type": "code",
   "execution_count": 85,
   "id": "b0b60cdc",
   "metadata": {},
   "outputs": [
    {
     "data": {
      "text/plain": [
       "torch.Size([1, 5, 4])"
      ]
     },
     "execution_count": 85,
     "metadata": {},
     "output_type": "execute_result"
    }
   ],
   "source": [
    "b = b.unsqueeze(0)\n",
    "b.shape"
   ]
  },
  {
   "cell_type": "code",
   "execution_count": 86,
   "id": "a6bdb503",
   "metadata": {},
   "outputs": [
    {
     "ename": "RuntimeError",
     "evalue": "Expected size for first two dimensions of batch2 tensor to be: [4, 2] but got: [1, 5].",
     "output_type": "error",
     "traceback": [
      "\u001b[0;31m---------------------------------------------------------------------------\u001b[0m",
      "\u001b[0;31mRuntimeError\u001b[0m                              Traceback (most recent call last)",
      "Input \u001b[0;32mIn [86]\u001b[0m, in \u001b[0;36m<cell line: 1>\u001b[0;34m()\u001b[0m\n\u001b[0;32m----> 1\u001b[0m \u001b[43mtorch\u001b[49m\u001b[38;5;241;43m.\u001b[39;49m\u001b[43mbmm\u001b[49m\u001b[43m(\u001b[49m\u001b[43ma\u001b[49m\u001b[43m,\u001b[49m\u001b[43mb\u001b[49m\u001b[43m)\u001b[49m\n",
      "\u001b[0;31mRuntimeError\u001b[0m: Expected size for first two dimensions of batch2 tensor to be: [4, 2] but got: [1, 5]."
     ]
    }
   ],
   "source": [
    "torch.bmm(a,b)"
   ]
  },
  {
   "cell_type": "code",
   "execution_count": 104,
   "id": "7252053d",
   "metadata": {},
   "outputs": [],
   "source": [
    "import torch.nn.functional as F"
   ]
  },
  {
   "cell_type": "code",
   "execution_count": 109,
   "id": "bc07deab",
   "metadata": {},
   "outputs": [
    {
     "data": {
      "text/plain": [
       "torch.Size([33, 20, 26])"
      ]
     },
     "execution_count": 109,
     "metadata": {},
     "output_type": "execute_result"
    }
   ],
   "source": [
    "inputs = torch.randn(33, 16, 30)\n",
    "filters = torch.randn(20, 16, 5)\n",
    "x  = F.conv1d(inputs, filters)\n",
    "x.shape"
   ]
  },
  {
   "cell_type": "code",
   "execution_count": null,
   "id": "87eeca34",
   "metadata": {},
   "outputs": [],
   "source": []
  }
 ],
 "metadata": {
  "kernelspec": {
   "display_name": "Python 3 (ipykernel)",
   "language": "python",
   "name": "python3"
  },
  "language_info": {
   "codemirror_mode": {
    "name": "ipython",
    "version": 3
   },
   "file_extension": ".py",
   "mimetype": "text/x-python",
   "name": "python",
   "nbconvert_exporter": "python",
   "pygments_lexer": "ipython3",
   "version": "3.9.12"
  }
 },
 "nbformat": 4,
 "nbformat_minor": 5
}
