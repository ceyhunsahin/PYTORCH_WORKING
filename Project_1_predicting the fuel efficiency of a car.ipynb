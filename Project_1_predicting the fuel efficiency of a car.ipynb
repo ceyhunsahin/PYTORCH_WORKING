{
 "cells": [
  {
   "cell_type": "code",
   "execution_count": 29,
   "metadata": {
    "collapsed": true
   },
   "outputs": [],
   "source": [
    "import pandas as pd\n",
    "import sklearn\n",
    "from  sklearn import model_selection\n",
    "import numpy as np\n",
    "import torch"
   ]
  },
  {
   "cell_type": "code",
   "execution_count": 30,
   "outputs": [],
   "source": [
    "url = 'http://archive.ics.uci.edu/ml/machine-learning-databases/auto-mpg/auto-mpg.data'"
   ],
   "metadata": {
    "collapsed": false
   }
  },
  {
   "cell_type": "code",
   "execution_count": 31,
   "outputs": [],
   "source": [
    "column_names = ['MPG', 'Cylinders', 'Displacement', 'Horsepower','Weight', 'Acceleration', 'Model Year', 'Origin']"
   ],
   "metadata": {
    "collapsed": false
   }
  },
  {
   "cell_type": "code",
   "execution_count": 32,
   "outputs": [],
   "source": [
    "df = pd.read_csv(url, names=column_names,na_values = \"?\", comment='\\t',\\\n",
    "                 sep=\" \", skipinitialspace=True)"
   ],
   "metadata": {
    "collapsed": false
   }
  },
  {
   "cell_type": "code",
   "execution_count": 33,
   "outputs": [
    {
     "data": {
      "text/plain": "    MPG  Cylinders  Displacement  Horsepower  Weight  Acceleration  \\\n0  18.0          8         307.0       130.0  3504.0          12.0   \n1  15.0          8         350.0       165.0  3693.0          11.5   \n2  18.0          8         318.0       150.0  3436.0          11.0   \n3  16.0          8         304.0       150.0  3433.0          12.0   \n4  17.0          8         302.0       140.0  3449.0          10.5   \n\n   Model Year  Origin  \n0          70       1  \n1          70       1  \n2          70       1  \n3          70       1  \n4          70       1  ",
      "text/html": "<div>\n<style scoped>\n    .dataframe tbody tr th:only-of-type {\n        vertical-align: middle;\n    }\n\n    .dataframe tbody tr th {\n        vertical-align: top;\n    }\n\n    .dataframe thead th {\n        text-align: right;\n    }\n</style>\n<table border=\"1\" class=\"dataframe\">\n  <thead>\n    <tr style=\"text-align: right;\">\n      <th></th>\n      <th>MPG</th>\n      <th>Cylinders</th>\n      <th>Displacement</th>\n      <th>Horsepower</th>\n      <th>Weight</th>\n      <th>Acceleration</th>\n      <th>Model Year</th>\n      <th>Origin</th>\n    </tr>\n  </thead>\n  <tbody>\n    <tr>\n      <th>0</th>\n      <td>18.0</td>\n      <td>8</td>\n      <td>307.0</td>\n      <td>130.0</td>\n      <td>3504.0</td>\n      <td>12.0</td>\n      <td>70</td>\n      <td>1</td>\n    </tr>\n    <tr>\n      <th>1</th>\n      <td>15.0</td>\n      <td>8</td>\n      <td>350.0</td>\n      <td>165.0</td>\n      <td>3693.0</td>\n      <td>11.5</td>\n      <td>70</td>\n      <td>1</td>\n    </tr>\n    <tr>\n      <th>2</th>\n      <td>18.0</td>\n      <td>8</td>\n      <td>318.0</td>\n      <td>150.0</td>\n      <td>3436.0</td>\n      <td>11.0</td>\n      <td>70</td>\n      <td>1</td>\n    </tr>\n    <tr>\n      <th>3</th>\n      <td>16.0</td>\n      <td>8</td>\n      <td>304.0</td>\n      <td>150.0</td>\n      <td>3433.0</td>\n      <td>12.0</td>\n      <td>70</td>\n      <td>1</td>\n    </tr>\n    <tr>\n      <th>4</th>\n      <td>17.0</td>\n      <td>8</td>\n      <td>302.0</td>\n      <td>140.0</td>\n      <td>3449.0</td>\n      <td>10.5</td>\n      <td>70</td>\n      <td>1</td>\n    </tr>\n  </tbody>\n</table>\n</div>"
     },
     "execution_count": 33,
     "metadata": {},
     "output_type": "execute_result"
    }
   ],
   "source": [
    "df.head()"
   ],
   "metadata": {
    "collapsed": false
   }
  },
  {
   "cell_type": "code",
   "execution_count": 34,
   "outputs": [],
   "source": [
    "df = df.dropna()\n",
    "\n",
    "df = df.reset_index(drop=True)"
   ],
   "metadata": {
    "collapsed": false
   }
  },
  {
   "cell_type": "code",
   "execution_count": 35,
   "outputs": [],
   "source": [
    "df_train, df_test = model_selection.train_test_split(df, train_size=0.8, random_state=1)"
   ],
   "metadata": {
    "collapsed": false
   }
  },
  {
   "cell_type": "code",
   "execution_count": 36,
   "outputs": [
    {
     "data": {
      "text/plain": "              count         mean         std     min     25%     50%     75%  \\\nMPG           313.0    23.404153    7.666909     9.0    17.5    23.0    29.0   \nCylinders     313.0     5.402556    1.701506     3.0     4.0     4.0     8.0   \nDisplacement  313.0   189.512780  102.675646    68.0   104.0   140.0   260.0   \nHorsepower    313.0   102.929712   37.919046    46.0    75.0    92.0   120.0   \nWeight        313.0  2961.198083  848.602146  1613.0  2219.0  2755.0  3574.0   \nAcceleration  313.0    15.704473    2.725399     8.5    14.0    15.5    17.3   \nModel Year    313.0    75.929712    3.675305    70.0    73.0    76.0    79.0   \nOrigin        313.0     1.591054    0.807923     1.0     1.0     1.0     2.0   \n\n                 max  \nMPG             46.6  \nCylinders        8.0  \nDisplacement   455.0  \nHorsepower     230.0  \nWeight        5140.0  \nAcceleration    24.8  \nModel Year      82.0  \nOrigin           3.0  ",
      "text/html": "<div>\n<style scoped>\n    .dataframe tbody tr th:only-of-type {\n        vertical-align: middle;\n    }\n\n    .dataframe tbody tr th {\n        vertical-align: top;\n    }\n\n    .dataframe thead th {\n        text-align: right;\n    }\n</style>\n<table border=\"1\" class=\"dataframe\">\n  <thead>\n    <tr style=\"text-align: right;\">\n      <th></th>\n      <th>count</th>\n      <th>mean</th>\n      <th>std</th>\n      <th>min</th>\n      <th>25%</th>\n      <th>50%</th>\n      <th>75%</th>\n      <th>max</th>\n    </tr>\n  </thead>\n  <tbody>\n    <tr>\n      <th>MPG</th>\n      <td>313.0</td>\n      <td>23.404153</td>\n      <td>7.666909</td>\n      <td>9.0</td>\n      <td>17.5</td>\n      <td>23.0</td>\n      <td>29.0</td>\n      <td>46.6</td>\n    </tr>\n    <tr>\n      <th>Cylinders</th>\n      <td>313.0</td>\n      <td>5.402556</td>\n      <td>1.701506</td>\n      <td>3.0</td>\n      <td>4.0</td>\n      <td>4.0</td>\n      <td>8.0</td>\n      <td>8.0</td>\n    </tr>\n    <tr>\n      <th>Displacement</th>\n      <td>313.0</td>\n      <td>189.512780</td>\n      <td>102.675646</td>\n      <td>68.0</td>\n      <td>104.0</td>\n      <td>140.0</td>\n      <td>260.0</td>\n      <td>455.0</td>\n    </tr>\n    <tr>\n      <th>Horsepower</th>\n      <td>313.0</td>\n      <td>102.929712</td>\n      <td>37.919046</td>\n      <td>46.0</td>\n      <td>75.0</td>\n      <td>92.0</td>\n      <td>120.0</td>\n      <td>230.0</td>\n    </tr>\n    <tr>\n      <th>Weight</th>\n      <td>313.0</td>\n      <td>2961.198083</td>\n      <td>848.602146</td>\n      <td>1613.0</td>\n      <td>2219.0</td>\n      <td>2755.0</td>\n      <td>3574.0</td>\n      <td>5140.0</td>\n    </tr>\n    <tr>\n      <th>Acceleration</th>\n      <td>313.0</td>\n      <td>15.704473</td>\n      <td>2.725399</td>\n      <td>8.5</td>\n      <td>14.0</td>\n      <td>15.5</td>\n      <td>17.3</td>\n      <td>24.8</td>\n    </tr>\n    <tr>\n      <th>Model Year</th>\n      <td>313.0</td>\n      <td>75.929712</td>\n      <td>3.675305</td>\n      <td>70.0</td>\n      <td>73.0</td>\n      <td>76.0</td>\n      <td>79.0</td>\n      <td>82.0</td>\n    </tr>\n    <tr>\n      <th>Origin</th>\n      <td>313.0</td>\n      <td>1.591054</td>\n      <td>0.807923</td>\n      <td>1.0</td>\n      <td>1.0</td>\n      <td>1.0</td>\n      <td>2.0</td>\n      <td>3.0</td>\n    </tr>\n  </tbody>\n</table>\n</div>"
     },
     "execution_count": 36,
     "metadata": {},
     "output_type": "execute_result"
    }
   ],
   "source": [
    "train_stats = df_train.describe().transpose()\n",
    "train_stats"
   ],
   "metadata": {
    "collapsed": false
   }
  },
  {
   "cell_type": "code",
   "execution_count": 37,
   "outputs": [],
   "source": [
    "numeric_columns = ['Cylinders', 'Displacement', 'Horsepower', 'Weight', 'Acceleration']"
   ],
   "metadata": {
    "collapsed": false
   }
  },
  {
   "cell_type": "code",
   "execution_count": 38,
   "outputs": [],
   "source": [
    "df_train_norm, df_test_norm = df_train.copy(), df_test.copy()\n",
    "\n",
    "# standardisation of features\n",
    "\n",
    "for col_name in numeric_columns:\n",
    "    mean = train_stats.loc[col_name,'mean']\n",
    "    std = train_stats.loc[col_name,'std']\n",
    "    df_train_norm.loc[:,col_name] = (df_train_norm.loc[:, col_name]- mean)/std\n",
    "    df_test_norm.loc[:,col_name] = (df_test_norm.loc[:, col_name]- mean)/std\n"
   ],
   "metadata": {
    "collapsed": false
   }
  },
  {
   "cell_type": "code",
   "execution_count": 39,
   "outputs": [
    {
     "data": {
      "text/plain": "      MPG  Cylinders  Displacement  Horsepower    Weight  Acceleration  \\\n334  27.2  -0.824303     -0.530922   -0.499214 -0.555264     -0.001641   \n258  18.6   0.351127      0.345625    0.186457  0.776338      1.099115   \n139  29.0  -0.824303     -0.891280   -0.525586 -0.874613      0.291894   \n310  37.2  -0.824303     -1.008153   -1.000281 -1.110294      0.255202   \n349  33.0  -0.824303     -0.823104   -0.762934 -0.908786     -0.552019   \n..    ...        ...           ...         ...       ...           ...   \n203  28.0  -0.824303     -0.901020   -0.736562 -0.950031      0.255202   \n255  19.4   0.351127      0.413800   -0.340982  0.293190      0.548737   \n72   13.0   1.526556      1.144256    0.713897  1.339617     -0.625403   \n235  30.5  -0.824303     -0.891280   -1.053025 -1.072585      0.475353   \n37   14.0   1.526556      1.563051    1.636916  1.470420     -1.359240   \n\n     Model Year  Origin  \n334          81       1  \n258          78       1  \n139          74       2  \n310          80       3  \n349          81       2  \n..          ...     ...  \n203          76       3  \n255          78       1  \n72           72       1  \n235          77       1  \n37           71       1  \n\n[313 rows x 8 columns]",
      "text/html": "<div>\n<style scoped>\n    .dataframe tbody tr th:only-of-type {\n        vertical-align: middle;\n    }\n\n    .dataframe tbody tr th {\n        vertical-align: top;\n    }\n\n    .dataframe thead th {\n        text-align: right;\n    }\n</style>\n<table border=\"1\" class=\"dataframe\">\n  <thead>\n    <tr style=\"text-align: right;\">\n      <th></th>\n      <th>MPG</th>\n      <th>Cylinders</th>\n      <th>Displacement</th>\n      <th>Horsepower</th>\n      <th>Weight</th>\n      <th>Acceleration</th>\n      <th>Model Year</th>\n      <th>Origin</th>\n    </tr>\n  </thead>\n  <tbody>\n    <tr>\n      <th>334</th>\n      <td>27.2</td>\n      <td>-0.824303</td>\n      <td>-0.530922</td>\n      <td>-0.499214</td>\n      <td>-0.555264</td>\n      <td>-0.001641</td>\n      <td>81</td>\n      <td>1</td>\n    </tr>\n    <tr>\n      <th>258</th>\n      <td>18.6</td>\n      <td>0.351127</td>\n      <td>0.345625</td>\n      <td>0.186457</td>\n      <td>0.776338</td>\n      <td>1.099115</td>\n      <td>78</td>\n      <td>1</td>\n    </tr>\n    <tr>\n      <th>139</th>\n      <td>29.0</td>\n      <td>-0.824303</td>\n      <td>-0.891280</td>\n      <td>-0.525586</td>\n      <td>-0.874613</td>\n      <td>0.291894</td>\n      <td>74</td>\n      <td>2</td>\n    </tr>\n    <tr>\n      <th>310</th>\n      <td>37.2</td>\n      <td>-0.824303</td>\n      <td>-1.008153</td>\n      <td>-1.000281</td>\n      <td>-1.110294</td>\n      <td>0.255202</td>\n      <td>80</td>\n      <td>3</td>\n    </tr>\n    <tr>\n      <th>349</th>\n      <td>33.0</td>\n      <td>-0.824303</td>\n      <td>-0.823104</td>\n      <td>-0.762934</td>\n      <td>-0.908786</td>\n      <td>-0.552019</td>\n      <td>81</td>\n      <td>2</td>\n    </tr>\n    <tr>\n      <th>...</th>\n      <td>...</td>\n      <td>...</td>\n      <td>...</td>\n      <td>...</td>\n      <td>...</td>\n      <td>...</td>\n      <td>...</td>\n      <td>...</td>\n    </tr>\n    <tr>\n      <th>203</th>\n      <td>28.0</td>\n      <td>-0.824303</td>\n      <td>-0.901020</td>\n      <td>-0.736562</td>\n      <td>-0.950031</td>\n      <td>0.255202</td>\n      <td>76</td>\n      <td>3</td>\n    </tr>\n    <tr>\n      <th>255</th>\n      <td>19.4</td>\n      <td>0.351127</td>\n      <td>0.413800</td>\n      <td>-0.340982</td>\n      <td>0.293190</td>\n      <td>0.548737</td>\n      <td>78</td>\n      <td>1</td>\n    </tr>\n    <tr>\n      <th>72</th>\n      <td>13.0</td>\n      <td>1.526556</td>\n      <td>1.144256</td>\n      <td>0.713897</td>\n      <td>1.339617</td>\n      <td>-0.625403</td>\n      <td>72</td>\n      <td>1</td>\n    </tr>\n    <tr>\n      <th>235</th>\n      <td>30.5</td>\n      <td>-0.824303</td>\n      <td>-0.891280</td>\n      <td>-1.053025</td>\n      <td>-1.072585</td>\n      <td>0.475353</td>\n      <td>77</td>\n      <td>1</td>\n    </tr>\n    <tr>\n      <th>37</th>\n      <td>14.0</td>\n      <td>1.526556</td>\n      <td>1.563051</td>\n      <td>1.636916</td>\n      <td>1.470420</td>\n      <td>-1.359240</td>\n      <td>71</td>\n      <td>1</td>\n    </tr>\n  </tbody>\n</table>\n<p>313 rows × 8 columns</p>\n</div>"
     },
     "execution_count": 39,
     "metadata": {},
     "output_type": "execute_result"
    }
   ],
   "source": [
    "df_train_norm"
   ],
   "metadata": {
    "collapsed": false
   }
  },
  {
   "cell_type": "markdown",
   "source": [
    "### Bucketize = pd.cut\n",
    "bucket = { 0 if year < 73, 1 if73 ≤ year < 76, 2 if 76 ≤ year, 3 if year  >= 79"
   ],
   "metadata": {
    "collapsed": false
   }
  },
  {
   "cell_type": "code",
   "execution_count": 40,
   "outputs": [
    {
     "data": {
      "text/plain": "      MPG  Cylinders  Displacement  Horsepower    Weight  Acceleration  \\\n334  27.2  -0.824303     -0.530922   -0.499214 -0.555264     -0.001641   \n258  18.6   0.351127      0.345625    0.186457  0.776338      1.099115   \n139  29.0  -0.824303     -0.891280   -0.525586 -0.874613      0.291894   \n310  37.2  -0.824303     -1.008153   -1.000281 -1.110294      0.255202   \n349  33.0  -0.824303     -0.823104   -0.762934 -0.908786     -0.552019   \n..    ...        ...           ...         ...       ...           ...   \n203  28.0  -0.824303     -0.901020   -0.736562 -0.950031      0.255202   \n255  19.4   0.351127      0.413800   -0.340982  0.293190      0.548737   \n72   13.0   1.526556      1.144256    0.713897  1.339617     -0.625403   \n235  30.5  -0.824303     -0.891280   -1.053025 -1.072585      0.475353   \n37   14.0   1.526556      1.563051    1.636916  1.470420     -1.359240   \n\n     Model Year  Origin  Model_Year_bucketed  \n334          81       1                    3  \n258          78       1                    2  \n139          74       2                    1  \n310          80       3                    3  \n349          81       2                    3  \n..          ...     ...                  ...  \n203          76       3                    2  \n255          78       1                    2  \n72           72       1                    0  \n235          77       1                    2  \n37           71       1                    0  \n\n[313 rows x 9 columns]",
      "text/html": "<div>\n<style scoped>\n    .dataframe tbody tr th:only-of-type {\n        vertical-align: middle;\n    }\n\n    .dataframe tbody tr th {\n        vertical-align: top;\n    }\n\n    .dataframe thead th {\n        text-align: right;\n    }\n</style>\n<table border=\"1\" class=\"dataframe\">\n  <thead>\n    <tr style=\"text-align: right;\">\n      <th></th>\n      <th>MPG</th>\n      <th>Cylinders</th>\n      <th>Displacement</th>\n      <th>Horsepower</th>\n      <th>Weight</th>\n      <th>Acceleration</th>\n      <th>Model Year</th>\n      <th>Origin</th>\n      <th>Model_Year_bucketed</th>\n    </tr>\n  </thead>\n  <tbody>\n    <tr>\n      <th>334</th>\n      <td>27.2</td>\n      <td>-0.824303</td>\n      <td>-0.530922</td>\n      <td>-0.499214</td>\n      <td>-0.555264</td>\n      <td>-0.001641</td>\n      <td>81</td>\n      <td>1</td>\n      <td>3</td>\n    </tr>\n    <tr>\n      <th>258</th>\n      <td>18.6</td>\n      <td>0.351127</td>\n      <td>0.345625</td>\n      <td>0.186457</td>\n      <td>0.776338</td>\n      <td>1.099115</td>\n      <td>78</td>\n      <td>1</td>\n      <td>2</td>\n    </tr>\n    <tr>\n      <th>139</th>\n      <td>29.0</td>\n      <td>-0.824303</td>\n      <td>-0.891280</td>\n      <td>-0.525586</td>\n      <td>-0.874613</td>\n      <td>0.291894</td>\n      <td>74</td>\n      <td>2</td>\n      <td>1</td>\n    </tr>\n    <tr>\n      <th>310</th>\n      <td>37.2</td>\n      <td>-0.824303</td>\n      <td>-1.008153</td>\n      <td>-1.000281</td>\n      <td>-1.110294</td>\n      <td>0.255202</td>\n      <td>80</td>\n      <td>3</td>\n      <td>3</td>\n    </tr>\n    <tr>\n      <th>349</th>\n      <td>33.0</td>\n      <td>-0.824303</td>\n      <td>-0.823104</td>\n      <td>-0.762934</td>\n      <td>-0.908786</td>\n      <td>-0.552019</td>\n      <td>81</td>\n      <td>2</td>\n      <td>3</td>\n    </tr>\n    <tr>\n      <th>...</th>\n      <td>...</td>\n      <td>...</td>\n      <td>...</td>\n      <td>...</td>\n      <td>...</td>\n      <td>...</td>\n      <td>...</td>\n      <td>...</td>\n      <td>...</td>\n    </tr>\n    <tr>\n      <th>203</th>\n      <td>28.0</td>\n      <td>-0.824303</td>\n      <td>-0.901020</td>\n      <td>-0.736562</td>\n      <td>-0.950031</td>\n      <td>0.255202</td>\n      <td>76</td>\n      <td>3</td>\n      <td>2</td>\n    </tr>\n    <tr>\n      <th>255</th>\n      <td>19.4</td>\n      <td>0.351127</td>\n      <td>0.413800</td>\n      <td>-0.340982</td>\n      <td>0.293190</td>\n      <td>0.548737</td>\n      <td>78</td>\n      <td>1</td>\n      <td>2</td>\n    </tr>\n    <tr>\n      <th>72</th>\n      <td>13.0</td>\n      <td>1.526556</td>\n      <td>1.144256</td>\n      <td>0.713897</td>\n      <td>1.339617</td>\n      <td>-0.625403</td>\n      <td>72</td>\n      <td>1</td>\n      <td>0</td>\n    </tr>\n    <tr>\n      <th>235</th>\n      <td>30.5</td>\n      <td>-0.824303</td>\n      <td>-0.891280</td>\n      <td>-1.053025</td>\n      <td>-1.072585</td>\n      <td>0.475353</td>\n      <td>77</td>\n      <td>1</td>\n      <td>2</td>\n    </tr>\n    <tr>\n      <th>37</th>\n      <td>14.0</td>\n      <td>1.526556</td>\n      <td>1.563051</td>\n      <td>1.636916</td>\n      <td>1.470420</td>\n      <td>-1.359240</td>\n      <td>71</td>\n      <td>1</td>\n      <td>0</td>\n    </tr>\n  </tbody>\n</table>\n<p>313 rows × 9 columns</p>\n</div>"
     },
     "execution_count": 40,
     "metadata": {},
     "output_type": "execute_result"
    }
   ],
   "source": [
    "boundaries = torch.tensor([73,76,79])\n",
    "v = torch.tensor(df_train_norm['Model Year'].values)\n",
    "df_train_norm['Model_Year_bucketed'] = torch.bucketize(v, boundaries, right=True)\n",
    "v = torch.tensor(df_test_norm['Model Year'].values)\n",
    "df_test_norm['Model_Year_bucketed'] = torch.bucketize(v, boundaries, right=True)\n",
    "\n",
    "numeric_columns.append('Model_Year_bucketed')\n",
    "df_train_norm"
   ],
   "metadata": {
    "collapsed": false
   }
  },
  {
   "cell_type": "markdown",
   "source": [
    "### One_hot encoding for Origin"
   ],
   "metadata": {
    "collapsed": false
   }
  },
  {
   "cell_type": "code",
   "execution_count": 43,
   "outputs": [
    {
     "name": "stdout",
     "output_type": "stream",
     "text": [
      "tensor([[-8.2430e-01, -5.3092e-01, -4.9921e-01, -5.5526e-01, -1.6412e-03,\n",
      "          3.0000e+00],\n",
      "        [ 3.5113e-01,  3.4562e-01,  1.8646e-01,  7.7634e-01,  1.0991e+00,\n",
      "          2.0000e+00],\n",
      "        [-8.2430e-01, -8.9128e-01, -5.2559e-01, -8.7461e-01,  2.9189e-01,\n",
      "          1.0000e+00]], dtype=torch.float64)\n",
      "tensor([[-8.2430e-01, -5.3092e-01, -4.9921e-01, -5.5526e-01, -1.6412e-03,\n",
      "          3.0000e+00,  0.0000e+00,  1.0000e+00,  0.0000e+00],\n",
      "        [ 3.5113e-01,  3.4562e-01,  1.8646e-01,  7.7634e-01,  1.0991e+00,\n",
      "          2.0000e+00,  0.0000e+00,  1.0000e+00,  0.0000e+00],\n",
      "        [-8.2430e-01, -8.9128e-01, -5.2559e-01, -8.7461e-01,  2.9189e-01,\n",
      "          1.0000e+00,  0.0000e+00,  0.0000e+00,  1.0000e+00]])\n"
     ]
    }
   ],
   "source": [
    "from torch.nn.functional import one_hot\n",
    "\n",
    "# train set\n",
    "total_origin = len(set(df_train_norm['Origin'])) # 3\n",
    "\n",
    "origin_encoded = one_hot(torch.from_numpy(df_train_norm['Origin'].values) % total_origin)\n",
    "x_train_numeric = torch.tensor(df_train_norm[numeric_columns].values)\n",
    "x_train = torch.cat([x_train_numeric, origin_encoded],1).float() # tensor form\n",
    "\n",
    "# test set\n",
    "origin_encoded = one_hot(torch.from_numpy(df_test_norm['Origin'].values) % total_origin)\n",
    "x_test_numeric = torch.tensor(df_test_norm[numeric_columns].values)\n",
    "x_test = torch.cat([x_test_numeric, origin_encoded],1).float() # tensor form"
   ],
   "metadata": {
    "collapsed": false
   }
  },
  {
   "cell_type": "code",
   "execution_count": 45,
   "outputs": [],
   "source": [
    "# tensor form of target\n",
    "y_train = torch.tensor(df_train_norm['MPG'].values).float()\n",
    "y_test = torch.tensor(df_test_norm['MPG'].values).float()\n"
   ],
   "metadata": {
    "collapsed": false
   }
  },
  {
   "cell_type": "markdown",
   "source": [
    "### Training a DNN regression model"
   ],
   "metadata": {
    "collapsed": false
   }
  },
  {
   "cell_type": "markdown",
   "source": [
    "we will create a data loader that uses a batch size of 8 for the train data\n",
    "\n",
    "For torch, we need to change the data from tensor to TensorDataset =====> DataLoader"
   ],
   "metadata": {
    "collapsed": false
   }
  },
  {
   "cell_type": "code",
   "execution_count": 47,
   "outputs": [],
   "source": [
    "from torch.utils.data import TensorDataset, DataLoader\n",
    "train_ds = TensorDataset(x_train, y_train)\n",
    "batch_size = 8\n",
    "torch.manual_seed(1)\n",
    "train_dl = DataLoader(train_ds, batch_size, shuffle=True)"
   ],
   "metadata": {
    "collapsed": false
   }
  },
  {
   "cell_type": "markdown",
   "source": [
    "## Model Parameters"
   ],
   "metadata": {
    "collapsed": false
   }
  },
  {
   "cell_type": "code",
   "execution_count": 59,
   "outputs": [
    {
     "data": {
      "text/plain": "Sequential(\n  (0): Linear(in_features=9, out_features=8, bias=True)\n  (1): ReLU()\n  (2): Linear(in_features=8, out_features=4, bias=True)\n  (3): ReLU()\n  (4): Linear(in_features=4, out_features=1, bias=True)\n)"
     },
     "execution_count": 59,
     "metadata": {},
     "output_type": "execute_result"
    }
   ],
   "source": [
    "hidden_units = [8,4]\n",
    "input_size = x_train.shape[1] # number of x features\n",
    "all_layers = []\n",
    "\n",
    "for hidden in hidden_units:\n",
    "    layer = torch.nn.Linear(input_size, hidden) # 1.loop => (9,8),  2.loop ==>(8,4)\n",
    "    all_layers.append(layer)\n",
    "    all_layers.append(torch.nn.ReLU())\n",
    "    input_size = hidden\n",
    "\n",
    "all_layers.append(torch.nn.Linear(hidden_units[-1],1))\n",
    "\n",
    "model = torch.nn.Sequential( *all_layers)\n",
    "model"
   ],
   "metadata": {
    "collapsed": false
   }
  },
  {
   "cell_type": "markdown",
   "source": [
    "## Calculate loss"
   ],
   "metadata": {
    "collapsed": false
   }
  },
  {
   "cell_type": "code",
   "execution_count": 60,
   "outputs": [],
   "source": [
    "loss_fn = torch.nn.MSELoss()\n",
    "optimizer = torch.optim.SGD(model.parameters(), lr = 0.001)"
   ],
   "metadata": {
    "collapsed": false
   }
  },
  {
   "cell_type": "code",
   "execution_count": 61,
   "outputs": [],
   "source": [
    "torch.manual_seed(1)\n",
    "num_epochs = 200\n",
    "log_epochs = 20"
   ],
   "metadata": {
    "collapsed": false
   }
  },
  {
   "cell_type": "code",
   "execution_count": 66,
   "outputs": [
    {
     "name": "stdout",
     "output_type": "stream",
     "text": [
      "Epoch 0 Loss 5.8677\n",
      "Epoch 20 Loss 6.3415\n",
      "Epoch 40 Loss 5.7029\n",
      "Epoch 60 Loss 6.9662\n",
      "Epoch 80 Loss 6.2425\n",
      "Epoch 100 Loss 5.9412\n",
      "Epoch 120 Loss 6.5680\n",
      "Epoch 140 Loss 6.3236\n",
      "Epoch 160 Loss 6.1156\n",
      "Epoch 180 Loss 6.0745\n"
     ]
    }
   ],
   "source": [
    "for epoch in range(num_epochs):\n",
    "    loss_hist_train = 0\n",
    "    for x_batch, y_batch in train_dl:\n",
    "        pred = model(x_batch)[:, 0]\n",
    "        loss = loss_fn(pred, y_batch)\n",
    "        loss.backward()\n",
    "        optimizer.step()\n",
    "        optimizer.zero_grad()\n",
    "        loss_hist_train += loss.item()\n",
    "    if epoch % log_epochs ==0:\n",
    "        print(f'Epoch {epoch} Loss '\\\n",
    "              f'{loss_hist_train/len(train_dl):.4f}')\n"
   ],
   "metadata": {
    "collapsed": false
   }
  },
  {
   "cell_type": "code",
   "execution_count": 64,
   "outputs": [
    {
     "name": "stdout",
     "output_type": "stream",
     "text": [
      "Test MSE: 17.4365\n",
      "Test MAE: 3.2026\n"
     ]
    }
   ],
   "source": [
    "with torch.no_grad():\n",
    "    pred = model(x_test.float())[:, 0]\n",
    "    loss = loss_fn(pred, y_test)\n",
    "    print(f'Test MSE: {loss.item():.4f}')\n",
    "    print(f'Test MAE: {torch.nn.L1Loss()(pred, y_test).item():.4f}')"
   ],
   "metadata": {
    "collapsed": false
   }
  },
  {
   "cell_type": "code",
   "execution_count": null,
   "outputs": [],
   "source": [],
   "metadata": {
    "collapsed": false
   }
  }
 ],
 "metadata": {
  "kernelspec": {
   "display_name": "Python 3",
   "language": "python",
   "name": "python3"
  },
  "language_info": {
   "codemirror_mode": {
    "name": "ipython",
    "version": 2
   },
   "file_extension": ".py",
   "mimetype": "text/x-python",
   "name": "python",
   "nbconvert_exporter": "python",
   "pygments_lexer": "ipython2",
   "version": "2.7.6"
  }
 },
 "nbformat": 4,
 "nbformat_minor": 0
}
