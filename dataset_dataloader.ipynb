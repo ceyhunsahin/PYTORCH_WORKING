{
 "cells": [
  {
   "cell_type": "code",
   "execution_count": 2,
   "metadata": {
    "collapsed": true
   },
   "outputs": [
    {
     "name": "stdout",
     "output_type": "stream",
     "text": [
      "Downloading http://fashion-mnist.s3-website.eu-central-1.amazonaws.com/train-images-idx3-ubyte.gz\n",
      "Downloading http://fashion-mnist.s3-website.eu-central-1.amazonaws.com/train-images-idx3-ubyte.gz to data/FashionMNIST/raw/train-images-idx3-ubyte.gz\n"
     ]
    },
    {
     "data": {
      "text/plain": "  0%|          | 0/26421880 [00:00<?, ?it/s]",
      "application/vnd.jupyter.widget-view+json": {
       "version_major": 2,
       "version_minor": 0,
       "model_id": "5d556ac8dce74457a9306e30eb8b8bc4"
      }
     },
     "metadata": {},
     "output_type": "display_data"
    },
    {
     "name": "stdout",
     "output_type": "stream",
     "text": [
      "Extracting data/FashionMNIST/raw/train-images-idx3-ubyte.gz to data/FashionMNIST/raw\n",
      "\n",
      "Downloading http://fashion-mnist.s3-website.eu-central-1.amazonaws.com/train-labels-idx1-ubyte.gz\n",
      "Downloading http://fashion-mnist.s3-website.eu-central-1.amazonaws.com/train-labels-idx1-ubyte.gz to data/FashionMNIST/raw/train-labels-idx1-ubyte.gz\n"
     ]
    },
    {
     "data": {
      "text/plain": "  0%|          | 0/29515 [00:00<?, ?it/s]",
      "application/vnd.jupyter.widget-view+json": {
       "version_major": 2,
       "version_minor": 0,
       "model_id": "6bb5cd09829b43eabfbf3625950d83b6"
      }
     },
     "metadata": {},
     "output_type": "display_data"
    },
    {
     "name": "stdout",
     "output_type": "stream",
     "text": [
      "Extracting data/FashionMNIST/raw/train-labels-idx1-ubyte.gz to data/FashionMNIST/raw\n",
      "\n",
      "Downloading http://fashion-mnist.s3-website.eu-central-1.amazonaws.com/t10k-images-idx3-ubyte.gz\n",
      "Downloading http://fashion-mnist.s3-website.eu-central-1.amazonaws.com/t10k-images-idx3-ubyte.gz to data/FashionMNIST/raw/t10k-images-idx3-ubyte.gz\n"
     ]
    },
    {
     "data": {
      "text/plain": "  0%|          | 0/4422102 [00:00<?, ?it/s]",
      "application/vnd.jupyter.widget-view+json": {
       "version_major": 2,
       "version_minor": 0,
       "model_id": "1401018061a745d18c292fef381885f2"
      }
     },
     "metadata": {},
     "output_type": "display_data"
    },
    {
     "name": "stdout",
     "output_type": "stream",
     "text": [
      "Extracting data/FashionMNIST/raw/t10k-images-idx3-ubyte.gz to data/FashionMNIST/raw\n",
      "\n",
      "Downloading http://fashion-mnist.s3-website.eu-central-1.amazonaws.com/t10k-labels-idx1-ubyte.gz\n",
      "Downloading http://fashion-mnist.s3-website.eu-central-1.amazonaws.com/t10k-labels-idx1-ubyte.gz to data/FashionMNIST/raw/t10k-labels-idx1-ubyte.gz\n"
     ]
    },
    {
     "data": {
      "text/plain": "  0%|          | 0/5148 [00:00<?, ?it/s]",
      "application/vnd.jupyter.widget-view+json": {
       "version_major": 2,
       "version_minor": 0,
       "model_id": "f90c1e3f7c894cddb0a52da0d144896e"
      }
     },
     "metadata": {},
     "output_type": "display_data"
    },
    {
     "name": "stdout",
     "output_type": "stream",
     "text": [
      "Extracting data/FashionMNIST/raw/t10k-labels-idx1-ubyte.gz to data/FashionMNIST/raw\n",
      "\n"
     ]
    }
   ],
   "source": [
    "import torch\n",
    "from torch.utils.data import Dataset\n",
    "from torchvision import datasets\n",
    "from torchvision.transforms import ToTensor\n",
    "import matplotlib.pyplot as plt\n",
    "\n",
    "\n",
    "training_data = datasets.FashionMNIST(\n",
    "    root=\"data\",\n",
    "    train=True,\n",
    "    download=True,\n",
    "    transform=ToTensor()\n",
    ")\n",
    "\n",
    "test_data = datasets.FashionMNIST(\n",
    "    root=\"data\",\n",
    "    train=False,\n",
    "    download=True,\n",
    "    transform=ToTensor()\n",
    ")"
   ]
  },
  {
   "cell_type": "markdown",
   "source": [
    "## Creating a Custom Dataset for your files"
   ],
   "metadata": {
    "collapsed": false
   }
  },
  {
   "cell_type": "code",
   "execution_count": 3,
   "outputs": [],
   "source": [
    "import os\n",
    "import pandas as pd\n",
    "from torchvision.io import read_image\n",
    "\n",
    "class CustomImageDataset(Dataset):\n",
    "    def __init__(self, annotations_file, img_dir, transform=None, target_transform=None):\n",
    "        self.img_labels = pd.read_csv(annotations_file)\n",
    "        self.img_dir = img_dir\n",
    "        self.transform = transform\n",
    "        self.target_transform = target_transform\n",
    "\n",
    "    def __len__(self):\n",
    "        return len(self.img_labels)\n",
    "\n",
    "    def __getitem__(self, idx):\n",
    "        img_path = os.path.join(self.img_dir, self.img_labels.iloc[idx, 0])\n",
    "        image = read_image(img_path)\n",
    "        label = self.img_labels.iloc[idx, 1]\n",
    "        if self.transform:\n",
    "            image = self.transform(image)\n",
    "        if self.target_transform:\n",
    "            label = self.target_transform(label)\n",
    "        return image, label"
   ],
   "metadata": {
    "collapsed": false
   }
  },
  {
   "cell_type": "markdown",
   "source": [
    "## Dataloader"
   ],
   "metadata": {
    "collapsed": false
   }
  },
  {
   "cell_type": "code",
   "execution_count": null,
   "outputs": [],
   "source": [],
   "metadata": {
    "collapsed": false
   }
  },
  {
   "cell_type": "code",
   "execution_count": 5,
   "outputs": [],
   "source": [
    "from torch.utils.data import DataLoader\n",
    "\n",
    "train_dataloader = DataLoader(training_data, batch_size=64, shuffle=True)\n",
    "test_dataloader = DataLoader(test_data, batch_size=64, shuffle=True)"
   ],
   "metadata": {
    "collapsed": false
   }
  },
  {
   "cell_type": "code",
   "execution_count": 6,
   "outputs": [
    {
     "name": "stdout",
     "output_type": "stream",
     "text": [
      "Feature batch shape: torch.Size([64, 1, 28, 28])\n",
      "Labels batch shape: torch.Size([64])\n"
     ]
    },
    {
     "data": {
      "text/plain": "<Figure size 640x480 with 1 Axes>",
      "image/png": "[encoded data removed]"
     },
     "metadata": {},
     "output_type": "display_data"
    },
    {
     "name": "stdout",
     "output_type": "stream",
     "text": [
      "Label: 4\n"
     ]
    }
   ],
   "source": [
    "# Display image and label.\n",
    "train_features, train_labels = next(iter(train_dataloader))\n",
    "print(f\"Feature batch shape: {train_features.size()}\")\n",
    "print(f\"Labels batch shape: {train_labels.size()}\")\n",
    "img = train_features[0].squeeze()\n",
    "label = train_labels[0]\n",
    "plt.imshow(img, cmap=\"gray\")\n",
    "plt.show()\n",
    "print(f\"Label: {label}\")"
   ],
   "metadata": {
    "collapsed": false
   }
  },
  {
   "cell_type": "code",
   "execution_count": 7,
   "outputs": [
    {
     "name": "stdout",
     "output_type": "stream",
     "text": [
      "cp: kaggle.json: No such file or directory\r\n",
      "kaggle.json\r\n",
      "chmod: /root/.kaggle/kaggle.json: No such file or directory\r\n",
      "Warning: Your Kaggle API key is readable by other users on this system! To fix this, you can run 'chmod 600 /Users/ceyhun/.kaggle/kaggle.json'\r\n",
      "Downloading neuralsntua-image-captioning.zip to /Users/ceyhun/PYTORCH\r\n",
      "100%|█████████████████████████████████████▉| 4.08G/4.08G [05:15<00:00, 15.3MB/s]\r\n",
      "100%|██████████████████████████████████████| 4.08G/4.08G [05:15<00:00, 13.9MB/s]\r\n",
      "unzip:  cannot find or open /content/neuralsntua-image-captioning.zip, /content/neuralsntua-image-captioning.zip.zip or /content/neuralsntua-image-captioning.zip.ZIP.\r\n"
     ]
    }
   ],
   "source": [
    "!pip install -q kaggle\n",
    "!mkdir -p ~/.kaggle\n",
    "!cp kaggle.json ~/.kaggle/\n",
    "!ls ~/.kaggle\n",
    "!chmod 600 /root/.kaggle/kaggle.json\n",
    "!kaggle datasets download -d lefterislymp/neuralsntua-image-captioning\n",
    "!unzip /content/neuralsntua-image-captioning.zip"
   ],
   "metadata": {
    "collapsed": false
   }
  },
  {
   "cell_type": "code",
   "execution_count": 8,
   "outputs": [
    {
     "name": "stdout",
     "output_type": "stream",
     "text": [
      "Requirement already satisfied: transformers in /Users/ceyhun/opt/anaconda3/envs/Dataspell_1_env/lib/python3.8/site-packages (4.26.1)\r\n",
      "Requirement already satisfied: pyyaml>=5.1 in /Users/ceyhun/opt/anaconda3/envs/Dataspell_1_env/lib/python3.8/site-packages (from transformers) (6.0)\r\n",
      "Requirement already satisfied: tqdm>=4.27 in /Users/ceyhun/opt/anaconda3/envs/Dataspell_1_env/lib/python3.8/site-packages (from transformers) (4.64.1)\r\n",
      "Requirement already satisfied: packaging>=20.0 in /Users/ceyhun/opt/anaconda3/envs/Dataspell_1_env/lib/python3.8/site-packages (from transformers) (22.0)\r\n",
      "Requirement already satisfied: requests in /Users/ceyhun/opt/anaconda3/envs/Dataspell_1_env/lib/python3.8/site-packages (from transformers) (2.28.1)\r\n",
      "Requirement already satisfied: regex!=2019.12.17 in /Users/ceyhun/opt/anaconda3/envs/Dataspell_1_env/lib/python3.8/site-packages (from transformers) (2022.10.31)\r\n",
      "Requirement already satisfied: numpy>=1.17 in /Users/ceyhun/opt/anaconda3/envs/Dataspell_1_env/lib/python3.8/site-packages (from transformers) (1.23.5)\r\n",
      "Requirement already satisfied: filelock in /Users/ceyhun/opt/anaconda3/envs/Dataspell_1_env/lib/python3.8/site-packages (from transformers) (3.9.0)\r\n",
      "Requirement already satisfied: tokenizers!=0.11.3,<0.14,>=0.11.1 in /Users/ceyhun/opt/anaconda3/envs/Dataspell_1_env/lib/python3.8/site-packages (from transformers) (0.13.2)\r\n",
      "Requirement already satisfied: huggingface-hub<1.0,>=0.11.0 in /Users/ceyhun/opt/anaconda3/envs/Dataspell_1_env/lib/python3.8/site-packages (from transformers) (0.12.1)\r\n",
      "Requirement already satisfied: typing-extensions>=3.7.4.3 in /Users/ceyhun/opt/anaconda3/envs/Dataspell_1_env/lib/python3.8/site-packages (from huggingface-hub<1.0,>=0.11.0->transformers) (4.4.0)\r\n",
      "Requirement already satisfied: certifi>=2017.4.17 in /Users/ceyhun/opt/anaconda3/envs/Dataspell_1_env/lib/python3.8/site-packages (from requests->transformers) (2022.12.7)\r\n",
      "Requirement already satisfied: idna<4,>=2.5 in /Users/ceyhun/opt/anaconda3/envs/Dataspell_1_env/lib/python3.8/site-packages (from requests->transformers) (3.4)\r\n",
      "Requirement already satisfied: charset-normalizer<3,>=2 in /Users/ceyhun/opt/anaconda3/envs/Dataspell_1_env/lib/python3.8/site-packages (from requests->transformers) (2.0.4)\r\n",
      "Requirement already satisfied: urllib3<1.27,>=1.21.1 in /Users/ceyhun/opt/anaconda3/envs/Dataspell_1_env/lib/python3.8/site-packages (from requests->transformers) (1.26.14)\r\n"
     ]
    }
   ],
   "source": [
    "\n",
    "import torch.nn as nn\n",
    "import torch\n",
    "from torch.utils.data import DataLoader, Dataset\n",
    "from torchvision import transforms\n",
    "\n",
    "from PIL import Image\n",
    "import os\n",
    "import pandas as pd\n",
    "\n",
    "!pip install transformers\n",
    "from transformers import AutoTokenizer"
   ],
   "metadata": {
    "collapsed": false
   }
  },
  {
   "cell_type": "code",
   "execution_count": null,
   "outputs": [],
   "source": [
    "class KaggleImageCaptioningDataset(Dataset):\n",
    "    def __init__(self, train_captions, root_dir, transform=None, bert_model='distilbert-base-uncased', max_len=512):\n",
    "        self.df = pd.read_csv(train_captions, header=None, sep='|')\n",
    "        self.root_dir = root_dir\n",
    "        self.transform = transform\n",
    "        self.tokenizer = AutoTokenizer.from_pretrained(bert_model)\n",
    "        self.max_len = max_len\n",
    "\n",
    "        self.images = self.df.iloc[:,0]\n",
    "        self.captions = self.df.iloc[:,2]\n",
    "\n",
    "    def __len__(self):\n",
    "        return len(self.df)\n",
    "\n",
    "\n",
    "    def __getitem__(self, idx):\n",
    "        caption = self.captions[idx]\n",
    "        image_id = self.images[idx]\n",
    "        path_to_image = os.path.join(self.root_dir, image_id)\n",
    "        image = Image.open(path_to_image).convert('RGB')\n",
    "\n",
    "        if self.transform is not None:\n",
    "            image = self.transform(image)\n",
    "\n",
    "        tokenized_caption = self.tokenizer(caption,\n",
    "                                           padding='max_length',  # Pad to max_length\n",
    "                                           truncation=True,  # Truncate to max_length\n",
    "                                           max_length=self.max_len,\n",
    "                                           return_tensors='pt')['input_ids']\n",
    "\n",
    "        return image, tokenized_caption"
   ],
   "metadata": {
    "collapsed": false,
    "pycharm": {
     "is_executing": true
    }
   }
  },
  {
   "cell_type": "code",
   "execution_count": null,
   "outputs": [],
   "source": [
    "root_dir = '/content/flickr30k-images-ecemod/image_dir'\n",
    "train_captions = '/content/train_captions.csv'\n",
    "bert_model = 'distilbert-base-uncased'\n",
    "transform = transforms.Compose([transforms.Resize(256),\n",
    "                                transforms.CenterCrop(224),\n",
    "                                transforms.PILToTensor()])\n",
    "train_dataset = KaggleImageCaptioningDataset(train_captions=train_captions,\n",
    "                                             root_dir=root_dir,\n",
    "                                             transform=transform,\n",
    "                                             bert_model=bert_model)\n",
    "train_loader = DataLoader(train_dataset,\n",
    "                          batch_size=64,\n",
    "                          num_workers=2,\n",
    "                          shuffle=True)"
   ],
   "metadata": {
    "collapsed": false,
    "pycharm": {
     "is_executing": true
    }
   }
  },
  {
   "cell_type": "code",
   "execution_count": null,
   "outputs": [],
   "source": [
    "\n",
    "for batch_num, (image, caption) in enumerate(train_loader):\n",
    "    if batch_num > 3:\n",
    "        break\n",
    "    print(f'batch number {batch_num} has {image.shape[0]} images and correspondingly {caption.shape[0]} tokenized captions')"
   ],
   "metadata": {
    "collapsed": false,
    "pycharm": {
     "is_executing": true
    }
   }
  },
  {
   "cell_type": "code",
   "execution_count": null,
   "outputs": [],
   "source": [
    "\n",
    "!pip install torchdata\n",
    "import torchdata.datapipes as dp\n",
    "from torch.utils.data.backward_compatibility import worker_init_fn\n",
    "from torch.utils.data import DataLoader"
   ],
   "metadata": {
    "collapsed": false,
    "pycharm": {
     "is_executing": true
    }
   }
  },
  {
   "cell_type": "code",
   "execution_count": null,
   "outputs": [],
   "source": [
    "\n",
    "training_csv = '/content/train_captions.csv'\n",
    "train_dp = dp.iter.FileOpener([training_csv])\n",
    "train_dp = train_dp.parse_csv(delimiter='|')\n",
    "train_dp = train_dp.shuffle(buffer_size=2000)\n",
    "train_dp = train_dp.sharding_filter()"
   ],
   "metadata": {
    "collapsed": false,
    "pycharm": {
     "is_executing": true
    }
   }
  },
  {
   "cell_type": "code",
   "execution_count": 9,
   "outputs": [
    {
     "ename": "NameError",
     "evalue": "name 'train_dp' is not defined",
     "output_type": "error",
     "traceback": [
      "\u001B[0;31m---------------------------------------------------------------------------\u001B[0m",
      "\u001B[0;31mNameError\u001B[0m                                 Traceback (most recent call last)",
      "Cell \u001B[0;32mIn[9], line 24\u001B[0m\n\u001B[1;32m     16\u001B[0m     tokenized_caption \u001B[38;5;241m=\u001B[39m tokenizer(caption,\n\u001B[1;32m     17\u001B[0m                                   padding\u001B[38;5;241m=\u001B[39m\u001B[38;5;124m'\u001B[39m\u001B[38;5;124mmax_length\u001B[39m\u001B[38;5;124m'\u001B[39m,  \u001B[38;5;66;03m# Pad to max_length\u001B[39;00m\n\u001B[1;32m     18\u001B[0m                                   truncation\u001B[38;5;241m=\u001B[39m\u001B[38;5;28;01mTrue\u001B[39;00m,  \u001B[38;5;66;03m# Truncate to max_length\u001B[39;00m\n\u001B[1;32m     19\u001B[0m                                   max_length\u001B[38;5;241m=\u001B[39mmax_len,\n\u001B[1;32m     20\u001B[0m                                   return_tensors\u001B[38;5;241m=\u001B[39m\u001B[38;5;124m'\u001B[39m\u001B[38;5;124mpt\u001B[39m\u001B[38;5;124m'\u001B[39m)[\u001B[38;5;124m'\u001B[39m\u001B[38;5;124minput_ids\u001B[39m\u001B[38;5;124m'\u001B[39m]\n\u001B[1;32m     21\u001B[0m     \u001B[38;5;28;01mreturn\u001B[39;00m {\u001B[38;5;124m'\u001B[39m\u001B[38;5;124mimage\u001B[39m\u001B[38;5;124m'\u001B[39m:image, \u001B[38;5;124m'\u001B[39m\u001B[38;5;124mcaption\u001B[39m\u001B[38;5;124m'\u001B[39m:tokenized_caption}\n\u001B[0;32m---> 24\u001B[0m train_dp \u001B[38;5;241m=\u001B[39m \u001B[43mtrain_dp\u001B[49m\u001B[38;5;241m.\u001B[39mmap(open_image_from_imagepath)\n\u001B[1;32m     25\u001B[0m train_loader \u001B[38;5;241m=\u001B[39m DataLoader(dataset\u001B[38;5;241m=\u001B[39mtrain_dp, shuffle\u001B[38;5;241m=\u001B[39m\u001B[38;5;28;01mTrue\u001B[39;00m, batch_size\u001B[38;5;241m=\u001B[39m\u001B[38;5;241m32\u001B[39m, num_workers\u001B[38;5;241m=\u001B[39m\u001B[38;5;241m2\u001B[39m, worker_init_fn\u001B[38;5;241m=\u001B[39mworker_init_fn)\n",
      "\u001B[0;31mNameError\u001B[0m: name 'train_dp' is not defined"
     ]
    }
   ],
   "source": [
    "\n",
    "max_len = 512\n",
    "root_dir = '/content/flickr30k-images-ecemod/image_dir'\n",
    "\n",
    "def apply_image_transforms(image):\n",
    "\n",
    "    transform = transforms.Compose([transforms.Resize(256),\n",
    "                                    transforms.CenterCrop(224),\n",
    "                                    transforms.PILToTensor()])\n",
    "    return transform(image)\n",
    "\n",
    "def open_image_from_imagepath(row):\n",
    "    image_id, _, caption = row\n",
    "    path_to_image = os.path.join(root_dir, image_id)\n",
    "    image = Image.open(path_to_image).convert('RGB')\n",
    "    image = apply_image_transforms(image)\n",
    "    tokenized_caption = tokenizer(caption,\n",
    "                                  padding='max_length',  # Pad to max_length\n",
    "                                  truncation=True,  # Truncate to max_length\n",
    "                                  max_length=max_len,\n",
    "                                  return_tensors='pt')['input_ids']\n",
    "    return {'image':image, 'caption':tokenized_caption}\n",
    "\n",
    "\n",
    "train_dp = train_dp.map(open_image_from_imagepath)\n",
    "train_loader = DataLoader(dataset=train_dp, shuffle=True, batch_size=32, num_workers=2, worker_init_fn=worker_init_fn)"
   ],
   "metadata": {
    "collapsed": false
   }
  },
  {
   "cell_type": "code",
   "execution_count": null,
   "outputs": [],
   "source": [
    "num_epochs = 1\n",
    "bert_model = 'distilbert-base-uncased'    # use any model of your choice\n",
    "tokenizer = AutoTokenizer.from_pretrained(bert_model)\n",
    "for epoch in range(num_epochs):\n",
    "    for batch_num, batch_dict in enumerate(train_loader):\n",
    "        if batch_num > 2:\n",
    "            break\n",
    "\n",
    "        images, captions = batch_dict['image'], batch_dict['caption']\n",
    "        print(f'Batch {batch_num} has {images.shape[0]} images and correspondingly {captions.shape[0]} captions')"
   ],
   "metadata": {
    "collapsed": false
   }
  },
  {
   "cell_type": "code",
   "execution_count": null,
   "outputs": [],
   "source": [
    "from transformers import AutoTokenizer\n",
    "\n",
    "bert_model = 'distilbert-base-uncased'    # use any model of your choice\n",
    "tokenizer = AutoTokenizer.from_pretrained(bert_model)\n",
    "tokenizer('hi how are you')"
   ],
   "metadata": {
    "collapsed": false
   }
  },
  {
   "cell_type": "code",
   "execution_count": null,
   "outputs": [],
   "source": [
    "bert_model = 'distilbert-base-uncased'    # use any model of your choice\n",
    "tokenizer = AutoTokenizer.from_pretrained(bert_model)"
   ],
   "metadata": {
    "collapsed": false
   }
  },
  {
   "cell_type": "code",
   "execution_count": null,
   "outputs": [],
   "source": [],
   "metadata": {
    "collapsed": false
   }
  }
 ],
 "metadata": {
  "kernelspec": {
   "display_name": "Python 3",
   "language": "python",
   "name": "python3"
  },
  "language_info": {
   "codemirror_mode": {
    "name": "ipython",
    "version": 2
   },
   "file_extension": ".py",
   "mimetype": "text/x-python",
   "name": "python",
   "nbconvert_exporter": "python",
   "pygments_lexer": "ipython2",
   "version": "2.7.6"
  }
 },
 "nbformat": 4,
 "nbformat_minor": 0
}
