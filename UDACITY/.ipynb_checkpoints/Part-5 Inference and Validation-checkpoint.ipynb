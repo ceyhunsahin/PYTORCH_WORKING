{
 "cells": [
  {
   "cell_type": "markdown",
   "id": "979a9f42",
   "metadata": {},
   "source": [
    "Now that you have a trained network, you can use it for making predictions. This is typically called inference, a term borrowed from statistics. However, neural networks have a tendency to perform too well on the training data and aren't able to generalize to data that hasn't been seen before. This is called overfitting and it impairs inference performance. To test for overfitting while training, we measure the performance on data not in the training set called the validation set. We avoid overfitting through regularization such as dropout while monitoring the validation performance during training. In this notebook, I'll show you how to do this in PyTorch.\n",
    "\n"
   ]
  },
  {
   "cell_type": "code",
   "execution_count": 100,
   "id": "334df081",
   "metadata": {},
   "outputs": [],
   "source": [
    "import torch\n",
    "from torchvision import datasets, transforms\n",
    "from torch import nn, optim\n",
    "import torch.nn.functional as F\n",
    "\n",
    "# Define a transform to normalize the data\n",
    "transform = transforms.Compose([transforms.ToTensor(),\n",
    "                                transforms.Normalize((0.5,), (0.5,))])\n",
    "# Download and load the training data\n",
    "trainset = datasets.FashionMNIST('~/.pytorch/F_MNIST_data/', download=True, train=True, transform=transform)\n",
    "trainloader = torch.utils.data.DataLoader(trainset, batch_size=64, shuffle=True)\n",
    "\n",
    "# Download and load the test data\n",
    "testset = datasets.FashionMNIST('~/.pytorch/F_MNIST_data/', download=True, train=False, transform=transform)\n",
    "testloader = torch.utils.data.DataLoader(testset, batch_size=64, shuffle=True)"
   ]
  },
  {
   "cell_type": "code",
   "execution_count": 101,
   "id": "38461c9e",
   "metadata": {},
   "outputs": [],
   "source": [
    "class Classifier(nn.Module):\n",
    "    def __init__(self):\n",
    "        super().__init__()\n",
    "        self.fc1 = nn.Linear(784,256)\n",
    "        self.fc2 = nn.Linear(256,128)\n",
    "        self.fc3 = nn.Linear(128,64)\n",
    "        self.fc4 = nn.Linear(64,10)\n",
    "        \n",
    "    def forward(self,x):\n",
    "        x = x.view(x.shape[0], -1)\n",
    "        x = F.relu(self.fc1(x))\n",
    "        x = F.relu(self.fc2(x))\n",
    "        x = F.relu(self.fc3(x))\n",
    "        x = F.log_softmax(self.fc4(x), dim=1)\n",
    "        \n",
    "        return x\n",
    "        "
   ]
  },
  {
   "cell_type": "code",
   "execution_count": 102,
   "id": "b2fad622",
   "metadata": {},
   "outputs": [],
   "source": [
    "model = Classifier()"
   ]
  },
  {
   "cell_type": "code",
   "execution_count": 103,
   "id": "5402a56a",
   "metadata": {},
   "outputs": [
    {
     "name": "stdout",
     "output_type": "stream",
     "text": [
      "torch.Size([64, 10])\n"
     ]
    }
   ],
   "source": [
    "images, labels = next(iter(testloader))\n",
    "# Get the class probabilities\n",
    "ps = torch.exp(model(images))\n",
    "# Make sure the shape is appropriate, we should get 10 class probabilities for 64 examples\n",
    "print(ps.shape)"
   ]
  },
  {
   "cell_type": "markdown",
   "id": "0dfdd67e",
   "metadata": {},
   "source": [
    "With the probabilities, we can get the most likely class using the <code>ps.topk</code> method. This returns the  highest values. Since we just want the most likely class, we can use <code>ps.topk(1)</code>. This returns a tuple of the top- values and the top- indices. If the highest value is the fifth element, we'll get back 4 as the index."
   ]
  },
  {
   "cell_type": "code",
   "execution_count": 104,
   "id": "638a2622",
   "metadata": {},
   "outputs": [
    {
     "name": "stdout",
     "output_type": "stream",
     "text": [
      "torch.Size([64, 1])\n"
     ]
    }
   ],
   "source": [
    "top_p, top_class = ps.topk(1,dim=1)\n",
    "# Look at the most likely classes for the first 10 examples\n",
    "print(top_class.shape)"
   ]
  },
  {
   "cell_type": "code",
   "execution_count": 105,
   "id": "0d407a42",
   "metadata": {},
   "outputs": [
    {
     "data": {
      "text/plain": [
       "tensor([[0.1130],\n",
       "        [0.1138],\n",
       "        [0.1157],\n",
       "        [0.1146],\n",
       "        [0.1145],\n",
       "        [0.1140],\n",
       "        [0.1103],\n",
       "        [0.1141],\n",
       "        [0.1127],\n",
       "        [0.1135],\n",
       "        [0.1139],\n",
       "        [0.1127],\n",
       "        [0.1130],\n",
       "        [0.1153],\n",
       "        [0.1152],\n",
       "        [0.1164],\n",
       "        [0.1186],\n",
       "        [0.1134],\n",
       "        [0.1179],\n",
       "        [0.1156],\n",
       "        [0.1182],\n",
       "        [0.1135],\n",
       "        [0.1131],\n",
       "        [0.1147],\n",
       "        [0.1113],\n",
       "        [0.1143],\n",
       "        [0.1142],\n",
       "        [0.1131],\n",
       "        [0.1135],\n",
       "        [0.1140],\n",
       "        [0.1139],\n",
       "        [0.1137],\n",
       "        [0.1100],\n",
       "        [0.1158],\n",
       "        [0.1148],\n",
       "        [0.1106],\n",
       "        [0.1151],\n",
       "        [0.1194],\n",
       "        [0.1132],\n",
       "        [0.1124],\n",
       "        [0.1188],\n",
       "        [0.1168],\n",
       "        [0.1113],\n",
       "        [0.1115],\n",
       "        [0.1142],\n",
       "        [0.1134],\n",
       "        [0.1116],\n",
       "        [0.1126],\n",
       "        [0.1124],\n",
       "        [0.1153],\n",
       "        [0.1126],\n",
       "        [0.1145],\n",
       "        [0.1117],\n",
       "        [0.1125],\n",
       "        [0.1125],\n",
       "        [0.1141],\n",
       "        [0.1107],\n",
       "        [0.1174],\n",
       "        [0.1139],\n",
       "        [0.1118],\n",
       "        [0.1143],\n",
       "        [0.1116],\n",
       "        [0.1143],\n",
       "        [0.1138]], grad_fn=<TopkBackward0>)"
      ]
     },
     "execution_count": 105,
     "metadata": {},
     "output_type": "execute_result"
    }
   ],
   "source": [
    "top_p"
   ]
  },
  {
   "cell_type": "code",
   "execution_count": 106,
   "id": "1d1c28a4",
   "metadata": {},
   "outputs": [
    {
     "data": {
      "text/plain": [
       "torch.Size([64, 1])"
      ]
     },
     "execution_count": 106,
     "metadata": {},
     "output_type": "execute_result"
    }
   ],
   "source": [
    "top_class.shape"
   ]
  },
  {
   "cell_type": "code",
   "execution_count": 107,
   "id": "7b5c13f9",
   "metadata": {},
   "outputs": [
    {
     "data": {
      "text/plain": [
       "torch.Size([64])"
      ]
     },
     "execution_count": 107,
     "metadata": {},
     "output_type": "execute_result"
    }
   ],
   "source": [
    "labels.shape"
   ]
  },
  {
   "cell_type": "code",
   "execution_count": 108,
   "id": "d7ec14c3",
   "metadata": {},
   "outputs": [],
   "source": [
    "equals = top_class == labels"
   ]
  },
  {
   "cell_type": "code",
   "execution_count": 109,
   "id": "14425425",
   "metadata": {},
   "outputs": [
    {
     "data": {
      "text/plain": [
       "torch.Size([64, 64])"
      ]
     },
     "execution_count": 109,
     "metadata": {},
     "output_type": "execute_result"
    }
   ],
   "source": [
    "equals.shape"
   ]
  },
  {
   "cell_type": "code",
   "execution_count": 110,
   "id": "f522325c",
   "metadata": {},
   "outputs": [
    {
     "data": {
      "text/plain": [
       "tensor([[9],\n",
       "        [9],\n",
       "        [9],\n",
       "        [9],\n",
       "        [9],\n",
       "        [0],\n",
       "        [9],\n",
       "        [9],\n",
       "        [2],\n",
       "        [0]])"
      ]
     },
     "execution_count": 110,
     "metadata": {},
     "output_type": "execute_result"
    }
   ],
   "source": [
    "top_class[:10]"
   ]
  },
  {
   "cell_type": "code",
   "execution_count": 111,
   "id": "dfa523dc",
   "metadata": {},
   "outputs": [
    {
     "data": {
      "text/plain": [
       "tensor([1, 8, 6, 3, 6, 9, 0, 3, 1, 7])"
      ]
     },
     "execution_count": 111,
     "metadata": {},
     "output_type": "execute_result"
    }
   ],
   "source": [
    "labels[:10]"
   ]
  },
  {
   "cell_type": "code",
   "execution_count": 112,
   "id": "4ef5196b",
   "metadata": {},
   "outputs": [],
   "source": [
    "equals = top_class == labels.view(*top_class.shape)"
   ]
  },
  {
   "cell_type": "code",
   "execution_count": 113,
   "id": "3786747d",
   "metadata": {},
   "outputs": [
    {
     "data": {
      "text/plain": [
       "tensor([[False],\n",
       "        [False],\n",
       "        [False],\n",
       "        [False],\n",
       "        [False],\n",
       "        [False],\n",
       "        [False],\n",
       "        [False],\n",
       "        [False],\n",
       "        [False],\n",
       "        [False],\n",
       "        [False],\n",
       "        [False],\n",
       "        [False],\n",
       "        [False],\n",
       "        [False],\n",
       "        [False],\n",
       "        [False],\n",
       "        [False],\n",
       "        [False],\n",
       "        [False],\n",
       "        [False],\n",
       "        [False],\n",
       "        [False],\n",
       "        [False],\n",
       "        [False],\n",
       "        [False],\n",
       "        [ True],\n",
       "        [False],\n",
       "        [False],\n",
       "        [ True],\n",
       "        [False],\n",
       "        [False],\n",
       "        [False],\n",
       "        [False],\n",
       "        [False],\n",
       "        [False],\n",
       "        [False],\n",
       "        [False],\n",
       "        [False],\n",
       "        [False],\n",
       "        [False],\n",
       "        [ True],\n",
       "        [False],\n",
       "        [False],\n",
       "        [False],\n",
       "        [False],\n",
       "        [False],\n",
       "        [False],\n",
       "        [False],\n",
       "        [False],\n",
       "        [False],\n",
       "        [False],\n",
       "        [ True],\n",
       "        [False],\n",
       "        [False],\n",
       "        [False],\n",
       "        [False],\n",
       "        [False],\n",
       "        [False],\n",
       "        [False],\n",
       "        [False],\n",
       "        [False],\n",
       "        [False]])"
      ]
     },
     "execution_count": 113,
     "metadata": {},
     "output_type": "execute_result"
    }
   ],
   "source": [
    "equals"
   ]
  },
  {
   "cell_type": "code",
   "execution_count": 114,
   "id": "f6af1ff8",
   "metadata": {},
   "outputs": [
    {
     "data": {
      "text/plain": [
       "torch.Size([64, 1])"
      ]
     },
     "execution_count": 114,
     "metadata": {},
     "output_type": "execute_result"
    }
   ],
   "source": [
    "top_class.shape"
   ]
  },
  {
   "cell_type": "code",
   "execution_count": 115,
   "id": "e1c17f24",
   "metadata": {},
   "outputs": [
    {
     "data": {
      "text/plain": [
       "torch.Size([64])"
      ]
     },
     "execution_count": 115,
     "metadata": {},
     "output_type": "execute_result"
    }
   ],
   "source": [
    "labels.shape"
   ]
  },
  {
   "cell_type": "code",
   "execution_count": 116,
   "id": "d032a211",
   "metadata": {},
   "outputs": [
    {
     "name": "stdout",
     "output_type": "stream",
     "text": [
      "Accuracy: 6.25%\n"
     ]
    }
   ],
   "source": [
    "accuracy = torch.mean(equals.to(torch.half))\n",
    "print(f'Accuracy: {accuracy.item()*100}%')"
   ]
  },
  {
   "cell_type": "code",
   "execution_count": 117,
   "id": "9ef59b84",
   "metadata": {},
   "outputs": [
    {
     "name": "stdout",
     "output_type": "stream",
     "text": [
      "Epoch: 1/10..  Training Loss: 0.515..  Test Loss: 0.483..  Test Accuracy: 0.827\n",
      "Epoch: 2/10..  Training Loss: 0.390..  Test Loss: 0.423..  Test Accuracy: 0.850\n",
      "Epoch: 3/10..  Training Loss: 0.357..  Test Loss: 0.407..  Test Accuracy: 0.859\n",
      "Epoch: 4/10..  Training Loss: 0.329..  Test Loss: 0.372..  Test Accuracy: 0.869\n",
      "Epoch: 5/10..  Training Loss: 0.312..  Test Loss: 0.397..  Test Accuracy: 0.860\n",
      "Epoch: 6/10..  Training Loss: 0.302..  Test Loss: 0.391..  Test Accuracy: 0.870\n",
      "Epoch: 7/10..  Training Loss: 0.292..  Test Loss: 0.402..  Test Accuracy: 0.859\n",
      "Epoch: 8/10..  Training Loss: 0.279..  Test Loss: 0.368..  Test Accuracy: 0.872\n",
      "Epoch: 9/10..  Training Loss: 0.270..  Test Loss: 0.370..  Test Accuracy: 0.878\n",
      "Epoch: 10/10..  Training Loss: 0.265..  Test Loss: 0.376..  Test Accuracy: 0.874\n"
     ]
    }
   ],
   "source": [
    "model = Classifier()\n",
    "criterion = nn.NLLLoss(reduction='sum')\n",
    "optimizer = optim.Adam(model.parameters(), lr=0.003)\n",
    "\n",
    "epochs = 10\n",
    "\n",
    "train_losses, test_losses = [],[]\n",
    "for e in range(epochs):\n",
    "    tot_train_loss = 0\n",
    "    for images, labels in trainloader:\n",
    "        optimizer.zero_grad()\n",
    "        \n",
    "        log_ps = model(images)\n",
    "        loss = criterion(log_ps, labels)\n",
    "        tot_train_loss += loss.item()\n",
    "        \n",
    "        loss.backward()\n",
    "        optimizer.step()\n",
    "    else:\n",
    "        tot_test_loss = 0\n",
    "        test_correct = 0  # Number of correct predictions on the test set\n",
    "        \n",
    "        # Turn off gradients for validation, saves memory and computations\n",
    "        with torch.no_grad():\n",
    "            for images, labels in testloader:\n",
    "                log_ps = model(images)\n",
    "                loss = criterion(log_ps, labels)\n",
    "                tot_test_loss += loss.item()\n",
    "\n",
    "                ps = torch.exp(log_ps)\n",
    "                top_p, top_class = ps.topk(1, dim=1)\n",
    "                equals = top_class == labels.view(*top_class.shape)\n",
    "                test_correct += equals.sum().item()\n",
    "\n",
    "        # Get mean loss to enable comparison between train and test sets\n",
    "        train_loss = tot_train_loss / len(trainloader.dataset)\n",
    "        test_loss = tot_test_loss / len(testloader.dataset)\n",
    "\n",
    "        # At completion of epoch\n",
    "        train_losses.append(train_loss)\n",
    "        test_losses.append(test_loss)\n",
    "\n",
    "        print(\"Epoch: {}/{}.. \".format(e+1, epochs),\n",
    "              \"Training Loss: {:.3f}.. \".format(train_loss),\n",
    "              \"Test Loss: {:.3f}.. \".format(test_loss),\n",
    "              \"Test Accuracy: {:.3f}\".format(test_correct / len(testloader.dataset)))"
   ]
  },
  {
   "cell_type": "code",
   "execution_count": 118,
   "id": "9c181b4b",
   "metadata": {},
   "outputs": [],
   "source": [
    "%matplotlib inline\n",
    "%config InlineBackend.figure_format = 'retina'\n",
    "\n",
    "import matplotlib.pyplot as plt"
   ]
  },
  {
   "cell_type": "code",
   "execution_count": 119,
   "id": "ae88af69",
   "metadata": {},
   "outputs": [
    {
     "data": {
      "text/plain": [
       "<matplotlib.legend.Legend at 0x7fe0de6cffd0>"
      ]
     },
     "execution_count": 119,
     "metadata": {},
     "output_type": "execute_result"
    },
    {
     "data": {
      "image/png": "[encoded data removed]",
      "text/plain": [
       "<Figure size 432x288 with 1 Axes>"
      ]
     },
     "metadata": {
      "image/png": {
       "height": 248,
       "width": 378
      },
      "needs_background": "light"
     },
     "output_type": "display_data"
    }
   ],
   "source": [
    "plt.plot(train_losses, label='Training loss')\n",
    "plt.plot(test_losses, label='Validation loss')\n",
    "plt.legend(frameon=False)"
   ]
  },
  {
   "cell_type": "markdown",
   "id": "34d40300",
   "metadata": {},
   "source": [
    "## Overfitting"
   ]
  },
  {
   "cell_type": "markdown",
   "id": "6a33d7f8",
   "metadata": {},
   "source": [
    "If we look at the training and validation losses as we train the network, we can see a phenomenon known as overfitting.\n",
    "\n",
    "The network learns the training set better and better, resulting in lower training losses. However, it starts having problems generalizing to data outside the training set leading to the validation loss increasing. The ultimate goal of any deep learning model is to make predictions on new data, so we should strive to get the lowest validation loss possible. One option is to use the version of the model with the lowest validation loss, here the one around 8-10 training epochs. This strategy is called <b>early-stopping</b>. In practice, you'd save the model frequently as you're training then later choose the model with the lowest validation loss.\n",
    "\n",
    "The most common method to reduce overfitting (outside of early-stopping) is <b>dropout</b>, where we randomly drop input units. This forces the network to share information between weights, increasing it's ability to generalize to new data. Adding dropout in PyTorch is straightforward using the <code>nn.Dropout</code> module."
   ]
  },
  {
   "cell_type": "code",
   "execution_count": 120,
   "id": "59605daa",
   "metadata": {},
   "outputs": [],
   "source": [
    "class Classifier(nn.Module):\n",
    "    def __init__(self):\n",
    "        super().__init__()\n",
    "        self.fc1 = nn.Linear(784, 256)\n",
    "        self.fc2 = nn.Linear(256, 128)\n",
    "        self.fc3 = nn.Linear(128, 64)\n",
    "        self.fc4 = nn.Linear(64, 10)\n",
    "\n",
    "        # Dropout module with 0.2 drop probability\n",
    "        self.dropout = nn.Dropout(p=0.2)\n",
    "\n",
    "    def forward(self, x):\n",
    "        # make sure input tensor is flattened\n",
    "        x = x.view(x.shape[0], -1)\n",
    "\n",
    "        # Now with dropout\n",
    "        x = self.dropout(F.relu(self.fc1(x)))\n",
    "        x = self.dropout(F.relu(self.fc2(x)))\n",
    "        x = self.dropout(F.relu(self.fc3(x)))\n",
    "\n",
    "        # output so no dropout here\n",
    "        x = F.log_softmax(self.fc4(x), dim=1)\n",
    "\n",
    "        return x"
   ]
  },
  {
   "cell_type": "markdown",
   "id": "bd79c662",
   "metadata": {},
   "source": [
    "During training we want to use `dropout` to prevent overfitting, but during inference we want to use the entire network. So,<b> we need to turn off dropout during validation, testing, and whenever we're using the network to make predictions</b>. To do this, you use <code>model.eval()</code>. This sets the model to evaluation mode where the dropout probability is 0. You can <b>turn dropout back on by setting the model to train mode with <code>model.train()</code>.</b> In general, the pattern for the validation loop will look like this, where you turn off gradients, set the model to evaluation mode, calculate the validation loss and metric, then set the model back to train mode."
   ]
  },
  {
   "cell_type": "markdown",
   "id": "9726e63f",
   "metadata": {},
   "source": [
    "'''\n",
    "    \n",
    "    with torch.no_grad():\n",
    "\n",
    "        # set model to evaluation mode\n",
    "        model.eval()\n",
    "\n",
    "        # validation pass here\n",
    "        for images, labels in testloader:\n",
    "            ...\n",
    "    # set model back to train mode\n",
    "    model.train()\n",
    "'''"
   ]
  },
  {
   "cell_type": "code",
   "execution_count": 32,
   "id": "dbe00fa5",
   "metadata": {},
   "outputs": [
    {
     "name": "stdout",
     "output_type": "stream",
     "text": [
      "Epoch: 1/30..  Training Loss: 0.606..  Test Loss: 0.462..  Test Accuracy: 0.834\n",
      "Epoch: 2/30..  Training Loss: 0.483..  Test Loss: 0.428..  Test Accuracy: 0.845\n",
      "Epoch: 3/30..  Training Loss: 0.450..  Test Loss: 0.418..  Test Accuracy: 0.854\n",
      "Epoch: 4/30..  Training Loss: 0.433..  Test Loss: 0.431..  Test Accuracy: 0.841\n",
      "Epoch: 5/30..  Training Loss: 0.418..  Test Loss: 0.401..  Test Accuracy: 0.853\n",
      "Epoch: 6/30..  Training Loss: 0.414..  Test Loss: 0.394..  Test Accuracy: 0.860\n",
      "Epoch: 7/30..  Training Loss: 0.405..  Test Loss: 0.389..  Test Accuracy: 0.864\n",
      "Epoch: 8/30..  Training Loss: 0.398..  Test Loss: 0.396..  Test Accuracy: 0.862\n",
      "Epoch: 9/30..  Training Loss: 0.392..  Test Loss: 0.376..  Test Accuracy: 0.871\n",
      "Epoch: 10/30..  Training Loss: 0.386..  Test Loss: 0.388..  Test Accuracy: 0.868\n",
      "Epoch: 11/30..  Training Loss: 0.384..  Test Loss: 0.377..  Test Accuracy: 0.866\n",
      "Epoch: 12/30..  Training Loss: 0.385..  Test Loss: 0.394..  Test Accuracy: 0.859\n",
      "Epoch: 13/30..  Training Loss: 0.378..  Test Loss: 0.379..  Test Accuracy: 0.873\n",
      "Epoch: 14/30..  Training Loss: 0.381..  Test Loss: 0.379..  Test Accuracy: 0.869\n",
      "Epoch: 15/30..  Training Loss: 0.371..  Test Loss: 0.382..  Test Accuracy: 0.866\n",
      "Epoch: 16/30..  Training Loss: 0.366..  Test Loss: 0.393..  Test Accuracy: 0.872\n",
      "Epoch: 17/30..  Training Loss: 0.367..  Test Loss: 0.385..  Test Accuracy: 0.869\n",
      "Epoch: 18/30..  Training Loss: 0.369..  Test Loss: 0.382..  Test Accuracy: 0.868\n",
      "Epoch: 19/30..  Training Loss: 0.356..  Test Loss: 0.373..  Test Accuracy: 0.872\n",
      "Epoch: 20/30..  Training Loss: 0.358..  Test Loss: 0.370..  Test Accuracy: 0.874\n",
      "Epoch: 21/30..  Training Loss: 0.354..  Test Loss: 0.366..  Test Accuracy: 0.876\n",
      "Epoch: 22/30..  Training Loss: 0.357..  Test Loss: 0.358..  Test Accuracy: 0.875\n",
      "Epoch: 23/30..  Training Loss: 0.346..  Test Loss: 0.368..  Test Accuracy: 0.875\n",
      "Epoch: 24/30..  Training Loss: 0.352..  Test Loss: 0.390..  Test Accuracy: 0.868\n",
      "Epoch: 25/30..  Training Loss: 0.352..  Test Loss: 0.396..  Test Accuracy: 0.863\n",
      "Epoch: 26/30..  Training Loss: 0.356..  Test Loss: 0.375..  Test Accuracy: 0.874\n",
      "Epoch: 27/30..  Training Loss: 0.356..  Test Loss: 0.372..  Test Accuracy: 0.870\n",
      "Epoch: 28/30..  Training Loss: 0.344..  Test Loss: 0.393..  Test Accuracy: 0.866\n",
      "Epoch: 29/30..  Training Loss: 0.351..  Test Loss: 0.374..  Test Accuracy: 0.874\n",
      "Epoch: 30/30..  Training Loss: 0.342..  Test Loss: 0.360..  Test Accuracy: 0.875\n"
     ]
    }
   ],
   "source": [
    "model = Classifier()\n",
    "criterion = nn.NLLLoss()\n",
    "optimizer = optim.Adam(model.parameters(), lr=0.003)\n",
    "\n",
    "epochs = 10\n",
    "steps = 0\n",
    "\n",
    "train_losses, test_losses = [], []\n",
    "for e in range(epochs):\n",
    "    running_loss = 0\n",
    "    for images, labels in trainloader:\n",
    "        \n",
    "        optimizer.zero_grad()\n",
    "        \n",
    "        log_ps = model(images)\n",
    "        loss = criterion(log_ps, labels)\n",
    "        loss.backward()\n",
    "        optimizer.step()\n",
    "        \n",
    "        running_loss += loss.item()\n",
    "        \n",
    "    else:\n",
    "        test_loss = 0\n",
    "        accuracy = 0\n",
    "        \n",
    "        # Turn off gradients for validation, saves memory and computations\n",
    "        with torch.no_grad():\n",
    "            model.eval()\n",
    "            for images, labels in testloader:\n",
    "                log_ps = model(images)\n",
    "                test_loss += criterion(log_ps, labels)\n",
    "                \n",
    "                ps = torch.exp(log_ps)\n",
    "                top_p, top_class = ps.topk(1, dim=1)\n",
    "                equals = top_class == labels.view(*top_class.shape)\n",
    "                accuracy += torch.mean(equals.type(torch.FloatTensor))\n",
    "        \n",
    "        model.train()\n",
    "        \n",
    "        train_losses.append(running_loss/len(trainloader))\n",
    "        test_losses.append(test_loss/len(testloader))\n",
    "\n",
    "        print(\"Epoch: {}/{}.. \".format(e+1, epochs),\n",
    "              \"Training Loss: {:.3f}.. \".format(train_losses[-1]),\n",
    "              \"Test Loss: {:.3f}.. \".format(test_losses[-1]),\n",
    "              \"Test Accuracy: {:.3f}\".format(accuracy/len(testloader)))"
   ]
  },
  {
   "cell_type": "code",
   "execution_count": 33,
   "id": "e2d5899d",
   "metadata": {},
   "outputs": [],
   "source": [
    "%matplotlib inline\n",
    "%config InlineBackend.figure_format = 'retina'\n",
    "\n",
    "import matplotlib.pyplot as plt"
   ]
  },
  {
   "cell_type": "code",
   "execution_count": 34,
   "id": "63b1c3b6",
   "metadata": {},
   "outputs": [
    {
     "data": {
      "text/plain": [
       "<matplotlib.legend.Legend at 0x7fe0dd0452b0>"
      ]
     },
     "execution_count": 34,
     "metadata": {},
     "output_type": "execute_result"
    },
    {
     "data": {
      "image/png": "[encoded data removed]",
      "text/plain": [
       "<Figure size 432x288 with 1 Axes>"
      ]
     },
     "metadata": {
      "image/png": {
       "height": 248,
       "width": 380
      },
      "needs_background": "light"
     },
     "output_type": "display_data"
    }
   ],
   "source": [
    "plt.plot(train_losses, label='Training loss')\n",
    "plt.plot(test_losses, label='Validation loss')\n",
    "plt.legend(frameon=False)"
   ]
  },
  {
   "cell_type": "markdown",
   "id": "d35fe091",
   "metadata": {},
   "source": [
    "## Inference"
   ]
  },
  {
   "cell_type": "markdown",
   "id": "edc9249b",
   "metadata": {},
   "source": [
    "Now that the model is trained, we can use it for inference. We've done this before, but now we need to remember to set the model in inference mode with <code>model.eval()</code>. You'll also want to turn off autograd with the <code>torch.no_grad()</code> context."
   ]
  },
  {
   "cell_type": "code",
   "execution_count": 39,
   "id": "e769761c",
   "metadata": {},
   "outputs": [
    {
     "data": {
      "image/png": "[encoded data removed]",
      "text/plain": [
       "<Figure size 432x648 with 2 Axes>"
      ]
     },
     "metadata": {
      "image/png": {
       "height": 216,
       "width": 424
      },
      "needs_background": "light"
     },
     "output_type": "display_data"
    }
   ],
   "source": [
    "# Import helper module (should be in the repo)\n",
    "import helper\n",
    "\n",
    "# Test out your network!\n",
    "\n",
    "model.eval()\n",
    "\n",
    "dataiter = iter(testloader)\n",
    "images, labels = dataiter.next()\n",
    "img = images[0]\n",
    "# Convert 2D image to 1D vector\n",
    "img = img.view(1, 784)\n",
    "\n",
    "# Calculate the class probabilities (softmax) for img\n",
    "with torch.no_grad():\n",
    "    output = model.forward(img)\n",
    "\n",
    "ps = torch.exp(output)\n",
    "\n",
    "# Plot the image and probabilities\n",
    "helper.view_classify(img.view(1, 28, 28), ps, version='Fashion')"
   ]
  },
  {
   "cell_type": "code",
   "execution_count": null,
   "id": "d3bc9e07",
   "metadata": {},
   "outputs": [],
   "source": []
  },
  {
   "cell_type": "code",
   "execution_count": null,
   "id": "2fd89b1d",
   "metadata": {},
   "outputs": [],
   "source": []
  },
  {
   "cell_type": "code",
   "execution_count": null,
   "id": "2adc5f1d",
   "metadata": {},
   "outputs": [],
   "source": []
  }
 ],
 "metadata": {
  "kernelspec": {
   "display_name": "Python 3 (ipykernel)",
   "language": "python",
   "name": "python3"
  },
  "language_info": {
   "codemirror_mode": {
    "name": "ipython",
    "version": 3
   },
   "file_extension": ".py",
   "mimetype": "text/x-python",
   "name": "python",
   "nbconvert_exporter": "python",
   "pygments_lexer": "ipython3",
   "version": "3.9.12"
  }
 },
 "nbformat": 4,
 "nbformat_minor": 5
}
