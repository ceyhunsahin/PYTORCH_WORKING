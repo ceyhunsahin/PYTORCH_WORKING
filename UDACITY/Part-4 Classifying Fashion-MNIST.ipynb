{
 "cells": [
  {
   "cell_type": "code",
   "execution_count": 32,
   "id": "f71935dd",
   "metadata": {},
   "outputs": [],
   "source": [
    "import torch\n",
    "from torchvision import datasets, transforms\n",
    "import helper\n",
    "import torch.nn.functional as F\n",
    "\n",
    "# Define a transform to normalize the data\n",
    "transform = transforms.Compose([transforms.ToTensor(),\n",
    "                                transforms.Normalize((0.5,), (0.5,))])\n",
    "# Download and load the training data\n",
    "trainset = datasets.FashionMNIST('~/.pytorch/F_MNIST_data/', download=True, train=True, transform=transform)\n",
    "trainloader = torch.utils.data.DataLoader(trainset, batch_size=64, shuffle=True)\n",
    "\n",
    "# Download and load the test data\n",
    "testset = datasets.FashionMNIST('~/.pytorch/F_MNIST_data/', download=True, train=False, transform=transform)\n",
    "testloader = torch.utils.data.DataLoader(testset, batch_size=64, shuffle=True)"
   ]
  },
  {
   "cell_type": "code",
   "execution_count": 33,
   "id": "19199919",
   "metadata": {},
   "outputs": [
    {
     "data": {
      "image/png": "[encoded data removed]",
      "text/plain": [
       "<Figure size 432x288 with 1 Axes>"
      ]
     },
     "metadata": {
      "image/png": {
       "height": 231,
       "width": 231
      },
      "needs_background": "light"
     },
     "output_type": "display_data"
    }
   ],
   "source": [
    "image, label = next(iter(trainloader))\n",
    "helper.imshow(image[0,:]);"
   ]
  },
  {
   "cell_type": "code",
   "execution_count": 3,
   "id": "6e026363",
   "metadata": {},
   "outputs": [
    {
     "data": {
      "text/plain": [
       "1"
      ]
     },
     "execution_count": 3,
     "metadata": {},
     "output_type": "execute_result"
    }
   ],
   "source": [
    "image[0].shape[0]"
   ]
  },
  {
   "cell_type": "code",
   "execution_count": 4,
   "id": "f91a998e",
   "metadata": {},
   "outputs": [
    {
     "data": {
      "text/plain": [
       "torch.Size([64, 784])"
      ]
     },
     "execution_count": 4,
     "metadata": {},
     "output_type": "execute_result"
    }
   ],
   "source": [
    "images = image.view(image.shape[0],-1)\n",
    "images.shape"
   ]
  },
  {
   "cell_type": "code",
   "execution_count": 34,
   "id": "3ca09235",
   "metadata": {},
   "outputs": [],
   "source": [
    "from torch import nn, optim\n"
   ]
  },
  {
   "cell_type": "code",
   "execution_count": 6,
   "id": "9ed27c63",
   "metadata": {},
   "outputs": [],
   "source": [
    "model = nn.Sequential(nn.Linear(784,256),\n",
    "                            nn.ReLU(),\n",
    "                            nn.Linear(256,128),\n",
    "                            nn.ReLU(),\n",
    "                            nn.Linear(128,64),\n",
    "                            nn.ReLU(),\n",
    "                            nn.Linear(64,10),\n",
    "                            nn.LogSoftmax(dim=1))"
   ]
  },
  {
   "cell_type": "code",
   "execution_count": 7,
   "id": "4c7d3f48",
   "metadata": {},
   "outputs": [],
   "source": [
    "logit = model(images)"
   ]
  },
  {
   "cell_type": "code",
   "execution_count": 8,
   "id": "ae298367",
   "metadata": {},
   "outputs": [
    {
     "name": "stdout",
     "output_type": "stream",
     "text": [
      "Gradient - None\n",
      "Gradient - tensor([[-6.8727e-04, -6.8727e-04, -6.8727e-04,  ..., -6.7793e-04,\n",
      "         -6.8727e-04, -6.8727e-04],\n",
      "        [ 2.6635e-05,  2.6635e-05,  2.6635e-05,  ...,  4.3393e-05,\n",
      "          2.6635e-05,  2.6635e-05],\n",
      "        [-4.3744e-04, -4.3744e-04, -4.3744e-04,  ..., -4.9725e-04,\n",
      "         -4.3744e-04, -4.3744e-04],\n",
      "        ...,\n",
      "        [ 5.0048e-04,  5.0048e-04,  5.0048e-04,  ...,  4.9748e-04,\n",
      "          5.0048e-04,  5.0048e-04],\n",
      "        [-5.4340e-04, -5.4340e-04, -5.4340e-04,  ..., -5.3296e-04,\n",
      "         -5.4340e-04, -5.4340e-04],\n",
      "        [-4.6478e-04, -4.6478e-04, -4.6478e-04,  ..., -4.6604e-04,\n",
      "         -4.6478e-04, -4.6478e-04]])\n",
      "Updated weights -  Parameter containing:\n",
      "tensor([[ 0.0063, -0.0048, -0.0141,  ...,  0.0004, -0.0067, -0.0253],\n",
      "        [ 0.0072, -0.0280, -0.0186,  ...,  0.0114,  0.0199, -0.0174],\n",
      "        [ 0.0107,  0.0401,  0.0044,  ...,  0.0283,  0.0416, -0.0136],\n",
      "        ...,\n",
      "        [-0.0217, -0.0042,  0.0011,  ...,  0.0102,  0.0070, -0.0077],\n",
      "        [ 0.0293,  0.0126,  0.0305,  ...,  0.0373, -0.0220, -0.0139],\n",
      "        [-0.0036, -0.0026,  0.0009,  ...,  0.0107, -0.0213,  0.0233]],\n",
      "       requires_grad=True)\n"
     ]
    }
   ],
   "source": [
    "print('Gradient -', model[0].weight.grad)\n",
    "optimizer = optim.Adam(model.parameters(), lr = 0.01)\n",
    "optimizer.zero_grad()\n",
    "criterion = nn.NLLLoss()\n",
    "loss = criterion(logit, label)\n",
    "loss.backward()\n",
    "print('Gradient -', model[0].weight.grad)\n",
    "optimizer.step()\n",
    "print('Updated weights - ', model[0].weight)"
   ]
  },
  {
   "cell_type": "code",
   "execution_count": 44,
   "id": "bf5455a6",
   "metadata": {},
   "outputs": [
    {
     "name": "stdout",
     "output_type": "stream",
     "text": [
      "Training loss: 0.5231570158558868\n",
      "Training loss: 0.37971658448674783\n",
      "Training loss: 0.33771616179170383\n",
      "Training loss: 0.3129653828198722\n",
      "Training loss: 0.29241654364221387\n"
     ]
    }
   ],
   "source": [
    "model = nn.Sequential(nn.Linear(784,256),\n",
    "                            nn.ReLU(),\n",
    "                            nn.Linear(256,128),\n",
    "                            nn.ReLU(),\n",
    "                            nn.Linear(128,64),\n",
    "                            nn.ReLU(),\n",
    "                            nn.Linear(64,10),\n",
    "                            nn.LogSoftmax(dim=1))\n",
    "\n",
    "criterion = nn.CrossEntropyLoss()\n",
    "optimizer = optim.Adam(model.parameters(), lr=0.001)\n",
    "\n",
    "epochs = 5\n",
    "for e in range(epochs):\n",
    "    running_loss = 0\n",
    "    for images, labels in trainloader:\n",
    "        # Flatten MNIST images into a 784 long vector\n",
    "        images = images.view(images.shape[0], -1)\n",
    "    \n",
    "        # TODO: Training pass\n",
    "        optimizer.zero_grad()\n",
    "        \n",
    "        output = model(images)\n",
    "        loss = criterion(output, labels)\n",
    "        loss.backward()\n",
    "        optimizer.step()\n",
    "        \n",
    "        running_loss += loss.item()\n",
    "\n",
    "    print(f\"Training loss: {running_loss/len(trainloader)}\")"
   ]
  },
  {
   "cell_type": "code",
   "execution_count": 43,
   "id": "d0d41ea2",
   "metadata": {},
   "outputs": [
    {
     "data": {
      "image/png": "[encoded data removed]",
      "text/plain": [
       "<Figure size 432x648 with 2 Axes>"
      ]
     },
     "metadata": {
      "image/png": {
       "height": 216,
       "width": 424
      },
      "needs_background": "light"
     },
     "output_type": "display_data"
    }
   ],
   "source": [
    "%matplotlib inline\n",
    "%config InlineBackend.figure_format = 'retina'\n",
    "\n",
    "import helper\n",
    "\n",
    "# Test out your network!\n",
    "\n",
    "dataiter = iter(testloader)\n",
    "images, labels = dataiter.next()\n",
    "img = images[0]\n",
    "# Convert 2D image to 1D vector\n",
    "img = img.resize_(1, 784)\n",
    "\n",
    "# TODO: Calculate the class probabilities (softmax) for img\n",
    "with torch.no_grad():\n",
    "    logps = model(img)\n",
    "\n",
    "# Output of the network are log-probabilities, need to take exponential for probabilities\n",
    "ps = torch.exp(logps)\n",
    "\n",
    "# Plot the image and probabilities\n",
    "helper.view_classify(img.resize_(1, 28, 28), ps, version='Fashion')"
   ]
  },
  {
   "cell_type": "code",
   "execution_count": 11,
   "id": "f8e6b821",
   "metadata": {},
   "outputs": [
    {
     "data": {
      "text/plain": [
       "torch.Size([64, 1, 28, 28])"
      ]
     },
     "execution_count": 11,
     "metadata": {},
     "output_type": "execute_result"
    }
   ],
   "source": [
    "images.shape"
   ]
  },
  {
   "cell_type": "code",
   "execution_count": 12,
   "id": "9c067f99",
   "metadata": {},
   "outputs": [],
   "source": [
    "images = images.view(images.shape[0], -1)"
   ]
  },
  {
   "cell_type": "code",
   "execution_count": 48,
   "id": "d69c7a0b",
   "metadata": {},
   "outputs": [],
   "source": [
    "class Classifier(nn.Module):\n",
    "    def __init__(self):\n",
    "        super().__init__()\n",
    "        self.fc1 = nn.Linear(784,256)\n",
    "        self.fc2 = nn.Linear(256,128)\n",
    "        self.fc3 = nn.Linear(128,64)\n",
    "        self.fc4 = nn.Linear(64,10)\n",
    "    \n",
    "    def forward(self,x):\n",
    "        x = x.view(x.shape[0], -1)\n",
    "        x = F.relu(self.fc1(x))\n",
    "        x = F.relu(self.fc2(x))\n",
    "        x = F.relu(self.fc3(x))\n",
    "        x = F.log_softmax(self.fc4(x), dim=1)\n",
    "        \n",
    "        return x\n",
    "      "
   ]
  },
  {
   "cell_type": "code",
   "execution_count": 51,
   "id": "7753a2fa",
   "metadata": {},
   "outputs": [
    {
     "name": "stdout",
     "output_type": "stream",
     "text": [
      "Training loss: 0.5612049602877611\n",
      "Training loss: 0.40564105380127935\n",
      "Training loss: 0.36135126408864693\n",
      "Training loss: 0.332435028091359\n",
      "Training loss: 0.3116338870355061\n"
     ]
    }
   ],
   "source": [
    "epoch = 5\n",
    "model = Classifier()\n",
    "criterion = nn.CrossEntropyLoss()\n",
    "optimizer = optim.Adamax(model.parameters(), lr = 0.001)\n",
    "\n",
    "\n",
    "for e in range(epochs):\n",
    "    running_loss = 0\n",
    "    for images, labels in trainloader:\n",
    "        log_ps = model(images)\n",
    "        loss = criterion(log_ps, labels)\n",
    "        \n",
    "        optimizer.zero_grad()\n",
    "        loss.backward()\n",
    "        optimizer.step()\n",
    "        \n",
    "        running_loss += loss.item()\n",
    "    else:\n",
    "        print(f\"Training loss: {running_loss/len(trainloader)}\")\n",
    "        \n",
    "        "
   ]
  },
  {
   "cell_type": "code",
   "execution_count": 75,
   "id": "668f5c5e",
   "metadata": {},
   "outputs": [
    {
     "name": "stdout",
     "output_type": "stream",
     "text": [
      "tensor([[6.5170e-07, 2.5334e-06, 5.9019e-07, 6.1228e-06, 1.2085e-06, 4.4814e-03,\n",
      "         2.8415e-07, 9.9495e-01, 1.1843e-04, 4.4270e-04]],\n",
      "       grad_fn=<DivBackward0>)\n",
      "tensor([[6.5170e-07, 2.5334e-06, 5.9019e-07, 6.1228e-06, 1.2085e-06, 4.4814e-03,\n",
      "         2.8415e-07, 9.9495e-01, 1.1843e-04, 4.4270e-04]],\n",
      "       grad_fn=<ExpBackward0>)\n"
     ]
    },
    {
     "data": {
      "image/png": "[encoded data removed]",
      "text/plain": [
       "<Figure size 432x648 with 2 Axes>"
      ]
     },
     "metadata": {
      "image/png": {
       "height": 216,
       "width": 424
      },
      "needs_background": "light"
     },
     "output_type": "display_data"
    }
   ],
   "source": [
    "%matplotlib inline\n",
    "%config InlineBackend.figure_format = 'retina'\n",
    "\n",
    "import helper\n",
    "\n",
    "# Test out your network!\n",
    "\n",
    "dataiter = iter(testloader)\n",
    "images, labels = dataiter.next()\n",
    "img = images[0]\n",
    "img = img.view(img.shape[0],-1)\n",
    "\n",
    "# TODO: Calculate the class probabilities (softmax) for img\n",
    "ps = torch.exp(model(img))\n",
    "a = torch.exp(model(img))/torch.sum(torch.exp(model(img)), dim=1).view(-1, 1)\n",
    "b = torch.exp(model(img))\n",
    "print(a)\n",
    "print(b)\n",
    "\n",
    "# Plot the image and probabilities\n",
    "helper.view_classify(img, ps, version='Fashion')"
   ]
  },
  {
   "cell_type": "code",
   "execution_count": 16,
   "id": "c4d85333",
   "metadata": {},
   "outputs": [],
   "source": [
    "model = Classifier()"
   ]
  },
  {
   "cell_type": "code",
   "execution_count": 17,
   "id": "2d58aa24",
   "metadata": {},
   "outputs": [],
   "source": [
    "#images = images.view(images.shape[0],-1)"
   ]
  },
  {
   "cell_type": "code",
   "execution_count": 18,
   "id": "3e90488a",
   "metadata": {},
   "outputs": [],
   "source": [
    "logit= model(images)"
   ]
  },
  {
   "cell_type": "code",
   "execution_count": 19,
   "id": "b0594bef",
   "metadata": {},
   "outputs": [],
   "source": [
    "criterion = nn.CrossEntropyLoss()\n",
    "optimizer = optim.Adam(model.parameters(), lr = 0.01)"
   ]
  },
  {
   "cell_type": "code",
   "execution_count": 20,
   "id": "6ebb497a",
   "metadata": {},
   "outputs": [
    {
     "data": {
      "text/plain": [
       "tensor([[ 0.0041,  0.0145, -0.0184,  ...,  0.0029, -0.0343, -0.0235],\n",
       "        [ 0.0354, -0.0041,  0.0319,  ..., -0.0223,  0.0062, -0.0035],\n",
       "        [-0.0178,  0.0352,  0.0155,  ..., -0.0117, -0.0301,  0.0159],\n",
       "        ...,\n",
       "        [-0.0262,  0.0189, -0.0087,  ...,  0.0169,  0.0125,  0.0183],\n",
       "        [-0.0315, -0.0082, -0.0144,  ...,  0.0138,  0.0212,  0.0045],\n",
       "        [ 0.0048, -0.0160,  0.0148,  ..., -0.0144,  0.0098, -0.0236]])"
      ]
     },
     "execution_count": 20,
     "metadata": {},
     "output_type": "execute_result"
    }
   ],
   "source": [
    "model.fc1.weight.data"
   ]
  },
  {
   "cell_type": "code",
   "execution_count": 21,
   "id": "96479a6a",
   "metadata": {},
   "outputs": [],
   "source": [
    "optimizer.zero_grad()"
   ]
  },
  {
   "cell_type": "code",
   "execution_count": 22,
   "id": "4867ca87",
   "metadata": {},
   "outputs": [],
   "source": [
    "loss = criterion(model(images),label)"
   ]
  },
  {
   "cell_type": "code",
   "execution_count": 23,
   "id": "6fca5e7b",
   "metadata": {},
   "outputs": [],
   "source": [
    "loss.backward()"
   ]
  },
  {
   "cell_type": "code",
   "execution_count": 24,
   "id": "7ce0f96e",
   "metadata": {},
   "outputs": [],
   "source": [
    "optimizer.step()"
   ]
  },
  {
   "cell_type": "code",
   "execution_count": 25,
   "id": "6845f817",
   "metadata": {},
   "outputs": [
    {
     "data": {
      "text/plain": [
       "tensor([[ 0.0141,  0.0245, -0.0084,  ...,  0.0129, -0.0243, -0.0135],\n",
       "        [ 0.0254, -0.0141,  0.0219,  ..., -0.0323, -0.0038, -0.0135],\n",
       "        [-0.0078,  0.0452,  0.0255,  ..., -0.0017, -0.0201,  0.0259],\n",
       "        ...,\n",
       "        [-0.0162,  0.0289,  0.0013,  ...,  0.0269,  0.0225,  0.0283],\n",
       "        [-0.0215,  0.0018, -0.0044,  ...,  0.0238,  0.0312,  0.0145],\n",
       "        [-0.0052, -0.0260,  0.0048,  ..., -0.0244, -0.0002, -0.0336]])"
      ]
     },
     "execution_count": 25,
     "metadata": {},
     "output_type": "execute_result"
    }
   ],
   "source": [
    "model.fc1.weight.data"
   ]
  },
  {
   "cell_type": "code",
   "execution_count": null,
   "id": "7335825b",
   "metadata": {},
   "outputs": [],
   "source": []
  },
  {
   "cell_type": "code",
   "execution_count": null,
   "id": "32ff39af",
   "metadata": {},
   "outputs": [],
   "source": []
  },
  {
   "cell_type": "code",
   "execution_count": null,
   "id": "96a70da7",
   "metadata": {},
   "outputs": [],
   "source": []
  },
  {
   "cell_type": "code",
   "execution_count": null,
   "id": "1a2ebc7a",
   "metadata": {},
   "outputs": [],
   "source": []
  },
  {
   "cell_type": "code",
   "execution_count": null,
   "id": "981e3257",
   "metadata": {},
   "outputs": [],
   "source": []
  }
 ],
 "metadata": {
  "kernelspec": {
   "display_name": "Python 3 (ipykernel)",
   "language": "python",
   "name": "python3"
  },
  "language_info": {
   "codemirror_mode": {
    "name": "ipython",
    "version": 3
   },
   "file_extension": ".py",
   "mimetype": "text/x-python",
   "name": "python",
   "nbconvert_exporter": "python",
   "pygments_lexer": "ipython3",
   "version": "3.9.12"
  }
 },
 "nbformat": 4,
 "nbformat_minor": 5
}
