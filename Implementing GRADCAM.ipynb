{
 "cells": [
  {
   "cell_type": "code",
   "execution_count": 103,
   "metadata": {
    "collapsed": true
   },
   "outputs": [],
   "source": [
    "import torch\n",
    "import torch.nn as nn\n",
    "from torch.utils import data\n",
    "from torchvision.models import vgg19\n",
    "from torchvision import transforms\n",
    "from torchvision import datasets\n",
    "import matplotlib.pyplot as plt\n",
    "import numpy as np\n",
    "import os\n",
    "\n",
    "# use the ImageNet transformation\n",
    "transform = transforms.Compose([transforms.Resize((224, 224)),\n",
    "                                transforms.ToTensor(),\n",
    "                                transforms.Normalize(mean=[0.485, 0.456, 0.406], std=[0.229, 0.224, 0.225])])\n",
    "\n",
    "# define a 1 image dataset\n",
    "dataset = datasets.ImageFolder(root='~/PYTORCH/data/', transform=transform)\n",
    "\n",
    "# define the dataloader to load that single image\n",
    "dataloader = data.DataLoader(dataset=dataset, shuffle=False, batch_size=1)"
   ]
  },
  {
   "cell_type": "code",
   "execution_count": 103,
   "outputs": [],
   "source": [],
   "metadata": {
    "collapsed": false
   }
  },
  {
   "cell_type": "code",
   "execution_count": 104,
   "outputs": [],
   "source": [
    "#vgg19(pretrained=True)\n",
    "from torchvision.models import VGG19_Weights"
   ],
   "metadata": {
    "collapsed": false
   }
  },
  {
   "cell_type": "code",
   "execution_count": 105,
   "outputs": [],
   "source": [
    "class VGG(nn.Module):\n",
    "    def __init__(self):\n",
    "        super(VGG, self).__init__()\n",
    "        self.vgg = vgg19(VGG19_Weights.IMAGENET1K_V1)\n",
    "        self.feature_conv = self.vgg.features[:36]\n",
    "        self.max_pool = nn.MaxPool2d(kernel_size=2, stride=2, padding=0, dilation=1, ceil_mode=False)\n",
    "        self.classifier = self.vgg.classifier\n",
    "        self.gradients = None\n",
    "\n",
    "    def activations_hook(self, grad): # # hook for the gradients of the activations\n",
    "        self.gradients = grad\n",
    "\n",
    "    def forward(self, x):\n",
    "        x = self.feature_conv(x)\n",
    "        h = x.register_hook(self.activations_hook)# register the hook\n",
    "\n",
    "        x = self.max_pool(x)# apply the remaining pooling\n",
    "        x = x.view((1,-1))\n",
    "        x = self.classifier(x)\n",
    "\n",
    "        return x\n",
    "\n",
    "    def get_activations_gradient(self):# method for the gradient extraction\n",
    "        return self.gradients\n",
    "\n",
    "    def get_activations(self,x):# method for the activation extraction\n",
    "        return self.feature_conv(x)\n",
    "\n"
   ],
   "metadata": {
    "collapsed": false
   }
  },
  {
   "cell_type": "markdown",
   "source": [
    "## Drawing CAM"
   ],
   "metadata": {
    "collapsed": false
   }
  },
  {
   "cell_type": "code",
   "execution_count": 106,
   "outputs": [
    {
     "name": "stderr",
     "output_type": "stream",
     "text": [
      "/Users/ceyhun/opt/anaconda3/envs/Dataspell_1_env/lib/python3.8/site-packages/torchvision/models/_utils.py:135: UserWarning: Using 'weights' as positional parameter(s) is deprecated since 0.13 and may be removed in the future. Please use keyword parameter(s) instead.\n",
      "  warnings.warn(\n"
     ]
    },
    {
     "data": {
      "text/plain": "torch.Size([1, 1000])"
     },
     "execution_count": 106,
     "metadata": {},
     "output_type": "execute_result"
    }
   ],
   "source": [
    "# initialize the VGG model\n",
    "vgg = VGG()\n",
    "\n",
    "# set the evaluation mode\n",
    "vgg.eval()\n",
    "\n",
    "# get the image from the dataloader\n",
    "img,_ = next(iter(dataloader))\n",
    "\n",
    "# get the most likely prediction of the model\n",
    "pred = vgg(img)\n",
    "pred.size()"
   ],
   "metadata": {
    "collapsed": false
   }
  },
  {
   "cell_type": "code",
   "execution_count": 107,
   "outputs": [],
   "source": [
    "# get the gradient of the output with respect to the parameters of the model\n",
    "pred[:, 386].backward()"
   ],
   "metadata": {
    "collapsed": false
   }
  },
  {
   "cell_type": "code",
   "execution_count": 108,
   "outputs": [
    {
     "data": {
      "text/plain": "<matplotlib.image.AxesImage at 0x7fc0b8e69910>"
     },
     "execution_count": 108,
     "metadata": {},
     "output_type": "execute_result"
    },
    {
     "data": {
      "text/plain": "<Figure size 480x480 with 1 Axes>",
      "image/png": "[encoded data removed]"
     },
     "metadata": {},
     "output_type": "display_data"
    }
   ],
   "source": [
    "\n",
    "\n",
    "# pull the gradients out of the model\n",
    "gradients = vgg.get_activations_gradient()\n",
    "\n",
    "# pool the gradients across the channels\n",
    "pooled_gradients = torch.mean(gradients, dim=[0, 2, 3])\n",
    "\n",
    "# get the activations of the last convolutional layer\n",
    "activations = vgg.get_activations(img).detach()\n",
    "\n",
    "# weight the channels by corresponding gradients\n",
    "for i in range(512):\n",
    "    activations[:, i, :, :] *= pooled_gradients[i]\n",
    "\n",
    "# average the channels of the activations\n",
    "heatmap = torch.mean(activations, dim=1).squeeze()\n",
    "\n",
    "# relu on top of the heatmap\n",
    "# expression (2) in https://arxiv.org/pdf/1610.02391.pdf\n",
    "heatmap = np.maximum(heatmap, 0)\n",
    "\n",
    "# normalize the heatmap\n",
    "heatmap /= torch.max(heatmap)\n",
    "\n",
    "# draw the heatmap\n",
    "plt.matshow(heatmap.squeeze())"
   ],
   "metadata": {
    "collapsed": false
   }
  },
  {
   "cell_type": "code",
   "execution_count": 108,
   "outputs": [],
   "source": [],
   "metadata": {
    "collapsed": false
   }
  },
  {
   "cell_type": "code",
   "execution_count": 109,
   "outputs": [
    {
     "name": "stdout",
     "output_type": "stream",
     "text": [
      "Original Dimensions :  (280, 419, 3)\n"
     ]
    }
   ],
   "source": [
    "import cv2\n",
    "heatmap = heatmap.detach().numpy()\n",
    "img = cv2.imread('data/Elephant/3.jpg')\n",
    "print('Original Dimensions : ',img.shape)\n",
    "width = int(img.shape[1])\n",
    "height = int(img.shape[0])\n",
    "dim = (width, height)"
   ],
   "metadata": {
    "collapsed": false
   }
  },
  {
   "cell_type": "code",
   "execution_count": 110,
   "outputs": [
    {
     "data": {
      "text/plain": "True"
     },
     "execution_count": 110,
     "metadata": {},
     "output_type": "execute_result"
    }
   ],
   "source": [
    "\n",
    "\n",
    "heatmap = cv2.resize(heatmap,dim)\n",
    "heatmap = np.uint8(255 * heatmap)\n",
    "heatmap = cv2.applyColorMap(heatmap, cv2.COLORMAP_JET)\n",
    "superimposed_img = heatmap * 0.6 + img\n",
    "cv2.imwrite('data/map.jpg', superimposed_img)"
   ],
   "metadata": {
    "collapsed": false
   }
  },
  {
   "cell_type": "code",
   "execution_count": null,
   "outputs": [],
   "source": [],
   "metadata": {
    "collapsed": false,
    "pycharm": {
     "is_executing": true
    }
   }
  },
  {
   "cell_type": "code",
   "execution_count": null,
   "outputs": [],
   "source": [],
   "metadata": {
    "collapsed": false
   }
  },
  {
   "cell_type": "code",
   "execution_count": null,
   "outputs": [],
   "source": [],
   "metadata": {
    "collapsed": false
   }
  },
  {
   "cell_type": "code",
   "execution_count": 237,
   "outputs": [],
   "source": [
    "# use the ImageNet transformation\n",
    "transform = transforms.Compose([transforms.Resize((224, 224)),\n",
    "                                transforms.ToTensor(),\n",
    "                                transforms.Normalize(mean=[0.485, 0.456, 0.406], std=[0.229, 0.224, 0.225])])\n",
    "\n",
    "# define a 1 image dataset\n",
    "dataset = datasets.ImageFolder(root='~/PYTORCH/data4/', transform=transform)\n",
    "\n",
    "# define the dataloader to load that single image\n",
    "dataloader = data.DataLoader(dataset=dataset, shuffle=False, batch_size=1)"
   ],
   "metadata": {
    "collapsed": false
   }
  },
  {
   "cell_type": "code",
   "execution_count": 238,
   "outputs": [
    {
     "data": {
      "text/plain": "AlexNet(\n  (features): Sequential(\n    (0): Conv2d(3, 64, kernel_size=(11, 11), stride=(4, 4), padding=(2, 2))\n    (1): ReLU(inplace=True)\n    (2): MaxPool2d(kernel_size=3, stride=2, padding=0, dilation=1, ceil_mode=False)\n    (3): Conv2d(64, 192, kernel_size=(5, 5), stride=(1, 1), padding=(2, 2))\n    (4): ReLU(inplace=True)\n    (5): MaxPool2d(kernel_size=3, stride=2, padding=0, dilation=1, ceil_mode=False)\n    (6): Conv2d(192, 384, kernel_size=(3, 3), stride=(1, 1), padding=(1, 1))\n    (7): ReLU(inplace=True)\n    (8): Conv2d(384, 256, kernel_size=(3, 3), stride=(1, 1), padding=(1, 1))\n    (9): ReLU(inplace=True)\n    (10): Conv2d(256, 256, kernel_size=(3, 3), stride=(1, 1), padding=(1, 1))\n    (11): ReLU(inplace=True)\n    (12): MaxPool2d(kernel_size=3, stride=2, padding=0, dilation=1, ceil_mode=False)\n  )\n  (avgpool): AdaptiveAvgPool2d(output_size=(6, 6))\n  (classifier): Sequential(\n    (0): Dropout(p=0.5, inplace=False)\n    (1): Linear(in_features=9216, out_features=4096, bias=True)\n    (2): ReLU(inplace=True)\n    (3): Dropout(p=0.5, inplace=False)\n    (4): Linear(in_features=4096, out_features=4096, bias=True)\n    (5): ReLU(inplace=True)\n    (6): Linear(in_features=4096, out_features=1000, bias=True)\n  )\n)"
     },
     "execution_count": 238,
     "metadata": {},
     "output_type": "execute_result"
    }
   ],
   "source": [
    "from torchvision.models import DenseNet201_Weights, DenseNet, densenet201, densenet169, AlexNet, alexnet\n",
    "AlexNet()"
   ],
   "metadata": {
    "collapsed": false
   }
  },
  {
   "cell_type": "code",
   "execution_count": 239,
   "outputs": [],
   "source": [
    "class AlexNet(nn.Module):\n",
    "    def __init__(self):\n",
    "        super(AlexNet, self).__init__()\n",
    "\n",
    "        # get the pretrained DenseNet201 network\n",
    "        self.densenet = alexnet()\n",
    "\n",
    "        # disect the network to access its last convolutional layer\n",
    "        self.features_conv = self.densenet.features[:11]\n",
    "\n",
    "        # add the average global pool\n",
    "        self.global_avg_pool = nn.MaxPool2d(kernel_size=3, stride=2, padding=0, dilation=1, ceil_mode=False)\n",
    "\n",
    "        # get the classifier of the vgg19\n",
    "        self.classifier = self.densenet.classifier\n",
    "\n",
    "        # placeholder for the gradients\n",
    "        self.gradients = None\n",
    "\n",
    "    # hook for the gradients of the activations\n",
    "    def activations_hook(self, grad):\n",
    "        self.gradients = grad\n",
    "\n",
    "    def forward(self, x):\n",
    "        x = self.features_conv(x)\n",
    "\n",
    "        # register the hook\n",
    "        h = x.register_hook(self.activations_hook)\n",
    "\n",
    "        # don't forget the pooling\n",
    "        x = self.global_avg_pool(x)\n",
    "        x = x.view((1,9216))\n",
    "        x = self.classifier(x)\n",
    "        return x\n",
    "\n",
    "    def get_activations_gradient(self):\n",
    "        return self.gradients\n",
    "\n",
    "    def get_activations(self, x):\n",
    "        return self.features_conv(x)"
   ],
   "metadata": {
    "collapsed": false
   }
  },
  {
   "cell_type": "code",
   "execution_count": 240,
   "outputs": [],
   "source": [
    "# initialize the VGG model\n",
    "dense = AlexNet()\n",
    "\n",
    "# set the evaluation mode\n",
    "dense.eval()\n",
    "\n",
    "# get the image from the dataloader\n",
    "img, _ = next(iter(dataloader)) ####\n",
    "\n",
    "# get the most likely prediction of the model\n",
    "pred = dense(img)"
   ],
   "metadata": {
    "collapsed": false
   }
  },
  {
   "cell_type": "code",
   "execution_count": 241,
   "outputs": [
    {
     "data": {
      "text/plain": "tensor([[-7.9003e-03, -1.9388e-03,  2.6323e-03, -8.7839e-03,  5.2789e-03,\n         -1.3028e-03, -9.5726e-03,  3.3133e-03, -4.0845e-03,  1.2049e-02,\n          1.6677e-02,  9.0482e-03,  5.9221e-03,  2.3724e-02,  7.6001e-03,\n          2.5234e-02, -6.4588e-03, -2.0095e-02, -1.5409e-02,  4.7597e-03,\n         -1.3288e-02,  4.2975e-04, -1.8384e-04,  1.5738e-02, -6.1577e-03,\n         -1.6970e-02,  1.2597e-02, -8.6142e-03, -1.9285e-02, -4.6239e-03,\n          7.7767e-03,  4.4933e-03, -3.8752e-03, -5.1486e-03, -1.5524e-03,\n         -1.1868e-03,  2.4601e-03,  2.6638e-03, -2.8727e-03,  1.9961e-02,\n         -6.5170e-03, -3.6957e-03, -7.4109e-03, -1.6679e-02, -1.0857e-02,\n          2.0250e-02, -4.0980e-03, -3.4526e-03, -5.8905e-03, -6.4700e-03,\n          1.2175e-02,  5.7413e-03,  5.3314e-05,  7.7525e-03, -4.2803e-03,\n         -1.4624e-02, -1.6323e-03, -6.0247e-03,  6.1273e-03, -1.4134e-02,\n         -1.3006e-02,  2.3608e-03, -1.4749e-02, -8.0603e-03, -6.1666e-03,\n          1.2694e-02,  2.1119e-02,  1.6956e-03, -1.1953e-02, -5.3168e-03,\n         -1.7734e-02, -1.1495e-02, -4.1097e-03, -9.9269e-03,  1.6956e-02,\n          1.2025e-02,  1.7030e-02,  9.9737e-03, -1.9045e-02,  8.5264e-03,\n          1.6897e-02,  1.0388e-02, -4.5713e-03, -2.1250e-03, -1.6296e-02,\n         -1.3141e-02,  1.1496e-02,  2.0732e-02, -4.7491e-03, -7.1522e-04,\n         -1.6969e-04, -8.3105e-03, -1.5245e-02, -1.2709e-02,  4.9138e-03,\n          7.3935e-03, -4.2196e-03,  9.0277e-03,  1.4520e-02, -1.1355e-02,\n         -3.7104e-03, -8.6045e-03, -5.2756e-03,  3.4562e-03,  1.2894e-02,\n         -9.5347e-03, -2.0366e-02,  1.1885e-02,  1.2590e-02,  1.5220e-02,\n         -2.3568e-03,  4.9389e-03,  2.0193e-02, -1.6670e-02, -4.1183e-03,\n         -7.1697e-03,  1.6132e-03,  1.7799e-02, -7.2450e-03, -2.7604e-02,\n         -1.0955e-02, -1.3261e-02, -9.9858e-03, -6.7890e-03, -1.0098e-02,\n          3.6170e-04,  4.2753e-03, -5.6038e-03,  8.1547e-03, -1.5070e-02,\n         -8.9385e-03, -4.5124e-03, -1.8148e-02,  8.9909e-03,  2.5391e-02,\n         -4.0010e-03,  4.6885e-03, -5.2519e-03,  1.6206e-02, -1.7674e-02,\n          3.2632e-03, -2.8236e-03, -5.3591e-04,  3.6943e-03,  2.5400e-03,\n         -4.6838e-03, -7.5479e-03,  2.2753e-02, -1.8327e-03, -1.5733e-02,\n          3.7288e-03, -1.8418e-02,  4.1767e-03,  6.2449e-04, -8.6522e-03,\n          2.2852e-02,  1.3350e-02, -2.6257e-03,  1.0750e-02, -1.5660e-03,\n         -4.0776e-03,  3.7263e-03, -1.2480e-02, -7.3999e-04,  1.0524e-02,\n         -8.2929e-03,  5.0187e-03,  8.4995e-04, -8.7259e-03, -1.9469e-03,\n          4.9270e-03,  5.7355e-03, -8.4151e-03,  2.4679e-03,  3.8718e-03,\n         -2.8150e-03,  1.7063e-03, -1.4644e-03, -3.0582e-03, -1.5036e-02,\n         -2.2367e-03,  7.9554e-03, -1.9681e-03,  1.2814e-03, -5.1398e-04,\n          9.7601e-03,  1.4861e-02,  4.7113e-03,  1.3879e-02,  7.6249e-03,\n          1.0851e-02, -1.3961e-02, -6.5619e-03, -1.0468e-02,  9.1087e-03,\n         -1.3043e-02,  2.7716e-03, -7.1616e-03, -1.2334e-02,  1.5576e-03,\n         -1.7856e-02, -1.9419e-03,  1.3387e-02,  6.0655e-03, -1.3802e-02,\n         -9.3337e-05,  1.5562e-02, -3.3396e-03,  1.1362e-02,  7.3235e-03,\n          1.5483e-02,  1.9839e-02, -6.1523e-03, -1.4465e-02, -5.9242e-04,\n         -7.9821e-03, -9.1865e-03, -1.8722e-02,  1.3652e-03,  1.6889e-03,\n         -1.3100e-02,  1.2435e-02,  3.5134e-03,  8.9687e-03,  5.8888e-03,\n         -2.6558e-03,  7.4118e-03, -4.4436e-03, -6.8066e-03,  1.0307e-02,\n          1.7758e-02, -1.4393e-02, -1.2247e-02,  1.2458e-02,  1.2121e-03,\n         -1.0535e-03, -4.1955e-03, -6.8520e-03,  8.6714e-03,  7.4183e-03,\n          1.1065e-02, -1.2427e-02,  2.2578e-02, -9.5569e-03,  1.3791e-02,\n          1.3941e-03,  1.5884e-02,  5.5618e-04, -4.7875e-03, -7.0114e-03,\n         -1.9709e-03,  4.1935e-03, -1.2221e-02,  1.2790e-02, -5.7612e-03,\n         -2.8126e-03, -7.3093e-04,  1.4865e-02,  1.3037e-02,  6.3954e-03,\n          7.6096e-03, -1.1250e-03, -5.4720e-03,  6.3888e-03,  6.4807e-03,\n          5.5359e-03, -9.3641e-03,  1.3785e-02,  1.5869e-02,  5.3657e-03,\n         -1.4016e-02,  1.8113e-02, -1.0790e-02,  7.0866e-03, -6.2585e-03,\n         -1.2904e-02, -7.4290e-03,  2.7073e-03, -4.2102e-03,  5.0088e-03,\n         -1.0015e-02, -1.5406e-02, -1.7418e-02, -6.4061e-03,  7.0043e-03,\n          1.7031e-03,  1.6617e-02, -2.2273e-02,  1.3026e-02, -2.4987e-03,\n          6.2532e-03, -2.4592e-02,  2.9304e-03, -2.1609e-02,  7.5723e-03,\n         -5.6375e-03, -3.5767e-03,  6.1808e-03,  1.8662e-02, -1.2621e-02,\n          9.8148e-03,  8.6623e-03, -1.4356e-02, -2.6068e-03,  1.0569e-02,\n         -9.5687e-03,  1.0948e-02, -4.9306e-03,  1.2089e-02,  5.5227e-03,\n         -5.2176e-03, -9.6807e-03,  6.7858e-03, -8.0620e-03, -1.3166e-02,\n         -1.1612e-02,  4.9652e-03,  1.2569e-02, -5.1230e-03, -7.3859e-03,\n         -4.6271e-03,  5.4433e-03, -4.0741e-03, -7.0329e-03, -4.7146e-03,\n         -1.5665e-02, -1.3493e-02, -9.1832e-03,  1.4516e-02,  1.0964e-04,\n          4.8051e-03, -2.1679e-03, -4.2328e-03,  1.4081e-02, -4.0644e-03,\n         -9.8875e-03, -8.9377e-03, -1.5054e-03, -5.8246e-03, -1.6514e-02,\n          5.3977e-03,  9.7106e-03,  1.5132e-02,  1.1705e-02,  1.2690e-02,\n          5.2344e-03, -1.7606e-02, -2.2183e-02,  1.1381e-02,  1.2169e-02,\n          5.3574e-03, -6.2324e-03,  4.0624e-03, -1.4928e-02, -8.6955e-03,\n          1.3006e-02,  1.9914e-02,  1.4332e-02, -1.1163e-02, -2.1598e-03,\n          7.2956e-03,  1.2974e-02, -6.8586e-03, -7.8036e-03, -1.1261e-02,\n         -3.9358e-03, -1.9361e-02, -1.5435e-02,  1.3905e-02, -1.5938e-02,\n         -2.6895e-03, -5.5244e-03,  1.1403e-02, -6.2771e-03,  7.3184e-03,\n         -7.2464e-03, -2.6836e-03,  2.5716e-03, -8.9675e-03,  1.1775e-02,\n         -2.9743e-03,  1.1885e-02, -9.8409e-03,  5.8507e-03, -4.2649e-03,\n          7.8810e-03, -1.4926e-02,  4.6353e-03, -6.6781e-03, -1.6263e-02,\n          5.2856e-03, -1.1772e-02, -1.0845e-02,  1.0445e-02, -5.5105e-03,\n          7.9916e-03, -2.6223e-03,  8.8625e-03,  7.4566e-04,  7.9346e-03,\n          3.9961e-03, -1.3758e-02,  9.0698e-03, -3.7859e-04,  1.1794e-02,\n          1.3246e-03,  7.7386e-03, -2.5682e-03, -4.4537e-03,  2.5401e-03,\n         -6.7807e-03,  2.9645e-03,  1.0672e-03, -7.1451e-03,  5.1598e-03,\n         -5.0174e-03,  1.6235e-02, -2.3580e-02, -2.0604e-02, -1.1115e-02,\n          4.6679e-04, -1.6661e-02, -1.6785e-02,  2.4557e-03,  4.5595e-03,\n         -1.0157e-04, -2.3471e-02,  6.6637e-03,  4.2142e-03,  1.1157e-02,\n          8.1605e-03, -1.8922e-03, -9.5086e-03, -9.0555e-03,  2.2050e-03,\n         -1.8679e-03,  1.0410e-02, -2.1408e-03, -9.2370e-03,  5.0741e-04,\n          1.0854e-02, -3.4460e-03, -2.9846e-03,  1.0801e-02, -7.0086e-03,\n          4.9833e-03, -4.6981e-03,  1.1883e-02, -2.6830e-03,  2.0787e-04,\n          2.4701e-03, -4.9754e-03,  1.6410e-02,  1.9532e-03, -1.8897e-03,\n          2.5735e-03, -3.3690e-03, -8.9972e-03, -1.4639e-02,  8.7315e-03,\n          8.6342e-03, -5.5712e-03,  1.1890e-04, -4.3276e-03, -1.6034e-02,\n         -2.0719e-03, -4.3587e-03, -1.6112e-03, -9.2339e-03,  3.4678e-04,\n          7.7133e-03, -1.0986e-02, -7.1175e-03,  1.6325e-02, -1.7660e-02,\n          1.0796e-02,  7.1447e-03, -6.3056e-03, -1.0424e-02,  1.2168e-03,\n          7.3445e-03,  2.6806e-03, -3.1293e-03,  1.7610e-02, -1.9113e-02,\n          9.4949e-03, -8.2782e-03, -3.8222e-03,  8.3491e-03, -1.1501e-02,\n          1.5285e-03, -1.1056e-02,  2.3233e-03,  1.1736e-02, -9.6756e-03,\n          1.2120e-02, -1.8727e-02, -1.7599e-02, -2.2296e-03,  5.0973e-03,\n          1.1180e-03, -1.8765e-02,  5.3267e-03,  3.5392e-03,  3.0481e-03,\n          2.5085e-03,  9.1119e-03,  8.0381e-03,  1.2301e-02, -7.4896e-03,\n          1.3617e-02,  8.5180e-04, -9.6362e-05,  6.1499e-03, -1.7018e-02,\n         -9.0202e-03,  2.4392e-02, -8.1791e-03,  3.8020e-03,  2.6794e-03,\n         -1.7783e-03,  9.5419e-03,  2.0033e-02,  8.8329e-03, -8.3537e-03,\n         -8.3004e-03,  7.7777e-03, -9.9142e-03,  1.8665e-02, -1.5266e-03,\n         -3.2282e-03, -5.8030e-03, -8.0443e-03,  6.1205e-03, -2.1031e-02,\n         -1.2778e-02,  1.0840e-02,  5.2058e-03, -1.4277e-02, -4.6938e-03,\n          1.6826e-02,  2.0163e-03, -1.6751e-02, -5.3272e-03,  6.4362e-03,\n         -1.2805e-02,  4.3810e-03,  7.1265e-03, -3.2471e-03, -1.8153e-03,\n          1.1367e-02, -1.0755e-02, -5.6706e-03,  8.5380e-03,  1.3051e-02,\n          6.4990e-03,  1.6283e-02, -1.3916e-02,  7.0786e-03,  1.2803e-03,\n         -1.3225e-02, -1.1111e-02, -7.8627e-03, -7.2261e-03,  8.9898e-03,\n         -2.3374e-03, -8.8934e-03, -4.2818e-03, -1.8532e-02, -1.8171e-03,\n         -2.0351e-02,  1.2977e-02,  1.5323e-02, -3.6416e-03, -5.1664e-03,\n          1.9309e-02, -1.0137e-02, -1.2653e-02,  1.0511e-02,  9.6248e-03,\n          4.4063e-03,  1.9740e-02, -5.6746e-03, -2.1503e-02, -1.6387e-02,\n          9.2219e-03,  7.9166e-03,  1.3681e-02, -1.8186e-02, -5.6670e-03,\n         -1.2557e-02, -1.0313e-02, -2.9529e-03, -8.7470e-03, -8.1714e-03,\n          8.6309e-03,  2.1535e-03,  1.3833e-02, -3.4157e-03,  8.5616e-03,\n         -1.5832e-02, -1.0126e-02,  1.5392e-02,  1.5793e-03, -3.2583e-03,\n          1.3422e-03,  4.6802e-03,  9.2150e-03, -8.0031e-03,  1.5468e-02,\n         -1.6587e-02, -7.1245e-03,  3.4381e-03, -1.2654e-02,  2.5823e-03,\n         -3.5234e-03,  7.3228e-03, -1.2665e-03, -6.1736e-03, -3.5068e-04,\n         -5.4522e-03,  7.7748e-03, -1.0573e-02,  6.6252e-03, -5.4238e-03,\n         -1.6791e-02, -1.9659e-03,  1.3692e-02, -8.1921e-03,  1.0932e-02,\n         -4.3076e-03, -7.7598e-03,  1.0254e-02,  3.7399e-03, -5.8355e-05,\n         -1.4895e-02,  1.1162e-02, -9.1369e-03,  1.0479e-02,  5.4634e-03,\n          1.3613e-02, -2.7552e-04,  3.9399e-03,  8.9230e-03,  3.2298e-03,\n         -9.8813e-03, -5.9805e-03,  1.7740e-02,  4.2573e-03,  2.3442e-03,\n         -3.9855e-03,  1.4094e-02,  4.3357e-03, -1.3322e-02,  4.4423e-04,\n          1.1140e-02,  6.0318e-03,  7.2708e-03, -1.3821e-03, -3.5670e-05,\n         -4.3421e-03, -7.8019e-03,  2.3595e-02,  4.4017e-03, -1.2585e-02,\n          1.5417e-03, -8.6557e-03, -7.2836e-03,  2.1188e-02,  2.9398e-03,\n         -1.7398e-02, -1.5503e-02, -8.1839e-03,  1.8860e-02,  2.3722e-03,\n         -1.5034e-02, -6.9968e-03,  1.6358e-02, -1.9237e-02,  7.1806e-03,\n          3.1734e-03,  1.1700e-02, -8.4869e-03, -3.6913e-03,  6.1791e-03,\n         -6.0004e-03,  1.7300e-02,  8.4824e-04, -2.6041e-03,  8.3300e-03,\n         -9.1409e-07,  2.8805e-03, -5.6780e-03, -5.2521e-03, -5.8926e-03,\n          4.4352e-03,  1.3666e-02, -3.0097e-03,  1.4847e-03,  3.0987e-03,\n         -4.0084e-03, -1.0600e-02, -5.1923e-03,  5.0337e-04, -6.1075e-03,\n         -7.7188e-03,  1.6361e-02,  8.7467e-04, -1.4806e-02, -9.1808e-03,\n         -5.4395e-03,  1.1258e-02,  6.8766e-03,  2.2064e-02, -1.0380e-02,\n         -1.4870e-02,  9.3607e-03, -1.3761e-02,  1.4942e-02,  8.0483e-03,\n         -9.9417e-03, -1.3569e-02, -8.1465e-03, -8.7321e-03, -1.2516e-02,\n         -3.7173e-04, -5.5708e-04,  4.9598e-03, -4.6045e-03, -1.1676e-02,\n          4.5957e-03, -1.3537e-02, -1.2580e-02,  1.6542e-03,  2.5527e-04,\n         -6.6544e-03,  2.9216e-03, -1.9927e-03, -2.1504e-02,  1.1264e-02,\n         -3.2297e-03, -7.5775e-03,  8.1778e-03,  1.0142e-02, -1.3182e-02,\n          9.0823e-03, -2.3843e-03,  1.0686e-02, -7.0753e-03,  1.2695e-02,\n         -1.5790e-03, -1.5519e-02,  7.9340e-03,  1.3407e-02, -1.5980e-03,\n         -6.0872e-03, -1.1702e-02,  4.5175e-03,  8.7101e-03,  9.8479e-03,\n          4.4068e-03,  7.7179e-04, -1.3079e-02,  1.6850e-03, -1.9094e-02,\n          1.5868e-02,  5.6251e-03, -5.0282e-03,  1.3441e-02,  1.5905e-02,\n         -5.9497e-03, -1.2469e-04, -6.5926e-03,  4.6617e-03,  2.3329e-03,\n          1.2855e-02, -3.5094e-04, -1.7152e-03,  3.5819e-03, -7.6548e-03,\n         -9.2039e-03,  3.9351e-04, -8.6641e-03,  1.3415e-02, -1.1547e-02,\n         -2.2341e-02,  4.0140e-03, -5.3314e-03, -2.1136e-02, -8.3331e-03,\n          6.4290e-03, -5.9553e-04, -1.9925e-02,  1.8277e-02,  1.2896e-02,\n          1.0264e-02, -4.7127e-03,  4.2753e-03, -9.8930e-03,  9.0069e-03,\n         -9.7492e-03, -1.0649e-02, -2.1107e-02, -5.5408e-03,  9.4515e-03,\n         -1.4763e-02,  4.6718e-03,  7.1572e-03, -1.2999e-02, -1.6968e-02,\n          9.8139e-03,  8.3482e-03,  1.4738e-02, -1.5102e-02, -1.1296e-02,\n         -4.0111e-03,  1.0558e-03, -7.2848e-03, -1.3195e-02, -8.8940e-03,\n         -3.6981e-04,  1.4720e-03,  2.9699e-03, -2.2074e-03,  1.6716e-02,\n          3.9070e-03, -1.6319e-03,  1.0969e-02,  2.2341e-03, -7.0292e-03,\n          7.6642e-03,  7.0766e-03, -2.9174e-03,  4.4938e-03,  7.2723e-04,\n          9.6748e-03,  9.0138e-03,  1.6264e-02,  1.6333e-02,  2.1975e-04,\n          2.4411e-02, -1.6831e-02, -1.4223e-02,  1.1378e-02,  9.1682e-03,\n          1.6366e-02, -6.0451e-03, -9.4864e-03, -7.8717e-03,  1.0037e-02,\n         -1.1516e-02,  1.6475e-02, -1.3504e-02, -8.9471e-03,  1.2778e-02,\n          4.4764e-03,  5.0854e-03,  1.7151e-02,  1.0726e-02,  1.6702e-02,\n         -1.0874e-02,  9.5192e-03,  1.2622e-02, -2.0773e-02,  3.1220e-03,\n          6.5051e-04, -5.2961e-03,  1.4690e-02,  4.3441e-04, -3.8183e-03,\n         -1.7310e-03,  6.6546e-03, -9.1882e-03,  6.4681e-03, -1.5576e-02,\n          2.1200e-03,  1.0597e-02, -8.9674e-03, -1.6148e-02,  1.0851e-02,\n          1.4077e-02, -5.1266e-03,  3.6385e-03, -7.8922e-03,  1.3885e-02,\n          5.9040e-03, -1.2492e-02, -1.0002e-02,  1.5679e-02,  4.8272e-03,\n          3.5992e-03, -1.0229e-03,  7.7135e-03,  5.9821e-03,  1.7518e-02,\n          9.0713e-03,  7.9369e-03,  2.9329e-03,  7.9767e-03, -5.3574e-03,\n          2.8521e-03,  1.3664e-02, -1.7826e-03,  8.4703e-03,  1.0374e-02,\n         -1.1965e-02,  1.6377e-02,  5.4667e-03, -3.0469e-03,  5.4927e-03,\n         -1.3340e-02,  8.0851e-03,  9.4624e-03,  2.4853e-03, -5.2451e-03,\n          9.0435e-03, -5.1695e-03, -2.3414e-02, -1.2441e-02,  2.8108e-03,\n         -1.6769e-02, -3.1934e-03, -6.4113e-03, -8.5339e-03, -8.6808e-03,\n          8.8113e-03, -1.2452e-02,  1.8282e-04,  1.5168e-02, -4.7192e-03,\n         -1.1991e-02, -8.2339e-03,  7.8009e-03,  2.8723e-03,  1.3674e-02,\n          3.2494e-03, -5.0008e-03, -3.9343e-03, -3.4644e-03, -2.1067e-03,\n          9.9590e-03,  9.9275e-03, -1.1318e-02,  4.6955e-03,  8.8548e-03,\n         -1.9550e-02,  3.2377e-03, -1.7413e-02, -2.3210e-02,  3.1011e-04,\n          4.0347e-04,  1.0639e-02, -3.0029e-03, -5.6449e-03, -3.6806e-03,\n          3.6166e-03, -1.2463e-02, -6.4243e-03, -1.9202e-02,  3.5388e-03,\n          1.3241e-02,  1.0684e-02, -6.6245e-03, -8.0609e-03, -7.5063e-03,\n          2.1280e-02, -7.3747e-04, -3.7664e-03,  1.1403e-02, -1.2956e-02,\n         -4.9181e-03, -5.8251e-03, -5.0213e-03,  2.8913e-04, -8.1250e-03,\n         -2.5078e-04,  1.0420e-02,  1.6012e-02,  2.2949e-02,  2.5052e-03,\n          1.2540e-02, -1.4937e-02,  1.4180e-02,  2.1592e-02, -1.2081e-02,\n         -1.2290e-02,  1.3020e-02, -1.4633e-02,  1.2242e-02, -1.2148e-02,\n         -1.6778e-02, -7.6490e-03, -1.0308e-02,  1.4817e-02,  3.1228e-03,\n          1.1515e-03,  1.3462e-02,  1.2216e-02, -1.1423e-02,  8.1199e-03]],\n       grad_fn=<AddmmBackward0>)"
     },
     "execution_count": 241,
     "metadata": {},
     "output_type": "execute_result"
    }
   ],
   "source": [
    "pred"
   ],
   "metadata": {
    "collapsed": false
   }
  },
  {
   "cell_type": "code",
   "execution_count": 242,
   "outputs": [
    {
     "data": {
      "text/plain": "tensor([134])"
     },
     "execution_count": 242,
     "metadata": {},
     "output_type": "execute_result"
    }
   ],
   "source": [
    "pred.argmax(dim=1)"
   ],
   "metadata": {
    "collapsed": false
   }
  },
  {
   "cell_type": "code",
   "execution_count": 243,
   "outputs": [],
   "source": [
    "# get the gradient of the output with respect to the parameters of the model\n",
    "pred[:, 772].backward()"
   ],
   "metadata": {
    "collapsed": false
   }
  },
  {
   "cell_type": "code",
   "execution_count": 245,
   "outputs": [
    {
     "data": {
      "text/plain": "<matplotlib.image.AxesImage at 0x7fbf73ee45e0>"
     },
     "execution_count": 245,
     "metadata": {},
     "output_type": "execute_result"
    },
    {
     "data": {
      "text/plain": "<Figure size 480x480 with 1 Axes>",
      "image/png": "[encoded data removed]"
     },
     "metadata": {},
     "output_type": "display_data"
    }
   ],
   "source": [
    "# pull the gradients out of the model\n",
    "gradients = dense.get_activations_gradient()\n",
    "\n",
    "\n",
    "# pool the gradients across the channels\n",
    "pooled_gradients = torch.mean(gradients, dim=[0, 2, 3])\n",
    "\n",
    "# get the activations of the last convolutional layer\n",
    "activations = dense.get_activations(img).detach()\n",
    "\n",
    "# weight the channels by corresponding gradients\n",
    "for i in range(256):\n",
    "    activations[:, i, :, :] *= pooled_gradients[i]\n",
    "\n",
    "# average the channels of the activations\n",
    "heatmap = torch.mean(activations, dim=1).squeeze()\n",
    "\n",
    "# relu on top of the heatmap\n",
    "# expression (2) in https://arxiv.org/pdf/1610.02391.pdf\n",
    "heatmap = np.maximum(heatmap, 0)\n",
    "\n",
    "# normalize the heatmap\n",
    "heatmap /= torch.max(heatmap)\n",
    "\n",
    "# draw the heatmap\n",
    "plt.matshow(heatmap.squeeze())"
   ],
   "metadata": {
    "collapsed": false
   }
  },
  {
   "cell_type": "code",
   "execution_count": 246,
   "outputs": [
    {
     "name": "stdout",
     "output_type": "stream",
     "text": [
      "Original Dimensions :  (688, 561, 3)\n"
     ]
    }
   ],
   "source": [
    "import cv2\n",
    "heatmap = heatmap.detach().numpy()\n",
    "img = cv2.imread('data4/ben/kanser1.png')\n",
    "print('Original Dimensions : ',img.shape)\n",
    "width = int(img.shape[1])\n",
    "height = int(img.shape[0])\n",
    "dim = (width, height)"
   ],
   "metadata": {
    "collapsed": false
   }
  },
  {
   "cell_type": "code",
   "execution_count": 247,
   "outputs": [
    {
     "data": {
      "text/plain": "True"
     },
     "execution_count": 247,
     "metadata": {},
     "output_type": "execute_result"
    }
   ],
   "source": [
    "heatmap = cv2.resize(heatmap,dim)\n",
    "heatmap = np.uint8(255 * heatmap)\n",
    "heatmap = cv2.applyColorMap(heatmap, cv2.COLORMAP_JET)\n",
    "superimposed_img = heatmap * 0.6 + img\n",
    "cv2.imwrite('data4/map.jpg', superimposed_img)"
   ],
   "metadata": {
    "collapsed": false
   }
  },
  {
   "cell_type": "code",
   "execution_count": null,
   "outputs": [],
   "source": [],
   "metadata": {
    "collapsed": false,
    "pycharm": {
     "is_executing": true
    }
   }
  },
  {
   "cell_type": "code",
   "execution_count": null,
   "outputs": [],
   "source": [],
   "metadata": {
    "collapsed": false,
    "pycharm": {
     "is_executing": true
    }
   }
  },
  {
   "cell_type": "code",
   "execution_count": null,
   "outputs": [],
   "source": [],
   "metadata": {
    "collapsed": false,
    "pycharm": {
     "is_executing": true
    }
   }
  },
  {
   "cell_type": "code",
   "execution_count": 132,
   "outputs": [],
   "source": [],
   "metadata": {
    "collapsed": false
   }
  }
 ],
 "metadata": {
  "kernelspec": {
   "display_name": "Python 3",
   "language": "python",
   "name": "python3"
  },
  "language_info": {
   "codemirror_mode": {
    "name": "ipython",
    "version": 2
   },
   "file_extension": ".py",
   "mimetype": "text/x-python",
   "name": "python",
   "nbconvert_exporter": "python",
   "pygments_lexer": "ipython2",
   "version": "2.7.6"
  }
 },
 "nbformat": 4,
 "nbformat_minor": 0
}
