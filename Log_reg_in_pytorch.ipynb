{
 "cells": [
  {
   "cell_type": "code",
   "execution_count": 1,
   "metadata": {
    "collapsed": true
   },
   "outputs": [],
   "source": [
    "import torch\n",
    "%matplotlib inline\n",
    "import matplotlib.pyplot as plt\n",
    "import numpy as np\n",
    "import torch.nn.functional as F"
   ]
  },
  {
   "cell_type": "code",
   "execution_count": 2,
   "outputs": [],
   "source": [
    "data = np.genfromtxt('toydata.txt', delimiter='\\t')\n",
    "x = data[:, :2].astype(np.float32)\n",
    "y = data[:, 2].astype(np.int64)"
   ],
   "metadata": {
    "collapsed": false
   }
  },
  {
   "cell_type": "code",
   "execution_count": 3,
   "outputs": [],
   "source": [
    "idx = np.arange(y.shape[0])\n",
    "np.random.shuffle(idx)\n",
    "X_test, y_test = x[idx[:25]], y[idx[:25]]\n",
    "X_train, y_train = x[idx[25:]], y[idx[25:]]\n",
    "\n",
    "mu, std = np.mean(X_train, axis = 0), np.std(X_train, axis=0)\n",
    "X_train, X_test = (X_train-mu)/std, (X_test-mu)/std"
   ],
   "metadata": {
    "collapsed": false
   }
  },
  {
   "cell_type": "code",
   "execution_count": 4,
   "outputs": [
    {
     "data": {
      "text/plain": "<Figure size 504x180 with 2 Axes>",
      "image/png": "[encoded data removed]"
     },
     "metadata": {
      "needs_background": "light"
     },
     "output_type": "display_data"
    }
   ],
   "source": [
    "fig, ax = plt.subplots(1, 2, figsize=(7, 2.5))\n",
    "ax[0].scatter(X_train[y_train == 1, 0], X_train[y_train == 1, 1])\n",
    "ax[0].scatter(X_train[y_train == 0, 0], X_train[y_train == 0, 1])\n",
    "ax[1].scatter(X_test[y_test == 1, 0], X_test[y_test == 1, 1])\n",
    "ax[1].scatter(X_test[y_test == 0, 0], X_test[y_test == 0, 1])\n",
    "plt.xlim([x[:, 0].min()-0.5, x[:, 0].max()+0.5])\n",
    "plt.ylim([x[:, 1].min()-0.5, x[:, 1].max()+0.5])\n",
    "plt.show()"
   ],
   "metadata": {
    "collapsed": false
   }
  },
  {
   "cell_type": "code",
   "execution_count": 5,
   "outputs": [],
   "source": [
    "device = torch.device('cuda:0' if torch.cuda.is_available() else 'cpu')"
   ],
   "metadata": {
    "collapsed": false
   }
  },
  {
   "cell_type": "code",
   "execution_count": 16,
   "outputs": [],
   "source": [
    "class LogisticRegression1():\n",
    "    def __init__(self, num_features):\n",
    "        self.num_features = num_features\n",
    "        self.weights = torch.zeros(1, num_features,\n",
    "                                   dtype=torch.float32, device=device)\n",
    "        self.bias = torch.zeros(1, dtype=torch.float32, device=device)\n",
    "\n",
    "    def forward(self, x):\n",
    "        linear = torch.add(torch.mm(x, self.weights.t()), self.bias).view(-1)\n",
    "        probas = self._sigmoid(linear)\n",
    "        return probas\n",
    "\n",
    "    def backward(self, x, y, probas):\n",
    "\n",
    "        grad_loss_wrt_z = probas - y\n",
    "        grad_loss_wrt_w = torch.mm(x.t(), grad_loss_wrt_z.view(-1, 1)).t()\n",
    "        grad_loss_wrt_b = torch.sum(grad_loss_wrt_z)\n",
    "        return grad_loss_wrt_w, grad_loss_wrt_b\n",
    "\n",
    "    def predict_labels(self, x):\n",
    "        probas = self.forward(x)\n",
    "        labels = torch.where(probas >= .5, 1, 0) # threshold function\n",
    "        return labels\n",
    "\n",
    "    def evaluate(self, x, y):\n",
    "        labels = self.predict_labels(x).float()\n",
    "        accuracy = torch.sum(labels.view(-1) == y.float()).item() / y.size(0)\n",
    "        return accuracy\n",
    "\n",
    "    def _sigmoid(self, z):\n",
    "        return 1. / (1. + torch.exp(-z))\n",
    "\n",
    "    def _logit_cost(self, y, proba):\n",
    "        tmp1 = torch.mm(-y.view(1, -1), torch.log(proba.view(-1, 1)))\n",
    "        tmp2 = torch.mm((1 - y).view(1, -1), torch.log(1 - proba.view(-1, 1)))\n",
    "        return tmp1 - tmp2\n",
    "\n",
    "    def train(self, x, y, num_epochs, learning_rate=0.01):\n",
    "        epoch_cost = []\n",
    "        for e in range(num_epochs):\n",
    "\n",
    "            #### Compute outputs ####\n",
    "            probas = self.forward(x)\n",
    "\n",
    "            #### Compute gradients ####\n",
    "            grad_w, grad_b = self.backward(x, y, probas)\n",
    "\n",
    "            #### Update weights ####\n",
    "            self.weights -= learning_rate * grad_w\n",
    "            self.bias -= learning_rate * grad_b\n",
    "\n",
    "            #### Logging ####\n",
    "            cost = self._logit_cost(y, self.forward(x)) / x.size(0)\n",
    "            print('Epoch: %03d' % (e+1), end=\"\")\n",
    "            print(' | Train ACC: %.3f' % self.evaluate(x, y), end=\"\")\n",
    "            print(' | Cost: %.3f' % cost)\n",
    "            epoch_cost.append(cost)\n",
    "        return epoch_cost\n",
    "\n",
    "\n",
    "\n"
   ],
   "metadata": {
    "collapsed": false
   }
  },
  {
   "cell_type": "code",
   "execution_count": 17,
   "outputs": [
    {
     "name": "stdout",
     "output_type": "stream",
     "text": [
      "Epoch: 001 | Train ACC: 0.960 | Cost: 0.064\n",
      "Epoch: 002 | Train ACC: 0.960 | Cost: 0.061\n",
      "Epoch: 003 | Train ACC: 0.973 | Cost: 0.059\n",
      "Epoch: 004 | Train ACC: 0.973 | Cost: 0.057\n",
      "Epoch: 005 | Train ACC: 0.973 | Cost: 0.055\n",
      "Epoch: 006 | Train ACC: 0.973 | Cost: 0.054\n",
      "Epoch: 007 | Train ACC: 0.973 | Cost: 0.053\n",
      "Epoch: 008 | Train ACC: 0.973 | Cost: 0.052\n",
      "Epoch: 009 | Train ACC: 0.973 | Cost: 0.051\n",
      "Epoch: 010 | Train ACC: 0.987 | Cost: 0.050\n",
      "Epoch: 011 | Train ACC: 0.987 | Cost: 0.049\n",
      "Epoch: 012 | Train ACC: 0.987 | Cost: 0.048\n",
      "Epoch: 013 | Train ACC: 0.987 | Cost: 0.048\n",
      "Epoch: 014 | Train ACC: 0.987 | Cost: 0.047\n",
      "Epoch: 015 | Train ACC: 0.987 | Cost: 0.046\n",
      "Epoch: 016 | Train ACC: 0.987 | Cost: 0.046\n",
      "Epoch: 017 | Train ACC: 0.987 | Cost: 0.045\n",
      "Epoch: 018 | Train ACC: 0.987 | Cost: 0.044\n",
      "Epoch: 019 | Train ACC: 0.987 | Cost: 0.044\n",
      "Epoch: 020 | Train ACC: 0.987 | Cost: 0.043\n",
      "Epoch: 021 | Train ACC: 0.987 | Cost: 0.043\n",
      "Epoch: 022 | Train ACC: 0.987 | Cost: 0.042\n",
      "Epoch: 023 | Train ACC: 0.987 | Cost: 0.042\n",
      "Epoch: 024 | Train ACC: 0.987 | Cost: 0.041\n",
      "Epoch: 025 | Train ACC: 0.987 | Cost: 0.041\n",
      "Epoch: 026 | Train ACC: 0.987 | Cost: 0.040\n",
      "Epoch: 027 | Train ACC: 0.987 | Cost: 0.040\n",
      "Epoch: 028 | Train ACC: 0.987 | Cost: 0.040\n",
      "Epoch: 029 | Train ACC: 0.987 | Cost: 0.039\n",
      "Epoch: 030 | Train ACC: 0.987 | Cost: 0.039\n",
      "\n",
      "Model parameters:\n",
      "  Weights: tensor([[4.7628, 3.9711]])\n",
      "  Bias: tensor([-0.6846])\n"
     ]
    }
   ],
   "source": [
    "X_train_tensor = torch.tensor(X_train, dtype=torch.float32, device=device)\n",
    "y_train_tensor = torch.tensor(y_train, dtype=torch.float32, device=device)\n",
    "\n",
    "model1 = LogisticRegression1(num_features=2)\n",
    "epoch_cost = model1.train(X_train_tensor, y_train_tensor, num_epochs=30, learning_rate=0.1)\n",
    "\n",
    "print('\\nModel parameters:')\n",
    "print('  Weights: %s' % model1.weights)\n",
    "print('  Bias: %s' % model1.bias)"
   ],
   "metadata": {
    "collapsed": false
   }
  },
  {
   "cell_type": "code",
   "execution_count": 73,
   "outputs": [
    {
     "data": {
      "text/plain": "[array(0.06007895, dtype=float32),\n array(0.05666551, dtype=float32),\n array(0.05409915, dtype=float32),\n array(0.05206166, dtype=float32),\n array(0.05036963, dtype=float32),\n array(0.04891416, dtype=float32),\n array(0.04762873, dtype=float32),\n array(0.04647131, dtype=float32),\n array(0.04541434, dtype=float32),\n array(0.04443904, dtype=float32),\n array(0.04353204, dtype=float32),\n array(0.04268349, dtype=float32),\n array(0.04188581, dtype=float32),\n array(0.04113304, dtype=float32),\n array(0.04042033, dtype=float32),\n array(0.03974368, dtype=float32),\n array(0.03909969, dtype=float32),\n array(0.03848548, dtype=float32),\n array(0.03789853, dtype=float32),\n array(0.03733667, dtype=float32),\n array(0.03679797, dtype=float32),\n array(0.03628073, dtype=float32),\n array(0.03578343, dtype=float32),\n array(0.03530471, dtype=float32),\n array(0.03484336, dtype=float32),\n array(0.03439826, dtype=float32),\n array(0.03396839, dtype=float32),\n array(0.0335529, dtype=float32),\n array(0.03315089, dtype=float32),\n array(0.03276166, dtype=float32)]"
     },
     "execution_count": 73,
     "metadata": {},
     "output_type": "execute_result"
    }
   ],
   "source": [
    "epoch_cost = [np.array(i) for i in epoch_cost]\n",
    "epoch_cost"
   ],
   "metadata": {
    "collapsed": false
   }
  },
  {
   "cell_type": "code",
   "execution_count": 74,
   "outputs": [
    {
     "data": {
      "text/plain": "<Figure size 640x480 with 1 Axes>",
      "image/png": "[encoded data removed]"
     },
     "metadata": {},
     "output_type": "display_data"
    }
   ],
   "source": [
    "plt.plot(epoch_cost)\n",
    "plt.ylabel('Neg. Log Likelihood Loss')\n",
    "plt.xlabel('Epoch')\n",
    "plt.show()"
   ],
   "metadata": {
    "collapsed": false
   }
  },
  {
   "cell_type": "code",
   "execution_count": 75,
   "outputs": [
    {
     "name": "stdout",
     "output_type": "stream",
     "text": [
      "Test set accuracy: 96.00%\n"
     ]
    }
   ],
   "source": [
    "X_test_tensor = torch.tensor(X_test, dtype=torch.float32, device=device)\n",
    "y_test_tensor = torch.tensor(y_test, dtype=torch.float32, device=device)\n",
    "\n",
    "test_acc = model1.evaluate(X_test_tensor, y_test_tensor)\n",
    "print('Test set accuracy: %.2f%%' % (test_acc*100))"
   ],
   "metadata": {
    "collapsed": false
   }
  },
  {
   "cell_type": "code",
   "execution_count": 76,
   "outputs": [
    {
     "data": {
      "text/plain": "<Figure size 700x300 with 2 Axes>",
      "image/png": "[encoded data removed]"
     },
     "metadata": {},
     "output_type": "display_data"
    }
   ],
   "source": [
    "##########################\n",
    "### 2D Decision Boundary\n",
    "##########################\n",
    "\n",
    "w, b = model1.weights.view(-1), model1.bias\n",
    "\n",
    "x_min = -2\n",
    "y_min = ( (-(w[0] * x_min) - b[0])\n",
    "          / w[1] )\n",
    "\n",
    "x_max = 2\n",
    "y_max = ( (-(w[0] * x_max) - b[0])\n",
    "          / w[1] )\n",
    "\n",
    "\n",
    "fig, ax = plt.subplots(1, 2, sharex=True, figsize=(7, 3))\n",
    "\n",
    "ax[0].plot([x_min, x_max], [y_min, y_max])\n",
    "ax[1].plot([x_min, x_max], [y_min, y_max])\n",
    "\n",
    "ax[0].scatter(X_train[y_train==0, 0], X_train[y_train==0, 1], label='class 0', marker='o')\n",
    "ax[0].scatter(X_train[y_train==1, 0], X_train[y_train==1, 1], label='class 1', marker='s')\n",
    "\n",
    "ax[1].scatter(X_test[y_test==0, 0], X_test[y_test==0, 1], label='class 0', marker='o')\n",
    "ax[1].scatter(X_test[y_test==1, 0], X_test[y_test==1, 1], label='class 1', marker='s')\n",
    "\n",
    "ax[1].legend(loc='upper left')\n",
    "plt.show()"
   ],
   "metadata": {
    "collapsed": false
   }
  },
  {
   "cell_type": "code",
   "execution_count": 10,
   "outputs": [
    {
     "data": {
      "text/plain": "tensor([[0.0995, 0.7712],\n        [0.3461, 0.3842],\n        [0.1269, 0.3469]])"
     },
     "execution_count": 10,
     "metadata": {},
     "output_type": "execute_result"
    }
   ],
   "source": [
    "x = torch.rand((3,2), dtype= torch.float32)\n",
    "x"
   ],
   "metadata": {
    "collapsed": false
   }
  },
  {
   "cell_type": "code",
   "execution_count": 11,
   "outputs": [
    {
     "data": {
      "text/plain": "tensor([0.0995, 0.7712, 0.3461, 0.3842, 0.1269, 0.3469])"
     },
     "execution_count": 11,
     "metadata": {},
     "output_type": "execute_result"
    }
   ],
   "source": [
    "m = x.view(1,-1)\n",
    "m.view(-1)"
   ],
   "metadata": {
    "collapsed": false
   }
  },
  {
   "cell_type": "code",
   "execution_count": 12,
   "outputs": [
    {
     "data": {
      "text/plain": "tensor([[0.0995],\n        [0.7712],\n        [0.3461],\n        [0.3842],\n        [0.1269],\n        [0.3469]])"
     },
     "execution_count": 12,
     "metadata": {},
     "output_type": "execute_result"
    }
   ],
   "source": [
    "x.view(-1,1)"
   ],
   "metadata": {
    "collapsed": false
   }
  },
  {
   "cell_type": "code",
   "execution_count": 13,
   "outputs": [
    {
     "data": {
      "text/plain": "tensor([[0.0995, 0.7712, 0.3461, 0.3842, 0.1269, 0.3469]])"
     },
     "execution_count": 13,
     "metadata": {},
     "output_type": "execute_result"
    }
   ],
   "source": [
    "x.view(1,-1)"
   ],
   "metadata": {
    "collapsed": false
   }
  },
  {
   "cell_type": "code",
   "execution_count": 80,
   "outputs": [],
   "source": [],
   "metadata": {
    "collapsed": false
   }
  },
  {
   "cell_type": "code",
   "execution_count": 81,
   "outputs": [],
   "source": [
    "class LogisticRegression2(torch.nn.Module):\n",
    "\n",
    "    def __init__(self, num_features):\n",
    "        super(LogisticRegression2, self).__init__()\n",
    "        self.linear = torch.nn.Linear(num_features, 1)\n",
    "        # initialize weights to zeros here,\n",
    "        # since we used zero weights in the\n",
    "        # manual approach\n",
    "\n",
    "        self.linear.weight.detach().zero_()\n",
    "        self.linear.bias.detach().zero_()\n",
    "        # Note: the trailing underscore\n",
    "        # means \"in-place operation\" in the context\n",
    "        # of PyTorch\n",
    "\n",
    "    def forward(self, x):\n",
    "        logits = self.linear(x)\n",
    "        probas = torch.sigmoid(logits)\n",
    "        return probas\n",
    "\n",
    "model2 = LogisticRegression2(num_features=2).to(device)\n",
    "optimizer = torch.optim.SGD(model2.parameters(), lr=0.1)\n"
   ],
   "metadata": {
    "collapsed": false
   }
  },
  {
   "cell_type": "code",
   "execution_count": 82,
   "outputs": [
    {
     "name": "stdout",
     "output_type": "stream",
     "text": [
      "Epoch: 001 | Train ACC: 0.973 | Cost: 0.060\n",
      "Epoch: 002 | Train ACC: 0.973 | Cost: 0.057\n",
      "Epoch: 003 | Train ACC: 0.973 | Cost: 0.054\n",
      "Epoch: 004 | Train ACC: 0.973 | Cost: 0.052\n",
      "Epoch: 005 | Train ACC: 0.973 | Cost: 0.050\n",
      "Epoch: 006 | Train ACC: 0.973 | Cost: 0.049\n",
      "Epoch: 007 | Train ACC: 0.973 | Cost: 0.048\n",
      "Epoch: 008 | Train ACC: 0.973 | Cost: 0.046\n",
      "Epoch: 009 | Train ACC: 0.973 | Cost: 0.045\n",
      "Epoch: 010 | Train ACC: 0.973 | Cost: 0.044\n",
      "Epoch: 011 | Train ACC: 0.973 | Cost: 0.044\n",
      "Epoch: 012 | Train ACC: 0.973 | Cost: 0.043\n",
      "Epoch: 013 | Train ACC: 0.973 | Cost: 0.042\n",
      "Epoch: 014 | Train ACC: 0.987 | Cost: 0.041\n",
      "Epoch: 015 | Train ACC: 0.987 | Cost: 0.040\n",
      "Epoch: 016 | Train ACC: 0.987 | Cost: 0.040\n",
      "Epoch: 017 | Train ACC: 0.987 | Cost: 0.039\n",
      "Epoch: 018 | Train ACC: 1.000 | Cost: 0.038\n",
      "Epoch: 019 | Train ACC: 1.000 | Cost: 0.038\n",
      "Epoch: 020 | Train ACC: 1.000 | Cost: 0.037\n",
      "Epoch: 021 | Train ACC: 1.000 | Cost: 0.037\n",
      "Epoch: 022 | Train ACC: 1.000 | Cost: 0.036\n",
      "Epoch: 023 | Train ACC: 1.000 | Cost: 0.036\n",
      "Epoch: 024 | Train ACC: 1.000 | Cost: 0.035\n",
      "Epoch: 025 | Train ACC: 1.000 | Cost: 0.035\n",
      "Epoch: 026 | Train ACC: 1.000 | Cost: 0.034\n",
      "Epoch: 027 | Train ACC: 1.000 | Cost: 0.034\n",
      "Epoch: 028 | Train ACC: 1.000 | Cost: 0.034\n",
      "Epoch: 029 | Train ACC: 1.000 | Cost: 0.033\n",
      "Epoch: 030 | Train ACC: 1.000 | Cost: 0.033\n",
      "\n",
      "Model parameters:\n",
      "  Weights: Parameter containing:\n",
      "tensor([[5.0620, 3.5561]], requires_grad=True)\n",
      "  Bias: Parameter containing:\n",
      "tensor([-0.8599], requires_grad=True)\n"
     ]
    }
   ],
   "source": [
    "def comp_accuracy(label_var, pred_probas):\n",
    "    pred_labels = torch.where((pred_probas > 0.5), 1, 0).view(-1)\n",
    "    acc = torch.sum(pred_labels == label_var.view(-1)).float() / label_var.size(0)\n",
    "    return acc\n",
    "\n",
    "\n",
    "num_epochs = 30\n",
    "\n",
    "X_train_tensor = torch.tensor(X_train, dtype=torch.float32, device=device)\n",
    "y_train_tensor = torch.tensor(y_train, dtype=torch.float32, device=device).view(-1, 1)\n",
    "\n",
    "\n",
    "for epoch in range(num_epochs):\n",
    "\n",
    "    #### Compute outputs ####\n",
    "    out = model2(X_train_tensor)\n",
    "\n",
    "    #### Compute gradients ####\n",
    "    loss = F.binary_cross_entropy(out, y_train_tensor, reduction='sum')\n",
    "    optimizer.zero_grad()\n",
    "    loss.backward()\n",
    "\n",
    "    #### Update weights ####\n",
    "    optimizer.step()\n",
    "\n",
    "    #### Logging ####\n",
    "    pred_probas = model2(X_train_tensor)\n",
    "    acc = comp_accuracy(y_train_tensor, pred_probas)\n",
    "    print('Epoch: %03d' % (epoch + 1), end=\"\")\n",
    "    print(' | Train ACC: %.3f' % acc, end=\"\")\n",
    "    print(' | Cost: %.3f' % F.binary_cross_entropy(pred_probas, y_train_tensor))\n",
    "\n",
    "\n",
    "\n",
    "print('\\nModel parameters:')\n",
    "print('  Weights: %s' % model2.linear.weight)\n",
    "print('  Bias: %s' % model2.linear.bias)"
   ],
   "metadata": {
    "collapsed": false
   }
  },
  {
   "cell_type": "code",
   "execution_count": 83,
   "outputs": [
    {
     "name": "stdout",
     "output_type": "stream",
     "text": [
      "Test set accuracy: 96.00%\n"
     ]
    }
   ],
   "source": [
    "X_test_tensor = torch.tensor(X_test, dtype=torch.float32, device=device)\n",
    "y_test_tensor = torch.tensor(y_test, dtype=torch.float32, device=device)\n",
    "\n",
    "pred_probas = model2(X_test_tensor)\n",
    "test_acc = comp_accuracy(y_test_tensor, pred_probas)\n",
    "\n",
    "print('Test set accuracy: %.2f%%' % (test_acc*100))"
   ],
   "metadata": {
    "collapsed": false
   }
  },
  {
   "cell_type": "code",
   "execution_count": 84,
   "outputs": [
    {
     "data": {
      "text/plain": "<Figure size 700x300 with 2 Axes>",
      "image/png": "[encoded data removed]"
     },
     "metadata": {},
     "output_type": "display_data"
    }
   ],
   "source": [
    "##########################\n",
    "### 2D Decision Boundary\n",
    "##########################\n",
    "\n",
    "w, b = model2.linear.weight.detach().view(-1), model2.linear.bias.detach()\n",
    "\n",
    "x_min = -2\n",
    "y_min = ( (-(w[0] * x_min) - b[0])\n",
    "          / w[1] )\n",
    "\n",
    "x_max = 2\n",
    "y_max = ( (-(w[0] * x_max) - b[0])\n",
    "          / w[1] )\n",
    "\n",
    "\n",
    "fig, ax = plt.subplots(1, 2, sharex=True, figsize=(7, 3))\n",
    "ax[0].plot([x_min, x_max], [y_min, y_max])\n",
    "ax[1].plot([x_min, x_max], [y_min, y_max])\n",
    "\n",
    "ax[0].scatter(X_train[y_train==0, 0], X_train[y_train==0, 1], label='class 0', marker='o')\n",
    "ax[0].scatter(X_train[y_train==1, 0], X_train[y_train==1, 1], label='class 1', marker='s')\n",
    "\n",
    "ax[1].scatter(X_test[y_test==0, 0], X_test[y_test==0, 1], label='class 0', marker='o')\n",
    "ax[1].scatter(X_test[y_test==1, 0], X_test[y_test==1, 1], label='class 1', marker='s')\n",
    "\n",
    "ax[1].legend(loc='upper left')\n",
    "plt.show()"
   ],
   "metadata": {
    "collapsed": false
   }
  },
  {
   "cell_type": "code",
   "execution_count": null,
   "outputs": [],
   "source": [],
   "metadata": {
    "collapsed": false,
    "pycharm": {
     "is_executing": true
    }
   }
  },
  {
   "cell_type": "code",
   "execution_count": 84,
   "outputs": [],
   "source": [],
   "metadata": {
    "collapsed": false
   }
  }
 ],
 "metadata": {
  "kernelspec": {
   "display_name": "Python 3",
   "language": "python",
   "name": "python3"
  },
  "language_info": {
   "codemirror_mode": {
    "name": "ipython",
    "version": 2
   },
   "file_extension": ".py",
   "mimetype": "text/x-python",
   "name": "python",
   "nbconvert_exporter": "python",
   "pygments_lexer": "ipython2",
   "version": "2.7.6"
  }
 },
 "nbformat": 4,
 "nbformat_minor": 0
}
