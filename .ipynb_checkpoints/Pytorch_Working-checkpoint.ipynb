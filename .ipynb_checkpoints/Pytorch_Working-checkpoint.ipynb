{
 "cells": [
  {
   "cell_type": "markdown",
   "id": "a474d952",
   "metadata": {},
   "source": [
    "### Creating Tensor"
   ]
  },
  {
   "cell_type": "code",
   "execution_count": 3,
   "id": "19b15e92",
   "metadata": {},
   "outputs": [
    {
     "name": "stdout",
     "output_type": "stream",
     "text": [
      "tensor([[0.8380, 0.4596, 0.1444],\n",
      "        [0.0852, 0.0996, 0.5227],\n",
      "        [0.5107, 0.0934, 0.1282],\n",
      "        [0.2262, 0.2686, 0.2845],\n",
      "        [0.8309, 0.4028, 0.8379]])\n"
     ]
    }
   ],
   "source": [
    "import torch\n",
    "x = torch.rand(5, 3)\n",
    "print(x)"
   ]
  },
  {
   "cell_type": "code",
   "execution_count": 6,
   "id": "5e10fe8e",
   "metadata": {},
   "outputs": [],
   "source": [
    "def describe(x):\n",
    "    print(\"Type: {}\".format(x.type()))\n",
    "    print(\"Shape/size: {}\".format(x.shape))\n",
    "    print(\"Values: \\n{}\".format(x))"
   ]
  },
  {
   "cell_type": "code",
   "execution_count": 7,
   "id": "3789411c",
   "metadata": {},
   "outputs": [
    {
     "name": "stdout",
     "output_type": "stream",
     "text": [
      "Type: torch.FloatTensor\n",
      "Shape/size: torch.Size([5, 3])\n",
      "Values: \n",
      "tensor([[0.8380, 0.4596, 0.1444],\n",
      "        [0.0852, 0.0996, 0.5227],\n",
      "        [0.5107, 0.0934, 0.1282],\n",
      "        [0.2262, 0.2686, 0.2845],\n",
      "        [0.8309, 0.4028, 0.8379]])\n"
     ]
    }
   ],
   "source": [
    "describe(x)"
   ]
  },
  {
   "cell_type": "markdown",
   "id": "3b5763d0",
   "metadata": {},
   "source": [
    "#### Creating a tensor in PyTorch with torch.Tensor"
   ]
  },
  {
   "cell_type": "code",
   "execution_count": 39,
   "id": "b6c3a163",
   "metadata": {},
   "outputs": [
    {
     "name": "stdout",
     "output_type": "stream",
     "text": [
      "Type: torch.FloatTensor\n",
      "Shape/size: torch.Size([2, 3])\n",
      "Values: \n",
      "tensor([[0.0000e+00, 3.6893e+19, 8.2704e+11],\n",
      "        [2.8629e-42, 5.0000e+00, 6.0000e+00]])\n"
     ]
    }
   ],
   "source": [
    "x1 = torch.Tensor(2,3); describe(x1)"
   ]
  },
  {
   "cell_type": "code",
   "execution_count": 17,
   "id": "9b978d77",
   "metadata": {},
   "outputs": [
    {
     "name": "stdout",
     "output_type": "stream",
     "text": [
      "Type: torch.FloatTensor\n",
      "Shape/size: torch.Size([2, 3])\n",
      "Values: \n",
      "tensor([[0.3627, 0.6058, 0.1751],\n",
      "        [0.6141, 0.1540, 0.4368]])\n"
     ]
    }
   ],
   "source": [
    "x2 = torch.rand(2,3); describe(x2)"
   ]
  },
  {
   "cell_type": "code",
   "execution_count": 19,
   "id": "769f7c91",
   "metadata": {},
   "outputs": [
    {
     "name": "stdout",
     "output_type": "stream",
     "text": [
      "Type: torch.FloatTensor\n",
      "Shape/size: torch.Size([2, 3])\n",
      "Values: \n",
      "tensor([[-0.0314,  1.2113, -0.6134],\n",
      "        [ 0.2802, -0.3051,  0.2266]])\n"
     ]
    }
   ],
   "source": [
    "x3 = torch.randn(2,3); describe(x3)"
   ]
  },
  {
   "cell_type": "markdown",
   "id": "ee78d2ce",
   "metadata": {},
   "source": [
    "#### *fill_* method for creating zeros and ones"
   ]
  },
  {
   "cell_type": "code",
   "execution_count": 20,
   "id": "06a81fa1",
   "metadata": {},
   "outputs": [
    {
     "data": {
      "text/plain": [
       "tensor([[0., 0., 0.],\n",
       "        [0., 0., 0.]])"
      ]
     },
     "execution_count": 20,
     "metadata": {},
     "output_type": "execute_result"
    }
   ],
   "source": [
    "x4 = torch.zeros(2,3);x4"
   ]
  },
  {
   "cell_type": "code",
   "execution_count": 21,
   "id": "dd025ce2",
   "metadata": {},
   "outputs": [
    {
     "data": {
      "text/plain": [
       "tensor([[1., 1., 1.],\n",
       "        [1., 1., 1.]])"
      ]
     },
     "execution_count": 21,
     "metadata": {},
     "output_type": "execute_result"
    }
   ],
   "source": [
    "x5 = torch.ones(2,3); x5"
   ]
  },
  {
   "cell_type": "code",
   "execution_count": 22,
   "id": "f7ff2dac",
   "metadata": {},
   "outputs": [
    {
     "name": "stdout",
     "output_type": "stream",
     "text": [
      "Type: torch.FloatTensor\n",
      "Shape/size: torch.Size([2, 3])\n",
      "Values: \n",
      "tensor([[3., 3., 3.],\n",
      "        [3., 3., 3.]])\n"
     ]
    }
   ],
   "source": [
    "x4.fill_(3); describe(x4)"
   ]
  },
  {
   "cell_type": "code",
   "execution_count": 23,
   "id": "25f23c4c",
   "metadata": {},
   "outputs": [
    {
     "name": "stdout",
     "output_type": "stream",
     "text": [
      "Type: torch.FloatTensor\n",
      "Shape/size: torch.Size([2, 3])\n",
      "Values: \n",
      "tensor([[5., 5., 5.],\n",
      "        [5., 5., 5.]])\n"
     ]
    }
   ],
   "source": [
    "x5.fill_(5); describe(x5)"
   ]
  },
  {
   "cell_type": "markdown",
   "id": "4ae730c9",
   "metadata": {},
   "source": [
    "### Creating and initializing a tensor from lists"
   ]
  },
  {
   "cell_type": "code",
   "execution_count": 33,
   "id": "92f42707",
   "metadata": {},
   "outputs": [
    {
     "name": "stdout",
     "output_type": "stream",
     "text": [
      "Type: torch.FloatTensor\n",
      "Shape/size: torch.Size([2, 3])\n",
      "Values: \n",
      "tensor([[1., 2., 3.],\n",
      "        [4., 5., 6.]])\n"
     ]
    }
   ],
   "source": [
    "x = torch.Tensor([[1,2,3],\n",
    "                [4,5,6]]) ; describe(x)"
   ]
  },
  {
   "cell_type": "markdown",
   "id": "e11e5d74",
   "metadata": {},
   "source": [
    "### Creating and initializing a tensor from NumPy"
   ]
  },
  {
   "cell_type": "code",
   "execution_count": 27,
   "id": "27d4826a",
   "metadata": {},
   "outputs": [],
   "source": [
    "import numpy as np"
   ]
  },
  {
   "cell_type": "code",
   "execution_count": 32,
   "id": "e03a7d7e",
   "metadata": {},
   "outputs": [
    {
     "name": "stdout",
     "output_type": "stream",
     "text": [
      "Type: torch.DoubleTensor\n",
      "Shape/size: torch.Size([2, 4])\n",
      "Values: \n",
      "tensor([[-0.4087,  0.2325, -1.8469, -1.5877],\n",
      "        [ 0.7351,  2.7145,  0.7560,  0.8620]], dtype=torch.float64)\n"
     ]
    }
   ],
   "source": [
    "x = np.random.randn(2,4)\n",
    "x_torch = torch.from_numpy(x); describe(x_torch) # it has an attr from_numpy"
   ]
  },
  {
   "cell_type": "markdown",
   "id": "47e6f0aa",
   "metadata": {},
   "source": [
    "### Tensor Types and Size"
   ]
  },
  {
   "cell_type": "code",
   "execution_count": 35,
   "id": "fcfbc0c0",
   "metadata": {},
   "outputs": [
    {
     "name": "stdout",
     "output_type": "stream",
     "text": [
      "Type: torch.FloatTensor\n",
      "Shape/size: torch.Size([2, 3])\n",
      "Values: \n",
      "tensor([[1., 2., 3.],\n",
      "        [4., 5., 6.]])\n"
     ]
    }
   ],
   "source": [
    "x = torch.FloatTensor([[1,2,3],[4,5,6]]); describe(x)"
   ]
  },
  {
   "cell_type": "code",
   "execution_count": 37,
   "id": "43bfa204",
   "metadata": {},
   "outputs": [
    {
     "name": "stdout",
     "output_type": "stream",
     "text": [
      "Type: torch.LongTensor\n",
      "Shape/size: torch.Size([2, 3])\n",
      "Values: \n",
      "tensor([[1, 2, 3],\n",
      "        [4, 5, 6]])\n"
     ]
    }
   ],
   "source": [
    "x = x.long(); describe(x)"
   ]
  },
  {
   "cell_type": "code",
   "execution_count": 44,
   "id": "072a89c5",
   "metadata": {},
   "outputs": [
    {
     "name": "stdout",
     "output_type": "stream",
     "text": [
      "Type: torch.LongTensor\n",
      "Shape/size: torch.Size([2, 3])\n",
      "Values: \n",
      "tensor([[1, 2, 3],\n",
      "        [4, 5, 6]])\n"
     ]
    }
   ],
   "source": [
    "x = torch.tensor([[1,2,3],[4,5,6]], dtype = torch.int64); describe(x) # torch.Tensor normally used"
   ]
  },
  {
   "cell_type": "code",
   "execution_count": 46,
   "id": "ddc2a0b7",
   "metadata": {},
   "outputs": [
    {
     "name": "stdout",
     "output_type": "stream",
     "text": [
      "Type: torch.FloatTensor\n",
      "Shape/size: torch.Size([2, 3])\n",
      "Values: \n",
      "tensor([[1., 2., 3.],\n",
      "        [4., 5., 6.]])\n"
     ]
    }
   ],
   "source": [
    "x = x.float(); describe(x)"
   ]
  },
  {
   "cell_type": "code",
   "execution_count": 47,
   "id": "e6bd27bf",
   "metadata": {},
   "outputs": [
    {
     "data": {
      "text/plain": [
       "torch.Size([2, 3])"
      ]
     },
     "execution_count": 47,
     "metadata": {},
     "output_type": "execute_result"
    }
   ],
   "source": [
    "x.size()"
   ]
  },
  {
   "cell_type": "markdown",
   "id": "e5ebcf7d",
   "metadata": {},
   "source": [
    "### Tensor Operations"
   ]
  },
  {
   "cell_type": "code",
   "execution_count": 49,
   "id": "22cb7ea8",
   "metadata": {},
   "outputs": [
    {
     "name": "stdout",
     "output_type": "stream",
     "text": [
      "Type: torch.FloatTensor\n",
      "Shape/size: torch.Size([2, 3])\n",
      "Values: \n",
      "tensor([[ 2.,  4.,  6.],\n",
      "        [ 8., 10., 12.]])\n"
     ]
    }
   ],
   "source": [
    "describe(torch.add(x,x))"
   ]
  },
  {
   "cell_type": "code",
   "execution_count": 50,
   "id": "c36e4d71",
   "metadata": {},
   "outputs": [
    {
     "name": "stdout",
     "output_type": "stream",
     "text": [
      "Type: torch.FloatTensor\n",
      "Shape/size: torch.Size([2, 3])\n",
      "Values: \n",
      "tensor([[ 2.,  4.,  6.],\n",
      "        [ 8., 10., 12.]])\n"
     ]
    }
   ],
   "source": [
    "describe(x+x)"
   ]
  },
  {
   "cell_type": "code",
   "execution_count": 55,
   "id": "dfa699b0",
   "metadata": {},
   "outputs": [
    {
     "name": "stdout",
     "output_type": "stream",
     "text": [
      "Type: torch.LongTensor\n",
      "Shape/size: torch.Size([2, 3])\n",
      "Values: \n",
      "tensor([[3, 5, 2],\n",
      "        [4, 4, 2]])\n"
     ]
    }
   ],
   "source": [
    "y = np.array([[3,5,2],[4,4,2]])\n",
    "y = torch.from_numpy(y)\n",
    "describe(y)"
   ]
  },
  {
   "cell_type": "code",
   "execution_count": 56,
   "id": "6baf18f0",
   "metadata": {},
   "outputs": [
    {
     "name": "stdout",
     "output_type": "stream",
     "text": [
      "Type: torch.FloatTensor\n",
      "Shape/size: torch.Size([2, 3])\n",
      "Values: \n",
      "tensor([[4., 7., 5.],\n",
      "        [8., 9., 8.]])\n"
     ]
    }
   ],
   "source": [
    "describe(x+y)"
   ]
  },
  {
   "cell_type": "code",
   "execution_count": 57,
   "id": "fc476c09",
   "metadata": {},
   "outputs": [
    {
     "data": {
      "text/plain": [
       "tensor([0, 1, 2, 3, 4, 5])"
      ]
     },
     "execution_count": 57,
     "metadata": {},
     "output_type": "execute_result"
    }
   ],
   "source": [
    "a = torch.arange(6);a"
   ]
  },
  {
   "cell_type": "code",
   "execution_count": 61,
   "id": "0836f8ca",
   "metadata": {},
   "outputs": [
    {
     "data": {
      "text/plain": [
       "tensor([[0, 1, 2],\n",
       "        [3, 4, 5]])"
      ]
     },
     "execution_count": 61,
     "metadata": {},
     "output_type": "execute_result"
    }
   ],
   "source": [
    "a = a.view(2,3); a"
   ]
  },
  {
   "cell_type": "code",
   "execution_count": 64,
   "id": "ea128aea",
   "metadata": {},
   "outputs": [
    {
     "name": "stdout",
     "output_type": "stream",
     "text": [
      "Type: torch.LongTensor\n",
      "Shape/size: torch.Size([3])\n",
      "Values: \n",
      "tensor([3, 5, 7])\n"
     ]
    }
   ],
   "source": [
    "describe(torch.sum(a, dim=0))"
   ]
  },
  {
   "cell_type": "code",
   "execution_count": 65,
   "id": "ce1d49a8",
   "metadata": {},
   "outputs": [
    {
     "name": "stdout",
     "output_type": "stream",
     "text": [
      "Type: torch.LongTensor\n",
      "Shape/size: torch.Size([2])\n",
      "Values: \n",
      "tensor([ 3, 12])\n"
     ]
    }
   ],
   "source": [
    "describe(torch.sum(a, dim=1))"
   ]
  },
  {
   "cell_type": "code",
   "execution_count": 73,
   "id": "1c7298c7",
   "metadata": {},
   "outputs": [
    {
     "name": "stdout",
     "output_type": "stream",
     "text": [
      "Type: torch.LongTensor\n",
      "Shape/size: torch.Size([3, 2])\n",
      "Values: \n",
      "tensor([[0, 3],\n",
      "        [1, 4],\n",
      "        [2, 5]])\n"
     ]
    }
   ],
   "source": [
    "describe(torch.transpose(a,0,1))"
   ]
  },
  {
   "cell_type": "markdown",
   "id": "473a3b4d",
   "metadata": {},
   "source": [
    "### Indexing, Slicing, and Joining"
   ]
  },
  {
   "cell_type": "code",
   "execution_count": 75,
   "id": "e242b698",
   "metadata": {},
   "outputs": [
    {
     "data": {
      "text/plain": [
       "tensor([[0, 1, 2],\n",
       "        [3, 4, 5]])"
      ]
     },
     "execution_count": 75,
     "metadata": {},
     "output_type": "execute_result"
    }
   ],
   "source": [
    "a "
   ]
  },
  {
   "cell_type": "code",
   "execution_count": 81,
   "id": "7185ba19",
   "metadata": {},
   "outputs": [
    {
     "name": "stdout",
     "output_type": "stream",
     "text": [
      "Type: torch.LongTensor\n",
      "Shape/size: torch.Size([1, 3])\n",
      "Values: \n",
      "tensor([[0, 1, 2]])\n"
     ]
    }
   ],
   "source": [
    "describe(a[:1,:3])"
   ]
  },
  {
   "cell_type": "code",
   "execution_count": 82,
   "id": "987898d1",
   "metadata": {},
   "outputs": [
    {
     "name": "stdout",
     "output_type": "stream",
     "text": [
      "Type: torch.LongTensor\n",
      "Shape/size: torch.Size([])\n",
      "Values: \n",
      "4\n"
     ]
    }
   ],
   "source": [
    "describe(a[1,1])"
   ]
  },
  {
   "cell_type": "markdown",
   "id": "d23ed8f1",
   "metadata": {},
   "source": [
    "#### for complex indexing and slicing operations"
   ]
  },
  {
   "cell_type": "code",
   "execution_count": 88,
   "id": "4f8571ae",
   "metadata": {},
   "outputs": [
    {
     "data": {
      "text/plain": [
       "tensor([0, 1])"
      ]
     },
     "execution_count": 88,
     "metadata": {},
     "output_type": "execute_result"
    }
   ],
   "source": [
    "ind = torch.LongTensor([0,1])\n",
    "ind"
   ]
  },
  {
   "cell_type": "code",
   "execution_count": 89,
   "id": "f959b97a",
   "metadata": {},
   "outputs": [
    {
     "data": {
      "text/plain": [
       "tensor([[1., 2., 3.],\n",
       "        [4., 5., 6.]])"
      ]
     },
     "execution_count": 89,
     "metadata": {},
     "output_type": "execute_result"
    }
   ],
   "source": [
    "x"
   ]
  },
  {
   "cell_type": "code",
   "execution_count": 91,
   "id": "063ad6c8",
   "metadata": {},
   "outputs": [
    {
     "data": {
      "text/plain": [
       "tensor([[1., 2.],\n",
       "        [4., 5.]])"
      ]
     },
     "execution_count": 91,
     "metadata": {},
     "output_type": "execute_result"
    }
   ],
   "source": [
    "torch.index_select(x, dim=1, index = ind)"
   ]
  },
  {
   "cell_type": "code",
   "execution_count": 95,
   "id": "b8a4efa6",
   "metadata": {},
   "outputs": [
    {
     "name": "stdout",
     "output_type": "stream",
     "text": [
      "Type: torch.FloatTensor\n",
      "Shape/size: torch.Size([2])\n",
      "Values: \n",
      "tensor([1., 5.])\n"
     ]
    }
   ],
   "source": [
    "row_indices = torch.arange(2).long()\n",
    "col_indices = torch.LongTensor([0, 1])\n",
    "describe(x[row_indices, col_indices])"
   ]
  },
  {
   "cell_type": "markdown",
   "id": "d95af30e",
   "metadata": {},
   "source": [
    "### Concatenating tensors"
   ]
  },
  {
   "cell_type": "code",
   "execution_count": 118,
   "id": "138ae12b",
   "metadata": {},
   "outputs": [],
   "source": [
    "x = torch.arange(6).view(2,3)"
   ]
  },
  {
   "cell_type": "code",
   "execution_count": 119,
   "id": "d6813c38",
   "metadata": {},
   "outputs": [
    {
     "data": {
      "text/plain": [
       "tensor([[0, 1, 2],\n",
       "        [3, 4, 5],\n",
       "        [0, 1, 2],\n",
       "        [3, 4, 5]])"
      ]
     },
     "execution_count": 119,
     "metadata": {},
     "output_type": "execute_result"
    }
   ],
   "source": [
    "torch.cat([x,x])"
   ]
  },
  {
   "cell_type": "code",
   "execution_count": 120,
   "id": "4d5ce4ce",
   "metadata": {},
   "outputs": [
    {
     "data": {
      "text/plain": [
       "tensor([[0, 1, 2, 0, 1, 2],\n",
       "        [3, 4, 5, 3, 4, 5]])"
      ]
     },
     "execution_count": 120,
     "metadata": {},
     "output_type": "execute_result"
    }
   ],
   "source": [
    "torch.cat([x,x], dim=1)"
   ]
  },
  {
   "cell_type": "code",
   "execution_count": 121,
   "id": "c0e35237",
   "metadata": {},
   "outputs": [
    {
     "data": {
      "text/plain": [
       "tensor([[[0, 1, 2],\n",
       "         [3, 4, 5]],\n",
       "\n",
       "        [[0, 1, 2],\n",
       "         [3, 4, 5]]])"
      ]
     },
     "execution_count": 121,
     "metadata": {},
     "output_type": "execute_result"
    }
   ],
   "source": [
    "torch.stack([x,x])"
   ]
  },
  {
   "cell_type": "markdown",
   "id": "6516c75b",
   "metadata": {},
   "source": [
    "### Linear algebra on tensors: multiplication"
   ]
  },
  {
   "cell_type": "code",
   "execution_count": 111,
   "id": "648f2cdc",
   "metadata": {},
   "outputs": [
    {
     "name": "stdout",
     "output_type": "stream",
     "text": [
      "Type: torch.LongTensor\n",
      "Shape/size: torch.Size([2, 3])\n",
      "Values: \n",
      "tensor([[0, 1, 2],\n",
      "        [3, 4, 5]])\n"
     ]
    }
   ],
   "source": [
    "x1 = torch.arange(6).view(2,3);describe(x1)"
   ]
  },
  {
   "cell_type": "code",
   "execution_count": 112,
   "id": "ad8b92c2",
   "metadata": {},
   "outputs": [
    {
     "data": {
      "text/plain": [
       "tensor([[1., 1., 1.],\n",
       "        [1., 1., 1.]])"
      ]
     },
     "execution_count": 112,
     "metadata": {},
     "output_type": "execute_result"
    }
   ],
   "source": [
    "x2 = torch.ones(2,3)\n",
    "x2"
   ]
  },
  {
   "cell_type": "code",
   "execution_count": 113,
   "id": "3ace3a8e",
   "metadata": {},
   "outputs": [],
   "source": [
    "x2[:,1] +=1"
   ]
  },
  {
   "cell_type": "code",
   "execution_count": 116,
   "id": "626bcffa",
   "metadata": {},
   "outputs": [
    {
     "name": "stdout",
     "output_type": "stream",
     "text": [
      "Type: torch.LongTensor\n",
      "Shape/size: torch.Size([3, 2])\n",
      "Values: \n",
      "tensor([[1, 2],\n",
      "        [1, 1],\n",
      "        [2, 1]])\n"
     ]
    }
   ],
   "source": [
    "x2 = x2.view(3,2).long()\n",
    "describe(x2)"
   ]
  },
  {
   "cell_type": "code",
   "execution_count": 117,
   "id": "2cec233f",
   "metadata": {},
   "outputs": [
    {
     "name": "stdout",
     "output_type": "stream",
     "text": [
      "Type: torch.LongTensor\n",
      "Shape/size: torch.Size([2, 2])\n",
      "Values: \n",
      "tensor([[ 5,  3],\n",
      "        [17, 15]])\n"
     ]
    }
   ],
   "source": [
    "describe(torch.mm(x1,x2))"
   ]
  },
  {
   "cell_type": "markdown",
   "id": "ee04a679",
   "metadata": {},
   "source": [
    "## Tensors and Computational Graphs"
   ]
  },
  {
   "cell_type": "code",
   "execution_count": 131,
   "id": "7832abc2",
   "metadata": {},
   "outputs": [
    {
     "name": "stdout",
     "output_type": "stream",
     "text": [
      "Type: torch.FloatTensor\n",
      "Shape/size: torch.Size([2, 2])\n",
      "Values: \n",
      "tensor([[1., 1.],\n",
      "        [1., 1.]], requires_grad=True)\n",
      "True\n"
     ]
    }
   ],
   "source": [
    "x = torch.ones(2, 2, requires_grad=True) \n",
    "describe(x)\n",
    "print(x.grad is None)"
   ]
  },
  {
   "cell_type": "code",
   "execution_count": 132,
   "id": "9baf23f6",
   "metadata": {},
   "outputs": [
    {
     "name": "stdout",
     "output_type": "stream",
     "text": [
      "Type: torch.FloatTensor\n",
      "Shape/size: torch.Size([2, 2])\n",
      "Values: \n",
      "tensor([[21., 21.],\n",
      "        [21., 21.]], grad_fn=<AddBackward0>)\n",
      "True\n"
     ]
    }
   ],
   "source": [
    "y = (x**2 + 2) * (x + 5) + 3 \n",
    "describe(y)\n",
    "print(x.grad is None)"
   ]
  },
  {
   "cell_type": "code",
   "execution_count": 133,
   "id": "4579c6ab",
   "metadata": {},
   "outputs": [
    {
     "name": "stdout",
     "output_type": "stream",
     "text": [
      "Type: torch.FloatTensor\n",
      "Shape/size: torch.Size([])\n",
      "Values: \n",
      "21.0\n",
      "False\n"
     ]
    }
   ],
   "source": [
    "z = y.mean()\n",
    "describe(z)\n",
    "z.backward()\n",
    "print(x.grad is None)"
   ]
  },
  {
   "cell_type": "markdown",
   "id": "35c35a9e",
   "metadata": {},
   "source": [
    "When you create a tensor with requires_grad=True, you are requiring PyTorch to manage bookkeeping information that computes gradients. First, PyTorch will keep track of the values of the forward pass. Then, at the end of the computations, a single scalar is used to compute a backward pass. The backward pass is initiated by using the backward() method on a tensor resulting from the evaluation of a loss function."
   ]
  },
  {
   "cell_type": "markdown",
   "id": "245c5e47",
   "metadata": {},
   "source": [
    "## Exercises"
   ]
  },
  {
   "cell_type": "markdown",
   "id": "8a299de4",
   "metadata": {},
   "source": [
    "1. Create a 2D tensor and then add a dimension of size 1 inserted at dimension 0.\n",
    "2. Remove the extra dimension you just added to the previous tensor.\n",
    "3. Create a random tensor of shape 5x3 in the interval [3, 7)\n",
    "4. Create a tensor with values from a normal distribution (mean=0, std=1).\n",
    "5. Retrieve the indexes of all the nonzero elements in the tensor torch.Tensor([1, 1, 1, 0, 1]).\n",
    "6. Create a random tensor of size (3,1) and then horizontally stack four copies together.\n",
    "7. Return the batch matrix-matrix product of two three-dimensional matrices (a=torch.rand(3,4,5), b=torch.rand(3,5,4)).\n",
    "8. Return the batch matrix-matrix product of a 3D matrix and a 2D matrix (a=torch.rand(3,4,5), b=torch.rand(5,4))."
   ]
  },
  {
   "cell_type": "code",
   "execution_count": 163,
   "id": "42de0e6e",
   "metadata": {},
   "outputs": [],
   "source": [
    "x = torch.rand(3,3)\n",
    "z = torch.rand(1,3)\n",
    "#z = torch.transpose(z,0,1)"
   ]
  },
  {
   "cell_type": "code",
   "execution_count": 164,
   "id": "1cfcd9a4",
   "metadata": {},
   "outputs": [
    {
     "data": {
      "text/plain": [
       "tensor([[0.8730, 0.5076, 0.0105],\n",
       "        [0.0955, 0.3993, 0.8402],\n",
       "        [0.4867, 0.7411, 0.9021]])"
      ]
     },
     "execution_count": 164,
     "metadata": {},
     "output_type": "execute_result"
    }
   ],
   "source": [
    "x"
   ]
  },
  {
   "cell_type": "code",
   "execution_count": 165,
   "id": "d64b4126",
   "metadata": {},
   "outputs": [
    {
     "data": {
      "text/plain": [
       "tensor([[0.5875, 0.8763, 0.7092]])"
      ]
     },
     "execution_count": 165,
     "metadata": {},
     "output_type": "execute_result"
    }
   ],
   "source": [
    "z"
   ]
  },
  {
   "cell_type": "code",
   "execution_count": 166,
   "id": "33d0170f",
   "metadata": {},
   "outputs": [
    {
     "data": {
      "text/plain": [
       "tensor([[0.8730, 0.5076, 0.0105],\n",
       "        [0.0955, 0.3993, 0.8402],\n",
       "        [0.4867, 0.7411, 0.9021],\n",
       "        [0.5875, 0.8763, 0.7092]])"
      ]
     },
     "execution_count": 166,
     "metadata": {},
     "output_type": "execute_result"
    }
   ],
   "source": [
    "y = torch.cat([x, z], dim=0)\n",
    "y"
   ]
  },
  {
   "cell_type": "code",
   "execution_count": 167,
   "id": "1baa86ac",
   "metadata": {},
   "outputs": [
    {
     "data": {
      "text/plain": [
       "tensor([[[0.8730, 0.5076, 0.0105],\n",
       "         [0.0955, 0.3993, 0.8402],\n",
       "         [0.4867, 0.7411, 0.9021]]])"
      ]
     },
     "execution_count": 167,
     "metadata": {},
     "output_type": "execute_result"
    }
   ],
   "source": [
    "x = x.unsqueeze(0)\n",
    "x"
   ]
  },
  {
   "cell_type": "code",
   "execution_count": 168,
   "id": "81e6f720",
   "metadata": {},
   "outputs": [
    {
     "data": {
      "text/plain": [
       "tensor([[[[0.8730, 0.5076, 0.0105],\n",
       "          [0.0955, 0.3993, 0.8402],\n",
       "          [0.4867, 0.7411, 0.9021]]]])"
      ]
     },
     "execution_count": 168,
     "metadata": {},
     "output_type": "execute_result"
    }
   ],
   "source": [
    "x.unsqueeze(0)"
   ]
  },
  {
   "cell_type": "code",
   "execution_count": 169,
   "id": "dba4b28c",
   "metadata": {},
   "outputs": [
    {
     "data": {
      "text/plain": [
       "tensor([[0.8730, 0.5076, 0.0105],\n",
       "        [0.0955, 0.3993, 0.8402],\n",
       "        [0.4867, 0.7411, 0.9021]])"
      ]
     },
     "execution_count": 169,
     "metadata": {},
     "output_type": "execute_result"
    }
   ],
   "source": [
    "x. squeeze(0)"
   ]
  },
  {
   "cell_type": "code",
   "execution_count": null,
   "id": "97e17182",
   "metadata": {},
   "outputs": [],
   "source": []
  },
  {
   "cell_type": "code",
   "execution_count": 178,
   "id": "5b910328",
   "metadata": {},
   "outputs": [
    {
     "data": {
      "text/plain": [
       "tensor([[0.7282, 0.4346, 0.2216],\n",
       "        [0.9964, 0.4906, 0.2952],\n",
       "        [0.3762, 0.0109, 0.5158],\n",
       "        [0.4308, 0.0027, 0.5402],\n",
       "        [0.2218, 0.2219, 0.1668]])"
      ]
     },
     "execution_count": 178,
     "metadata": {},
     "output_type": "execute_result"
    }
   ],
   "source": [
    "a = torch.rand(5,3);a"
   ]
  },
  {
   "cell_type": "code",
   "execution_count": 179,
   "id": "8e709c86",
   "metadata": {},
   "outputs": [
    {
     "data": {
      "text/plain": [
       "tensor([[5.9127, 4.7382, 3.8864],\n",
       "        [6.9857, 4.9625, 4.1808],\n",
       "        [4.5049, 3.0436, 5.0633],\n",
       "        [4.7234, 3.0110, 5.1608],\n",
       "        [3.8874, 3.8878, 3.6674]])"
      ]
     },
     "execution_count": 179,
     "metadata": {},
     "output_type": "execute_result"
    }
   ],
   "source": [
    "3 + a * (7-3)"
   ]
  },
  {
   "cell_type": "code",
   "execution_count": 181,
   "id": "13b76b11",
   "metadata": {},
   "outputs": [
    {
     "data": {
      "text/plain": [
       "3.0108"
      ]
     },
     "execution_count": 181,
     "metadata": {},
     "output_type": "execute_result"
    }
   ],
   "source": []
  },
  {
   "cell_type": "code",
   "execution_count": 187,
   "id": "81e9f3a4",
   "metadata": {},
   "outputs": [
    {
     "data": {
      "text/plain": [
       "tensor([[-0.2724, -0.6964,  1.8205],\n",
       "        [-0.3195,  1.7751, -1.6955],\n",
       "        [ 1.8893, -1.3489, -1.7682],\n",
       "        [ 1.2664, -1.0059, -1.1828],\n",
       "        [ 0.5466, -0.8189, -0.4825]])"
      ]
     },
     "execution_count": 187,
     "metadata": {},
     "output_type": "execute_result"
    }
   ],
   "source": [
    "a= a.normal_();\n",
    "a"
   ]
  },
  {
   "cell_type": "code",
   "execution_count": 196,
   "id": "ed37c32c",
   "metadata": {},
   "outputs": [
    {
     "data": {
      "text/plain": [
       "tensor([-0.2724, -0.6964,  1.8205, -0.3195,  1.7751, -1.6955,  1.8893, -1.3489,\n",
       "        -1.7682,  1.2664, -1.0059, -1.1828,  0.5466, -0.8189, -0.4825])"
      ]
     },
     "execution_count": 196,
     "metadata": {},
     "output_type": "execute_result"
    }
   ],
   "source": [
    "a.view(15)"
   ]
  },
  {
   "cell_type": "code",
   "execution_count": 185,
   "id": "a116b32e",
   "metadata": {},
   "outputs": [],
   "source": [
    "import matplotlib.pyplot as plt"
   ]
  },
  {
   "cell_type": "code",
   "execution_count": 197,
   "id": "d89ab134",
   "metadata": {},
   "outputs": [
    {
     "data": {
      "text/plain": [
       "[<matplotlib.lines.Line2D at 0x7fb522a20e80>]"
      ]
     },
     "execution_count": 197,
     "metadata": {},
     "output_type": "execute_result"
    },
    {
     "data": {
      "image/png": "[encoded data removed]",
      "text/plain": [
       "<Figure size 432x288 with 1 Axes>"
      ]
     },
     "metadata": {
      "needs_background": "light"
     },
     "output_type": "display_data"
    }
   ],
   "source": [
    "plt.plot(a.view(15))"
   ]
  },
  {
   "cell_type": "code",
   "execution_count": null,
   "id": "fd598c08",
   "metadata": {},
   "outputs": [],
   "source": []
  },
  {
   "cell_type": "code",
   "execution_count": 198,
   "id": "7cca8e50",
   "metadata": {},
   "outputs": [
    {
     "data": {
      "text/plain": [
       "tensor([[0],\n",
       "        [1],\n",
       "        [3],\n",
       "        [5]])"
      ]
     },
     "execution_count": 198,
     "metadata": {},
     "output_type": "execute_result"
    }
   ],
   "source": [
    "a = torch.Tensor([1,2,0,4,0,9,0])\n",
    "torch.nonzero(a)"
   ]
  },
  {
   "cell_type": "code",
   "execution_count": 201,
   "id": "c5334b7f",
   "metadata": {},
   "outputs": [
    {
     "data": {
      "text/plain": [
       "tensor([[0.6717],\n",
       "        [0.4879],\n",
       "        [0.5768]])"
      ]
     },
     "execution_count": 201,
     "metadata": {},
     "output_type": "execute_result"
    }
   ],
   "source": [
    "a = torch.rand(3,1)\n",
    "a"
   ]
  },
  {
   "cell_type": "code",
   "execution_count": 202,
   "id": "7777fbf7",
   "metadata": {},
   "outputs": [
    {
     "data": {
      "text/plain": [
       "tensor([[0.6717, 0.6717, 0.6717, 0.6717],\n",
       "        [0.4879, 0.4879, 0.4879, 0.4879],\n",
       "        [0.5768, 0.5768, 0.5768, 0.5768]])"
      ]
     },
     "execution_count": 202,
     "metadata": {},
     "output_type": "execute_result"
    }
   ],
   "source": [
    "a.expand(3,4)"
   ]
  },
  {
   "cell_type": "code",
   "execution_count": 204,
   "id": "373ad135",
   "metadata": {},
   "outputs": [],
   "source": [
    "a=torch.rand(3,4,5)\n",
    "b=torch.rand(3,5,4)"
   ]
  },
  {
   "cell_type": "code",
   "execution_count": 205,
   "id": "ea667866",
   "metadata": {},
   "outputs": [
    {
     "data": {
      "text/plain": [
       "tensor([[[1.5773, 1.8887, 2.0936, 1.4130],\n",
       "         [0.6049, 0.6084, 0.4016, 0.5060],\n",
       "         [0.8384, 0.9782, 1.3069, 0.6547],\n",
       "         [0.9838, 1.2335, 1.6347, 0.8830]],\n",
       "\n",
       "        [[1.7485, 2.0529, 1.7159, 0.6311],\n",
       "         [2.0548, 2.8532, 1.9793, 0.8845],\n",
       "         [0.9295, 1.5417, 0.8863, 0.4065],\n",
       "         [2.0099, 2.5017, 1.7380, 1.1588]],\n",
       "\n",
       "        [[0.6319, 0.4230, 0.4469, 0.3110],\n",
       "         [1.9249, 1.5313, 1.0187, 1.1142],\n",
       "         [1.5816, 0.9435, 0.7652, 0.8548],\n",
       "         [1.2362, 0.7365, 0.5271, 0.7323]]])"
      ]
     },
     "execution_count": 205,
     "metadata": {},
     "output_type": "execute_result"
    }
   ],
   "source": [
    "torch.bmm(a,b)"
   ]
  },
  {
   "cell_type": "code",
   "execution_count": 214,
   "id": "39db4d3c",
   "metadata": {},
   "outputs": [],
   "source": [
    "a=torch.rand(3,4,5)\n",
    "b=torch.rand(5,4)"
   ]
  },
  {
   "cell_type": "code",
   "execution_count": 215,
   "id": "29849675",
   "metadata": {},
   "outputs": [
    {
     "data": {
      "text/plain": [
       "tensor([[[0.0636, 0.7225, 0.1721, 0.5262, 0.0379],\n",
       "         [0.0584, 0.5609, 0.6839, 0.9233, 0.2719],\n",
       "         [0.1130, 0.4674, 0.1498, 0.7089, 0.2433],\n",
       "         [0.9167, 0.1770, 0.6335, 0.8763, 0.3675]],\n",
       "\n",
       "        [[0.7465, 0.1192, 0.3710, 0.9125, 0.0554],\n",
       "         [0.7727, 0.5052, 0.7125, 0.6966, 0.1764],\n",
       "         [0.6627, 0.9266, 0.6325, 0.8263, 0.0160],\n",
       "         [0.4932, 0.6961, 0.9886, 0.4781, 0.1087]],\n",
       "\n",
       "        [[0.0588, 0.2543, 0.2879, 0.4951, 0.7368],\n",
       "         [0.8386, 0.8566, 0.4669, 0.7811, 0.0513],\n",
       "         [0.2408, 0.5952, 0.2755, 0.7226, 0.1378],\n",
       "         [0.3836, 0.0405, 0.4391, 0.4917, 0.3959]]])"
      ]
     },
     "execution_count": 215,
     "metadata": {},
     "output_type": "execute_result"
    }
   ],
   "source": [
    "a"
   ]
  },
  {
   "cell_type": "code",
   "execution_count": 216,
   "id": "ddff245e",
   "metadata": {},
   "outputs": [
    {
     "data": {
      "text/plain": [
       "tensor([[0.8213, 0.6849, 0.7710, 0.3002],\n",
       "        [0.6098, 0.0304, 0.1283, 0.1533],\n",
       "        [0.0764, 0.2139, 0.9572, 0.8489],\n",
       "        [0.2396, 0.8183, 0.8216, 0.5801],\n",
       "        [0.9114, 0.4752, 0.0647, 0.2812]])"
      ]
     },
     "execution_count": 216,
     "metadata": {},
     "output_type": "execute_result"
    }
   ],
   "source": [
    "b"
   ]
  },
  {
   "cell_type": "code",
   "execution_count": 217,
   "id": "96dea40d",
   "metadata": {},
   "outputs": [
    {
     "data": {
      "text/plain": [
       "tensor([[[0.8213, 0.6849, 0.7710, 0.3002],\n",
       "         [0.6098, 0.0304, 0.1283, 0.1533],\n",
       "         [0.0764, 0.2139, 0.9572, 0.8489],\n",
       "         [0.2396, 0.8183, 0.8216, 0.5801],\n",
       "         [0.9114, 0.4752, 0.0647, 0.2812]]])"
      ]
     },
     "execution_count": 217,
     "metadata": {},
     "output_type": "execute_result"
    }
   ],
   "source": [
    "b.unsqueeze(0)"
   ]
  },
  {
   "cell_type": "code",
   "execution_count": 208,
   "id": "fc66cfc3",
   "metadata": {},
   "outputs": [
    {
     "data": {
      "text/plain": [
       "tensor([[[0.9680, 0.4921, 0.0963, 0.9975, 0.4614],\n",
       "         [0.9600, 0.0557, 0.6428, 0.2541, 0.1658],\n",
       "         [0.4594, 0.7349, 0.2814, 0.4873, 0.5777]],\n",
       "\n",
       "        [[0.9680, 0.4921, 0.0963, 0.9975, 0.4614],\n",
       "         [0.9600, 0.0557, 0.6428, 0.2541, 0.1658],\n",
       "         [0.4594, 0.7349, 0.2814, 0.4873, 0.5777]],\n",
       "\n",
       "        [[0.9680, 0.4921, 0.0963, 0.9975, 0.4614],\n",
       "         [0.9600, 0.0557, 0.6428, 0.2541, 0.1658],\n",
       "         [0.4594, 0.7349, 0.2814, 0.4873, 0.5777]]])"
      ]
     },
     "execution_count": 208,
     "metadata": {},
     "output_type": "execute_result"
    }
   ],
   "source": [
    "b.unsqueeze(0).expand(a.size(0), *b.size())"
   ]
  },
  {
   "cell_type": "code",
   "execution_count": 218,
   "id": "a50aa86f",
   "metadata": {},
   "outputs": [
    {
     "data": {
      "text/plain": [
       "3"
      ]
     },
     "execution_count": 218,
     "metadata": {},
     "output_type": "execute_result"
    }
   ],
   "source": [
    "a.size(0)"
   ]
  },
  {
   "cell_type": "code",
   "execution_count": 219,
   "id": "2e6b9b49",
   "metadata": {},
   "outputs": [
    {
     "data": {
      "text/plain": [
       "tensor([[[0.6667, 0.5510, 0.7413, 0.5919],\n",
       "         [0.9113, 1.0881, 1.5478, 1.2962],\n",
       "         [0.7809, 0.8193, 0.8887, 0.7124],\n",
       "         [1.4541, 1.6604, 2.0796, 1.4518]],\n",
       "\n",
       "        [[0.9833, 1.3673, 1.6993, 1.1023],\n",
       "         [1.3249, 1.3509, 1.9264, 1.3681],\n",
       "         [1.3702, 1.3011, 1.9152, 1.3618],\n",
       "         [1.1187, 1.0133, 1.8157, 1.4020]],\n",
       "\n",
       "        [[1.0155, 0.8648, 0.8080, 0.7954],\n",
       "         [1.4808, 1.3638, 1.8485, 1.2470],\n",
       "         [0.8805, 0.8987, 1.1283, 0.8553],\n",
       "         [0.8520, 0.9484, 1.1509, 0.8907]]])"
      ]
     },
     "execution_count": 219,
     "metadata": {},
     "output_type": "execute_result"
    }
   ],
   "source": [
    "torch.bmm(a, b.unsqueeze(0).expand(a.size(0), *b.size()))"
   ]
  },
  {
   "cell_type": "code",
   "execution_count": null,
   "id": "1687bd9c",
   "metadata": {},
   "outputs": [],
   "source": []
  }
 ],
 "metadata": {
  "kernelspec": {
   "display_name": "Python 3 (ipykernel)",
   "language": "python",
   "name": "python3"
  },
  "language_info": {
   "codemirror_mode": {
    "name": "ipython",
    "version": 3
   },
   "file_extension": ".py",
   "mimetype": "text/x-python",
   "name": "python",
   "nbconvert_exporter": "python",
   "pygments_lexer": "ipython3",
   "version": "3.9.12"
  }
 },
 "nbformat": 4,
 "nbformat_minor": 5
}
